{
  "nbformat": 4,
  "nbformat_minor": 0,
  "metadata": {
    "colab": {
      "provenance": []
    },
    "kernelspec": {
      "name": "python3",
      "display_name": "Python 3"
    },
    "language_info": {
      "name": "python"
    }
  },
  "cells": [
    {
      "cell_type": "markdown",
      "source": [
        "![tusur_logo_main_color_cmyk_small.png](data:image/png;base64,iVBORw0KGgoAAAANSUhEUgAAAOYAAAA/CAYAAAD0W7RcAAAACXBIWXMAAC4jAAAuIwF4pT92AAAgAElEQVR42u19d3wU17m2VsJ2YifYKS5x4thxnDjGBiQkkAD1BqKILjqIjhBFICEQ0s5sUUECdaGyu+DcFCe590u/6cnNl+S6JHHsJE4vtlPdHTtxAaFy3+eUmTOzu6w64PiP89uVdnfmzHveXqNmZQcGL63lH6BXWv7+GemBgQOHamd4PVqUrruiXS49StP06GqPM6pgU+POaSmBwcQcX+/MrMBAQpa/n15xjf6EzMAA/j89NTC4cVvDKnxf0/jvXS4XXYu/jnTh97QP9qrTflwuLSpz8anPx6Xj/r7zCZl+tn88C97PZHvz0fP4/3mwtPpGj5ueR6Nr6bqxF3Yt3RVV5XRd5fU6o2qrq6L2Hay5e3FBS92sLN/j9Ptz9Hz9JnzYGjW8aW9sr/EZgcH0RV3fdjpdDsAJe8Ge3LTXw0c81yZk+p6dmenro+/30TNhH/3sudh7Xx+dFf3+1HdcOs5Ki9bFs+E6o4M1XvUofvauaMBme9HxeXS2A4kEa5w93wt/Fv637/w0Ovtl65oPe+nsaR8x4lrRHsKlJWtaW2LTThPu+M8LnBmPJc6Hw4rv0fdScl7Xt9ZvPbHm2DF3VH1tJfYW7dRcMRzmuvGsUZcTYZoHrUWVHva+Z1Z2zxPxmT48dJ9AsAF+OOz9+RkZ/gFClv+pctLB6LpDIpt54KNBGI0hisftjNpXUjMlPsP3EidA3N/HEET+TYjSG5sWGJy/vP1eHIRYQURJrw4gUklp9QcWFbS2zc7t+S0RxOsJxnUNYhwYK3hfmDDZnqJBnIsLWutjUznjMWEMhuiTMO+PS/e/umPP8VSPYIRjA2uTSejsDLWo3KXtn6F7AVewF4Ezxtn30Z6IOfueO3Co+sPYO+1FnL1BmG0TQJgGgfI9cnxIYMzN90Laws7vr99yYpNT0x1sjwy/XQbcLzPClNLKFV3trYpaV3hyK5Oa2VxqSmQxEYdzzjWFJ3d6FWQxOdPIpKVcmpCW85a3fzw2zUCUARuTMKTl/kPVd4h9ODSNnskifTWHm661ZnPjroQM3zOQ9iSZBuX1Lg5hMlgzqVl+xHMdMcInIS1nCkaoLsCannEwJa/r/qoq15WM+WiqxBsprM0zB+y2F9WnT0/1n4eUhgYh4SL2AcbRizPPX93iFdLSYV7HIMz2i0SYnDjpb8BqWsppgnnnV4kR31HtFfgJXLjcJKYU95KTV1XpVxIi/GAG555AFgORhTrJ1K6ZWT1/PlzuebfgTEzajYaLC0Rh0m333tpZJA3PEvGdtyOrlJYgsoWrWpshXTUDUQRx6+wgHPhsyZqWhqnJp/EMgtkITUAQ+njAOxJhqs+6trBxy7QgqSmlOXvWc9NDMsKRS00FVg6dmBlpQN9WpKWFCcrznpXV87fScs/1dN52LeliSExFtaV9C+Kk1/N0xufA0BMye/5UvL92miBOB0ycy4wwLYQRDZVpZ/HxZFKxCImZ/dMviFNFlvNQIxetam1lKpYkDG1kUlNVO0HgmfkdX+aIIpE1YEUUkpa0t2cOHfbc7OFqlWAMhtQlVcYZtWxtizY1mSF970yDyQQsBHmRVFmxNAdMgtQFnd+bEYYwZnLCoNXz90OHvTeAMIgROkZi05v35qookHbzjoYlpCENCFj3WzUTzjDAGFZtbCrF952aav5cPInJCFJKz+yARQualeXrBTxJxf1zyaHq26TqHcWN5lGsbIZAg8rN5YEbr8O7pqGa9MelBQb2H7QSpl2VdDNVsu2j3P7x91o4eSZDFhBGHxHn60X7a+MMVXKEnBz3dQq1auvu+szpKQHifla7S76H1KPPB5euadG9niqLKq0pzGV70fGMafI62aadypFuJDAc+pLOKThv0hZ2fbsqDGEC1nC8kA2ZQqpkr7pXm23fG5vqJw2hrR0MB78bqSNIqvnYD+1rEmlHP5qRAakTQjshphCf4e9Pyun53ZGjnmvJxBBnbDLgoRCmxOXxgrekC8UxyH0QRJyk1n6NnjeG7M6YKGxupEt4wwwEsks9iaiJBLShX9fXS6+0fOcI0L0HDtXEMS+mDoQJVifBYYjT3DIjw/cCN6wNadmvOoLiSGXIWHTqm8y2szhf9GFycJfwpGmTyID//zNMaTk4K7Ra9WQZqdF0Hwd3QugWKVRZ5boieX7XgwzhVClkXItrD6M5pwufoY/BmvZ6PmNR5zdIYkaphGk4bwQjAbznL28/Ay1klsW2N21qEA4R5+u799bN8gY5gvQhq68gSmlbrt96cuP0YDVadbCdh79h3ZaTW+U9ue3uCiUxw6iy3JEkcXp84C1pxhBCgwmKGUBaQQHMmihscLhruljgsgrXshCm9JbhNU75TeTrB4zXe+aeHtxXUjPTa4Q7QjkFdHZwy9c3lxsHh/tmyoPzSa7Uh4PbsO3EWq/Xbv/oERFFVaGhJm3afmIFXPaqWjXT7nii+xVsatyH/TltyCml5bbd9XmQMNL1r0jdQfn3DFIzhw6/YZ5laoDDmmzbufO74bhxwKEFlZur3XqUtO0ZI6TPSkq9t8LrKcMnQmJZPeLEsIhxfRsSgDPC4Wknkqgg+SqOua+endv9K2LUUP1Ux5OAu/88Ppszr+vRY5Wut4AJhmK8CmF2hCNMBnMuzQxcHxM4i0X7tNGMNYqQurDz+4B/1KqNzbXDXSs3NNcVbGryZuWf+saMDMOmsxMmu3F8pu+V/NWtnQUbm6rxu5VDvk9TzYr1zXXlR7zvdYeQmCKmKQ8vuuKY65rZ8+jwMn0DClftVyRnXwKpOolZPX84ctR9HVd1hh7TVFQ7Bx3+lYTEP4nnxH9+puGcMaUlPkvK6f7NkQr3NRxRVDXcxdVweq4FK9sCJM0hIXvVgxJhiD7AN3PxqW8C3gS/4yM5rwhnKWFdv37LyR1OLbTEtDLCqij6/hEwnhASzFTjiejpmht4HFlVafUhe73B1FZvbiwWTLcvlNdbMkGSNivgredMVwsK1SiEeSo8YSKk4R9Myu15ZiXh38oNTQJGo4ZzHWggZUHnb+IzVD8IhJuvX3rvCRdeLy333hAF+214y8nc53U1lVFrC0/ump5ymgXzEzLVB+SxReKqxO39T5ce9t5QU1MVBZXUM4x74bt2JAlWLbnNh8Ong1mKA0y0IYuiyzPnwJI1LdUeLsViIiGLHVHwO6hLZGcJVc4MZdil5YatJzar0tmlu4Qk4k4NIvCrkvO6Hga3p9+dNwk7APt4kCP36YFVGxuLamsrGdwBf8+wz2xosBYmQ5jYo2on6o6jFUyK/ZJJMYU5KXAXqrzv8cNHPO8EIxQMKWJsU9jgkNyOw+Wed9A1eJgmK0SYhtRmMK+UvM7vOauI+MEEtdBnGlli+hijIQ1lgAjoZzgjBu9h4m0omsE1kDSycGXrf8YKTYvTjAihZPL/weQiLWuDjA8OaxFyTaIbRRMXL+W2hgz0qhKTcQGI7mf3H6y5g5AKv4vhSDqsZRBnRHc6vZIU/zKPKUr7xzdg9dbSw6f7Xyk+UDNFOoIiSU3NTGxwkAR8e2J2z++YtASiZFo4+KBU4+bO7/oxJCvUEoOJmEyG2cbEsG6emdXzF3BomUljxr4CsFmZR3n5uubDHg6/KwT8o0dybkNYDhXeNmmjxhRZ+AReUiHJbLamT2bgyJhiPU86CK1ihrLjoQKDqZGJUqmGaBJUO16YKGQK9G/bfTxLMkEtjKNpiBIT2s4gMcxfHat0XwU1nNuro4MtaIbMgOi8Fe1fgGknmIwl1inwE8/01ZGmSTnACUjFKIlNDfmAMr5Fqqz/mQOHaj7g8WijimddSL0UTgLGmfbsr51OXOc1eGJnhfYagjAHs/I7viTCFmEdQQaiaAIZ6eBJeh0KjYyKVCZpuWVnw9JQhC/3DA56qKyabDX/c7RXQZi+AfWgEuHhpENcsb7pkNUzPXYwHH4WDocHTyDQHBmLT305jidX9AbZftwR1Beb7n+1eH/NPR5bbDO8tOTwOVjqvTkhw/d0gmrL2kNh6UzV/7LGzzIS4Ue0MZkZQjZ9yoKuX1ZWuSaF09hGQjMebrp8Lo4Lsz7z3n41Uwye8l+N9CbRnDCbDoZ5QJUwn1UI0zH2SGWzSdzOqEWrWhuFShuOeHqham7a3rC02nthZBGIAgnnIJXsXQlZPX9N4GGYvlDeX+b0WND5bc3JnR6aTa0yJKbLCYl5KxHjc0JiqjFLJjGJMM9zwmwuFYQZc3EJ0+oRB6EVH6idSoT5ygXiyL3IISbi+W+XjREGS2TdkuWzuKC12WSCQTFTFgaje59VvL+OCxN9ZInJ/QOMMH9VWeW+YgwJM5oTZvvnITGthBmUXzshhPnM+BKmldNCRSwr91yPbB+RbN0nbUxL+lgGc878Ck4jaf+YHkhFRdbM5Olla5vddhtWZhmJ2CPipX079tSl2cMENonJuGfp4WoiTP/zar7npU6YQTa3mxFQU6hQhmBghm2/eXvDMpUR2k0Ug+AJNvsO1nyImNzLCsEr4RGuJiN2nbu0/ZM8KK87XErcMwJhdl5ihCnCjQZjmxDCfJoI89bxJMxQ4QykhQmvYW+o4D9HFj/st0ph/8Qozo0gYj9wqPqW+Azf89wO5MQepCKTSpeZ3/FZHeEGPbQX0kaYt9Fvn7ucCDNEHNmBOK1khNbwiUzm95F66OsnRvjro2Sjw4semhHKpHkni5VKaZmQGZR6x65JhPuvvQdqp7BUR0VaDkFidl3aEjMwPoQ5UyXMDP8z+w/V3DYRElOpPkHgPoYM+B8agfvsoMPtF4f7IpxTwYdrhjVAuAtXtbbZpYLVpmLS8hypVXGGtNTCOTgshPn85UaYKoycoqCAGOF2JXwymBAifCJKsTSvDJ9oJiM0Yrtu5ieIjUv3n1XDXUrqnZl/vLKtw2OEYiInzF/CEtNOmL8eV4kJ2yk+00cSs/pWGYscb6QyvIao29tzPJMOUKbMhTxgGOK5Szvu40F17jyQ4QxpR+0tqbmTCPiVEGqVGbPjZV3/wfNhw8fs3giEaY0jm3m0YISyJtVuf0vmNSPd9xKpqR8MxQihZbgILtlLOv5LeNZDV+tkMob6wgGeW+owHWx6hDDMpSoxjdTL8VVlTYnpG5wBiXkQEtM57oRpCeDjkIm4csgGiQuXPpbNg9Ok0vZt3VWfbXUgiBQ0lzNq3rK2j4Yo61JT/1DW9QoIWCIcQ9rwnuTLnjDtSeZekprbdtdnECM8L7Kv+mdmWmA9yBmhf5AI7zPsd4q6Lx0+O/ccTyFYn5uZ5QvSclRpuXRNS63HUtYVORd3+BIT4SldyYIa6ZLaAPPKfj7YKztBzp+ZisRMIIl5sMw7YRLTav84yTasuYPsmxfDeQ0R2Gdxx3ldPzlW5bqKiNmhGV5HLapoX91MQpSznHsH+u0qrESUxQWtLUGxOl1/wxJmqDgyZ2Ltn7DGkW22fRZzBPVv2VW/wJoaqTucxMzSFnR+S5R12TyxAZ69lenrT8jw/R1JKx4uLYeTvTUciflLkpjjEC5p/1wYiWmES+Iz/Y+NsyobGCSD/6nyI573iwecEFVWyQiKYXm065qrpqv2T2Zo+2fVxqYSr1kuxMq6svJPfVGoZ72h6v+QSEGE/1xJafX7PAbzuaDL/g1DmPakA6iVxAhvn5Hh+weIKHQc2SfzWh+pqHRdLZL7mZ1KxLqQmR6Wsq5AUFnXyg1Nh4V2ExMpxS8MYfZESDAYEAkGbxmfBIOAmmBgJKdAeCBbbs787o+Nq8RETmBSTs/Th4+QxHRNnMRUCVRk67wtKbf7t8ijtaV19Qsuzjgxff7soTLvzfgN4qE79hzPgJobKR902dpml+D+jkhVK280iWnrdsAcZcvWNVdOTz0dJgnDzAgiAisVjqAYBPNT8roeig9X1pXFy7oSUdZV4Z4syrqGVesZmTCNlLxBpOS5xiwlT1NT8j6jpOTJKhMjJQ/axsZtDTnjLjFn5/qeKj/qeb9b1ydQlbXq9uDGG7edKEArB3sidIKZ5X9+OgFl/oo2P5CrqkqfRIfzXbWsK6hanhdB/6lMdkcYQnrfG48wLV5VmUc7GaERNck/lEcc4af9B2s+gLzrDVtPbpgWIs/Znn+8ZnPjdq8lKd41EsL0RUhiHyCB8ixpWl6CvZuWZ5QL1/ASI9KI+fw63lL4YVRAoR/QQFy676UjFZ63TYAq2/P38iPe97td+oRKTDUjCGopnDHpCzu/IboNhEsfI1XpdP+e/bVx24uO507lhBwCUUwnBKm/B3hZlz6kmsM3ImGaie+mE4e4foEoi5OwHrQl+vMGZSvaAiQto0m1lWVdwZVBvAh6YO787p9WVrreqovGatowu1AMTZUNyOSIQaSbYk0fk/I6fi3Yr+Fa0AA3s5d0/D9WjzkBEvPv5Ue9t0w0YdqQhSVdF+2riyNV4XVRfa8kRBtJ13DDD6TmdT1AnO2HouqjL0RZF7OTknJ7flNxzP02e1nXv5/EtGUEMW+r5shYdOrran8eWze7gZm8+uQlsuM/xmHtGwgjLft4K9ITq8yyruE7ZSITZsBeKN071ksplLZUJTFGn+Y/v7P4+Fz3BBLm+yZeYlqRRdd0FpNEUNpefWJBlize/8Ze0Gov64Izae2WRrOsa1idEC7/zJ/IebTwaNdyRqgWk5tlcoZ3HDadafsHgsu6iFmi3SO0EtaGVBtZp8MhSkyp0g6abV38Y9JSRK5Ztr4/iaJ7wQIkTPB2LDETZGNeHMKUSMzbibDUOkdpuecmJD2gYmGW0oaReccYUjBu2WdrmzJgrzRPzuv6sdOpXwnJoKaXDZMwbyU79XlrJfvlS5i6K7h2dRHLmGK1pedYY25WyB7oVxpVCXgHlHY0QbblwJZd9TnV3tF13lMI0x9JlVUl92iXWaIWsISOwJh4p7wA2n7+79Fj7mtkAf9EEeYtF4swrdUnPBC+prBxK9pEQmpaidOvNGSycFDVtmQue1SmWBLV9WE5ppTqEkNi9r8RJKbSRAttSFCRg4KCx3lqJIhTVd+M5G2bZFLsrjRW1vVVTam5HWlf4MiEGdyYa6wbcZnxb8Rpff3TyO5MXdD1PcBJZI2xZ3xDq7Lh+5PqqIiohpc2niNMn7VUyUQcO/eO471svkvScpKaeje8pl5GPeZtJEGeV71zYQjz0OWjyprag7Tt95bUxqI9YyyL37FCYFuLEIv0lFUpvJYzNdC7q7hu9lDKuoZBmIELeGWNfYkmcn3sdaTL/P35WaxG2NfP+wkFBmPT/edIo2hAPNejePUnijD/RoT53otJmLZaSEacyI0lqbcqeT7yO/0DcekBo4JcIVDeoDfTsHf6pqX6+7btPp5hSkttuA4ItYPBLaTK/p2QdlANxiuSRHYwKCPpE+PUXFeSmoPXGLyO9bJ3jBj9WbEkDwccNgfLvB/IWdr+sYQM3z/xTMGleIEgaYnv5S5r/xS0i9FKy6ETpumVlZ7U0XpjWcOzVN5gDuG3xJyePy5c2dZZXFIzAwRpJt+YTOffSmLaAuKsCwP67hTvr525akPTofgM6doPyG7ZQdIye0nH5yN1Prhw9zeXjPdFIfFhzrzuX3AJITsumF0GZc+flRuaiutqqligutqrGa9jvbxeLWIi+PCSO6SX1hXNE0w0Npdly876+WSj/0g42EJ5vWUR9Kt7D9ROHWpZ19jYmKykD824/rpqY9Pe1Zuaigs2NhXjdbirQHldW9i4Z9P2Ext276tLonO/1i2SFkRGUZQ6VOjfRmKGSjyQMTe81lRXYTyBOzbVWtEw00xAgFrVT2rVuaJ9dfHeUQzNUSopmNTOXdr+eUhs9Pex5oX6RBuUwGDe8vaOov11yZjbsWNPfQqt1LFbx3E9du09++umqQnhYzGpy1RrWerdpNpq5C9XfxBpjIL59fP+UJZpXb3wnOetaOsUVT/R9lrZ8SFMazMuEA9wA04nrJrqkS/83mxmp4t0QmuPJRWX/q0I0xU8rQtOGMfekpq7YnmfoH4j0d3WioSpVcvb/8OKKPqIR/rJrgjrCk9uU7oiDJoZSb5BSaCQLLzfboD16B3LhS4AyN2cyvrKdn2X9ZXVNUWyj06VtafsoU9Q9tKOz5plXUYKpzqtC1lBKOv6ABxIQy3rGgZhnh5KM66KY+63sM7oThdbopnciJdumgshJ8+pz/ZvR5j2QDiQEOPxlG5/1rIuqVal+1/dV1LzEY90QmgjQxKlCJtJTKTzzcpGpzxznKDajV3uJZGruqNzRIRYiBNCZUbP3fRFnd90OsdSYgZP69pZXDfXKA2zPac6hGnx6tY6eNCdirQck5pITphnhlZdMrpmXCy2rathJHtBf/jrTgRh/pUI8z2XksS0TOvaV5eAuSazlE7ophPI7C2zYEUrn8UxQtvSFXIEAE/6Xr2psVhU/5+zpAha6/TGZclWKfGkvqUv6vqWfajQWHrDEU/OWHzqG2GndfFiAmJOPX9HvJlsS8dQ8o/HUmKOV6H0cNdEScybLx0b00QUSKzsJZgEbdT/DYZItkZZ14uiphT7d2jaGCCK6CdEBx+N0AtJqy9PTwvY83jFdKjAmAa8rcFvH5sIDXWZ9jBmhGktpOYDiQp3NuSRNOxjYw6yedK2WtaVKBLVl69rPjpWY/xGITEvd8KU49bVA+eHDe/W7Nwekpie91xKqqy073YUHU8TalWffZaEWta1ZE2Lx1bUO1onhLoX2dnvXZgdIsqlzklnkDXxwa+OKbykCdMl5o/IxAAwn5S8zgdtI/z6FXWWNThLzOn+4+Ejnsm8c+HIbfjIEpPhrZxILRZz/jAbM2VBJ+tgcLkRJkspYw2f0wJ99IBnRWGsWL7zortZHxHmn6HKXqwHDGPzMAcHpn+RtIT9Zt0/f9/Lm0b3/KXsiOd64YQYQ0RR83g5PAkhr8vO77gPiQ8iU4bZgLNYcFqF79itmVn8rIgw+7iNOTZxTCktnUrZnXByneMwZjYzCAOrD/+HtFxb2LhLMMGY0SQThMNbMEFitKfD4C3WOSLMPiLMx8ayg8EESkx0JW8qgzcPkhGTv3jyN08Ax2K9TbJ8zxPCvefSUGVNJ8SGbSdWY+/YJ5KoZ7A98/3jWfBMmIC1cgO6oFcZc04ilXWNPIQjJZUOJN6IoUWwbYHMCJnMYPvke40fwwUJxry+qUx9+z6f9iU7BI5OWopC9aiKCve1iTk9TyC9Ll48hwprvEKCYRaK7Gog+jaNSjMJLTFZH9xPXwhvsZc587ueOFbJe/6MFhYTKjHBedZtPbkhKafn56kLOx9Ozuv6KR2sXI8Sx3kkeX7Xz9IXdn6r/Kj73XKGx0Q/YCi7p8qpO3KXtfcQ8j+UuqDzAdrvQ7R+KBa973wQGUEkQb5Iavhkl0ttGaKPKaOwBpbNxAfi1m/ZXlQ/L391y8ms/I5v0r5+Qvt61ApjC8xHtvL4Wc2Z1/UzgomPq7KjH2ehacqMk50NC5Jyux8mPHmQ8ASwftCEdRfO4EHCo4c277TmH4/DSA2Gtys3NOtJOd0/pP3cj85+ytnT6nxgLp199pL2z1RWumJk6OhykZg83crpij5W6X4rIdFV6I8CZBLrKvY/vMdgFs0yUOeih0ow8oD2G0P7AwGEXPS5A2odgsGjDWwPzd40VUiocXgv21JgzxWV7isA22McthLGbxn1qhRnxc/vykhDnEaSXACVkK4fBXiHgjn7H30eHBvWxwHWxJirXOx8xTmHOnv2qvYXnmhcHZX6xQ5QBJFdhtph/q3L1wgxm4mvtjcklUO8d9iWjD05bF3Cx3VPtu7kDk1TclhdNviO1ZL3C3FWozsvPTSe2GHN8cShNmtT17hlfpnPH3z2Bl64LhrujgngIy2V+13scMlw9j2eknJojM9lCfZPxBorSaVe69KC9/D3c1lJTJvjYkgHfulIzMtj3yOB81gR5xjFDS8pPLmczv6SLrh9c725/l3Xm0B4c7253iTMN9eb6801JMIcqR1zIZ09lDcr3HdGo/eH+u143nu43sKJ2t9IrjHU8xvOswz3DMfCBh0v/BkNXVhzha1zQCM5n+Rv7Z4qxxCX4j0L+m0ID2z471i8pUrrjbD3Daphs1x72Pce4rMHeSsjjHsLd//Q+3MNa38hPJcR4Gvec5jnZ0+oCP1dG8INA3eGDn/jd0ExzmHdPxJ+jGRvIa4fCk6h8CY87C1uYY9bZwF1T4Qlg+4qcfDfaUF5lvbre9x6UAhANm5CvM4dZg/y/6E4nry3O8y9zf3pITkW/ue+wLOK38TYA85DGPvGiM7Ynzv8/jwh4BcMOy0qeAJz5GvIe7nDfq6zNhdW+Oghub/bxa+hfle+uiPgj/0M7Xu/0LmLuK7DlvOs3t8RaQ/h8CPU+Vg/G9qyx27lNd0u3dZuxbp3dg+P9WyND49WeCbvP1gzpaS0+s4Dh2o+UlJacyetj4gl/ld9J75z+IjnJltluuNgafXt+KzimOdtoQ4emSV0jbvoGh9CNbh9g24Xz6ssK/feQN+7E/cqYa/8Pf1vCn12sysEQpYern4f3fue8iPed4a6NwL1uC/uj33YAYhu6mJvHzGfHfdkf3+QYPN2dwiiiDA4KEpKeOwb+zt8xPvuMPuLJvh9UMDvGvv+kF21n2CBz48c9UwWrSks+xBncAd9b0pllftqy33E+0Nl1bfSNe6m571WJSq6/pUH6Nr027vos6vdLmtRr6rVlB/xXEffvRvwlL2LlHO4Beek4JCCR/wMSw97b7am2/Hnp8/vEGdw5wHz3AH/Owlu13PiFamCml2q866DSAPE1LUSgasCfzjeHmKwe1co+APncD70epMd9mgrKenC+jzBdEF4cp2UmMimwjXxTLLHj6ZOKueTz9H36Rp8Z19JzTScvYR9VJXTdQXyE9dtwdAdND3m2fUJWb7ehCy/seIzUSLje31aamAgf02Lz8PmdYDA2MUnz87t+g5gYRUAABYLSURBVOnU5EB/4c6GpdUeOcrOZcyp3FVclzg9hU0Dfqb0MKvWMHIQ8Z4O/B25S9sDdP9ncX9MdsLrjAxWPMsqD+Yta7/PpZs5t7yTAIbTdnxpytzT/cvXNR8UHQZizNYYtL+jbvQ2fYqucX7HnuOJ5nBZvretu+sXYfwbPd9Zuud59uyZmMbEnvm1pJye3y8qaK07esyG8BcetccQDvdfsLL149gfWmaKe0er+6uoJPjldP9+avJpwC+Hz0Jh+4tisNtbl4xhrjMIJsl5Xf9bUem6xi0aAxvXOOZ6e1Ju95PTCMZ79temKc9IhMmrPDIWnfr+3bSPwh0Nm71iHwI+V8/O7X6Uzq8vf3VrndyjOV1bjjXUojIXd3zxnrmnB+Ytawu4xPBZOYE7a/Gpr9A++wl+Zxn8smT1CMed2LQA/a79U7w9Cz8jcf9rZ2X1/CUeZ034x3/L4Y+zSMzueTpz8anPEqLfJXJp1cbSrOs7CDt90amvEH69zHCH4Y+vDzCj6/TSsw0WbGqqQv8dp4kf0YAvnU/TlDln+heuavW7TbixYgecO2awYP+87YlfoQtfL3AUeAO62LDtxA6PnF5W6Xpr6oLOrwFv2ZkdYwIhWtl7tJO+R3v+Err6z5nX/VD5ETBMjdX7gjCvRJnN2i0nC6bOPY2auLMz0gNAApRtDYqp0GhTfzYhw/8asvIXr27tEQBiZTFHj3munTO/6xfTU04PFu5qWI6Oa6wlombWwO3eW5cUxzty/6OMDR01WvZhDmV09pKOT+DavF2+75+zsn0vzcruYYsI4wW6/6t5K9ruZYSpGXYHWuZHzVva8VVClsEV65rLkFtK955ktomk/R313DCLroEKip3FxxNFj9ZoubetRfX5camsVSUmQ/fK56d1Lk60HMTeiAF8knVe13THhVL0lAnEMeCUdOCfwv7yC1prPaI/rLq/YyTB5s7rfkLAb56AH+sNw2C3rw5TlgE7NsMjb2VbN+fAegwQ0+VmUm/y7Pndf8MzFh+oTVeekUslep+Vf+oBOuNBIv6t8nMUMYORrtzYVA4kSsru+VNpOWecqkYkuj3MjCM8iEvz9xKzmK228NToHlmiOwGdH2D3OuAXnxGg5UdZ2WsoZ8tZ2n4fuzZn3Oz5y4+y6hN0x0fFRy//HX8l2J/HGeC56PMnD5WhhFCzqIaE9NcQYv8ECM7rPXteNvHH9zLwh+D36prNjUdYN3cBF3k+RHwt9ySfGVy8qvVejwk3Nlt10arWWlGF9Brt5yy98t5MmaxKhuEK0cXrYKrrt55gk8hII7wCEhwTxlFkP43X9FYLoo3mc1urolZuaCrBZ5hGXrS/Nl7tnWuqKEc9b6MD/dDektoPkli9nb4YSw/7Z8zy27jtxBoSt7fQZx+i79xJKsv1usuowCeJ6ZlM331sWsoZOvQTBmFK4sHD7iKCYHMBs/wvlJZ7rwdhamIuPamMt81I9+HB+0gaN5D0vIlUiPeRCvOe8qPeG2lvN9LfNx9VVDB5bTxE7tJTX7l77pnB5etayrx0PaeNMGl/19MBPYdWkDv21CdJ4Mv7b9vdsBgFyoQcTxIDmUKc+XZ61jv2ldTeXrSvNilj8amvgQMT0vXR89/jjTByz5CYOHja74KVbfdhf4sL2mrcoQizkuCX2/O4gF+uYC4GYe7aezwZnfTYXBXW7zQwuG7LycIaPmBnEpCLkHPy7Hk9f8Fz7Nlfl6EgGFNlgQyZizvvv4f2UbjjBCNMJhmEGniwzHszaRXPAbnXFDbuqrZNe5bjDoCkxOW/43TqDuuYdR3dIL6CUjlC9FpSI28FrgCOwBu8Fh+o+8jBsuobVaeHOJ/rMBUO+LG2sHE7qYjvLy6p/TBwkc7iw8vWtlQRwb6Kva3a2HTQa2pFrGB/yy7WGWGQJOTZtYUnt5MEvoHw5b0cfzw3Sfwh5nWNYFLy/kzjW7iqrfnuufcOLlrVdq/HbcBeqLnV7xTP8SF6pls2bD2xLDaVNQN4jrSvZNrfbfzZaj/EK5F0WVkTjfNZs/nkTl6653+dhMIcwBGMad+Bmnvi033/wGfL10OgVFkK8U0j1zBW0e+SjZV7C4ngPxAXH9h7oHY2hm663JrVSNa4cQyJOXd+12NACgLSspCECYnJuf4L0OlBmE5R10lM4B7iGv3E1fq27j6eV19Xydr8oc+pdL5II5lJJIUwmcRc1sEQQo4S0IIJ8wYiuudQZ7dzT7DE3F7EVNlBUgV/f6zSNUka4lg1hKDEpd+bkOF7hfbHZmhgb2LScCQbU0rM+7A/UhNrQkrMSiYxHxfwCyMxA4Ozc3r+RprFx+NQ05jue5E4cizUTsCA9v322fO6/4rvXUBi3g/C2rKzYYv5uRjTTvskjeQUzJmUBZ0PVVa5rnQZnQS1qEOk5ZCZ8TTgRCrbOiktNSUpPGdJx3+DAaEPKztD1vKxytLC0eZgEefjvpZU6b/h+el88vAbPJP0O0C9zFrS8XnSOvqWrWuuQ+E164Sv85YlG7efWA9ThKTTKxg8fLy20mg5qeKOO9ixJiVmM5OYBa1nLAzNcP44Ge5jjmcxCSxW8E0SnhjATfyZtCDno1RXUVlFavgX8BuMEaRzuhq9jzAWAYyGzIuvibEI0aoWZnHbmiOt9WjiwO9Mnt/9OFSIon11OGiI4CvM9numxITjiBDrF1BV6NCXCXVBVqBzVba4LimWF06/qEhMVvt3tML99qSc7t9ADSHJ+wcS+8e37KxfRHbD7SjRwe/dCidTnAcGYXKJ2VzmCSJM2DCkymb7noeNs6P4eJIniDAbFgEpiDB/RwjJSq2AjAA0EGofcW3aG1Szs2hYLNrZR0WSmCZhtn3qHiYxSZV1BxNmBUyB3J4nBGHmBhPmcUaYZGv9o6TUe1PawlNfZwc9r/sR2PceLjHJnOj+C3rZkGTKCEGYMVn5nQ9MJQTcsvOEqcoa07mYLZsIFZQxyF31uWzsPUwd+i7ZZ3unMVuo69eEkJNd9s5vLkhMziCJAdUeLvfeQZLvrkNl1R8+WFZDq/pOWrc7NdXxZ0pMhTBzGWEK+POBwKzbxHdxxtAUjDHvoi3L/oPVd5BEeo23BOl6lBh0BTHbrNLD3vehdA/fd3F8i5FzNa2E2Uaq7L3QaO61EqZhbgH3J9F1ovfsq0skGA8kZfueOXS4+jZhN8aojZvVelQQNWmE7yd79G+A39K1zd7VmxoPQIWdmdnzFOHWHW6OEw5ND/LKWhwW7AOi7GtJYv5RqEapOByn0u7BcH4wiemezCVmsCrLDGwcOhFEHGst4SeJCRvGYAZs8ySJFpKK8E8MWZlKKh3uS7bKsziQJatbTm4vOp4tK+JxIJpNlQXHU1TZGOEYcYiO50JinuYS022MnWeEua3IUGX/vK2oPh3qK6m0c4pIym/bXZ+fktf1AJwHS9e2VPL5jGqnvEiEqWO8932cI7fVclVWZ5JGMiYpMaelnhkAYQqp71AJE7Yb2Vj/IqJ4N5gDvX+K2Zsr2gJAvIoK93Wkyv4VzzEcwrS08+Tc/etgsLlL2z8tOs47UMlPuPDw1BSmdjkNwrARJknkr4uuFa+S6vnPhCz/K7TPV0gF/xepma8RY/kDMeF3uN1aaFU2DQ6axlKS+AlweNEZzKaVTBKNTQzDhO+KY3Rfi/2rM/whFRedBjF4mPkDeE+fnj8Ts/gaJkOTpIt3G7ap1QcQnjBN6ecUziAizFmxTGL6niYBwwYya5oaa1Ukpsb3B0FF9ud6ECYcmVC5hTmyCUzIGaKXVNg6S0KW61LyIDEZYaZJYrPHttxcYhJidT2GAy0kickOzmzzyKQWVFnW5DfL90KpcP5oCiPgnK9mCrgdAfPLdFB/AnCB0AD2NCIMUglbBbIYRO0ibkoS86t3zz0NiVnKJaY+SVeuSzYrSUwiTLJhmFeWqaKq86chH82P0RQKnGwaa+nBZ05gqjRvP+EfICbxJbJV3s0RPXw5kHwm6fVkqiztjyRmjSEx8R1NF6YAVLmex2E2EPyYxHSGkJhwaGAQEVQqDHGFrYNFB7yZTI8okvhPMVV2/3AJ06W2XCkgIhggtfClfSU1UzCagbSXPBAGqfMvYTQ7t8N0R5DEJMLEGcN5R7B8hg/l9T1PZ/4cIeQLRJi/AGG6TI+8QZhk4jwF5w/aqEwTU5wBf+AUzgId9ej3v95VXDfH7bZ3OeAMGzYcGqdlLD71LYIVU7uhqbCzTAmcW7OpcbeYP+kYmsQ0EwGgwYDACLazwOCTcnzPlJZX3+p2h2+ZozA9LkCWtX8CWiFaq8xb1v5x8VlMcFhqFIRptltgqug1JDEfncoIs76AHsDBpasmD9xBkmfhdOb57HmKJOY7mMTULMkGrCEVUzsQEyv3XkfcMm1tYeN+6OM4NHBskpw5nPCFSq1BYrZ/4e45ZwaIMKvEPIgYYxScW3MQgn2Qe1v9fegj6wkhMWN5d7rXSTI8RurQz+jZf07vfw7ViNTr38LtD+Jat/XkNhyQUxmREEmVXbCy9aOEIANEmI0i3hYjGk6DMB1kv904M9P3D3BiYhyZ4vlsEhPe6p6XCS7vg0td2K5N+A0xjX+gkTLB6TdCYqYPnTDVc0foy3MNeu+Au8OkgG+BGOV/IUQyf3nbR4VH1KFrriBVNkeosktWt2qIKZPqejOpezeyVcbW9XLMXCiJiX47MGUAf8BewP+neE3M8v0LNlnOkvbPsVCb4fU3r+VlSRLM/o+ie9+0Y0/9/JUbmipJG/k1iAHqLv3/Nrd5/uNGmGp/KGkqkNo6jRjeq8Q8e4sP1Ew3HWyaJUNrKIT5R0GYqaEkpiZENTx0mcQt4TImtaO9mg5TxLewJkH9y1/dUk+E1Z88v+snzLGgqCPKUBWH5OJ44GrhPDh8xD2ZbNAniHv2rVzfdIwRBtmRQHAg+qJVrR10b0i0b+AhhXoRjUSGWuL4JAU28Rhtz4skrW9iB6OEcqQqSwj5e2IyV6MnUGWlKxoL70nivo32/RAxnr71Wxr3wu7UnCYsXCGH5TLYwC6JWkaqFPZHSPaApkm7ycXc5ng+UuOXwLFEh3YW9pKyPwthQmISU3uvcIrEVFbpb6V93c+aR83r+a1UB8NIzGgizPsFYW6xfu5SGlBrUdBaxMiEx0j1jyNb6OXpjGnUpYXqyWN3/qzc2HSwVtiJHrd12bzqkjCvxd5xBmTbpiEkRfg3ifAEZ3AF8IiY2gki+n6SNF80bT+XYuvL7vZs6jTzSwBPIPH3HqiNI9iyAbGFO07km89gEGazIMwzQyTMgSSmyl5YYtqbkpEJMhXMlRjEub0ltXFCsww5WjAsYVYQYcL5g9ha0b7wqqwm4j2rNpJBy3Xof27YdnIlc54IL+/mHQ0LocrgcFkAW8RzpF3D+rCQkV5Z5XbA2aP0XolBy366fyKpok/j+uhaLp1LTBrzBIF5uDaSEYhDHpGAAPcke3EGEfUfIVnIBpKTuow4qBouIXXy92AaDIF0mZepsb2lLej8JpB6w9bGPdzONJH6Qh35cNBQsaBGY2Q5Gf/VLPYo9oexCyQlfgkVMG1h5//Q80azruW6SZi79nJVltTCl+HQwP7Qbwlw3Hug5i567ucJ8dgYQahKZAdlhgmXPKCGS6wS09AwIG1uxXmRFD9LMPkFrpm6oPP+UCESNUMI4RJpUgDOFYy42Fk6Kvm5OmztMUUcExKzmxHm9t31yVJrEsyaeV6JWZSD6Ocvb/+CYOrR6r0l3ij4w4gb+EVq/1owPcCYNK4ULlU5YYpwSYsaLrkQYZKQmsX8EdlIlIlMmCJsxp6zpLRmGp3hvyAxwSykyRIqg+wCEtN1bUpe1+8Jofr27K9NkbG1IOTjAHSQpJlMdubDbAZghv9cZn7nV4kIm+CpIxXl9Tg2RKbnD1JiacLGkp7TZWtbGgkJfklS5eGUBd2PJrPubd2P0N+PwJMrWjg+R0hzC88aUlrvE4fNzu/4NAgXKgsh+PeI+7XkLuv4T0KwF+E4ofu/TM8R57HaJw4RLlmIPqNQWWXKnpkkoKNRVAxd89uQ2Bu2niySKkikRlRyqpfO56P0TBMBcFI5HyQu3Tpvecd9cHDhf2TDnSV1NMU+oBWIQuo34pjocfuilJiS8EXP1jXITknM8b0Odb14f22G4uBSwyU/IEnYt2VnQ6HH8rnq/NOjcR6ktp6JJZiTZGBJDesKIWVF/FAPznUVNuZX6JzQS/hJwp2Hk/O6HyWt6xHWiS+v68dJdL4k+RqEjRktw3QiXPIXnMH2ooZUqVEA/vCGYq/L1zcfI4nZR/v6nCoxhfPsSmT9zJ3f/TN0EyTceUTeG90bE7L8r4EoSQP4ETGIq5UugNEiXNJ0T/KZPtrbaRFndlg74/EIAp4fIxuxT0h45vxx6xGywGQeMWN4U6H1IKZJDDnWdPJFIExzMyybAi7sZ+6Zc3qQECNTqI8x9ix504jHhGTvrQSI70wX2TLQxRlRpLOeoQ+Rjn03P1xdcVnrjPPPW9bxnSlz7uWOnlRhsON9CncCEIE9Qdwul8cQzVaSmnDwVBxzvZWYwCdjU+33Zgzhj0R82R7lt+L+0SBUUp+WgtPD/gVhWoHNCDOamM5DH0m6Fw2JD7K0rguosq6gOZGQuvoV85e1+4XktOyPiPNPhTsblpjEYuyP2SY799alwys8I93Xj2G3HrduEC/UeThD8pa3dYPwsUhLyFYcXFJiRhNzefSupDODm7c37BRwVGKx5ixLDx/+k4x78v31PE1S7VqRsaNOjDbVdvpfxsLO78vfwB7kE8pOG5PK7p5zhrSWjq9Lm1fJ/LkO6jJseDqLDEWiMUaA/eSvafF8OPHewez89m/JfbLfi1xiYv7/miodhSmnuQOJrTMMf+bkdv+YzIQp4tqK88eJ+G0XznbBirb7bPcWsOGSDUyQtLck7BNx7UOHvbcpCfYXcARKiVkdC60JMCKJGS9oijkIhywxodIVbGosWLK6ZQeknMiICNfZnLv+RaLxtqLjaUQMP2BDcjJ9P1xXeDKHx6VMDmGdesQyT+5CjiepZsm06RRayXhffKA2lbjUVLSrl04Ra/mVYaM6qnm8dHpids8XWEftDN/vSAXaRJJ5kjkk1Frd4HExb/AtS9a07Fi1sWlVlSXB3kiyhuEeS4eShYwS6VWM3DNW2Z9QyZBFQkjyKTiaaH9P0n13k4p4lYenckWrCC8lZklZ9Y1L1zRvx7OQdLnaZBx8HwTX6KoqPWbFuqaNS9Y27ygt875HCUkwwsT31m05uYikwi6C7Yc9bi0qpIufqfBMfXes3nwyP7+gZfeWnfVJbuFUsc/PVH+3fsvJeUvXtGCfm0md3bxifUshX81Ym5aubdm2aXtDmgpfQVhXkAmylmCxnc7iRo/Sg1jiBxHB+0lAZJeUeu+2tEIVzpW9JTWzigX+EIxT6D3DH2h7yLGVJpM6uVlKssKd9YkElyJijilupaeuTWIyu5Vg+26iiW0rNzSvh9MzssQ0ExWQD87gsKZlS1m5910mTQVLzP8DxVNqC/HG9ugAAAAASUVORK5CYII=)\n"
      ],
      "metadata": {
        "id": "vKM_IQb2q3c_"
      }
    },
    {
      "cell_type": "markdown",
      "source": [
        "**Цифровая академия ТУСУР**\n",
        "\n",
        "**Практикум для закрепления навыков**\n",
        "\n",
        "Данный ноутбук необходим для прохождения [тренажера](https://https://it-lms.tusur.ru/mod/quiz/view.php?id=269), завершающего модуль \"Методы работы с данными\". \n"
      ],
      "metadata": {
        "id": "ldGTDLOfq4hj"
      }
    },
    {
      "cell_type": "markdown",
      "source": [
        "Дополните ячейку ниже всеми библиотеками, упомянутыми в первом вопросе. Для удобства лучше присвоить им краткие имена."
      ],
      "metadata": {
        "id": "tyR1MbwYrOA2"
      }
    },
    {
      "cell_type": "code",
      "execution_count": null,
      "metadata": {
        "id": "vpczg97pqyVN"
      },
      "outputs": [],
      "source": [
        "import pandas as pd\n",
        "import numpy as np\n",
        "import sklearn\n",
        "import imblearn\n",
        "import matplotlib.pyplot as plt\n",
        "import seaborn as sns\n",
        "\n",
        "import warnings\n",
        "warnings.simplefilter(action='ignore', category=FutureWarning)\n",
        "%matplotlib inline"
      ]
    },
    {
      "cell_type": "markdown",
      "source": [
        "Загрузите данные с помощью следующего кода"
      ],
      "metadata": {
        "id": "sIu6RsPrq0_d"
      }
    },
    {
      "cell_type": "code",
      "source": [
        "%%capture\n",
        "!wget https://www.dropbox.com/s/04y77oljolgvrel/signals0.xlsx"
      ],
      "metadata": {
        "id": "PxAgq0aZsjCC"
      },
      "execution_count": null,
      "outputs": []
    },
    {
      "cell_type": "markdown",
      "source": [
        "Запишите файл signals0.xlsx в DataFrame с названием data."
      ],
      "metadata": {
        "id": "thX4SaUjODF0"
      }
    },
    {
      "cell_type": "code",
      "source": [
        "data = pd.read_excel('signals0.xlsx')"
      ],
      "metadata": {
        "id": "Id0nH47yOKzf"
      },
      "execution_count": null,
      "outputs": []
    },
    {
      "cell_type": "code",
      "source": [
        "data.sample(5)"
      ],
      "metadata": {
        "id": "GGYAr5ofsnd8",
        "colab": {
          "base_uri": "https://localhost:8080/",
          "height": 270
        },
        "outputId": "c55adac2-2c97-4cce-af26-640bdf9db23b"
      },
      "execution_count": null,
      "outputs": [
        {
          "output_type": "execute_result",
          "data": {
            "text/plain": [
              "              a0           a1           a2        a3         a4          a5  \\\n",
              "37   4658.029297  6574.356934  35055.04688  0.003001  29.057964  173.956711   \n",
              "12   4459.272949  6704.931641  34887.70703  0.000000  24.456684  183.235184   \n",
              "99   5494.901855  7383.454102  34525.81641  0.160170  22.932573  163.961487   \n",
              "93   4330.762695  6866.930176  32248.78320  0.000705  18.892572  173.744415   \n",
              "339  4190.510254  6861.245117  34315.97656  0.008315  28.080704  174.742615   \n",
              "\n",
              "           a6           a7        a8           a9          a10          a11  \\\n",
              "37   0.000000  1880.328003  0.243506  4077.699951  7072.046387  42748.21484   \n",
              "12   0.000000  1419.233887  0.283333  3073.022705  5624.226562  27466.66602   \n",
              "99   0.020830  1363.945068  0.345048  4835.181641  7298.878906  65831.03125   \n",
              "93   0.000000  1322.716919  0.142384  4409.736328  6258.135742  30506.35547   \n",
              "339  0.019667  1655.101685  0.274760  4158.803711  7495.993652  30258.29297   \n",
              "\n",
              "          a12        a13         a14       a15          a16       a17  Class  \n",
              "37   0.002627  22.920607  203.672226  0.029648  1051.399536  0.097403      1  \n",
              "12   0.005420  18.566181  211.169724  0.154702   503.053497  0.094156      1  \n",
              "99   0.001767  19.412266  206.746628  0.072613   668.304810  0.105960      2  \n",
              "93   0.000000  20.787725  208.606735  0.117013   746.264465  0.252366      2  \n",
              "339  0.288591  19.471060  119.366447  0.069764   449.672760  0.138889      1  "
            ],
            "text/html": [
              "\n",
              "  <div id=\"df-3ed6a164-c375-43d3-adc6-38afbc4b82a7\">\n",
              "    <div class=\"colab-df-container\">\n",
              "      <div>\n",
              "<style scoped>\n",
              "    .dataframe tbody tr th:only-of-type {\n",
              "        vertical-align: middle;\n",
              "    }\n",
              "\n",
              "    .dataframe tbody tr th {\n",
              "        vertical-align: top;\n",
              "    }\n",
              "\n",
              "    .dataframe thead th {\n",
              "        text-align: right;\n",
              "    }\n",
              "</style>\n",
              "<table border=\"1\" class=\"dataframe\">\n",
              "  <thead>\n",
              "    <tr style=\"text-align: right;\">\n",
              "      <th></th>\n",
              "      <th>a0</th>\n",
              "      <th>a1</th>\n",
              "      <th>a2</th>\n",
              "      <th>a3</th>\n",
              "      <th>a4</th>\n",
              "      <th>a5</th>\n",
              "      <th>a6</th>\n",
              "      <th>a7</th>\n",
              "      <th>a8</th>\n",
              "      <th>a9</th>\n",
              "      <th>a10</th>\n",
              "      <th>a11</th>\n",
              "      <th>a12</th>\n",
              "      <th>a13</th>\n",
              "      <th>a14</th>\n",
              "      <th>a15</th>\n",
              "      <th>a16</th>\n",
              "      <th>a17</th>\n",
              "      <th>Class</th>\n",
              "    </tr>\n",
              "  </thead>\n",
              "  <tbody>\n",
              "    <tr>\n",
              "      <th>37</th>\n",
              "      <td>4658.029297</td>\n",
              "      <td>6574.356934</td>\n",
              "      <td>35055.04688</td>\n",
              "      <td>0.003001</td>\n",
              "      <td>29.057964</td>\n",
              "      <td>173.956711</td>\n",
              "      <td>0.000000</td>\n",
              "      <td>1880.328003</td>\n",
              "      <td>0.243506</td>\n",
              "      <td>4077.699951</td>\n",
              "      <td>7072.046387</td>\n",
              "      <td>42748.21484</td>\n",
              "      <td>0.002627</td>\n",
              "      <td>22.920607</td>\n",
              "      <td>203.672226</td>\n",
              "      <td>0.029648</td>\n",
              "      <td>1051.399536</td>\n",
              "      <td>0.097403</td>\n",
              "      <td>1</td>\n",
              "    </tr>\n",
              "    <tr>\n",
              "      <th>12</th>\n",
              "      <td>4459.272949</td>\n",
              "      <td>6704.931641</td>\n",
              "      <td>34887.70703</td>\n",
              "      <td>0.000000</td>\n",
              "      <td>24.456684</td>\n",
              "      <td>183.235184</td>\n",
              "      <td>0.000000</td>\n",
              "      <td>1419.233887</td>\n",
              "      <td>0.283333</td>\n",
              "      <td>3073.022705</td>\n",
              "      <td>5624.226562</td>\n",
              "      <td>27466.66602</td>\n",
              "      <td>0.005420</td>\n",
              "      <td>18.566181</td>\n",
              "      <td>211.169724</td>\n",
              "      <td>0.154702</td>\n",
              "      <td>503.053497</td>\n",
              "      <td>0.094156</td>\n",
              "      <td>1</td>\n",
              "    </tr>\n",
              "    <tr>\n",
              "      <th>99</th>\n",
              "      <td>5494.901855</td>\n",
              "      <td>7383.454102</td>\n",
              "      <td>34525.81641</td>\n",
              "      <td>0.160170</td>\n",
              "      <td>22.932573</td>\n",
              "      <td>163.961487</td>\n",
              "      <td>0.020830</td>\n",
              "      <td>1363.945068</td>\n",
              "      <td>0.345048</td>\n",
              "      <td>4835.181641</td>\n",
              "      <td>7298.878906</td>\n",
              "      <td>65831.03125</td>\n",
              "      <td>0.001767</td>\n",
              "      <td>19.412266</td>\n",
              "      <td>206.746628</td>\n",
              "      <td>0.072613</td>\n",
              "      <td>668.304810</td>\n",
              "      <td>0.105960</td>\n",
              "      <td>2</td>\n",
              "    </tr>\n",
              "    <tr>\n",
              "      <th>93</th>\n",
              "      <td>4330.762695</td>\n",
              "      <td>6866.930176</td>\n",
              "      <td>32248.78320</td>\n",
              "      <td>0.000705</td>\n",
              "      <td>18.892572</td>\n",
              "      <td>173.744415</td>\n",
              "      <td>0.000000</td>\n",
              "      <td>1322.716919</td>\n",
              "      <td>0.142384</td>\n",
              "      <td>4409.736328</td>\n",
              "      <td>6258.135742</td>\n",
              "      <td>30506.35547</td>\n",
              "      <td>0.000000</td>\n",
              "      <td>20.787725</td>\n",
              "      <td>208.606735</td>\n",
              "      <td>0.117013</td>\n",
              "      <td>746.264465</td>\n",
              "      <td>0.252366</td>\n",
              "      <td>2</td>\n",
              "    </tr>\n",
              "    <tr>\n",
              "      <th>339</th>\n",
              "      <td>4190.510254</td>\n",
              "      <td>6861.245117</td>\n",
              "      <td>34315.97656</td>\n",
              "      <td>0.008315</td>\n",
              "      <td>28.080704</td>\n",
              "      <td>174.742615</td>\n",
              "      <td>0.019667</td>\n",
              "      <td>1655.101685</td>\n",
              "      <td>0.274760</td>\n",
              "      <td>4158.803711</td>\n",
              "      <td>7495.993652</td>\n",
              "      <td>30258.29297</td>\n",
              "      <td>0.288591</td>\n",
              "      <td>19.471060</td>\n",
              "      <td>119.366447</td>\n",
              "      <td>0.069764</td>\n",
              "      <td>449.672760</td>\n",
              "      <td>0.138889</td>\n",
              "      <td>1</td>\n",
              "    </tr>\n",
              "  </tbody>\n",
              "</table>\n",
              "</div>\n",
              "      <button class=\"colab-df-convert\" onclick=\"convertToInteractive('df-3ed6a164-c375-43d3-adc6-38afbc4b82a7')\"\n",
              "              title=\"Convert this dataframe to an interactive table.\"\n",
              "              style=\"display:none;\">\n",
              "        \n",
              "  <svg xmlns=\"http://www.w3.org/2000/svg\" height=\"24px\"viewBox=\"0 0 24 24\"\n",
              "       width=\"24px\">\n",
              "    <path d=\"M0 0h24v24H0V0z\" fill=\"none\"/>\n",
              "    <path d=\"M18.56 5.44l.94 2.06.94-2.06 2.06-.94-2.06-.94-.94-2.06-.94 2.06-2.06.94zm-11 1L8.5 8.5l.94-2.06 2.06-.94-2.06-.94L8.5 2.5l-.94 2.06-2.06.94zm10 10l.94 2.06.94-2.06 2.06-.94-2.06-.94-.94-2.06-.94 2.06-2.06.94z\"/><path d=\"M17.41 7.96l-1.37-1.37c-.4-.4-.92-.59-1.43-.59-.52 0-1.04.2-1.43.59L10.3 9.45l-7.72 7.72c-.78.78-.78 2.05 0 2.83L4 21.41c.39.39.9.59 1.41.59.51 0 1.02-.2 1.41-.59l7.78-7.78 2.81-2.81c.8-.78.8-2.07 0-2.86zM5.41 20L4 18.59l7.72-7.72 1.47 1.35L5.41 20z\"/>\n",
              "  </svg>\n",
              "      </button>\n",
              "      \n",
              "  <style>\n",
              "    .colab-df-container {\n",
              "      display:flex;\n",
              "      flex-wrap:wrap;\n",
              "      gap: 12px;\n",
              "    }\n",
              "\n",
              "    .colab-df-convert {\n",
              "      background-color: #E8F0FE;\n",
              "      border: none;\n",
              "      border-radius: 50%;\n",
              "      cursor: pointer;\n",
              "      display: none;\n",
              "      fill: #1967D2;\n",
              "      height: 32px;\n",
              "      padding: 0 0 0 0;\n",
              "      width: 32px;\n",
              "    }\n",
              "\n",
              "    .colab-df-convert:hover {\n",
              "      background-color: #E2EBFA;\n",
              "      box-shadow: 0px 1px 2px rgba(60, 64, 67, 0.3), 0px 1px 3px 1px rgba(60, 64, 67, 0.15);\n",
              "      fill: #174EA6;\n",
              "    }\n",
              "\n",
              "    [theme=dark] .colab-df-convert {\n",
              "      background-color: #3B4455;\n",
              "      fill: #D2E3FC;\n",
              "    }\n",
              "\n",
              "    [theme=dark] .colab-df-convert:hover {\n",
              "      background-color: #434B5C;\n",
              "      box-shadow: 0px 1px 3px 1px rgba(0, 0, 0, 0.15);\n",
              "      filter: drop-shadow(0px 1px 2px rgba(0, 0, 0, 0.3));\n",
              "      fill: #FFFFFF;\n",
              "    }\n",
              "  </style>\n",
              "\n",
              "      <script>\n",
              "        const buttonEl =\n",
              "          document.querySelector('#df-3ed6a164-c375-43d3-adc6-38afbc4b82a7 button.colab-df-convert');\n",
              "        buttonEl.style.display =\n",
              "          google.colab.kernel.accessAllowed ? 'block' : 'none';\n",
              "\n",
              "        async function convertToInteractive(key) {\n",
              "          const element = document.querySelector('#df-3ed6a164-c375-43d3-adc6-38afbc4b82a7');\n",
              "          const dataTable =\n",
              "            await google.colab.kernel.invokeFunction('convertToInteractive',\n",
              "                                                     [key], {});\n",
              "          if (!dataTable) return;\n",
              "\n",
              "          const docLinkHtml = 'Like what you see? Visit the ' +\n",
              "            '<a target=\"_blank\" href=https://colab.research.google.com/notebooks/data_table.ipynb>data table notebook</a>'\n",
              "            + ' to learn more about interactive tables.';\n",
              "          element.innerHTML = '';\n",
              "          dataTable['output_type'] = 'display_data';\n",
              "          await google.colab.output.renderOutput(dataTable, element);\n",
              "          const docLink = document.createElement('div');\n",
              "          docLink.innerHTML = docLinkHtml;\n",
              "          element.appendChild(docLink);\n",
              "        }\n",
              "      </script>\n",
              "    </div>\n",
              "  </div>\n",
              "  "
            ]
          },
          "metadata": {},
          "execution_count": 6
        }
      ]
    },
    {
      "cell_type": "markdown",
      "source": [
        "Определите размерность данных - количество экземпляров (строк) и столбцов."
      ],
      "metadata": {
        "id": "uM5ZX9OFOeKa"
      }
    },
    {
      "cell_type": "code",
      "source": [
        "data.shape"
      ],
      "metadata": {
        "id": "gNBWVVvtOlHR",
        "colab": {
          "base_uri": "https://localhost:8080/"
        },
        "outputId": "3c85b2a9-e247-4902-b857-e33fe15a0c28"
      },
      "execution_count": null,
      "outputs": [
        {
          "output_type": "execute_result",
          "data": {
            "text/plain": [
              "(474, 19)"
            ]
          },
          "metadata": {},
          "execution_count": 8
        }
      ]
    },
    {
      "cell_type": "markdown",
      "source": [
        "Изучите содержимое целевой переменной"
      ],
      "metadata": {
        "id": "IxwsdS-NOqa3"
      }
    },
    {
      "cell_type": "code",
      "source": [
        "data['Class'].unique()"
      ],
      "metadata": {
        "id": "VGcrPUeIwCA2",
        "colab": {
          "base_uri": "https://localhost:8080/"
        },
        "outputId": "1cd907d8-5b2d-456a-c02c-823f5a2d39cf"
      },
      "execution_count": null,
      "outputs": [
        {
          "output_type": "execute_result",
          "data": {
            "text/plain": [
              "array([1, 2])"
            ]
          },
          "metadata": {},
          "execution_count": 9
        }
      ]
    },
    {
      "cell_type": "markdown",
      "source": [
        "Рассчитайте коэффициент дисбаланса IR"
      ],
      "metadata": {
        "id": "w6iB4YkAOui1"
      }
    },
    {
      "cell_type": "code",
      "source": [
        "counts = data['Class'].value_counts()\n",
        "IR = counts[1]/counts[2]\n",
        "IR"
      ],
      "metadata": {
        "id": "CfgKs3p9w4Sn",
        "colab": {
          "base_uri": "https://localhost:8080/"
        },
        "outputId": "feac3544-d2c9-451a-9d19-4e1095eca014"
      },
      "execution_count": null,
      "outputs": [
        {
          "output_type": "execute_result",
          "data": {
            "text/plain": [
              "1.0"
            ]
          },
          "metadata": {},
          "execution_count": 17
        }
      ]
    },
    {
      "cell_type": "markdown",
      "source": [
        "Определите, имеются ли пропуски в данных"
      ],
      "metadata": {
        "id": "irMOIwYSOy0K"
      }
    },
    {
      "cell_type": "code",
      "source": [
        "data.info()"
      ],
      "metadata": {
        "id": "ZTcEEVDjxthP",
        "colab": {
          "base_uri": "https://localhost:8080/"
        },
        "outputId": "c6613cdf-608f-497b-ffc5-7dbd4bd7646e"
      },
      "execution_count": null,
      "outputs": [
        {
          "output_type": "stream",
          "name": "stdout",
          "text": [
            "<class 'pandas.core.frame.DataFrame'>\n",
            "RangeIndex: 474 entries, 0 to 473\n",
            "Data columns (total 19 columns):\n",
            " #   Column  Non-Null Count  Dtype  \n",
            "---  ------  --------------  -----  \n",
            " 0   a0      474 non-null    float64\n",
            " 1    a1     474 non-null    float64\n",
            " 2    a2     474 non-null    float64\n",
            " 3    a3     473 non-null    float64\n",
            " 4    a4     474 non-null    float64\n",
            " 5    a5     474 non-null    float64\n",
            " 6    a6     471 non-null    float64\n",
            " 7    a7     474 non-null    float64\n",
            " 8    a8     474 non-null    float64\n",
            " 9    a9     474 non-null    float64\n",
            " 10   a10    474 non-null    float64\n",
            " 11   a11    474 non-null    float64\n",
            " 12   a12    472 non-null    float64\n",
            " 13   a13    474 non-null    float64\n",
            " 14   a14    474 non-null    float64\n",
            " 15   a15    473 non-null    float64\n",
            " 16   a16    474 non-null    float64\n",
            " 17   a17    474 non-null    float64\n",
            " 18  Class   474 non-null    int64  \n",
            "dtypes: float64(18), int64(1)\n",
            "memory usage: 70.5 KB\n"
          ]
        }
      ]
    },
    {
      "cell_type": "markdown",
      "source": [
        "Подсчитайте количество пропущенных значений в каждом признаке"
      ],
      "metadata": {
        "id": "vm5zIU3_O7qR"
      }
    },
    {
      "cell_type": "code",
      "source": [
        "data.isna().sum()"
      ],
      "metadata": {
        "id": "x089wsHXO_60",
        "colab": {
          "base_uri": "https://localhost:8080/"
        },
        "outputId": "07387eb9-0284-4fa4-be4e-3b70ac14f42b"
      },
      "execution_count": null,
      "outputs": [
        {
          "output_type": "execute_result",
          "data": {
            "text/plain": [
              "a0       0\n",
              " a1      0\n",
              " a2      0\n",
              " a3      1\n",
              " a4      0\n",
              " a5      0\n",
              " a6      3\n",
              " a7      0\n",
              " a8      0\n",
              " a9      0\n",
              " a10     0\n",
              " a11     0\n",
              " a12     2\n",
              " a13     0\n",
              " a14     0\n",
              " a15     1\n",
              " a16     0\n",
              " a17     0\n",
              "Class    0\n",
              "dtype: int64"
            ]
          },
          "metadata": {},
          "execution_count": 19
        }
      ]
    },
    {
      "cell_type": "markdown",
      "source": [
        "Заполните все пропуски значением 0.0 и проверьте, остались ли пропуски в данных"
      ],
      "metadata": {
        "id": "cuRgE2KzPARm"
      }
    },
    {
      "cell_type": "code",
      "source": [
        "data = data.fillna(0.0)\n",
        "data.isna().sum()"
      ],
      "metadata": {
        "id": "ZJw-ek5CyfSU",
        "colab": {
          "base_uri": "https://localhost:8080/"
        },
        "outputId": "07bac557-cfa6-405c-8a0b-84100cad8950"
      },
      "execution_count": null,
      "outputs": [
        {
          "output_type": "execute_result",
          "data": {
            "text/plain": [
              "a0       0\n",
              " a1      0\n",
              " a2      0\n",
              " a3      0\n",
              " a4      0\n",
              " a5      0\n",
              " a6      0\n",
              " a7      0\n",
              " a8      0\n",
              " a9      0\n",
              " a10     0\n",
              " a11     0\n",
              " a12     0\n",
              " a13     0\n",
              " a14     0\n",
              " a15     0\n",
              " a16     0\n",
              " a17     0\n",
              "Class    0\n",
              "dtype: int64"
            ]
          },
          "metadata": {},
          "execution_count": 21
        }
      ]
    },
    {
      "cell_type": "markdown",
      "source": [
        "Выведите описательные статистики набора данных"
      ],
      "metadata": {
        "id": "jUKDiY7dPK6K"
      }
    },
    {
      "cell_type": "code",
      "source": [
        "data.describe(include = \"all\")"
      ],
      "metadata": {
        "id": "NbC_pQxd0XPe",
        "colab": {
          "base_uri": "https://localhost:8080/",
          "height": 364
        },
        "outputId": "46768236-08ff-413c-c475-737d22685f56"
      },
      "execution_count": null,
      "outputs": [
        {
          "output_type": "execute_result",
          "data": {
            "text/plain": [
              "                a0           a1            a2          a3          a4  \\\n",
              "count   474.000000   474.000000    474.000000  474.000000  474.000000   \n",
              "mean   4422.699186  6691.355522  34679.590323    0.103091   24.669193   \n",
              "std     699.419476   756.960068   3017.845347    0.537509    2.720440   \n",
              "min    3001.416748  4713.786621  26806.798830    0.000000   18.185061   \n",
              "25%    3913.527100  6229.683105  32749.301267    0.001231   22.958566   \n",
              "50%    4333.641357  6699.021241  34593.449220    0.008315   24.447506   \n",
              "75%    4767.759155  7176.352173  36152.958010    0.036413   26.449736   \n",
              "max    7986.296387  9085.962891  50293.796880    9.052477   33.421333   \n",
              "\n",
              "               a5          a6           a7          a8            a9  \\\n",
              "count  474.000000  474.000000   474.000000  474.000000    474.000000   \n",
              "mean   179.033497    0.022016  1632.135726    0.238801   4113.931278   \n",
              "std      5.733267    0.026777   202.981072    0.043766   1113.025633   \n",
              "min    161.884308    0.000000  1045.786255    0.119741   1605.269653   \n",
              "25%    175.560989    0.002563  1477.695251    0.211585   3464.032227   \n",
              "50%    179.185822    0.015171  1642.177368    0.241379   4008.057618   \n",
              "75%    183.032673    0.031211  1764.706299    0.267296   4718.469238   \n",
              "max    203.759109    0.260196  2327.326416    0.402597  13083.335940   \n",
              "\n",
              "                a10           a11         a12         a13         a14  \\\n",
              "count    474.000000    474.000000  474.000000  474.000000  474.000000   \n",
              "mean    7007.017678  43988.364217    0.362934   21.428342  199.183077   \n",
              "std     1146.836377  13530.229233    6.325774    3.839463   22.521546   \n",
              "min     3081.984131  18459.683590    0.000000   16.618671  110.383484   \n",
              "25%     6167.486694  33805.551760    0.000020   19.565250  195.419826   \n",
              "50%     6918.586182  41759.447265    0.002301   20.679366  206.248726   \n",
              "75%     7497.323731  47605.816410    0.024451   22.047527  212.937836   \n",
              "max    10762.631840  89040.234380  137.306961   40.029259  233.955704   \n",
              "\n",
              "              a15          a16         a17       Class  \n",
              "count  474.000000   474.000000  474.000000  474.000000  \n",
              "mean     0.078938   818.923045    0.135239    1.500000  \n",
              "std      0.091289   336.926352    0.054559    0.500528  \n",
              "min      0.000000   381.860565    0.011321    1.000000  \n",
              "25%      0.000000   637.903076    0.097093    1.000000  \n",
              "50%      0.077633   754.834351    0.133753    1.500000  \n",
              "75%      0.096987   867.150574    0.163009    2.000000  \n",
              "max      0.738292  2371.504395    0.442073    2.000000  "
            ],
            "text/html": [
              "\n",
              "  <div id=\"df-1765b3fc-8cb3-4119-83d1-9f52cd912114\">\n",
              "    <div class=\"colab-df-container\">\n",
              "      <div>\n",
              "<style scoped>\n",
              "    .dataframe tbody tr th:only-of-type {\n",
              "        vertical-align: middle;\n",
              "    }\n",
              "\n",
              "    .dataframe tbody tr th {\n",
              "        vertical-align: top;\n",
              "    }\n",
              "\n",
              "    .dataframe thead th {\n",
              "        text-align: right;\n",
              "    }\n",
              "</style>\n",
              "<table border=\"1\" class=\"dataframe\">\n",
              "  <thead>\n",
              "    <tr style=\"text-align: right;\">\n",
              "      <th></th>\n",
              "      <th>a0</th>\n",
              "      <th>a1</th>\n",
              "      <th>a2</th>\n",
              "      <th>a3</th>\n",
              "      <th>a4</th>\n",
              "      <th>a5</th>\n",
              "      <th>a6</th>\n",
              "      <th>a7</th>\n",
              "      <th>a8</th>\n",
              "      <th>a9</th>\n",
              "      <th>a10</th>\n",
              "      <th>a11</th>\n",
              "      <th>a12</th>\n",
              "      <th>a13</th>\n",
              "      <th>a14</th>\n",
              "      <th>a15</th>\n",
              "      <th>a16</th>\n",
              "      <th>a17</th>\n",
              "      <th>Class</th>\n",
              "    </tr>\n",
              "  </thead>\n",
              "  <tbody>\n",
              "    <tr>\n",
              "      <th>count</th>\n",
              "      <td>474.000000</td>\n",
              "      <td>474.000000</td>\n",
              "      <td>474.000000</td>\n",
              "      <td>474.000000</td>\n",
              "      <td>474.000000</td>\n",
              "      <td>474.000000</td>\n",
              "      <td>474.000000</td>\n",
              "      <td>474.000000</td>\n",
              "      <td>474.000000</td>\n",
              "      <td>474.000000</td>\n",
              "      <td>474.000000</td>\n",
              "      <td>474.000000</td>\n",
              "      <td>474.000000</td>\n",
              "      <td>474.000000</td>\n",
              "      <td>474.000000</td>\n",
              "      <td>474.000000</td>\n",
              "      <td>474.000000</td>\n",
              "      <td>474.000000</td>\n",
              "      <td>474.000000</td>\n",
              "    </tr>\n",
              "    <tr>\n",
              "      <th>mean</th>\n",
              "      <td>4422.699186</td>\n",
              "      <td>6691.355522</td>\n",
              "      <td>34679.590323</td>\n",
              "      <td>0.103091</td>\n",
              "      <td>24.669193</td>\n",
              "      <td>179.033497</td>\n",
              "      <td>0.022016</td>\n",
              "      <td>1632.135726</td>\n",
              "      <td>0.238801</td>\n",
              "      <td>4113.931278</td>\n",
              "      <td>7007.017678</td>\n",
              "      <td>43988.364217</td>\n",
              "      <td>0.362934</td>\n",
              "      <td>21.428342</td>\n",
              "      <td>199.183077</td>\n",
              "      <td>0.078938</td>\n",
              "      <td>818.923045</td>\n",
              "      <td>0.135239</td>\n",
              "      <td>1.500000</td>\n",
              "    </tr>\n",
              "    <tr>\n",
              "      <th>std</th>\n",
              "      <td>699.419476</td>\n",
              "      <td>756.960068</td>\n",
              "      <td>3017.845347</td>\n",
              "      <td>0.537509</td>\n",
              "      <td>2.720440</td>\n",
              "      <td>5.733267</td>\n",
              "      <td>0.026777</td>\n",
              "      <td>202.981072</td>\n",
              "      <td>0.043766</td>\n",
              "      <td>1113.025633</td>\n",
              "      <td>1146.836377</td>\n",
              "      <td>13530.229233</td>\n",
              "      <td>6.325774</td>\n",
              "      <td>3.839463</td>\n",
              "      <td>22.521546</td>\n",
              "      <td>0.091289</td>\n",
              "      <td>336.926352</td>\n",
              "      <td>0.054559</td>\n",
              "      <td>0.500528</td>\n",
              "    </tr>\n",
              "    <tr>\n",
              "      <th>min</th>\n",
              "      <td>3001.416748</td>\n",
              "      <td>4713.786621</td>\n",
              "      <td>26806.798830</td>\n",
              "      <td>0.000000</td>\n",
              "      <td>18.185061</td>\n",
              "      <td>161.884308</td>\n",
              "      <td>0.000000</td>\n",
              "      <td>1045.786255</td>\n",
              "      <td>0.119741</td>\n",
              "      <td>1605.269653</td>\n",
              "      <td>3081.984131</td>\n",
              "      <td>18459.683590</td>\n",
              "      <td>0.000000</td>\n",
              "      <td>16.618671</td>\n",
              "      <td>110.383484</td>\n",
              "      <td>0.000000</td>\n",
              "      <td>381.860565</td>\n",
              "      <td>0.011321</td>\n",
              "      <td>1.000000</td>\n",
              "    </tr>\n",
              "    <tr>\n",
              "      <th>25%</th>\n",
              "      <td>3913.527100</td>\n",
              "      <td>6229.683105</td>\n",
              "      <td>32749.301267</td>\n",
              "      <td>0.001231</td>\n",
              "      <td>22.958566</td>\n",
              "      <td>175.560989</td>\n",
              "      <td>0.002563</td>\n",
              "      <td>1477.695251</td>\n",
              "      <td>0.211585</td>\n",
              "      <td>3464.032227</td>\n",
              "      <td>6167.486694</td>\n",
              "      <td>33805.551760</td>\n",
              "      <td>0.000020</td>\n",
              "      <td>19.565250</td>\n",
              "      <td>195.419826</td>\n",
              "      <td>0.000000</td>\n",
              "      <td>637.903076</td>\n",
              "      <td>0.097093</td>\n",
              "      <td>1.000000</td>\n",
              "    </tr>\n",
              "    <tr>\n",
              "      <th>50%</th>\n",
              "      <td>4333.641357</td>\n",
              "      <td>6699.021241</td>\n",
              "      <td>34593.449220</td>\n",
              "      <td>0.008315</td>\n",
              "      <td>24.447506</td>\n",
              "      <td>179.185822</td>\n",
              "      <td>0.015171</td>\n",
              "      <td>1642.177368</td>\n",
              "      <td>0.241379</td>\n",
              "      <td>4008.057618</td>\n",
              "      <td>6918.586182</td>\n",
              "      <td>41759.447265</td>\n",
              "      <td>0.002301</td>\n",
              "      <td>20.679366</td>\n",
              "      <td>206.248726</td>\n",
              "      <td>0.077633</td>\n",
              "      <td>754.834351</td>\n",
              "      <td>0.133753</td>\n",
              "      <td>1.500000</td>\n",
              "    </tr>\n",
              "    <tr>\n",
              "      <th>75%</th>\n",
              "      <td>4767.759155</td>\n",
              "      <td>7176.352173</td>\n",
              "      <td>36152.958010</td>\n",
              "      <td>0.036413</td>\n",
              "      <td>26.449736</td>\n",
              "      <td>183.032673</td>\n",
              "      <td>0.031211</td>\n",
              "      <td>1764.706299</td>\n",
              "      <td>0.267296</td>\n",
              "      <td>4718.469238</td>\n",
              "      <td>7497.323731</td>\n",
              "      <td>47605.816410</td>\n",
              "      <td>0.024451</td>\n",
              "      <td>22.047527</td>\n",
              "      <td>212.937836</td>\n",
              "      <td>0.096987</td>\n",
              "      <td>867.150574</td>\n",
              "      <td>0.163009</td>\n",
              "      <td>2.000000</td>\n",
              "    </tr>\n",
              "    <tr>\n",
              "      <th>max</th>\n",
              "      <td>7986.296387</td>\n",
              "      <td>9085.962891</td>\n",
              "      <td>50293.796880</td>\n",
              "      <td>9.052477</td>\n",
              "      <td>33.421333</td>\n",
              "      <td>203.759109</td>\n",
              "      <td>0.260196</td>\n",
              "      <td>2327.326416</td>\n",
              "      <td>0.402597</td>\n",
              "      <td>13083.335940</td>\n",
              "      <td>10762.631840</td>\n",
              "      <td>89040.234380</td>\n",
              "      <td>137.306961</td>\n",
              "      <td>40.029259</td>\n",
              "      <td>233.955704</td>\n",
              "      <td>0.738292</td>\n",
              "      <td>2371.504395</td>\n",
              "      <td>0.442073</td>\n",
              "      <td>2.000000</td>\n",
              "    </tr>\n",
              "  </tbody>\n",
              "</table>\n",
              "</div>\n",
              "      <button class=\"colab-df-convert\" onclick=\"convertToInteractive('df-1765b3fc-8cb3-4119-83d1-9f52cd912114')\"\n",
              "              title=\"Convert this dataframe to an interactive table.\"\n",
              "              style=\"display:none;\">\n",
              "        \n",
              "  <svg xmlns=\"http://www.w3.org/2000/svg\" height=\"24px\"viewBox=\"0 0 24 24\"\n",
              "       width=\"24px\">\n",
              "    <path d=\"M0 0h24v24H0V0z\" fill=\"none\"/>\n",
              "    <path d=\"M18.56 5.44l.94 2.06.94-2.06 2.06-.94-2.06-.94-.94-2.06-.94 2.06-2.06.94zm-11 1L8.5 8.5l.94-2.06 2.06-.94-2.06-.94L8.5 2.5l-.94 2.06-2.06.94zm10 10l.94 2.06.94-2.06 2.06-.94-2.06-.94-.94-2.06-.94 2.06-2.06.94z\"/><path d=\"M17.41 7.96l-1.37-1.37c-.4-.4-.92-.59-1.43-.59-.52 0-1.04.2-1.43.59L10.3 9.45l-7.72 7.72c-.78.78-.78 2.05 0 2.83L4 21.41c.39.39.9.59 1.41.59.51 0 1.02-.2 1.41-.59l7.78-7.78 2.81-2.81c.8-.78.8-2.07 0-2.86zM5.41 20L4 18.59l7.72-7.72 1.47 1.35L5.41 20z\"/>\n",
              "  </svg>\n",
              "      </button>\n",
              "      \n",
              "  <style>\n",
              "    .colab-df-container {\n",
              "      display:flex;\n",
              "      flex-wrap:wrap;\n",
              "      gap: 12px;\n",
              "    }\n",
              "\n",
              "    .colab-df-convert {\n",
              "      background-color: #E8F0FE;\n",
              "      border: none;\n",
              "      border-radius: 50%;\n",
              "      cursor: pointer;\n",
              "      display: none;\n",
              "      fill: #1967D2;\n",
              "      height: 32px;\n",
              "      padding: 0 0 0 0;\n",
              "      width: 32px;\n",
              "    }\n",
              "\n",
              "    .colab-df-convert:hover {\n",
              "      background-color: #E2EBFA;\n",
              "      box-shadow: 0px 1px 2px rgba(60, 64, 67, 0.3), 0px 1px 3px 1px rgba(60, 64, 67, 0.15);\n",
              "      fill: #174EA6;\n",
              "    }\n",
              "\n",
              "    [theme=dark] .colab-df-convert {\n",
              "      background-color: #3B4455;\n",
              "      fill: #D2E3FC;\n",
              "    }\n",
              "\n",
              "    [theme=dark] .colab-df-convert:hover {\n",
              "      background-color: #434B5C;\n",
              "      box-shadow: 0px 1px 3px 1px rgba(0, 0, 0, 0.15);\n",
              "      filter: drop-shadow(0px 1px 2px rgba(0, 0, 0, 0.3));\n",
              "      fill: #FFFFFF;\n",
              "    }\n",
              "  </style>\n",
              "\n",
              "      <script>\n",
              "        const buttonEl =\n",
              "          document.querySelector('#df-1765b3fc-8cb3-4119-83d1-9f52cd912114 button.colab-df-convert');\n",
              "        buttonEl.style.display =\n",
              "          google.colab.kernel.accessAllowed ? 'block' : 'none';\n",
              "\n",
              "        async function convertToInteractive(key) {\n",
              "          const element = document.querySelector('#df-1765b3fc-8cb3-4119-83d1-9f52cd912114');\n",
              "          const dataTable =\n",
              "            await google.colab.kernel.invokeFunction('convertToInteractive',\n",
              "                                                     [key], {});\n",
              "          if (!dataTable) return;\n",
              "\n",
              "          const docLinkHtml = 'Like what you see? Visit the ' +\n",
              "            '<a target=\"_blank\" href=https://colab.research.google.com/notebooks/data_table.ipynb>data table notebook</a>'\n",
              "            + ' to learn more about interactive tables.';\n",
              "          element.innerHTML = '';\n",
              "          dataTable['output_type'] = 'display_data';\n",
              "          await google.colab.output.renderOutput(dataTable, element);\n",
              "          const docLink = document.createElement('div');\n",
              "          docLink.innerHTML = docLinkHtml;\n",
              "          element.appendChild(docLink);\n",
              "        }\n",
              "      </script>\n",
              "    </div>\n",
              "  </div>\n",
              "  "
            ]
          },
          "metadata": {},
          "execution_count": 23
        }
      ]
    },
    {
      "cell_type": "markdown",
      "source": [
        "Проведите мини-максную нормализацию данных. В ячейке ниже вместо ??? вставьте необходимый код"
      ],
      "metadata": {
        "id": "6MD_AQLHPO5D"
      }
    },
    {
      "cell_type": "code",
      "source": [
        "from sklearn import preprocessing\n",
        "X = data.drop('Class', 1)   # отделим признаки от целевой переменной\n",
        "feature_names = X.columns\n",
        "transformer = preprocessing.MinMaxScaler()   # инициализируем класс для нормализации данных. Воспользуемся мини-максной нормализацией\n",
        "transformer.fit(X)   # обучение \"трансформера\" заключается в нахождении экстремумов признаков\n",
        "X = transformer.transform(X)   # проведем нормализацию данных\n",
        "y = data['Class']   # получим целевую переменную\n",
        "data = pd.DataFrame(X, columns = feature_names)   # соберем DataFrame из нормализованных признаков\n",
        "data = data.join(y)   # объединим целевую переменную с нормализованными признаками\n",
        "data.head()"
      ],
      "metadata": {
        "id": "HMMiwj_-6krc",
        "colab": {
          "base_uri": "https://localhost:8080/",
          "height": 206
        },
        "outputId": "7ca6a6fd-d5ef-4071-bed6-cca4f1516ad2"
      },
      "execution_count": null,
      "outputs": [
        {
          "output_type": "execute_result",
          "data": {
            "text/plain": [
              "         a0        a1        a2        a3        a4        a5        a6  \\\n",
              "0  0.104284  0.350687  0.170102  0.001561  0.564460  0.351424  0.008186   \n",
              "1  0.220158  0.301623  0.322004  0.002523  0.547677  0.154471  0.326523   \n",
              "2  0.171155  0.397817  0.336469  0.000028  0.360042  0.454068  0.035754   \n",
              "3  0.214209  0.487273  0.228827  0.000019  0.345968  0.411506  0.082319   \n",
              "4  0.221240  0.511448  0.410361  0.000523  0.282431  0.629780  0.000000   \n",
              "\n",
              "         a7        a8        a9       a10       a11           a12       a13  \\\n",
              "0  0.574316  0.460513  0.136865  0.522924  0.398259  4.894144e-06  0.199148   \n",
              "1  0.310120  0.543895  0.099820  0.414264  0.362705  0.000000e+00  0.232301   \n",
              "2  0.449431  0.482889  0.125923  0.451347  0.309411  1.893568e-07  0.249163   \n",
              "3  0.318838  0.457759  0.086193  0.508704  0.506626  0.000000e+00  0.595482   \n",
              "4  0.396203  0.335047  0.148589  0.387760  0.237361  4.857729e-06  0.064917   \n",
              "\n",
              "        a14       a15       a16       a17  Class  \n",
              "0  0.921034  0.212375  0.211576  0.126546      1  \n",
              "1  0.829914  0.012458  0.280510  0.266655      1  \n",
              "2  0.914593  0.000000  0.309462  0.114193      1  \n",
              "3  0.994067  0.498037  0.843869  0.320862      1  \n",
              "4  0.699412  0.098984  0.090984  0.360639      1  "
            ],
            "text/html": [
              "\n",
              "  <div id=\"df-01163d3a-274b-4df1-a467-597f1dd54ee0\">\n",
              "    <div class=\"colab-df-container\">\n",
              "      <div>\n",
              "<style scoped>\n",
              "    .dataframe tbody tr th:only-of-type {\n",
              "        vertical-align: middle;\n",
              "    }\n",
              "\n",
              "    .dataframe tbody tr th {\n",
              "        vertical-align: top;\n",
              "    }\n",
              "\n",
              "    .dataframe thead th {\n",
              "        text-align: right;\n",
              "    }\n",
              "</style>\n",
              "<table border=\"1\" class=\"dataframe\">\n",
              "  <thead>\n",
              "    <tr style=\"text-align: right;\">\n",
              "      <th></th>\n",
              "      <th>a0</th>\n",
              "      <th>a1</th>\n",
              "      <th>a2</th>\n",
              "      <th>a3</th>\n",
              "      <th>a4</th>\n",
              "      <th>a5</th>\n",
              "      <th>a6</th>\n",
              "      <th>a7</th>\n",
              "      <th>a8</th>\n",
              "      <th>a9</th>\n",
              "      <th>a10</th>\n",
              "      <th>a11</th>\n",
              "      <th>a12</th>\n",
              "      <th>a13</th>\n",
              "      <th>a14</th>\n",
              "      <th>a15</th>\n",
              "      <th>a16</th>\n",
              "      <th>a17</th>\n",
              "      <th>Class</th>\n",
              "    </tr>\n",
              "  </thead>\n",
              "  <tbody>\n",
              "    <tr>\n",
              "      <th>0</th>\n",
              "      <td>0.104284</td>\n",
              "      <td>0.350687</td>\n",
              "      <td>0.170102</td>\n",
              "      <td>0.001561</td>\n",
              "      <td>0.564460</td>\n",
              "      <td>0.351424</td>\n",
              "      <td>0.008186</td>\n",
              "      <td>0.574316</td>\n",
              "      <td>0.460513</td>\n",
              "      <td>0.136865</td>\n",
              "      <td>0.522924</td>\n",
              "      <td>0.398259</td>\n",
              "      <td>4.894144e-06</td>\n",
              "      <td>0.199148</td>\n",
              "      <td>0.921034</td>\n",
              "      <td>0.212375</td>\n",
              "      <td>0.211576</td>\n",
              "      <td>0.126546</td>\n",
              "      <td>1</td>\n",
              "    </tr>\n",
              "    <tr>\n",
              "      <th>1</th>\n",
              "      <td>0.220158</td>\n",
              "      <td>0.301623</td>\n",
              "      <td>0.322004</td>\n",
              "      <td>0.002523</td>\n",
              "      <td>0.547677</td>\n",
              "      <td>0.154471</td>\n",
              "      <td>0.326523</td>\n",
              "      <td>0.310120</td>\n",
              "      <td>0.543895</td>\n",
              "      <td>0.099820</td>\n",
              "      <td>0.414264</td>\n",
              "      <td>0.362705</td>\n",
              "      <td>0.000000e+00</td>\n",
              "      <td>0.232301</td>\n",
              "      <td>0.829914</td>\n",
              "      <td>0.012458</td>\n",
              "      <td>0.280510</td>\n",
              "      <td>0.266655</td>\n",
              "      <td>1</td>\n",
              "    </tr>\n",
              "    <tr>\n",
              "      <th>2</th>\n",
              "      <td>0.171155</td>\n",
              "      <td>0.397817</td>\n",
              "      <td>0.336469</td>\n",
              "      <td>0.000028</td>\n",
              "      <td>0.360042</td>\n",
              "      <td>0.454068</td>\n",
              "      <td>0.035754</td>\n",
              "      <td>0.449431</td>\n",
              "      <td>0.482889</td>\n",
              "      <td>0.125923</td>\n",
              "      <td>0.451347</td>\n",
              "      <td>0.309411</td>\n",
              "      <td>1.893568e-07</td>\n",
              "      <td>0.249163</td>\n",
              "      <td>0.914593</td>\n",
              "      <td>0.000000</td>\n",
              "      <td>0.309462</td>\n",
              "      <td>0.114193</td>\n",
              "      <td>1</td>\n",
              "    </tr>\n",
              "    <tr>\n",
              "      <th>3</th>\n",
              "      <td>0.214209</td>\n",
              "      <td>0.487273</td>\n",
              "      <td>0.228827</td>\n",
              "      <td>0.000019</td>\n",
              "      <td>0.345968</td>\n",
              "      <td>0.411506</td>\n",
              "      <td>0.082319</td>\n",
              "      <td>0.318838</td>\n",
              "      <td>0.457759</td>\n",
              "      <td>0.086193</td>\n",
              "      <td>0.508704</td>\n",
              "      <td>0.506626</td>\n",
              "      <td>0.000000e+00</td>\n",
              "      <td>0.595482</td>\n",
              "      <td>0.994067</td>\n",
              "      <td>0.498037</td>\n",
              "      <td>0.843869</td>\n",
              "      <td>0.320862</td>\n",
              "      <td>1</td>\n",
              "    </tr>\n",
              "    <tr>\n",
              "      <th>4</th>\n",
              "      <td>0.221240</td>\n",
              "      <td>0.511448</td>\n",
              "      <td>0.410361</td>\n",
              "      <td>0.000523</td>\n",
              "      <td>0.282431</td>\n",
              "      <td>0.629780</td>\n",
              "      <td>0.000000</td>\n",
              "      <td>0.396203</td>\n",
              "      <td>0.335047</td>\n",
              "      <td>0.148589</td>\n",
              "      <td>0.387760</td>\n",
              "      <td>0.237361</td>\n",
              "      <td>4.857729e-06</td>\n",
              "      <td>0.064917</td>\n",
              "      <td>0.699412</td>\n",
              "      <td>0.098984</td>\n",
              "      <td>0.090984</td>\n",
              "      <td>0.360639</td>\n",
              "      <td>1</td>\n",
              "    </tr>\n",
              "  </tbody>\n",
              "</table>\n",
              "</div>\n",
              "      <button class=\"colab-df-convert\" onclick=\"convertToInteractive('df-01163d3a-274b-4df1-a467-597f1dd54ee0')\"\n",
              "              title=\"Convert this dataframe to an interactive table.\"\n",
              "              style=\"display:none;\">\n",
              "        \n",
              "  <svg xmlns=\"http://www.w3.org/2000/svg\" height=\"24px\"viewBox=\"0 0 24 24\"\n",
              "       width=\"24px\">\n",
              "    <path d=\"M0 0h24v24H0V0z\" fill=\"none\"/>\n",
              "    <path d=\"M18.56 5.44l.94 2.06.94-2.06 2.06-.94-2.06-.94-.94-2.06-.94 2.06-2.06.94zm-11 1L8.5 8.5l.94-2.06 2.06-.94-2.06-.94L8.5 2.5l-.94 2.06-2.06.94zm10 10l.94 2.06.94-2.06 2.06-.94-2.06-.94-.94-2.06-.94 2.06-2.06.94z\"/><path d=\"M17.41 7.96l-1.37-1.37c-.4-.4-.92-.59-1.43-.59-.52 0-1.04.2-1.43.59L10.3 9.45l-7.72 7.72c-.78.78-.78 2.05 0 2.83L4 21.41c.39.39.9.59 1.41.59.51 0 1.02-.2 1.41-.59l7.78-7.78 2.81-2.81c.8-.78.8-2.07 0-2.86zM5.41 20L4 18.59l7.72-7.72 1.47 1.35L5.41 20z\"/>\n",
              "  </svg>\n",
              "      </button>\n",
              "      \n",
              "  <style>\n",
              "    .colab-df-container {\n",
              "      display:flex;\n",
              "      flex-wrap:wrap;\n",
              "      gap: 12px;\n",
              "    }\n",
              "\n",
              "    .colab-df-convert {\n",
              "      background-color: #E8F0FE;\n",
              "      border: none;\n",
              "      border-radius: 50%;\n",
              "      cursor: pointer;\n",
              "      display: none;\n",
              "      fill: #1967D2;\n",
              "      height: 32px;\n",
              "      padding: 0 0 0 0;\n",
              "      width: 32px;\n",
              "    }\n",
              "\n",
              "    .colab-df-convert:hover {\n",
              "      background-color: #E2EBFA;\n",
              "      box-shadow: 0px 1px 2px rgba(60, 64, 67, 0.3), 0px 1px 3px 1px rgba(60, 64, 67, 0.15);\n",
              "      fill: #174EA6;\n",
              "    }\n",
              "\n",
              "    [theme=dark] .colab-df-convert {\n",
              "      background-color: #3B4455;\n",
              "      fill: #D2E3FC;\n",
              "    }\n",
              "\n",
              "    [theme=dark] .colab-df-convert:hover {\n",
              "      background-color: #434B5C;\n",
              "      box-shadow: 0px 1px 3px 1px rgba(0, 0, 0, 0.15);\n",
              "      filter: drop-shadow(0px 1px 2px rgba(0, 0, 0, 0.3));\n",
              "      fill: #FFFFFF;\n",
              "    }\n",
              "  </style>\n",
              "\n",
              "      <script>\n",
              "        const buttonEl =\n",
              "          document.querySelector('#df-01163d3a-274b-4df1-a467-597f1dd54ee0 button.colab-df-convert');\n",
              "        buttonEl.style.display =\n",
              "          google.colab.kernel.accessAllowed ? 'block' : 'none';\n",
              "\n",
              "        async function convertToInteractive(key) {\n",
              "          const element = document.querySelector('#df-01163d3a-274b-4df1-a467-597f1dd54ee0');\n",
              "          const dataTable =\n",
              "            await google.colab.kernel.invokeFunction('convertToInteractive',\n",
              "                                                     [key], {});\n",
              "          if (!dataTable) return;\n",
              "\n",
              "          const docLinkHtml = 'Like what you see? Visit the ' +\n",
              "            '<a target=\"_blank\" href=https://colab.research.google.com/notebooks/data_table.ipynb>data table notebook</a>'\n",
              "            + ' to learn more about interactive tables.';\n",
              "          element.innerHTML = '';\n",
              "          dataTable['output_type'] = 'display_data';\n",
              "          await google.colab.output.renderOutput(dataTable, element);\n",
              "          const docLink = document.createElement('div');\n",
              "          docLink.innerHTML = docLinkHtml;\n",
              "          element.appendChild(docLink);\n",
              "        }\n",
              "      </script>\n",
              "    </div>\n",
              "  </div>\n",
              "  "
            ]
          },
          "metadata": {},
          "execution_count": 24
        }
      ]
    },
    {
      "cell_type": "markdown",
      "source": [
        "Импортируем библиотеки, необходмые для построения классификаторов"
      ],
      "metadata": {
        "id": "BhId49ODPZWR"
      }
    },
    {
      "cell_type": "code",
      "source": [
        "from sklearn.ensemble import AdaBoostClassifier   # импорт алгоритма для построения леса деревьев решений\n",
        "from sklearn.neural_network import MLPClassifier   # импорт алгоритма для построения простейшей нейронной сети\n",
        "from sklearn.metrics import make_scorer   # метод, полезный для получения оценок модели при использовании кросс-валидации\n",
        "from sklearn.metrics import accuracy_score   # метрика общей точности\n",
        "from sklearn.model_selection import cross_validate   # метод, необходмый для проведения кросс-валидации\n",
        "from sklearn.model_selection import StratifiedKFold   # алгоритм кросс-валидации\n",
        "X = data.drop('Class', 1)\n",
        "y = data['Class']"
      ],
      "metadata": {
        "id": "X5lx1HW88I5F"
      },
      "execution_count": null,
      "outputs": []
    },
    {
      "cell_type": "markdown",
      "source": [
        "Обучите модели и замерьте их точность"
      ],
      "metadata": {
        "id": "LwC7qo6PQJzG"
      }
    },
    {
      "cell_type": "code",
      "source": [
        "scoring = {'accuracy': make_scorer(accuracy_score)}  \n",
        "mlp = MLPClassifier(random_state=42)    \n",
        "result = cross_validate(estimator=mlp.fit(X, y),\n",
        "                            X=X, y=y,\n",
        "                            scoring=scoring, cv=StratifiedKFold(5), n_jobs=-1,\n",
        "                            return_train_score=False)\n",
        "print('Точность классификатора = {}%'.format(round(100 * np.mean(result['test_accuracy']), 2)))"
      ],
      "metadata": {
        "id": "imdkA9AE9FKA",
        "colab": {
          "base_uri": "https://localhost:8080/"
        },
        "outputId": "88c8a136-1c92-4fff-ac6c-398ee86eadf9"
      },
      "execution_count": null,
      "outputs": [
        {
          "output_type": "stream",
          "name": "stderr",
          "text": [
            "/usr/local/lib/python3.9/dist-packages/sklearn/neural_network/_multilayer_perceptron.py:686: ConvergenceWarning: Stochastic Optimizer: Maximum iterations (200) reached and the optimization hasn't converged yet.\n",
            "  warnings.warn(\n"
          ]
        },
        {
          "output_type": "stream",
          "name": "stdout",
          "text": [
            "Точность классификатора = 75.11%\n"
          ]
        }
      ]
    },
    {
      "cell_type": "code",
      "source": [
        "scoring = {'accuracy': make_scorer(accuracy_score)}  \n",
        "trees = AdaBoostClassifier(n_estimators=50)    \n",
        "result = cross_validate(estimator=trees.fit(X, y),\n",
        "                            X=X, y=y,\n",
        "                            scoring=scoring, cv=StratifiedKFold(5), n_jobs=-1,\n",
        "                            return_train_score=False)\n",
        "print('Точность классификатора = {}%'.format(round(100 * np.mean(result['test_accuracy']), 2)))"
      ],
      "metadata": {
        "id": "_-eD3_Mh7x8E",
        "colab": {
          "base_uri": "https://localhost:8080/"
        },
        "outputId": "534863c8-d468-4ee8-8637-f0b2502d011f"
      },
      "execution_count": null,
      "outputs": [
        {
          "output_type": "stream",
          "name": "stdout",
          "text": [
            "Точность классификатора = 91.77%\n"
          ]
        }
      ]
    },
    {
      "cell_type": "markdown",
      "source": [
        "Разбейте данные на обучающую и тестовую части в отношении 80:20 при помощи кода ниже."
      ],
      "metadata": {
        "id": "9ejB1kn9QTea"
      }
    },
    {
      "cell_type": "code",
      "source": [
        "from sklearn.model_selection import train_test_split\n",
        "X_train, X_test, y_train, y_test = train_test_split(X, y, train_size=0.8, random_state=24, shuffle=True, stratify=y)"
      ],
      "metadata": {
        "id": "BVnIi5es-5D1"
      },
      "execution_count": null,
      "outputs": []
    },
    {
      "cell_type": "markdown",
      "source": [
        "Постройте матрицы ошибок для обоих классификаторов"
      ],
      "metadata": {
        "id": "9QzR_VPgQiQN"
      }
    },
    {
      "cell_type": "code",
      "source": [
        "from sklearn.metrics import ConfusionMatrixDisplay\n",
        "disp = ConfusionMatrixDisplay.from_estimator(\n",
        "        mlp,\n",
        "        X,\n",
        "        y,\n",
        "        cmap=plt.cm.Blues,\n",
        "        normalize='true')\n",
        "disp = ConfusionMatrixDisplay.from_estimator(\n",
        "        trees,\n",
        "        X,\n",
        "        y,\n",
        "        cmap=plt.cm.Greens,\n",
        "        normalize='true')"
      ],
      "metadata": {
        "id": "OX_mm7vc9DZG",
        "colab": {
          "base_uri": "https://localhost:8080/",
          "height": 541
        },
        "outputId": "609e85bf-fbad-453c-e353-f5a7f6abcd12"
      },
      "execution_count": null,
      "outputs": [
        {
          "output_type": "display_data",
          "data": {
            "text/plain": [
              "<Figure size 432x288 with 2 Axes>"
            ],
            "image/png": "[encoded data removed]"
          },
          "metadata": {
            "needs_background": "light"
          }
        },
        {
          "output_type": "display_data",
          "data": {
            "text/plain": [
              "<Figure size 432x288 with 2 Axes>"
            ],
            "image/png": "[encoded data removed]"
          },
          "metadata": {
            "needs_background": "light"
          }
        }
      ]
    },
    {
      "cell_type": "markdown",
      "source": [
        "Сгенерируйте диаграмму разброса для переменной X"
      ],
      "metadata": {
        "id": "ehPNrw8RQoGV"
      }
    },
    {
      "cell_type": "code",
      "source": [
        "import plotly.express as px\n",
        "fig = px.box(X, points=\"all\")\n",
        "fig.show()"
      ],
      "metadata": {
        "id": "Pk9k0ME7A_8m",
        "colab": {
          "base_uri": "https://localhost:8080/",
          "height": 542
        },
        "outputId": "62e5b507-9d24-4bd6-a441-2219fcdb5bd1"
      },
      "execution_count": null,
      "outputs": [
        {
          "output_type": "display_data",
          "data": {
            "text/html": [
              "<html>\n",
              "<head><meta charset=\"utf-8\" /></head>\n",
              "<body>\n",
              "    <div>            <script src=\"https://cdnjs.cloudflare.com/ajax/libs/mathjax/2.7.5/MathJax.js?config=TeX-AMS-MML_SVG\"></script><script type=\"text/javascript\">if (window.MathJax) {MathJax.Hub.Config({SVG: {font: \"STIX-Web\"}});}</script>                <script type=\"text/javascript\">window.PlotlyConfig = {MathJaxConfig: 'local'};</script>\n",
              "        <script src=\"https://cdn.plot.ly/plotly-2.8.3.min.js\"></script>                <div id=\"67efba4b-a654-4863-89be-e505af76080b\" class=\"plotly-graph-div\" style=\"height:525px; width:100%;\"></div>            <script type=\"text/javascript\">                                    window.PLOTLYENV=window.PLOTLYENV || {};                                    if (document.getElementById(\"67efba4b-a654-4863-89be-e505af76080b\")) {                    Plotly.newPlot(                        \"67efba4b-a654-4863-89be-e505af76080b\",                        [{\"alignmentgroup\":\"True\",\"boxpoints\":\"all\",\"hovertemplate\":\"variable=%{x}<br>value=%{y}<extra></extra>\",\"legendgroup\":\"\",\"marker\":{\"color\":\"#636efa\"},\"name\":\"\",\"notched\":false,\"offsetgroup\":\"\",\"orientation\":\"v\",\"showlegend\":false,\"x\":[\"a0\",\"a0\",\"a0\",\"a0\",\"a0\",\"a0\",\"a0\",\"a0\",\"a0\",\"a0\",\"a0\",\"a0\",\"a0\",\"a0\",\"a0\",\"a0\",\"a0\",\"a0\",\"a0\",\"a0\",\"a0\",\"a0\",\"a0\",\"a0\",\"a0\",\"a0\",\"a0\",\"a0\",\"a0\",\"a0\",\"a0\",\"a0\",\"a0\",\"a0\",\"a0\",\"a0\",\"a0\",\"a0\",\"a0\",\"a0\",\"a0\",\"a0\",\"a0\",\"a0\",\"a0\",\"a0\",\"a0\",\"a0\",\"a0\",\"a0\",\"a0\",\"a0\",\"a0\",\"a0\",\"a0\",\"a0\",\"a0\",\"a0\",\"a0\",\"a0\",\"a0\",\"a0\",\"a0\",\"a0\",\"a0\",\"a0\",\"a0\",\"a0\",\"a0\",\"a0\",\"a0\",\"a0\",\"a0\",\"a0\",\"a0\",\"a0\",\"a0\",\"a0\",\"a0\",\"a0\",\"a0\",\"a0\",\"a0\",\"a0\",\"a0\",\"a0\",\"a0\",\"a0\",\"a0\",\"a0\",\"a0\",\"a0\",\"a0\",\"a0\",\"a0\",\"a0\",\"a0\",\"a0\",\"a0\",\"a0\",\"a0\",\"a0\",\"a0\",\"a0\",\"a0\",\"a0\",\"a0\",\"a0\",\"a0\",\"a0\",\"a0\",\"a0\",\"a0\",\"a0\",\"a0\",\"a0\",\"a0\",\"a0\",\"a0\",\"a0\",\"a0\",\"a0\",\"a0\",\"a0\",\"a0\",\"a0\",\"a0\",\"a0\",\"a0\",\"a0\",\"a0\",\"a0\",\"a0\",\"a0\",\"a0\",\"a0\",\"a0\",\"a0\",\"a0\",\"a0\",\"a0\",\"a0\",\"a0\",\"a0\",\"a0\",\"a0\",\"a0\",\"a0\",\"a0\",\"a0\",\"a0\",\"a0\",\"a0\",\"a0\",\"a0\",\"a0\",\"a0\",\"a0\",\"a0\",\"a0\",\"a0\",\"a0\",\"a0\",\"a0\",\"a0\",\"a0\",\"a0\",\"a0\",\"a0\",\"a0\",\"a0\",\"a0\",\"a0\",\"a0\",\"a0\",\"a0\",\"a0\",\"a0\",\"a0\",\"a0\",\"a0\",\"a0\",\"a0\",\"a0\",\"a0\",\"a0\",\"a0\",\"a0\",\"a0\",\"a0\",\"a0\",\"a0\",\"a0\",\"a0\",\"a0\",\"a0\",\"a0\",\"a0\",\"a0\",\"a0\",\"a0\",\"a0\",\"a0\",\"a0\",\"a0\",\"a0\",\"a0\",\"a0\",\"a0\",\"a0\",\"a0\",\"a0\",\"a0\",\"a0\",\"a0\",\"a0\",\"a0\",\"a0\",\"a0\",\"a0\",\"a0\",\"a0\",\"a0\",\"a0\",\"a0\",\"a0\",\"a0\",\"a0\",\"a0\",\"a0\",\"a0\",\"a0\",\"a0\",\"a0\",\"a0\",\"a0\",\"a0\",\"a0\",\"a0\",\"a0\",\"a0\",\"a0\",\"a0\",\"a0\",\"a0\",\"a0\",\"a0\",\"a0\",\"a0\",\"a0\",\"a0\",\"a0\",\"a0\",\"a0\",\"a0\",\"a0\",\"a0\",\"a0\",\"a0\",\"a0\",\"a0\",\"a0\",\"a0\",\"a0\",\"a0\",\"a0\",\"a0\",\"a0\",\"a0\",\"a0\",\"a0\",\"a0\",\"a0\",\"a0\",\"a0\",\"a0\",\"a0\",\"a0\",\"a0\",\"a0\",\"a0\",\"a0\",\"a0\",\"a0\",\"a0\",\"a0\",\"a0\",\"a0\",\"a0\",\"a0\",\"a0\",\"a0\",\"a0\",\"a0\",\"a0\",\"a0\",\"a0\",\"a0\",\"a0\",\"a0\",\"a0\",\"a0\",\"a0\",\"a0\",\"a0\",\"a0\",\"a0\",\"a0\",\"a0\",\"a0\",\"a0\",\"a0\",\"a0\",\"a0\",\"a0\",\"a0\",\"a0\",\"a0\",\"a0\",\"a0\",\"a0\",\"a0\",\"a0\",\"a0\",\"a0\",\"a0\",\"a0\",\"a0\",\"a0\",\"a0\",\"a0\",\"a0\",\"a0\",\"a0\",\"a0\",\"a0\",\"a0\",\"a0\",\"a0\",\"a0\",\"a0\",\"a0\",\"a0\",\"a0\",\"a0\",\"a0\",\"a0\",\"a0\",\"a0\",\"a0\",\"a0\",\"a0\",\"a0\",\"a0\",\"a0\",\"a0\",\"a0\",\"a0\",\"a0\",\"a0\",\"a0\",\"a0\",\"a0\",\"a0\",\"a0\",\"a0\",\"a0\",\"a0\",\"a0\",\"a0\",\"a0\",\"a0\",\"a0\",\"a0\",\"a0\",\"a0\",\"a0\",\"a0\",\"a0\",\"a0\",\"a0\",\"a0\",\"a0\",\"a0\",\"a0\",\"a0\",\"a0\",\"a0\",\"a0\",\"a0\",\"a0\",\"a0\",\"a0\",\"a0\",\"a0\",\"a0\",\"a0\",\"a0\",\"a0\",\"a0\",\"a0\",\"a0\",\"a0\",\"a0\",\"a0\",\"a0\",\"a0\",\"a0\",\"a0\",\"a0\",\"a0\",\"a0\",\"a0\",\"a0\",\"a0\",\"a0\",\"a0\",\"a0\",\"a0\",\"a0\",\"a0\",\"a0\",\"a0\",\"a0\",\"a0\",\"a0\",\"a0\",\"a0\",\"a0\",\"a0\",\"a0\",\"a0\",\"a0\",\"a0\",\"a0\",\"a0\",\"a0\",\"a0\",\"a0\",\"a0\",\"a0\",\"a0\",\"a0\",\"a0\",\"a0\",\"a0\",\"a0\",\"a0\",\"a0\",\"a0\",\"a0\",\"a0\",\"a0\",\"a0\",\"a0\",\"a0\",\"a0\",\"a0\",\"a0\",\"a0\",\"a0\",\"a0\",\"a0\",\"a0\",\"a0\",\"a0\",\"a0\",\"a0\",\"a0\",\"a0\",\"a0\",\"a0\",\"a0\",\"a0\",\" a1\",\" a1\",\" a1\",\" a1\",\" a1\",\" a1\",\" a1\",\" a1\",\" a1\",\" a1\",\" a1\",\" a1\",\" a1\",\" a1\",\" a1\",\" a1\",\" a1\",\" a1\",\" a1\",\" a1\",\" a1\",\" a1\",\" a1\",\" a1\",\" a1\",\" a1\",\" a1\",\" a1\",\" a1\",\" a1\",\" a1\",\" a1\",\" a1\",\" a1\",\" a1\",\" a1\",\" a1\",\" a1\",\" a1\",\" a1\",\" a1\",\" a1\",\" a1\",\" a1\",\" a1\",\" a1\",\" a1\",\" a1\",\" a1\",\" a1\",\" a1\",\" a1\",\" a1\",\" a1\",\" a1\",\" a1\",\" a1\",\" a1\",\" a1\",\" a1\",\" a1\",\" a1\",\" a1\",\" a1\",\" a1\",\" a1\",\" a1\",\" a1\",\" a1\",\" a1\",\" a1\",\" a1\",\" a1\",\" a1\",\" a1\",\" a1\",\" a1\",\" a1\",\" a1\",\" a1\",\" a1\",\" a1\",\" a1\",\" a1\",\" a1\",\" a1\",\" a1\",\" a1\",\" a1\",\" a1\",\" a1\",\" a1\",\" a1\",\" a1\",\" a1\",\" a1\",\" a1\",\" a1\",\" a1\",\" a1\",\" a1\",\" a1\",\" a1\",\" a1\",\" a1\",\" a1\",\" a1\",\" a1\",\" a1\",\" a1\",\" a1\",\" a1\",\" a1\",\" a1\",\" a1\",\" a1\",\" a1\",\" a1\",\" a1\",\" a1\",\" a1\",\" a1\",\" a1\",\" a1\",\" a1\",\" a1\",\" a1\",\" a1\",\" a1\",\" a1\",\" a1\",\" a1\",\" a1\",\" a1\",\" a1\",\" a1\",\" a1\",\" a1\",\" a1\",\" a1\",\" a1\",\" a1\",\" a1\",\" a1\",\" a1\",\" a1\",\" a1\",\" a1\",\" a1\",\" a1\",\" a1\",\" a1\",\" a1\",\" a1\",\" a1\",\" a1\",\" a1\",\" a1\",\" a1\",\" a1\",\" a1\",\" a1\",\" a1\",\" a1\",\" a1\",\" a1\",\" a1\",\" a1\",\" a1\",\" a1\",\" a1\",\" a1\",\" a1\",\" a1\",\" a1\",\" a1\",\" a1\",\" a1\",\" a1\",\" a1\",\" a1\",\" a1\",\" a1\",\" a1\",\" a1\",\" a1\",\" a1\",\" a1\",\" a1\",\" a1\",\" a1\",\" a1\",\" a1\",\" a1\",\" a1\",\" a1\",\" a1\",\" a1\",\" a1\",\" a1\",\" a1\",\" a1\",\" a1\",\" a1\",\" a1\",\" a1\",\" a1\",\" a1\",\" a1\",\" a1\",\" a1\",\" a1\",\" a1\",\" a1\",\" a1\",\" a1\",\" a1\",\" a1\",\" a1\",\" a1\",\" a1\",\" a1\",\" a1\",\" a1\",\" a1\",\" a1\",\" a1\",\" a1\",\" a1\",\" a1\",\" a1\",\" a1\",\" a1\",\" a1\",\" a1\",\" a1\",\" a1\",\" a1\",\" a1\",\" a1\",\" a1\",\" a1\",\" a1\",\" a1\",\" a1\",\" a1\",\" a1\",\" a1\",\" a1\",\" a1\",\" a1\",\" a1\",\" a1\",\" a1\",\" a1\",\" a1\",\" a1\",\" a1\",\" a1\",\" a1\",\" a1\",\" a1\",\" a1\",\" a1\",\" a1\",\" a1\",\" a1\",\" a1\",\" a1\",\" a1\",\" a1\",\" a1\",\" a1\",\" a1\",\" a1\",\" a1\",\" a1\",\" a1\",\" a1\",\" a1\",\" a1\",\" a1\",\" a1\",\" a1\",\" a1\",\" a1\",\" a1\",\" a1\",\" a1\",\" a1\",\" a1\",\" a1\",\" a1\",\" a1\",\" a1\",\" a1\",\" a1\",\" a1\",\" a1\",\" a1\",\" a1\",\" a1\",\" a1\",\" a1\",\" a1\",\" a1\",\" a1\",\" a1\",\" a1\",\" a1\",\" a1\",\" a1\",\" a1\",\" a1\",\" a1\",\" a1\",\" a1\",\" a1\",\" a1\",\" a1\",\" a1\",\" a1\",\" a1\",\" a1\",\" a1\",\" a1\",\" a1\",\" a1\",\" a1\",\" a1\",\" a1\",\" a1\",\" a1\",\" a1\",\" a1\",\" a1\",\" a1\",\" a1\",\" a1\",\" a1\",\" a1\",\" a1\",\" a1\",\" a1\",\" a1\",\" a1\",\" a1\",\" a1\",\" a1\",\" a1\",\" a1\",\" a1\",\" a1\",\" a1\",\" a1\",\" a1\",\" a1\",\" a1\",\" a1\",\" a1\",\" a1\",\" a1\",\" a1\",\" a1\",\" a1\",\" a1\",\" a1\",\" a1\",\" a1\",\" a1\",\" a1\",\" a1\",\" a1\",\" a1\",\" a1\",\" a1\",\" a1\",\" a1\",\" a1\",\" a1\",\" a1\",\" a1\",\" a1\",\" a1\",\" a1\",\" a1\",\" a1\",\" a1\",\" a1\",\" a1\",\" a1\",\" a1\",\" a1\",\" a1\",\" a1\",\" a1\",\" a1\",\" a1\",\" a1\",\" a1\",\" a1\",\" a1\",\" a1\",\" a1\",\" a1\",\" a1\",\" a1\",\" a1\",\" a1\",\" a1\",\" a1\",\" a1\",\" a1\",\" a1\",\" a1\",\" a1\",\" a1\",\" a1\",\" a1\",\" a1\",\" a1\",\" a1\",\" a1\",\" a1\",\" a1\",\" a1\",\" a1\",\" a1\",\" a1\",\" a1\",\" a1\",\" a1\",\" a1\",\" a1\",\" a1\",\" a1\",\" a1\",\" a1\",\" a1\",\" a1\",\" a1\",\" a1\",\" a1\",\" a1\",\" a1\",\" a1\",\" a1\",\" a1\",\" a1\",\" a1\",\" a1\",\" a1\",\" a1\",\" a1\",\" a1\",\" a1\",\" a1\",\" a1\",\" a1\",\" a1\",\" a1\",\" a1\",\" a1\",\" a1\",\" a1\",\" a1\",\" a1\",\" a1\",\" a1\",\" a1\",\" a1\",\" a1\",\" a1\",\" a1\",\" a2\",\" a2\",\" a2\",\" a2\",\" a2\",\" a2\",\" a2\",\" a2\",\" a2\",\" a2\",\" a2\",\" a2\",\" a2\",\" a2\",\" a2\",\" a2\",\" a2\",\" a2\",\" a2\",\" a2\",\" a2\",\" a2\",\" a2\",\" a2\",\" a2\",\" a2\",\" a2\",\" a2\",\" a2\",\" a2\",\" a2\",\" a2\",\" a2\",\" a2\",\" a2\",\" a2\",\" a2\",\" a2\",\" a2\",\" a2\",\" a2\",\" a2\",\" a2\",\" a2\",\" a2\",\" a2\",\" a2\",\" a2\",\" a2\",\" a2\",\" a2\",\" a2\",\" a2\",\" a2\",\" a2\",\" a2\",\" a2\",\" a2\",\" a2\",\" a2\",\" a2\",\" a2\",\" a2\",\" a2\",\" a2\",\" a2\",\" a2\",\" a2\",\" a2\",\" a2\",\" a2\",\" a2\",\" a2\",\" a2\",\" a2\",\" a2\",\" a2\",\" a2\",\" a2\",\" a2\",\" a2\",\" a2\",\" a2\",\" a2\",\" a2\",\" a2\",\" a2\",\" a2\",\" a2\",\" a2\",\" a2\",\" a2\",\" a2\",\" a2\",\" a2\",\" a2\",\" a2\",\" a2\",\" a2\",\" a2\",\" a2\",\" a2\",\" a2\",\" a2\",\" a2\",\" a2\",\" a2\",\" a2\",\" a2\",\" a2\",\" a2\",\" a2\",\" a2\",\" a2\",\" a2\",\" a2\",\" a2\",\" a2\",\" a2\",\" a2\",\" a2\",\" a2\",\" a2\",\" a2\",\" a2\",\" a2\",\" a2\",\" a2\",\" a2\",\" a2\",\" a2\",\" a2\",\" a2\",\" a2\",\" a2\",\" a2\",\" a2\",\" a2\",\" a2\",\" a2\",\" a2\",\" a2\",\" a2\",\" a2\",\" a2\",\" a2\",\" a2\",\" a2\",\" a2\",\" a2\",\" a2\",\" a2\",\" a2\",\" a2\",\" a2\",\" a2\",\" a2\",\" a2\",\" a2\",\" a2\",\" a2\",\" a2\",\" a2\",\" a2\",\" a2\",\" a2\",\" a2\",\" a2\",\" a2\",\" a2\",\" a2\",\" a2\",\" a2\",\" a2\",\" a2\",\" a2\",\" a2\",\" a2\",\" a2\",\" a2\",\" a2\",\" a2\",\" a2\",\" a2\",\" a2\",\" a2\",\" a2\",\" a2\",\" a2\",\" a2\",\" a2\",\" a2\",\" a2\",\" a2\",\" a2\",\" a2\",\" a2\",\" a2\",\" a2\",\" a2\",\" a2\",\" a2\",\" a2\",\" a2\",\" a2\",\" a2\",\" a2\",\" a2\",\" a2\",\" a2\",\" a2\",\" a2\",\" a2\",\" a2\",\" a2\",\" a2\",\" a2\",\" a2\",\" a2\",\" a2\",\" a2\",\" a2\",\" a2\",\" a2\",\" a2\",\" a2\",\" a2\",\" a2\",\" a2\",\" a2\",\" a2\",\" a2\",\" a2\",\" a2\",\" a2\",\" a2\",\" a2\",\" a2\",\" a2\",\" a2\",\" a2\",\" a2\",\" a2\",\" a2\",\" a2\",\" a2\",\" a2\",\" a2\",\" a2\",\" a2\",\" a2\",\" a2\",\" a2\",\" a2\",\" a2\",\" a2\",\" a2\",\" a2\",\" a2\",\" a2\",\" a2\",\" a2\",\" a2\",\" a2\",\" a2\",\" a2\",\" a2\",\" a2\",\" a2\",\" a2\",\" a2\",\" a2\",\" a2\",\" a2\",\" a2\",\" a2\",\" a2\",\" a2\",\" a2\",\" a2\",\" a2\",\" a2\",\" a2\",\" a2\",\" a2\",\" a2\",\" a2\",\" a2\",\" a2\",\" a2\",\" a2\",\" a2\",\" a2\",\" a2\",\" a2\",\" a2\",\" a2\",\" a2\",\" a2\",\" a2\",\" a2\",\" a2\",\" a2\",\" a2\",\" a2\",\" a2\",\" a2\",\" a2\",\" a2\",\" a2\",\" a2\",\" a2\",\" a2\",\" a2\",\" a2\",\" a2\",\" a2\",\" a2\",\" a2\",\" a2\",\" a2\",\" a2\",\" a2\",\" a2\",\" a2\",\" a2\",\" a2\",\" a2\",\" a2\",\" a2\",\" a2\",\" a2\",\" a2\",\" a2\",\" a2\",\" a2\",\" a2\",\" a2\",\" a2\",\" a2\",\" a2\",\" a2\",\" a2\",\" a2\",\" a2\",\" a2\",\" a2\",\" a2\",\" a2\",\" a2\",\" a2\",\" a2\",\" a2\",\" a2\",\" a2\",\" a2\",\" a2\",\" a2\",\" a2\",\" a2\",\" a2\",\" a2\",\" a2\",\" a2\",\" a2\",\" a2\",\" a2\",\" a2\",\" a2\",\" a2\",\" a2\",\" a2\",\" a2\",\" a2\",\" a2\",\" a2\",\" a2\",\" a2\",\" a2\",\" a2\",\" a2\",\" a2\",\" a2\",\" a2\",\" a2\",\" a2\",\" a2\",\" a2\",\" a2\",\" a2\",\" a2\",\" a2\",\" a2\",\" a2\",\" a2\",\" a2\",\" a2\",\" a2\",\" a2\",\" a2\",\" a2\",\" a2\",\" a2\",\" a2\",\" a2\",\" a2\",\" a2\",\" a2\",\" a2\",\" a2\",\" a2\",\" a2\",\" a2\",\" a2\",\" a2\",\" a2\",\" a2\",\" a2\",\" a2\",\" a2\",\" a2\",\" a2\",\" a2\",\" a2\",\" a2\",\" a2\",\" a2\",\" a2\",\" a2\",\" a2\",\" a2\",\" a2\",\" a2\",\" a2\",\" a2\",\" a2\",\" a2\",\" a2\",\" a2\",\" a2\",\" a2\",\" a2\",\" a2\",\" a2\",\" a2\",\" a2\",\" a2\",\" a2\",\" a2\",\" a2\",\" a2\",\" a2\",\" a2\",\" a2\",\" a2\",\" a2\",\" a2\",\" a2\",\" a2\",\" a2\",\" a2\",\" a2\",\" a2\",\" a2\",\" a2\",\" a2\",\" a2\",\" a2\",\" a2\",\" a2\",\" a2\",\" a2\",\" a2\",\" a2\",\" a3\",\" a3\",\" a3\",\" a3\",\" a3\",\" a3\",\" a3\",\" a3\",\" a3\",\" a3\",\" a3\",\" a3\",\" a3\",\" a3\",\" a3\",\" a3\",\" a3\",\" a3\",\" a3\",\" a3\",\" a3\",\" a3\",\" a3\",\" a3\",\" a3\",\" a3\",\" a3\",\" a3\",\" a3\",\" a3\",\" a3\",\" a3\",\" a3\",\" a3\",\" a3\",\" a3\",\" a3\",\" a3\",\" a3\",\" a3\",\" a3\",\" a3\",\" a3\",\" a3\",\" a3\",\" a3\",\" a3\",\" a3\",\" a3\",\" a3\",\" a3\",\" a3\",\" a3\",\" a3\",\" a3\",\" a3\",\" a3\",\" a3\",\" a3\",\" a3\",\" a3\",\" a3\",\" a3\",\" a3\",\" a3\",\" a3\",\" a3\",\" a3\",\" a3\",\" a3\",\" a3\",\" a3\",\" a3\",\" a3\",\" a3\",\" a3\",\" a3\",\" a3\",\" a3\",\" a3\",\" a3\",\" a3\",\" a3\",\" a3\",\" a3\",\" a3\",\" a3\",\" a3\",\" a3\",\" a3\",\" a3\",\" a3\",\" a3\",\" a3\",\" a3\",\" a3\",\" a3\",\" a3\",\" a3\",\" a3\",\" a3\",\" a3\",\" a3\",\" a3\",\" a3\",\" a3\",\" a3\",\" a3\",\" a3\",\" a3\",\" a3\",\" a3\",\" a3\",\" a3\",\" a3\",\" a3\",\" a3\",\" a3\",\" a3\",\" a3\",\" a3\",\" a3\",\" a3\",\" a3\",\" a3\",\" a3\",\" a3\",\" a3\",\" a3\",\" a3\",\" a3\",\" a3\",\" a3\",\" a3\",\" a3\",\" a3\",\" a3\",\" a3\",\" a3\",\" a3\",\" a3\",\" a3\",\" a3\",\" a3\",\" a3\",\" a3\",\" a3\",\" a3\",\" a3\",\" a3\",\" a3\",\" a3\",\" a3\",\" a3\",\" a3\",\" a3\",\" a3\",\" a3\",\" a3\",\" a3\",\" a3\",\" a3\",\" a3\",\" a3\",\" a3\",\" a3\",\" a3\",\" a3\",\" a3\",\" a3\",\" a3\",\" a3\",\" a3\",\" a3\",\" a3\",\" a3\",\" a3\",\" a3\",\" a3\",\" a3\",\" a3\",\" a3\",\" a3\",\" a3\",\" a3\",\" a3\",\" a3\",\" a3\",\" a3\",\" a3\",\" a3\",\" a3\",\" a3\",\" a3\",\" a3\",\" a3\",\" a3\",\" a3\",\" a3\",\" a3\",\" a3\",\" a3\",\" a3\",\" a3\",\" a3\",\" a3\",\" a3\",\" a3\",\" a3\",\" a3\",\" a3\",\" a3\",\" a3\",\" a3\",\" a3\",\" a3\",\" a3\",\" a3\",\" a3\",\" a3\",\" a3\",\" a3\",\" a3\",\" a3\",\" a3\",\" a3\",\" a3\",\" a3\",\" a3\",\" a3\",\" a3\",\" a3\",\" a3\",\" a3\",\" a3\",\" a3\",\" a3\",\" a3\",\" a3\",\" a3\",\" a3\",\" a3\",\" a3\",\" a3\",\" a3\",\" a3\",\" a3\",\" a3\",\" a3\",\" a3\",\" a3\",\" a3\",\" a3\",\" a3\",\" a3\",\" a3\",\" a3\",\" a3\",\" a3\",\" a3\",\" a3\",\" a3\",\" a3\",\" a3\",\" a3\",\" a3\",\" a3\",\" a3\",\" a3\",\" a3\",\" a3\",\" a3\",\" a3\",\" a3\",\" a3\",\" a3\",\" a3\",\" a3\",\" a3\",\" a3\",\" a3\",\" a3\",\" a3\",\" a3\",\" a3\",\" a3\",\" a3\",\" a3\",\" a3\",\" a3\",\" a3\",\" a3\",\" a3\",\" a3\",\" a3\",\" a3\",\" a3\",\" a3\",\" a3\",\" a3\",\" a3\",\" a3\",\" a3\",\" a3\",\" a3\",\" a3\",\" a3\",\" a3\",\" a3\",\" a3\",\" a3\",\" a3\",\" a3\",\" a3\",\" a3\",\" a3\",\" a3\",\" a3\",\" a3\",\" a3\",\" a3\",\" a3\",\" a3\",\" a3\",\" a3\",\" a3\",\" a3\",\" a3\",\" a3\",\" a3\",\" a3\",\" a3\",\" a3\",\" a3\",\" a3\",\" a3\",\" a3\",\" a3\",\" a3\",\" a3\",\" a3\",\" a3\",\" a3\",\" a3\",\" a3\",\" a3\",\" a3\",\" a3\",\" a3\",\" a3\",\" a3\",\" a3\",\" a3\",\" a3\",\" a3\",\" a3\",\" a3\",\" a3\",\" a3\",\" a3\",\" a3\",\" a3\",\" a3\",\" a3\",\" a3\",\" a3\",\" a3\",\" a3\",\" a3\",\" a3\",\" a3\",\" a3\",\" a3\",\" a3\",\" a3\",\" a3\",\" a3\",\" a3\",\" a3\",\" a3\",\" a3\",\" a3\",\" a3\",\" a3\",\" a3\",\" a3\",\" a3\",\" a3\",\" a3\",\" a3\",\" a3\",\" a3\",\" a3\",\" a3\",\" a3\",\" a3\",\" a3\",\" a3\",\" a3\",\" a3\",\" a3\",\" a3\",\" a3\",\" a3\",\" a3\",\" a3\",\" a3\",\" a3\",\" a3\",\" a3\",\" a3\",\" a3\",\" a3\",\" a3\",\" a3\",\" a3\",\" a3\",\" a3\",\" a3\",\" a3\",\" a3\",\" a3\",\" a3\",\" a3\",\" a3\",\" a3\",\" a3\",\" a3\",\" a3\",\" a3\",\" a3\",\" a3\",\" a3\",\" a3\",\" a3\",\" a3\",\" a3\",\" a3\",\" a3\",\" a3\",\" a3\",\" a3\",\" a3\",\" a3\",\" a3\",\" a3\",\" a3\",\" a3\",\" a3\",\" a3\",\" a3\",\" a3\",\" a3\",\" a3\",\" a3\",\" a3\",\" a3\",\" a3\",\" a3\",\" a3\",\" a3\",\" a3\",\" a3\",\" a3\",\" a3\",\" a3\",\" a3\",\" a3\",\" a3\",\" a3\",\" a3\",\" a3\",\" a3\",\" a3\",\" a4\",\" a4\",\" a4\",\" a4\",\" a4\",\" a4\",\" a4\",\" a4\",\" a4\",\" a4\",\" a4\",\" a4\",\" a4\",\" a4\",\" a4\",\" a4\",\" a4\",\" a4\",\" a4\",\" a4\",\" a4\",\" a4\",\" a4\",\" a4\",\" a4\",\" a4\",\" a4\",\" a4\",\" a4\",\" a4\",\" a4\",\" a4\",\" a4\",\" a4\",\" a4\",\" a4\",\" a4\",\" a4\",\" a4\",\" a4\",\" a4\",\" a4\",\" a4\",\" a4\",\" a4\",\" a4\",\" a4\",\" a4\",\" a4\",\" a4\",\" a4\",\" a4\",\" a4\",\" a4\",\" a4\",\" a4\",\" a4\",\" a4\",\" a4\",\" a4\",\" a4\",\" a4\",\" a4\",\" a4\",\" a4\",\" a4\",\" a4\",\" a4\",\" a4\",\" a4\",\" a4\",\" a4\",\" a4\",\" a4\",\" a4\",\" a4\",\" a4\",\" a4\",\" a4\",\" a4\",\" a4\",\" a4\",\" a4\",\" a4\",\" a4\",\" a4\",\" a4\",\" a4\",\" a4\",\" a4\",\" a4\",\" a4\",\" a4\",\" a4\",\" a4\",\" a4\",\" a4\",\" a4\",\" a4\",\" a4\",\" a4\",\" a4\",\" a4\",\" a4\",\" a4\",\" a4\",\" a4\",\" a4\",\" a4\",\" a4\",\" a4\",\" a4\",\" a4\",\" a4\",\" a4\",\" a4\",\" a4\",\" a4\",\" a4\",\" a4\",\" a4\",\" a4\",\" a4\",\" a4\",\" a4\",\" a4\",\" a4\",\" a4\",\" a4\",\" a4\",\" a4\",\" a4\",\" a4\",\" a4\",\" a4\",\" a4\",\" a4\",\" a4\",\" a4\",\" a4\",\" a4\",\" a4\",\" a4\",\" a4\",\" a4\",\" a4\",\" a4\",\" a4\",\" a4\",\" a4\",\" a4\",\" a4\",\" a4\",\" a4\",\" a4\",\" a4\",\" a4\",\" a4\",\" a4\",\" a4\",\" a4\",\" a4\",\" a4\",\" a4\",\" a4\",\" a4\",\" a4\",\" a4\",\" a4\",\" a4\",\" a4\",\" a4\",\" a4\",\" a4\",\" a4\",\" a4\",\" a4\",\" a4\",\" a4\",\" a4\",\" a4\",\" a4\",\" a4\",\" a4\",\" a4\",\" a4\",\" a4\",\" a4\",\" a4\",\" a4\",\" a4\",\" a4\",\" a4\",\" a4\",\" a4\",\" a4\",\" a4\",\" a4\",\" a4\",\" a4\",\" a4\",\" a4\",\" a4\",\" a4\",\" a4\",\" a4\",\" a4\",\" a4\",\" a4\",\" a4\",\" a4\",\" a4\",\" a4\",\" a4\",\" a4\",\" a4\",\" a4\",\" a4\",\" a4\",\" a4\",\" a4\",\" a4\",\" a4\",\" a4\",\" a4\",\" a4\",\" a4\",\" a4\",\" a4\",\" a4\",\" a4\",\" a4\",\" a4\",\" a4\",\" a4\",\" a4\",\" a4\",\" a4\",\" a4\",\" a4\",\" a4\",\" a4\",\" a4\",\" a4\",\" a4\",\" a4\",\" a4\",\" a4\",\" a4\",\" a4\",\" a4\",\" a4\",\" a4\",\" a4\",\" a4\",\" a4\",\" a4\",\" a4\",\" a4\",\" a4\",\" a4\",\" a4\",\" a4\",\" a4\",\" a4\",\" a4\",\" a4\",\" a4\",\" a4\",\" a4\",\" a4\",\" a4\",\" a4\",\" a4\",\" a4\",\" a4\",\" a4\",\" a4\",\" a4\",\" a4\",\" a4\",\" a4\",\" a4\",\" a4\",\" a4\",\" a4\",\" a4\",\" a4\",\" a4\",\" a4\",\" a4\",\" a4\",\" a4\",\" a4\",\" a4\",\" a4\",\" a4\",\" a4\",\" a4\",\" a4\",\" a4\",\" a4\",\" a4\",\" a4\",\" a4\",\" a4\",\" a4\",\" a4\",\" a4\",\" a4\",\" a4\",\" a4\",\" a4\",\" a4\",\" a4\",\" a4\",\" a4\",\" a4\",\" a4\",\" a4\",\" a4\",\" a4\",\" a4\",\" a4\",\" a4\",\" a4\",\" a4\",\" a4\",\" a4\",\" a4\",\" a4\",\" a4\",\" a4\",\" a4\",\" a4\",\" a4\",\" a4\",\" a4\",\" a4\",\" a4\",\" a4\",\" a4\",\" a4\",\" a4\",\" a4\",\" a4\",\" a4\",\" a4\",\" a4\",\" a4\",\" a4\",\" a4\",\" a4\",\" a4\",\" a4\",\" a4\",\" a4\",\" a4\",\" a4\",\" a4\",\" a4\",\" a4\",\" a4\",\" a4\",\" a4\",\" a4\",\" a4\",\" a4\",\" a4\",\" a4\",\" a4\",\" a4\",\" a4\",\" a4\",\" a4\",\" a4\",\" a4\",\" a4\",\" a4\",\" a4\",\" a4\",\" a4\",\" a4\",\" a4\",\" a4\",\" a4\",\" a4\",\" a4\",\" a4\",\" a4\",\" a4\",\" a4\",\" a4\",\" a4\",\" a4\",\" a4\",\" a4\",\" a4\",\" a4\",\" a4\",\" a4\",\" a4\",\" a4\",\" a4\",\" a4\",\" a4\",\" a4\",\" a4\",\" a4\",\" a4\",\" a4\",\" a4\",\" a4\",\" a4\",\" a4\",\" a4\",\" a4\",\" a4\",\" a4\",\" a4\",\" a4\",\" a4\",\" a4\",\" a4\",\" a4\",\" a4\",\" a4\",\" a4\",\" a4\",\" a4\",\" a4\",\" a4\",\" a4\",\" a4\",\" a4\",\" a4\",\" a4\",\" a4\",\" a4\",\" a4\",\" a4\",\" a4\",\" a4\",\" a4\",\" a4\",\" a4\",\" a4\",\" a4\",\" a4\",\" a4\",\" a4\",\" a4\",\" a4\",\" a4\",\" a4\",\" a4\",\" a4\",\" a4\",\" a4\",\" a4\",\" a4\",\" a4\",\" a4\",\" a4\",\" a4\",\" a4\",\" a4\",\" a4\",\" a4\",\" a4\",\" a4\",\" a4\",\" a4\",\" a4\",\" a5\",\" a5\",\" a5\",\" a5\",\" a5\",\" a5\",\" a5\",\" a5\",\" a5\",\" a5\",\" a5\",\" a5\",\" a5\",\" a5\",\" a5\",\" a5\",\" a5\",\" a5\",\" a5\",\" a5\",\" a5\",\" a5\",\" a5\",\" a5\",\" a5\",\" a5\",\" a5\",\" a5\",\" a5\",\" a5\",\" a5\",\" a5\",\" a5\",\" a5\",\" a5\",\" a5\",\" a5\",\" a5\",\" a5\",\" a5\",\" a5\",\" a5\",\" a5\",\" a5\",\" a5\",\" a5\",\" a5\",\" a5\",\" a5\",\" a5\",\" a5\",\" a5\",\" a5\",\" a5\",\" a5\",\" a5\",\" a5\",\" a5\",\" a5\",\" a5\",\" a5\",\" a5\",\" a5\",\" a5\",\" a5\",\" a5\",\" a5\",\" a5\",\" a5\",\" a5\",\" a5\",\" a5\",\" a5\",\" a5\",\" a5\",\" a5\",\" a5\",\" a5\",\" a5\",\" a5\",\" a5\",\" a5\",\" a5\",\" a5\",\" a5\",\" a5\",\" a5\",\" a5\",\" a5\",\" a5\",\" a5\",\" a5\",\" a5\",\" a5\",\" a5\",\" a5\",\" a5\",\" a5\",\" a5\",\" a5\",\" a5\",\" a5\",\" a5\",\" a5\",\" a5\",\" a5\",\" a5\",\" a5\",\" a5\",\" a5\",\" a5\",\" a5\",\" a5\",\" a5\",\" a5\",\" a5\",\" a5\",\" a5\",\" a5\",\" a5\",\" a5\",\" a5\",\" a5\",\" a5\",\" a5\",\" a5\",\" a5\",\" a5\",\" a5\",\" a5\",\" a5\",\" a5\",\" a5\",\" a5\",\" a5\",\" a5\",\" a5\",\" a5\",\" a5\",\" a5\",\" a5\",\" a5\",\" a5\",\" a5\",\" a5\",\" a5\",\" a5\",\" a5\",\" a5\",\" a5\",\" a5\",\" a5\",\" a5\",\" a5\",\" a5\",\" a5\",\" a5\",\" a5\",\" a5\",\" a5\",\" a5\",\" a5\",\" a5\",\" a5\",\" a5\",\" a5\",\" a5\",\" a5\",\" a5\",\" a5\",\" a5\",\" a5\",\" a5\",\" a5\",\" a5\",\" a5\",\" a5\",\" a5\",\" a5\",\" a5\",\" a5\",\" a5\",\" a5\",\" a5\",\" a5\",\" a5\",\" a5\",\" a5\",\" a5\",\" a5\",\" a5\",\" a5\",\" a5\",\" a5\",\" a5\",\" a5\",\" a5\",\" a5\",\" a5\",\" a5\",\" a5\",\" a5\",\" a5\",\" a5\",\" a5\",\" a5\",\" a5\",\" a5\",\" a5\",\" a5\",\" a5\",\" a5\",\" a5\",\" a5\",\" a5\",\" a5\",\" a5\",\" a5\",\" a5\",\" a5\",\" a5\",\" a5\",\" a5\",\" a5\",\" a5\",\" a5\",\" a5\",\" a5\",\" a5\",\" a5\",\" a5\",\" a5\",\" a5\",\" a5\",\" a5\",\" a5\",\" a5\",\" a5\",\" a5\",\" a5\",\" a5\",\" a5\",\" a5\",\" a5\",\" a5\",\" a5\",\" a5\",\" a5\",\" a5\",\" a5\",\" a5\",\" a5\",\" a5\",\" a5\",\" a5\",\" a5\",\" a5\",\" a5\",\" a5\",\" a5\",\" a5\",\" a5\",\" a5\",\" a5\",\" a5\",\" a5\",\" a5\",\" a5\",\" a5\",\" a5\",\" a5\",\" a5\",\" a5\",\" a5\",\" a5\",\" a5\",\" a5\",\" a5\",\" a5\",\" a5\",\" a5\",\" a5\",\" a5\",\" a5\",\" a5\",\" a5\",\" a5\",\" a5\",\" a5\",\" a5\",\" a5\",\" a5\",\" a5\",\" a5\",\" a5\",\" a5\",\" a5\",\" a5\",\" a5\",\" a5\",\" a5\",\" a5\",\" a5\",\" a5\",\" a5\",\" a5\",\" a5\",\" a5\",\" a5\",\" a5\",\" a5\",\" a5\",\" a5\",\" a5\",\" a5\",\" a5\",\" a5\",\" a5\",\" a5\",\" a5\",\" a5\",\" a5\",\" a5\",\" a5\",\" a5\",\" a5\",\" a5\",\" a5\",\" a5\",\" a5\",\" a5\",\" a5\",\" a5\",\" a5\",\" a5\",\" a5\",\" a5\",\" a5\",\" a5\",\" a5\",\" a5\",\" a5\",\" a5\",\" a5\",\" a5\",\" a5\",\" a5\",\" a5\",\" a5\",\" a5\",\" a5\",\" a5\",\" a5\",\" a5\",\" a5\",\" a5\",\" a5\",\" a5\",\" a5\",\" a5\",\" a5\",\" a5\",\" a5\",\" a5\",\" a5\",\" a5\",\" a5\",\" a5\",\" a5\",\" a5\",\" a5\",\" a5\",\" a5\",\" a5\",\" a5\",\" a5\",\" a5\",\" a5\",\" a5\",\" a5\",\" a5\",\" a5\",\" a5\",\" a5\",\" a5\",\" a5\",\" a5\",\" a5\",\" a5\",\" a5\",\" a5\",\" a5\",\" a5\",\" a5\",\" a5\",\" a5\",\" a5\",\" a5\",\" a5\",\" a5\",\" a5\",\" a5\",\" a5\",\" a5\",\" a5\",\" a5\",\" a5\",\" a5\",\" a5\",\" a5\",\" a5\",\" a5\",\" a5\",\" a5\",\" a5\",\" a5\",\" a5\",\" a5\",\" a5\",\" a5\",\" a5\",\" a5\",\" a5\",\" a5\",\" a5\",\" a5\",\" a5\",\" a5\",\" a5\",\" a5\",\" a5\",\" a5\",\" a5\",\" a5\",\" a5\",\" a5\",\" a5\",\" a5\",\" a5\",\" a5\",\" a5\",\" a5\",\" a5\",\" a5\",\" a5\",\" a5\",\" a5\",\" a5\",\" a5\",\" a5\",\" a5\",\" a5\",\" a5\",\" a5\",\" a5\",\" a5\",\" a5\",\" a5\",\" a5\",\" a5\",\" a5\",\" a5\",\" a5\",\" a5\",\" a5\",\" a5\",\" a5\",\" a5\",\" a5\",\" a5\",\" a5\",\" a5\",\" a5\",\" a5\",\" a6\",\" a6\",\" a6\",\" a6\",\" a6\",\" a6\",\" a6\",\" a6\",\" a6\",\" a6\",\" a6\",\" a6\",\" a6\",\" a6\",\" a6\",\" a6\",\" a6\",\" a6\",\" a6\",\" a6\",\" a6\",\" a6\",\" a6\",\" a6\",\" a6\",\" a6\",\" a6\",\" a6\",\" a6\",\" a6\",\" a6\",\" a6\",\" a6\",\" a6\",\" a6\",\" a6\",\" a6\",\" a6\",\" a6\",\" a6\",\" a6\",\" a6\",\" a6\",\" a6\",\" a6\",\" a6\",\" a6\",\" a6\",\" a6\",\" a6\",\" a6\",\" a6\",\" a6\",\" a6\",\" a6\",\" a6\",\" a6\",\" a6\",\" a6\",\" a6\",\" a6\",\" a6\",\" a6\",\" a6\",\" a6\",\" a6\",\" a6\",\" a6\",\" a6\",\" a6\",\" a6\",\" a6\",\" a6\",\" a6\",\" a6\",\" a6\",\" a6\",\" a6\",\" a6\",\" a6\",\" a6\",\" a6\",\" a6\",\" a6\",\" a6\",\" a6\",\" a6\",\" a6\",\" a6\",\" a6\",\" a6\",\" a6\",\" a6\",\" a6\",\" a6\",\" a6\",\" a6\",\" a6\",\" a6\",\" a6\",\" a6\",\" a6\",\" a6\",\" a6\",\" a6\",\" a6\",\" a6\",\" a6\",\" a6\",\" a6\",\" a6\",\" a6\",\" a6\",\" a6\",\" a6\",\" a6\",\" a6\",\" a6\",\" a6\",\" a6\",\" a6\",\" a6\",\" a6\",\" a6\",\" a6\",\" a6\",\" a6\",\" a6\",\" a6\",\" a6\",\" a6\",\" a6\",\" a6\",\" a6\",\" a6\",\" a6\",\" a6\",\" a6\",\" a6\",\" a6\",\" a6\",\" a6\",\" a6\",\" a6\",\" a6\",\" a6\",\" a6\",\" a6\",\" a6\",\" a6\",\" a6\",\" a6\",\" a6\",\" a6\",\" a6\",\" a6\",\" a6\",\" a6\",\" a6\",\" a6\",\" a6\",\" a6\",\" a6\",\" a6\",\" a6\",\" a6\",\" a6\",\" a6\",\" a6\",\" a6\",\" a6\",\" a6\",\" a6\",\" a6\",\" a6\",\" a6\",\" a6\",\" a6\",\" a6\",\" a6\",\" a6\",\" a6\",\" a6\",\" a6\",\" a6\",\" a6\",\" a6\",\" a6\",\" a6\",\" a6\",\" a6\",\" a6\",\" a6\",\" a6\",\" a6\",\" a6\",\" a6\",\" a6\",\" a6\",\" a6\",\" a6\",\" a6\",\" a6\",\" a6\",\" a6\",\" a6\",\" a6\",\" a6\",\" a6\",\" a6\",\" a6\",\" a6\",\" a6\",\" a6\",\" a6\",\" a6\",\" a6\",\" a6\",\" a6\",\" a6\",\" a6\",\" a6\",\" a6\",\" a6\",\" a6\",\" a6\",\" a6\",\" a6\",\" a6\",\" a6\",\" a6\",\" a6\",\" a6\",\" a6\",\" a6\",\" a6\",\" a6\",\" a6\",\" a6\",\" a6\",\" a6\",\" a6\",\" a6\",\" a6\",\" a6\",\" a6\",\" a6\",\" a6\",\" a6\",\" a6\",\" a6\",\" a6\",\" a6\",\" a6\",\" a6\",\" a6\",\" a6\",\" a6\",\" a6\",\" a6\",\" a6\",\" a6\",\" a6\",\" a6\",\" a6\",\" a6\",\" a6\",\" a6\",\" a6\",\" a6\",\" a6\",\" a6\",\" a6\",\" a6\",\" a6\",\" a6\",\" a6\",\" a6\",\" a6\",\" a6\",\" a6\",\" a6\",\" a6\",\" a6\",\" a6\",\" a6\",\" a6\",\" a6\",\" a6\",\" a6\",\" a6\",\" a6\",\" a6\",\" a6\",\" a6\",\" a6\",\" a6\",\" a6\",\" a6\",\" a6\",\" a6\",\" a6\",\" a6\",\" a6\",\" a6\",\" a6\",\" a6\",\" a6\",\" a6\",\" a6\",\" a6\",\" a6\",\" a6\",\" a6\",\" a6\",\" a6\",\" a6\",\" a6\",\" a6\",\" a6\",\" a6\",\" a6\",\" a6\",\" a6\",\" a6\",\" a6\",\" a6\",\" a6\",\" a6\",\" a6\",\" a6\",\" a6\",\" a6\",\" a6\",\" a6\",\" a6\",\" a6\",\" a6\",\" a6\",\" a6\",\" a6\",\" a6\",\" a6\",\" a6\",\" a6\",\" a6\",\" a6\",\" a6\",\" a6\",\" a6\",\" a6\",\" a6\",\" a6\",\" a6\",\" a6\",\" a6\",\" a6\",\" a6\",\" a6\",\" a6\",\" a6\",\" a6\",\" a6\",\" a6\",\" a6\",\" a6\",\" a6\",\" a6\",\" a6\",\" a6\",\" a6\",\" a6\",\" a6\",\" a6\",\" a6\",\" a6\",\" a6\",\" a6\",\" a6\",\" a6\",\" a6\",\" a6\",\" a6\",\" a6\",\" a6\",\" a6\",\" a6\",\" a6\",\" a6\",\" a6\",\" a6\",\" a6\",\" a6\",\" a6\",\" a6\",\" a6\",\" a6\",\" a6\",\" a6\",\" a6\",\" a6\",\" a6\",\" a6\",\" a6\",\" a6\",\" a6\",\" a6\",\" a6\",\" a6\",\" a6\",\" a6\",\" a6\",\" a6\",\" a6\",\" a6\",\" a6\",\" a6\",\" a6\",\" a6\",\" a6\",\" a6\",\" a6\",\" a6\",\" a6\",\" a6\",\" a6\",\" a6\",\" a6\",\" a6\",\" a6\",\" a6\",\" a6\",\" a6\",\" a6\",\" a6\",\" a6\",\" a6\",\" a6\",\" a6\",\" a6\",\" a6\",\" a6\",\" a6\",\" a6\",\" a6\",\" a6\",\" a6\",\" a6\",\" a6\",\" a6\",\" a6\",\" a6\",\" a6\",\" a6\",\" a6\",\" a6\",\" a6\",\" a6\",\" a6\",\" a6\",\" a6\",\" a6\",\" a6\",\" a6\",\" a6\",\" a6\",\" a6\",\" a6\",\" a6\",\" a6\",\" a6\",\" a6\",\" a6\",\" a6\",\" a7\",\" a7\",\" a7\",\" a7\",\" a7\",\" a7\",\" a7\",\" a7\",\" a7\",\" a7\",\" a7\",\" a7\",\" a7\",\" a7\",\" a7\",\" a7\",\" a7\",\" a7\",\" a7\",\" a7\",\" a7\",\" a7\",\" a7\",\" a7\",\" a7\",\" a7\",\" a7\",\" a7\",\" a7\",\" a7\",\" a7\",\" a7\",\" a7\",\" a7\",\" a7\",\" a7\",\" a7\",\" a7\",\" a7\",\" a7\",\" a7\",\" a7\",\" a7\",\" a7\",\" a7\",\" a7\",\" a7\",\" a7\",\" a7\",\" a7\",\" a7\",\" a7\",\" a7\",\" a7\",\" a7\",\" a7\",\" a7\",\" a7\",\" a7\",\" a7\",\" a7\",\" a7\",\" a7\",\" a7\",\" a7\",\" a7\",\" a7\",\" a7\",\" a7\",\" a7\",\" a7\",\" a7\",\" a7\",\" a7\",\" a7\",\" a7\",\" a7\",\" a7\",\" a7\",\" a7\",\" a7\",\" a7\",\" a7\",\" a7\",\" a7\",\" a7\",\" a7\",\" a7\",\" a7\",\" a7\",\" a7\",\" a7\",\" a7\",\" a7\",\" a7\",\" a7\",\" a7\",\" a7\",\" a7\",\" a7\",\" a7\",\" a7\",\" a7\",\" a7\",\" a7\",\" a7\",\" a7\",\" a7\",\" a7\",\" a7\",\" a7\",\" a7\",\" a7\",\" a7\",\" a7\",\" a7\",\" a7\",\" a7\",\" a7\",\" a7\",\" a7\",\" a7\",\" a7\",\" a7\",\" a7\",\" a7\",\" a7\",\" a7\",\" a7\",\" a7\",\" a7\",\" a7\",\" a7\",\" a7\",\" a7\",\" a7\",\" a7\",\" a7\",\" a7\",\" a7\",\" a7\",\" a7\",\" a7\",\" a7\",\" a7\",\" a7\",\" a7\",\" a7\",\" a7\",\" a7\",\" a7\",\" a7\",\" a7\",\" a7\",\" a7\",\" a7\",\" a7\",\" a7\",\" a7\",\" a7\",\" a7\",\" a7\",\" a7\",\" a7\",\" a7\",\" a7\",\" a7\",\" a7\",\" a7\",\" a7\",\" a7\",\" a7\",\" a7\",\" a7\",\" a7\",\" a7\",\" a7\",\" a7\",\" a7\",\" a7\",\" a7\",\" a7\",\" a7\",\" a7\",\" a7\",\" a7\",\" a7\",\" a7\",\" a7\",\" a7\",\" a7\",\" a7\",\" a7\",\" a7\",\" a7\",\" a7\",\" a7\",\" a7\",\" a7\",\" a7\",\" a7\",\" a7\",\" a7\",\" a7\",\" a7\",\" a7\",\" a7\",\" a7\",\" a7\",\" a7\",\" a7\",\" a7\",\" a7\",\" a7\",\" a7\",\" a7\",\" a7\",\" a7\",\" a7\",\" a7\",\" a7\",\" a7\",\" a7\",\" a7\",\" a7\",\" a7\",\" a7\",\" a7\",\" a7\",\" a7\",\" a7\",\" a7\",\" a7\",\" a7\",\" a7\",\" a7\",\" a7\",\" a7\",\" a7\",\" a7\",\" a7\",\" a7\",\" a7\",\" a7\",\" a7\",\" a7\",\" a7\",\" a7\",\" a7\",\" a7\",\" a7\",\" a7\",\" a7\",\" a7\",\" a7\",\" a7\",\" a7\",\" a7\",\" a7\",\" a7\",\" a7\",\" a7\",\" a7\",\" a7\",\" a7\",\" a7\",\" a7\",\" a7\",\" a7\",\" a7\",\" a7\",\" a7\",\" a7\",\" a7\",\" a7\",\" a7\",\" a7\",\" a7\",\" a7\",\" a7\",\" a7\",\" a7\",\" a7\",\" a7\",\" a7\",\" a7\",\" a7\",\" a7\",\" a7\",\" a7\",\" a7\",\" a7\",\" a7\",\" a7\",\" a7\",\" a7\",\" a7\",\" a7\",\" a7\",\" a7\",\" a7\",\" a7\",\" a7\",\" a7\",\" a7\",\" a7\",\" a7\",\" a7\",\" a7\",\" a7\",\" a7\",\" a7\",\" a7\",\" a7\",\" a7\",\" a7\",\" a7\",\" a7\",\" a7\",\" a7\",\" a7\",\" a7\",\" a7\",\" a7\",\" a7\",\" a7\",\" a7\",\" a7\",\" a7\",\" a7\",\" a7\",\" a7\",\" a7\",\" a7\",\" a7\",\" a7\",\" a7\",\" a7\",\" a7\",\" a7\",\" a7\",\" a7\",\" a7\",\" a7\",\" a7\",\" a7\",\" a7\",\" a7\",\" a7\",\" a7\",\" a7\",\" a7\",\" a7\",\" a7\",\" a7\",\" a7\",\" a7\",\" a7\",\" a7\",\" a7\",\" a7\",\" a7\",\" a7\",\" a7\",\" a7\",\" a7\",\" a7\",\" a7\",\" a7\",\" a7\",\" a7\",\" a7\",\" a7\",\" a7\",\" a7\",\" a7\",\" a7\",\" a7\",\" a7\",\" a7\",\" a7\",\" a7\",\" a7\",\" a7\",\" a7\",\" a7\",\" a7\",\" a7\",\" a7\",\" a7\",\" a7\",\" a7\",\" a7\",\" a7\",\" a7\",\" a7\",\" a7\",\" a7\",\" a7\",\" a7\",\" a7\",\" a7\",\" a7\",\" a7\",\" a7\",\" a7\",\" a7\",\" a7\",\" a7\",\" a7\",\" a7\",\" a7\",\" a7\",\" a7\",\" a7\",\" a7\",\" a7\",\" a7\",\" a7\",\" a7\",\" a7\",\" a7\",\" a7\",\" a7\",\" a7\",\" a7\",\" a7\",\" a7\",\" a7\",\" a7\",\" a7\",\" a7\",\" a7\",\" a7\",\" a7\",\" a7\",\" a7\",\" a7\",\" a7\",\" a7\",\" a7\",\" a7\",\" a7\",\" a7\",\" a7\",\" a7\",\" a7\",\" a7\",\" a7\",\" a7\",\" a7\",\" a7\",\" a7\",\" a7\",\" a7\",\" a7\",\" a7\",\" a7\",\" a7\",\" a7\",\" a7\",\" a7\",\" a7\",\" a7\",\" a7\",\" a7\",\" a7\",\" a7\",\" a7\",\" a7\",\" a7\",\" a7\",\" a7\",\" a7\",\" a8\",\" a8\",\" a8\",\" a8\",\" a8\",\" a8\",\" a8\",\" a8\",\" a8\",\" a8\",\" a8\",\" a8\",\" a8\",\" a8\",\" a8\",\" a8\",\" a8\",\" a8\",\" a8\",\" a8\",\" a8\",\" a8\",\" a8\",\" a8\",\" a8\",\" a8\",\" a8\",\" a8\",\" a8\",\" a8\",\" a8\",\" a8\",\" a8\",\" a8\",\" a8\",\" a8\",\" a8\",\" a8\",\" a8\",\" a8\",\" a8\",\" a8\",\" a8\",\" a8\",\" a8\",\" a8\",\" a8\",\" a8\",\" a8\",\" a8\",\" a8\",\" a8\",\" a8\",\" a8\",\" a8\",\" a8\",\" a8\",\" a8\",\" a8\",\" a8\",\" a8\",\" a8\",\" a8\",\" a8\",\" a8\",\" a8\",\" a8\",\" a8\",\" a8\",\" a8\",\" a8\",\" a8\",\" a8\",\" a8\",\" a8\",\" a8\",\" a8\",\" a8\",\" a8\",\" a8\",\" a8\",\" a8\",\" a8\",\" a8\",\" a8\",\" a8\",\" a8\",\" a8\",\" a8\",\" a8\",\" a8\",\" a8\",\" a8\",\" a8\",\" a8\",\" a8\",\" a8\",\" a8\",\" a8\",\" a8\",\" a8\",\" a8\",\" a8\",\" a8\",\" a8\",\" a8\",\" a8\",\" a8\",\" a8\",\" a8\",\" a8\",\" a8\",\" a8\",\" a8\",\" a8\",\" a8\",\" a8\",\" a8\",\" a8\",\" a8\",\" a8\",\" a8\",\" a8\",\" a8\",\" a8\",\" a8\",\" a8\",\" a8\",\" a8\",\" a8\",\" a8\",\" a8\",\" a8\",\" a8\",\" a8\",\" a8\",\" a8\",\" a8\",\" a8\",\" a8\",\" a8\",\" a8\",\" a8\",\" a8\",\" a8\",\" a8\",\" a8\",\" a8\",\" a8\",\" a8\",\" a8\",\" a8\",\" a8\",\" a8\",\" a8\",\" a8\",\" a8\",\" a8\",\" a8\",\" a8\",\" a8\",\" a8\",\" a8\",\" a8\",\" a8\",\" a8\",\" a8\",\" a8\",\" a8\",\" a8\",\" a8\",\" a8\",\" a8\",\" a8\",\" a8\",\" a8\",\" a8\",\" a8\",\" a8\",\" a8\",\" a8\",\" a8\",\" a8\",\" a8\",\" a8\",\" a8\",\" a8\",\" a8\",\" a8\",\" a8\",\" a8\",\" a8\",\" a8\",\" a8\",\" a8\",\" a8\",\" a8\",\" a8\",\" a8\",\" a8\",\" a8\",\" a8\",\" a8\",\" a8\",\" a8\",\" a8\",\" a8\",\" a8\",\" a8\",\" a8\",\" a8\",\" a8\",\" a8\",\" a8\",\" a8\",\" a8\",\" a8\",\" a8\",\" a8\",\" a8\",\" a8\",\" a8\",\" a8\",\" a8\",\" a8\",\" a8\",\" a8\",\" a8\",\" a8\",\" a8\",\" a8\",\" a8\",\" a8\",\" a8\",\" a8\",\" a8\",\" a8\",\" a8\",\" a8\",\" a8\",\" a8\",\" a8\",\" a8\",\" a8\",\" a8\",\" a8\",\" a8\",\" a8\",\" a8\",\" a8\",\" a8\",\" a8\",\" a8\",\" a8\",\" a8\",\" a8\",\" a8\",\" a8\",\" a8\",\" a8\",\" a8\",\" a8\",\" a8\",\" a8\",\" a8\",\" a8\",\" a8\",\" a8\",\" a8\",\" a8\",\" a8\",\" a8\",\" a8\",\" a8\",\" a8\",\" a8\",\" a8\",\" a8\",\" a8\",\" a8\",\" a8\",\" a8\",\" a8\",\" a8\",\" a8\",\" a8\",\" a8\",\" a8\",\" a8\",\" a8\",\" a8\",\" a8\",\" a8\",\" a8\",\" a8\",\" a8\",\" a8\",\" a8\",\" a8\",\" a8\",\" a8\",\" a8\",\" a8\",\" a8\",\" a8\",\" a8\",\" a8\",\" a8\",\" a8\",\" a8\",\" a8\",\" a8\",\" a8\",\" a8\",\" a8\",\" a8\",\" a8\",\" a8\",\" a8\",\" a8\",\" a8\",\" a8\",\" a8\",\" a8\",\" a8\",\" a8\",\" a8\",\" a8\",\" a8\",\" a8\",\" a8\",\" a8\",\" a8\",\" a8\",\" a8\",\" a8\",\" a8\",\" a8\",\" a8\",\" a8\",\" a8\",\" a8\",\" a8\",\" a8\",\" a8\",\" a8\",\" a8\",\" a8\",\" a8\",\" a8\",\" a8\",\" a8\",\" a8\",\" a8\",\" a8\",\" a8\",\" a8\",\" a8\",\" a8\",\" a8\",\" a8\",\" a8\",\" a8\",\" a8\",\" a8\",\" a8\",\" a8\",\" a8\",\" a8\",\" a8\",\" a8\",\" a8\",\" a8\",\" a8\",\" a8\",\" a8\",\" a8\",\" a8\",\" a8\",\" a8\",\" a8\",\" a8\",\" a8\",\" a8\",\" a8\",\" a8\",\" a8\",\" a8\",\" a8\",\" a8\",\" a8\",\" a8\",\" a8\",\" a8\",\" a8\",\" a8\",\" a8\",\" a8\",\" a8\",\" a8\",\" a8\",\" a8\",\" a8\",\" a8\",\" a8\",\" a8\",\" a8\",\" a8\",\" a8\",\" a8\",\" a8\",\" a8\",\" a8\",\" a8\",\" a8\",\" a8\",\" a8\",\" a8\",\" a8\",\" a8\",\" a8\",\" a8\",\" a8\",\" a8\",\" a8\",\" a8\",\" a8\",\" a8\",\" a8\",\" a8\",\" a8\",\" a8\",\" a8\",\" a8\",\" a8\",\" a8\",\" a8\",\" a8\",\" a8\",\" a8\",\" a8\",\" a8\",\" a8\",\" a8\",\" a8\",\" a8\",\" a8\",\" a8\",\" a8\",\" a8\",\" a8\",\" a8\",\" a8\",\" a8\",\" a8\",\" a8\",\" a8\",\" a8\",\" a8\",\" a8\",\" a8\",\" a8\",\" a8\",\" a8\",\" a8\",\" a8\",\" a8\",\" a8\",\" a8\",\" a8\",\" a8\",\" a8\",\" a8\",\" a8\",\" a9\",\" a9\",\" a9\",\" a9\",\" a9\",\" a9\",\" a9\",\" a9\",\" a9\",\" a9\",\" a9\",\" a9\",\" a9\",\" a9\",\" a9\",\" a9\",\" a9\",\" a9\",\" a9\",\" a9\",\" a9\",\" a9\",\" a9\",\" a9\",\" a9\",\" a9\",\" a9\",\" a9\",\" a9\",\" a9\",\" a9\",\" a9\",\" a9\",\" a9\",\" a9\",\" a9\",\" a9\",\" a9\",\" a9\",\" a9\",\" a9\",\" a9\",\" a9\",\" a9\",\" a9\",\" a9\",\" a9\",\" a9\",\" a9\",\" a9\",\" a9\",\" a9\",\" a9\",\" a9\",\" a9\",\" a9\",\" a9\",\" a9\",\" a9\",\" a9\",\" a9\",\" a9\",\" a9\",\" a9\",\" a9\",\" a9\",\" a9\",\" a9\",\" a9\",\" a9\",\" a9\",\" a9\",\" a9\",\" a9\",\" a9\",\" a9\",\" a9\",\" a9\",\" a9\",\" a9\",\" a9\",\" a9\",\" a9\",\" a9\",\" a9\",\" a9\",\" a9\",\" a9\",\" a9\",\" a9\",\" a9\",\" a9\",\" a9\",\" a9\",\" a9\",\" a9\",\" a9\",\" a9\",\" a9\",\" a9\",\" a9\",\" a9\",\" a9\",\" a9\",\" a9\",\" a9\",\" a9\",\" a9\",\" a9\",\" a9\",\" a9\",\" a9\",\" a9\",\" a9\",\" a9\",\" a9\",\" a9\",\" a9\",\" a9\",\" a9\",\" a9\",\" a9\",\" a9\",\" a9\",\" a9\",\" a9\",\" a9\",\" a9\",\" a9\",\" a9\",\" a9\",\" a9\",\" a9\",\" a9\",\" a9\",\" a9\",\" a9\",\" a9\",\" a9\",\" a9\",\" a9\",\" a9\",\" a9\",\" a9\",\" a9\",\" a9\",\" a9\",\" a9\",\" a9\",\" a9\",\" a9\",\" a9\",\" a9\",\" a9\",\" a9\",\" a9\",\" a9\",\" a9\",\" a9\",\" a9\",\" a9\",\" a9\",\" a9\",\" a9\",\" a9\",\" a9\",\" a9\",\" a9\",\" a9\",\" a9\",\" a9\",\" a9\",\" a9\",\" a9\",\" a9\",\" a9\",\" a9\",\" a9\",\" a9\",\" a9\",\" a9\",\" a9\",\" a9\",\" a9\",\" a9\",\" a9\",\" a9\",\" a9\",\" a9\",\" a9\",\" a9\",\" a9\",\" a9\",\" a9\",\" a9\",\" a9\",\" a9\",\" a9\",\" a9\",\" a9\",\" a9\",\" a9\",\" a9\",\" a9\",\" a9\",\" a9\",\" a9\",\" a9\",\" a9\",\" a9\",\" a9\",\" a9\",\" a9\",\" a9\",\" a9\",\" a9\",\" a9\",\" a9\",\" a9\",\" a9\",\" a9\",\" a9\",\" a9\",\" a9\",\" a9\",\" a9\",\" a9\",\" a9\",\" a9\",\" a9\",\" a9\",\" a9\",\" a9\",\" a9\",\" a9\",\" a9\",\" a9\",\" a9\",\" a9\",\" a9\",\" a9\",\" a9\",\" a9\",\" a9\",\" a9\",\" a9\",\" a9\",\" a9\",\" a9\",\" a9\",\" a9\",\" a9\",\" a9\",\" a9\",\" a9\",\" a9\",\" a9\",\" a9\",\" a9\",\" a9\",\" a9\",\" a9\",\" a9\",\" a9\",\" a9\",\" a9\",\" a9\",\" a9\",\" a9\",\" a9\",\" a9\",\" a9\",\" a9\",\" a9\",\" a9\",\" a9\",\" a9\",\" a9\",\" a9\",\" a9\",\" a9\",\" a9\",\" a9\",\" a9\",\" a9\",\" a9\",\" a9\",\" a9\",\" a9\",\" a9\",\" a9\",\" a9\",\" a9\",\" a9\",\" a9\",\" a9\",\" a9\",\" a9\",\" a9\",\" a9\",\" a9\",\" a9\",\" a9\",\" a9\",\" a9\",\" a9\",\" a9\",\" a9\",\" a9\",\" a9\",\" a9\",\" a9\",\" a9\",\" a9\",\" a9\",\" a9\",\" a9\",\" a9\",\" a9\",\" a9\",\" a9\",\" a9\",\" a9\",\" a9\",\" a9\",\" a9\",\" a9\",\" a9\",\" a9\",\" a9\",\" a9\",\" a9\",\" a9\",\" a9\",\" a9\",\" a9\",\" a9\",\" a9\",\" a9\",\" a9\",\" a9\",\" a9\",\" a9\",\" a9\",\" a9\",\" a9\",\" a9\",\" a9\",\" a9\",\" a9\",\" a9\",\" a9\",\" a9\",\" a9\",\" a9\",\" a9\",\" a9\",\" a9\",\" a9\",\" a9\",\" a9\",\" a9\",\" a9\",\" a9\",\" a9\",\" a9\",\" a9\",\" a9\",\" a9\",\" a9\",\" a9\",\" a9\",\" a9\",\" a9\",\" a9\",\" a9\",\" a9\",\" a9\",\" a9\",\" a9\",\" a9\",\" a9\",\" a9\",\" a9\",\" a9\",\" a9\",\" a9\",\" a9\",\" a9\",\" a9\",\" a9\",\" a9\",\" a9\",\" a9\",\" a9\",\" a9\",\" a9\",\" a9\",\" a9\",\" a9\",\" a9\",\" a9\",\" a9\",\" a9\",\" a9\",\" a9\",\" a9\",\" a9\",\" a9\",\" a9\",\" a9\",\" a9\",\" a9\",\" a9\",\" a9\",\" a9\",\" a9\",\" a9\",\" a9\",\" a9\",\" a9\",\" a9\",\" a9\",\" a9\",\" a9\",\" a9\",\" a9\",\" a9\",\" a9\",\" a9\",\" a9\",\" a9\",\" a9\",\" a9\",\" a9\",\" a9\",\" a9\",\" a9\",\" a9\",\" a9\",\" a9\",\" a9\",\" a9\",\" a9\",\" a9\",\" a9\",\" a9\",\" a9\",\" a9\",\" a9\",\" a9\",\" a9\",\" a9\",\" a9\",\" a9\",\" a9\",\" a9\",\" a9\",\" a9\",\" a9\",\" a9\",\" a9\",\" a9\",\" a9\",\" a9\",\" a9\",\" a9\",\" a9\",\" a9\",\" a9\",\" a9\",\" a9\",\" a9\",\" a9\",\" a10\",\" a10\",\" a10\",\" a10\",\" a10\",\" a10\",\" a10\",\" a10\",\" a10\",\" a10\",\" a10\",\" a10\",\" a10\",\" a10\",\" a10\",\" a10\",\" a10\",\" a10\",\" a10\",\" a10\",\" a10\",\" a10\",\" a10\",\" a10\",\" a10\",\" a10\",\" a10\",\" a10\",\" a10\",\" a10\",\" a10\",\" a10\",\" a10\",\" a10\",\" a10\",\" a10\",\" a10\",\" a10\",\" a10\",\" a10\",\" a10\",\" a10\",\" a10\",\" a10\",\" a10\",\" a10\",\" a10\",\" a10\",\" a10\",\" a10\",\" a10\",\" a10\",\" a10\",\" a10\",\" a10\",\" a10\",\" a10\",\" a10\",\" a10\",\" a10\",\" a10\",\" a10\",\" a10\",\" a10\",\" a10\",\" a10\",\" a10\",\" a10\",\" a10\",\" a10\",\" a10\",\" a10\",\" a10\",\" a10\",\" a10\",\" a10\",\" a10\",\" a10\",\" a10\",\" a10\",\" a10\",\" a10\",\" a10\",\" a10\",\" a10\",\" a10\",\" a10\",\" a10\",\" a10\",\" a10\",\" a10\",\" a10\",\" a10\",\" a10\",\" a10\",\" a10\",\" a10\",\" a10\",\" a10\",\" a10\",\" a10\",\" a10\",\" a10\",\" a10\",\" a10\",\" a10\",\" a10\",\" a10\",\" a10\",\" a10\",\" a10\",\" a10\",\" a10\",\" a10\",\" a10\",\" a10\",\" a10\",\" a10\",\" a10\",\" a10\",\" a10\",\" a10\",\" a10\",\" a10\",\" a10\",\" a10\",\" a10\",\" a10\",\" a10\",\" a10\",\" a10\",\" a10\",\" a10\",\" a10\",\" a10\",\" a10\",\" a10\",\" a10\",\" a10\",\" a10\",\" a10\",\" a10\",\" a10\",\" a10\",\" a10\",\" a10\",\" a10\",\" a10\",\" a10\",\" a10\",\" a10\",\" a10\",\" a10\",\" a10\",\" a10\",\" a10\",\" a10\",\" a10\",\" a10\",\" a10\",\" a10\",\" a10\",\" a10\",\" a10\",\" a10\",\" a10\",\" a10\",\" a10\",\" a10\",\" a10\",\" a10\",\" a10\",\" a10\",\" a10\",\" a10\",\" a10\",\" a10\",\" a10\",\" a10\",\" a10\",\" a10\",\" a10\",\" a10\",\" a10\",\" a10\",\" a10\",\" a10\",\" a10\",\" a10\",\" a10\",\" a10\",\" a10\",\" a10\",\" a10\",\" a10\",\" a10\",\" a10\",\" a10\",\" a10\",\" a10\",\" a10\",\" a10\",\" a10\",\" a10\",\" a10\",\" a10\",\" a10\",\" a10\",\" a10\",\" a10\",\" a10\",\" a10\",\" a10\",\" a10\",\" a10\",\" a10\",\" a10\",\" a10\",\" a10\",\" a10\",\" a10\",\" a10\",\" a10\",\" a10\",\" a10\",\" a10\",\" a10\",\" a10\",\" a10\",\" a10\",\" a10\",\" a10\",\" a10\",\" a10\",\" a10\",\" a10\",\" a10\",\" a10\",\" a10\",\" a10\",\" a10\",\" a10\",\" a10\",\" a10\",\" a10\",\" a10\",\" a10\",\" a10\",\" a10\",\" a10\",\" a10\",\" a10\",\" a10\",\" a10\",\" a10\",\" a10\",\" a10\",\" a10\",\" a10\",\" a10\",\" a10\",\" a10\",\" a10\",\" a10\",\" a10\",\" a10\",\" a10\",\" a10\",\" a10\",\" a10\",\" a10\",\" a10\",\" a10\",\" a10\",\" a10\",\" a10\",\" a10\",\" a10\",\" a10\",\" a10\",\" a10\",\" a10\",\" a10\",\" a10\",\" a10\",\" a10\",\" a10\",\" a10\",\" a10\",\" a10\",\" a10\",\" a10\",\" a10\",\" a10\",\" a10\",\" a10\",\" a10\",\" a10\",\" a10\",\" a10\",\" a10\",\" a10\",\" a10\",\" a10\",\" a10\",\" a10\",\" a10\",\" a10\",\" a10\",\" a10\",\" a10\",\" a10\",\" a10\",\" a10\",\" a10\",\" a10\",\" a10\",\" a10\",\" a10\",\" a10\",\" a10\",\" a10\",\" a10\",\" a10\",\" a10\",\" a10\",\" a10\",\" a10\",\" a10\",\" a10\",\" a10\",\" a10\",\" a10\",\" a10\",\" a10\",\" a10\",\" a10\",\" a10\",\" a10\",\" a10\",\" a10\",\" a10\",\" a10\",\" a10\",\" a10\",\" a10\",\" a10\",\" a10\",\" a10\",\" a10\",\" a10\",\" a10\",\" a10\",\" a10\",\" a10\",\" a10\",\" a10\",\" a10\",\" a10\",\" a10\",\" a10\",\" a10\",\" a10\",\" a10\",\" a10\",\" a10\",\" a10\",\" a10\",\" a10\",\" a10\",\" a10\",\" a10\",\" a10\",\" a10\",\" a10\",\" a10\",\" a10\",\" a10\",\" a10\",\" a10\",\" a10\",\" a10\",\" a10\",\" a10\",\" a10\",\" a10\",\" a10\",\" a10\",\" a10\",\" a10\",\" a10\",\" a10\",\" a10\",\" a10\",\" a10\",\" a10\",\" a10\",\" a10\",\" a10\",\" a10\",\" a10\",\" a10\",\" a10\",\" a10\",\" a10\",\" a10\",\" a10\",\" a10\",\" a10\",\" a10\",\" a10\",\" a10\",\" a10\",\" a10\",\" a10\",\" a10\",\" a10\",\" a10\",\" a10\",\" a10\",\" a10\",\" a10\",\" a10\",\" a10\",\" a10\",\" a10\",\" a10\",\" a10\",\" a10\",\" a10\",\" a10\",\" a10\",\" a10\",\" a10\",\" a10\",\" a10\",\" a10\",\" a10\",\" a10\",\" a10\",\" a10\",\" a10\",\" a10\",\" a10\",\" a10\",\" a10\",\" a10\",\" a10\",\" a10\",\" a10\",\" a10\",\" a10\",\" a10\",\" a10\",\" a10\",\" a10\",\" a10\",\" a10\",\" a10\",\" a10\",\" a10\",\" a10\",\" a10\",\" a10\",\" a10\",\" a10\",\" a10\",\" a10\",\" a10\",\" a10\",\" a10\",\" a10\",\" a10\",\" a10\",\" a11\",\" a11\",\" a11\",\" a11\",\" a11\",\" a11\",\" a11\",\" a11\",\" a11\",\" a11\",\" a11\",\" a11\",\" a11\",\" a11\",\" a11\",\" a11\",\" a11\",\" a11\",\" a11\",\" a11\",\" a11\",\" a11\",\" a11\",\" a11\",\" a11\",\" a11\",\" a11\",\" a11\",\" a11\",\" a11\",\" a11\",\" a11\",\" a11\",\" a11\",\" a11\",\" a11\",\" a11\",\" a11\",\" a11\",\" a11\",\" a11\",\" a11\",\" a11\",\" a11\",\" a11\",\" a11\",\" a11\",\" a11\",\" a11\",\" a11\",\" a11\",\" a11\",\" a11\",\" a11\",\" a11\",\" a11\",\" a11\",\" a11\",\" a11\",\" a11\",\" a11\",\" a11\",\" a11\",\" a11\",\" a11\",\" a11\",\" a11\",\" a11\",\" a11\",\" a11\",\" a11\",\" a11\",\" a11\",\" a11\",\" a11\",\" a11\",\" a11\",\" a11\",\" a11\",\" a11\",\" a11\",\" a11\",\" a11\",\" a11\",\" a11\",\" a11\",\" a11\",\" a11\",\" a11\",\" a11\",\" a11\",\" a11\",\" a11\",\" a11\",\" a11\",\" a11\",\" a11\",\" a11\",\" a11\",\" a11\",\" a11\",\" a11\",\" a11\",\" a11\",\" a11\",\" a11\",\" a11\",\" a11\",\" a11\",\" a11\",\" a11\",\" a11\",\" a11\",\" a11\",\" a11\",\" a11\",\" a11\",\" a11\",\" a11\",\" a11\",\" a11\",\" a11\",\" a11\",\" a11\",\" a11\",\" a11\",\" a11\",\" a11\",\" a11\",\" a11\",\" a11\",\" a11\",\" a11\",\" a11\",\" a11\",\" a11\",\" a11\",\" a11\",\" a11\",\" a11\",\" a11\",\" a11\",\" a11\",\" a11\",\" a11\",\" a11\",\" a11\",\" a11\",\" a11\",\" a11\",\" a11\",\" a11\",\" a11\",\" a11\",\" a11\",\" a11\",\" a11\",\" a11\",\" a11\",\" a11\",\" a11\",\" a11\",\" a11\",\" a11\",\" a11\",\" a11\",\" a11\",\" a11\",\" a11\",\" a11\",\" a11\",\" a11\",\" a11\",\" a11\",\" a11\",\" a11\",\" a11\",\" a11\",\" a11\",\" a11\",\" a11\",\" a11\",\" a11\",\" a11\",\" a11\",\" a11\",\" a11\",\" a11\",\" a11\",\" a11\",\" a11\",\" a11\",\" a11\",\" a11\",\" a11\",\" a11\",\" a11\",\" a11\",\" a11\",\" a11\",\" a11\",\" a11\",\" a11\",\" a11\",\" a11\",\" a11\",\" a11\",\" a11\",\" a11\",\" a11\",\" a11\",\" a11\",\" a11\",\" a11\",\" a11\",\" a11\",\" a11\",\" a11\",\" a11\",\" a11\",\" a11\",\" a11\",\" a11\",\" a11\",\" a11\",\" a11\",\" a11\",\" a11\",\" a11\",\" a11\",\" a11\",\" a11\",\" a11\",\" a11\",\" a11\",\" a11\",\" a11\",\" a11\",\" a11\",\" a11\",\" a11\",\" a11\",\" a11\",\" a11\",\" a11\",\" a11\",\" a11\",\" a11\",\" a11\",\" a11\",\" a11\",\" a11\",\" a11\",\" a11\",\" a11\",\" a11\",\" a11\",\" a11\",\" a11\",\" a11\",\" a11\",\" a11\",\" a11\",\" a11\",\" a11\",\" a11\",\" a11\",\" a11\",\" a11\",\" a11\",\" a11\",\" a11\",\" a11\",\" a11\",\" a11\",\" a11\",\" a11\",\" a11\",\" a11\",\" a11\",\" a11\",\" a11\",\" a11\",\" a11\",\" a11\",\" a11\",\" a11\",\" a11\",\" a11\",\" a11\",\" a11\",\" a11\",\" a11\",\" a11\",\" a11\",\" a11\",\" a11\",\" a11\",\" a11\",\" a11\",\" a11\",\" a11\",\" a11\",\" a11\",\" a11\",\" a11\",\" a11\",\" a11\",\" a11\",\" a11\",\" a11\",\" a11\",\" a11\",\" a11\",\" a11\",\" a11\",\" a11\",\" a11\",\" a11\",\" a11\",\" a11\",\" a11\",\" a11\",\" a11\",\" a11\",\" a11\",\" a11\",\" a11\",\" a11\",\" a11\",\" a11\",\" a11\",\" a11\",\" a11\",\" a11\",\" a11\",\" a11\",\" a11\",\" a11\",\" a11\",\" a11\",\" a11\",\" a11\",\" a11\",\" a11\",\" a11\",\" a11\",\" a11\",\" a11\",\" a11\",\" a11\",\" a11\",\" a11\",\" a11\",\" a11\",\" a11\",\" a11\",\" a11\",\" a11\",\" a11\",\" a11\",\" a11\",\" a11\",\" a11\",\" a11\",\" a11\",\" a11\",\" a11\",\" a11\",\" a11\",\" a11\",\" a11\",\" a11\",\" a11\",\" a11\",\" a11\",\" a11\",\" a11\",\" a11\",\" a11\",\" a11\",\" a11\",\" a11\",\" a11\",\" a11\",\" a11\",\" a11\",\" a11\",\" a11\",\" a11\",\" a11\",\" a11\",\" a11\",\" a11\",\" a11\",\" a11\",\" a11\",\" a11\",\" a11\",\" a11\",\" a11\",\" a11\",\" a11\",\" a11\",\" a11\",\" a11\",\" a11\",\" a11\",\" a11\",\" a11\",\" a11\",\" a11\",\" a11\",\" a11\",\" a11\",\" a11\",\" a11\",\" a11\",\" a11\",\" a11\",\" a11\",\" a11\",\" a11\",\" a11\",\" a11\",\" a11\",\" a11\",\" a11\",\" a11\",\" a11\",\" a11\",\" a11\",\" a11\",\" a11\",\" a11\",\" a11\",\" a11\",\" a11\",\" a11\",\" a11\",\" a11\",\" a11\",\" a11\",\" a11\",\" a11\",\" a11\",\" a11\",\" a11\",\" a11\",\" a11\",\" a11\",\" a11\",\" a11\",\" a11\",\" a11\",\" a11\",\" a11\",\" a11\",\" a11\",\" a11\",\" a11\",\" a11\",\" a11\",\" a11\",\" a11\",\" a11\",\" a11\",\" a11\",\" a11\",\" a11\",\" a11\",\" a11\",\" a11\",\" a11\",\" a12\",\" a12\",\" a12\",\" a12\",\" a12\",\" a12\",\" a12\",\" a12\",\" a12\",\" a12\",\" a12\",\" a12\",\" a12\",\" a12\",\" a12\",\" a12\",\" a12\",\" a12\",\" a12\",\" a12\",\" a12\",\" a12\",\" a12\",\" a12\",\" a12\",\" a12\",\" a12\",\" a12\",\" a12\",\" a12\",\" a12\",\" a12\",\" a12\",\" a12\",\" a12\",\" a12\",\" a12\",\" a12\",\" a12\",\" a12\",\" a12\",\" a12\",\" a12\",\" a12\",\" a12\",\" a12\",\" a12\",\" a12\",\" a12\",\" a12\",\" a12\",\" a12\",\" a12\",\" a12\",\" a12\",\" a12\",\" a12\",\" a12\",\" a12\",\" a12\",\" a12\",\" a12\",\" a12\",\" a12\",\" a12\",\" a12\",\" a12\",\" a12\",\" a12\",\" a12\",\" a12\",\" a12\",\" a12\",\" a12\",\" a12\",\" a12\",\" a12\",\" a12\",\" a12\",\" a12\",\" a12\",\" a12\",\" a12\",\" a12\",\" a12\",\" a12\",\" a12\",\" a12\",\" a12\",\" a12\",\" a12\",\" a12\",\" a12\",\" a12\",\" a12\",\" a12\",\" a12\",\" a12\",\" a12\",\" a12\",\" a12\",\" a12\",\" a12\",\" a12\",\" a12\",\" a12\",\" a12\",\" a12\",\" a12\",\" a12\",\" a12\",\" a12\",\" a12\",\" a12\",\" a12\",\" a12\",\" a12\",\" a12\",\" a12\",\" a12\",\" a12\",\" a12\",\" a12\",\" a12\",\" a12\",\" a12\",\" a12\",\" a12\",\" a12\",\" a12\",\" a12\",\" a12\",\" a12\",\" a12\",\" a12\",\" a12\",\" a12\",\" a12\",\" a12\",\" a12\",\" a12\",\" a12\",\" a12\",\" a12\",\" a12\",\" a12\",\" a12\",\" a12\",\" a12\",\" a12\",\" a12\",\" a12\",\" a12\",\" a12\",\" a12\",\" a12\",\" a12\",\" a12\",\" a12\",\" a12\",\" a12\",\" a12\",\" a12\",\" a12\",\" a12\",\" a12\",\" a12\",\" a12\",\" a12\",\" a12\",\" a12\",\" a12\",\" a12\",\" a12\",\" a12\",\" a12\",\" a12\",\" a12\",\" a12\",\" a12\",\" a12\",\" a12\",\" a12\",\" a12\",\" a12\",\" a12\",\" a12\",\" a12\",\" a12\",\" a12\",\" a12\",\" a12\",\" a12\",\" a12\",\" a12\",\" a12\",\" a12\",\" a12\",\" a12\",\" a12\",\" a12\",\" a12\",\" a12\",\" a12\",\" a12\",\" a12\",\" a12\",\" a12\",\" a12\",\" a12\",\" a12\",\" a12\",\" a12\",\" a12\",\" a12\",\" a12\",\" a12\",\" a12\",\" a12\",\" a12\",\" a12\",\" a12\",\" a12\",\" a12\",\" a12\",\" a12\",\" a12\",\" a12\",\" a12\",\" a12\",\" a12\",\" a12\",\" a12\",\" a12\",\" a12\",\" a12\",\" a12\",\" a12\",\" a12\",\" a12\",\" a12\",\" a12\",\" a12\",\" a12\",\" a12\",\" a12\",\" a12\",\" a12\",\" a12\",\" a12\",\" a12\",\" a12\",\" a12\",\" a12\",\" a12\",\" a12\",\" a12\",\" a12\",\" a12\",\" a12\",\" a12\",\" a12\",\" a12\",\" a12\",\" a12\",\" a12\",\" a12\",\" a12\",\" a12\",\" a12\",\" a12\",\" a12\",\" a12\",\" a12\",\" a12\",\" a12\",\" a12\",\" a12\",\" a12\",\" a12\",\" a12\",\" a12\",\" a12\",\" a12\",\" a12\",\" a12\",\" a12\",\" a12\",\" a12\",\" a12\",\" a12\",\" a12\",\" a12\",\" a12\",\" a12\",\" a12\",\" a12\",\" a12\",\" a12\",\" a12\",\" a12\",\" a12\",\" a12\",\" a12\",\" a12\",\" a12\",\" a12\",\" a12\",\" a12\",\" a12\",\" a12\",\" a12\",\" a12\",\" a12\",\" a12\",\" a12\",\" a12\",\" a12\",\" a12\",\" a12\",\" a12\",\" a12\",\" a12\",\" a12\",\" a12\",\" a12\",\" a12\",\" a12\",\" a12\",\" a12\",\" a12\",\" a12\",\" a12\",\" a12\",\" a12\",\" a12\",\" a12\",\" a12\",\" a12\",\" a12\",\" a12\",\" a12\",\" a12\",\" a12\",\" a12\",\" a12\",\" a12\",\" a12\",\" a12\",\" a12\",\" a12\",\" a12\",\" a12\",\" a12\",\" a12\",\" a12\",\" a12\",\" a12\",\" a12\",\" a12\",\" a12\",\" a12\",\" a12\",\" a12\",\" a12\",\" a12\",\" a12\",\" a12\",\" a12\",\" a12\",\" a12\",\" a12\",\" a12\",\" a12\",\" a12\",\" a12\",\" a12\",\" a12\",\" a12\",\" a12\",\" a12\",\" a12\",\" a12\",\" a12\",\" a12\",\" a12\",\" a12\",\" a12\",\" a12\",\" a12\",\" a12\",\" a12\",\" a12\",\" a12\",\" a12\",\" a12\",\" a12\",\" a12\",\" a12\",\" a12\",\" a12\",\" a12\",\" a12\",\" a12\",\" a12\",\" a12\",\" a12\",\" a12\",\" a12\",\" a12\",\" a12\",\" a12\",\" a12\",\" a12\",\" a12\",\" a12\",\" a12\",\" a12\",\" a12\",\" a12\",\" a12\",\" a12\",\" a12\",\" a12\",\" a12\",\" a12\",\" a12\",\" a12\",\" a12\",\" a12\",\" a12\",\" a12\",\" a12\",\" a12\",\" a12\",\" a12\",\" a12\",\" a12\",\" a12\",\" a12\",\" a12\",\" a12\",\" a12\",\" a12\",\" a12\",\" a12\",\" a12\",\" a12\",\" a12\",\" a12\",\" a12\",\" a12\",\" a12\",\" a12\",\" a12\",\" a12\",\" a12\",\" a12\",\" a12\",\" a12\",\" a12\",\" a12\",\" a12\",\" a12\",\" a12\",\" a12\",\" a12\",\" a12\",\" a12\",\" a12\",\" a12\",\" a12\",\" a12\",\" a12\",\" a13\",\" a13\",\" a13\",\" a13\",\" a13\",\" a13\",\" a13\",\" a13\",\" a13\",\" a13\",\" a13\",\" a13\",\" a13\",\" a13\",\" a13\",\" a13\",\" a13\",\" a13\",\" a13\",\" a13\",\" a13\",\" a13\",\" a13\",\" a13\",\" a13\",\" a13\",\" a13\",\" a13\",\" a13\",\" a13\",\" a13\",\" a13\",\" a13\",\" a13\",\" a13\",\" a13\",\" a13\",\" a13\",\" a13\",\" a13\",\" a13\",\" a13\",\" a13\",\" a13\",\" a13\",\" a13\",\" a13\",\" a13\",\" a13\",\" a13\",\" a13\",\" a13\",\" a13\",\" a13\",\" a13\",\" a13\",\" a13\",\" a13\",\" a13\",\" a13\",\" a13\",\" a13\",\" a13\",\" a13\",\" a13\",\" a13\",\" a13\",\" a13\",\" a13\",\" a13\",\" a13\",\" a13\",\" a13\",\" a13\",\" a13\",\" a13\",\" a13\",\" a13\",\" a13\",\" a13\",\" a13\",\" a13\",\" a13\",\" a13\",\" a13\",\" a13\",\" a13\",\" a13\",\" a13\",\" a13\",\" a13\",\" a13\",\" a13\",\" a13\",\" a13\",\" a13\",\" a13\",\" a13\",\" a13\",\" a13\",\" a13\",\" a13\",\" a13\",\" a13\",\" a13\",\" a13\",\" a13\",\" a13\",\" a13\",\" a13\",\" a13\",\" a13\",\" a13\",\" a13\",\" a13\",\" a13\",\" a13\",\" a13\",\" a13\",\" a13\",\" a13\",\" a13\",\" a13\",\" a13\",\" a13\",\" a13\",\" a13\",\" a13\",\" a13\",\" a13\",\" a13\",\" a13\",\" a13\",\" a13\",\" a13\",\" a13\",\" a13\",\" a13\",\" a13\",\" a13\",\" a13\",\" a13\",\" a13\",\" a13\",\" a13\",\" a13\",\" a13\",\" a13\",\" a13\",\" a13\",\" a13\",\" a13\",\" a13\",\" a13\",\" a13\",\" a13\",\" a13\",\" a13\",\" a13\",\" a13\",\" a13\",\" a13\",\" a13\",\" a13\",\" a13\",\" a13\",\" a13\",\" a13\",\" a13\",\" a13\",\" a13\",\" a13\",\" a13\",\" a13\",\" a13\",\" a13\",\" a13\",\" a13\",\" a13\",\" a13\",\" a13\",\" a13\",\" a13\",\" a13\",\" a13\",\" a13\",\" a13\",\" a13\",\" a13\",\" a13\",\" a13\",\" a13\",\" a13\",\" a13\",\" a13\",\" a13\",\" a13\",\" a13\",\" a13\",\" a13\",\" a13\",\" a13\",\" a13\",\" a13\",\" a13\",\" a13\",\" a13\",\" a13\",\" a13\",\" a13\",\" a13\",\" a13\",\" a13\",\" a13\",\" a13\",\" a13\",\" a13\",\" a13\",\" a13\",\" a13\",\" a13\",\" a13\",\" a13\",\" a13\",\" a13\",\" a13\",\" a13\",\" a13\",\" a13\",\" a13\",\" a13\",\" a13\",\" a13\",\" a13\",\" a13\",\" a13\",\" a13\",\" a13\",\" a13\",\" a13\",\" a13\",\" a13\",\" a13\",\" a13\",\" a13\",\" a13\",\" a13\",\" a13\",\" a13\",\" a13\",\" a13\",\" a13\",\" a13\",\" a13\",\" a13\",\" a13\",\" a13\",\" a13\",\" a13\",\" a13\",\" a13\",\" a13\",\" a13\",\" a13\",\" a13\",\" a13\",\" a13\",\" a13\",\" a13\",\" a13\",\" a13\",\" a13\",\" a13\",\" a13\",\" a13\",\" a13\",\" a13\",\" a13\",\" a13\",\" a13\",\" a13\",\" a13\",\" a13\",\" a13\",\" a13\",\" a13\",\" a13\",\" a13\",\" a13\",\" a13\",\" a13\",\" a13\",\" a13\",\" a13\",\" a13\",\" a13\",\" a13\",\" a13\",\" a13\",\" a13\",\" a13\",\" a13\",\" a13\",\" a13\",\" a13\",\" a13\",\" a13\",\" a13\",\" a13\",\" a13\",\" a13\",\" a13\",\" a13\",\" a13\",\" a13\",\" a13\",\" a13\",\" a13\",\" a13\",\" a13\",\" a13\",\" a13\",\" a13\",\" a13\",\" a13\",\" a13\",\" a13\",\" a13\",\" a13\",\" a13\",\" a13\",\" a13\",\" a13\",\" a13\",\" a13\",\" a13\",\" a13\",\" a13\",\" a13\",\" a13\",\" a13\",\" a13\",\" a13\",\" a13\",\" a13\",\" a13\",\" a13\",\" a13\",\" a13\",\" a13\",\" a13\",\" a13\",\" a13\",\" a13\",\" a13\",\" a13\",\" a13\",\" a13\",\" a13\",\" a13\",\" a13\",\" a13\",\" a13\",\" a13\",\" a13\",\" a13\",\" a13\",\" a13\",\" a13\",\" a13\",\" a13\",\" a13\",\" a13\",\" a13\",\" a13\",\" a13\",\" a13\",\" a13\",\" a13\",\" a13\",\" a13\",\" a13\",\" a13\",\" a13\",\" a13\",\" a13\",\" a13\",\" a13\",\" a13\",\" a13\",\" a13\",\" a13\",\" a13\",\" a13\",\" a13\",\" a13\",\" a13\",\" a13\",\" a13\",\" a13\",\" a13\",\" a13\",\" a13\",\" a13\",\" a13\",\" a13\",\" a13\",\" a13\",\" a13\",\" a13\",\" a13\",\" a13\",\" a13\",\" a13\",\" a13\",\" a13\",\" a13\",\" a13\",\" a13\",\" a13\",\" a13\",\" a13\",\" a13\",\" a13\",\" a13\",\" a13\",\" a13\",\" a13\",\" a13\",\" a13\",\" a13\",\" a13\",\" a13\",\" a13\",\" a13\",\" a13\",\" a13\",\" a13\",\" a13\",\" a13\",\" a13\",\" a13\",\" a13\",\" a13\",\" a13\",\" a13\",\" a13\",\" a13\",\" a13\",\" a13\",\" a13\",\" a13\",\" a13\",\" a13\",\" a13\",\" a13\",\" a13\",\" a13\",\" a13\",\" a13\",\" a13\",\" a13\",\" a13\",\" a13\",\" a13\",\" a13\",\" a13\",\" a13\",\" a13\",\" a13\",\" a13\",\" a13\",\" a13\",\" a13\",\" a14\",\" a14\",\" a14\",\" a14\",\" a14\",\" a14\",\" a14\",\" a14\",\" a14\",\" a14\",\" a14\",\" a14\",\" a14\",\" a14\",\" a14\",\" a14\",\" a14\",\" a14\",\" a14\",\" a14\",\" a14\",\" a14\",\" a14\",\" a14\",\" a14\",\" a14\",\" a14\",\" a14\",\" a14\",\" a14\",\" a14\",\" a14\",\" a14\",\" a14\",\" a14\",\" a14\",\" a14\",\" a14\",\" a14\",\" a14\",\" a14\",\" a14\",\" a14\",\" a14\",\" a14\",\" a14\",\" a14\",\" a14\",\" a14\",\" a14\",\" a14\",\" a14\",\" a14\",\" a14\",\" a14\",\" a14\",\" a14\",\" a14\",\" a14\",\" a14\",\" a14\",\" a14\",\" a14\",\" a14\",\" a14\",\" a14\",\" a14\",\" a14\",\" a14\",\" a14\",\" a14\",\" a14\",\" a14\",\" a14\",\" a14\",\" a14\",\" a14\",\" a14\",\" a14\",\" a14\",\" a14\",\" a14\",\" a14\",\" a14\",\" a14\",\" a14\",\" a14\",\" a14\",\" a14\",\" a14\",\" a14\",\" a14\",\" a14\",\" a14\",\" a14\",\" a14\",\" a14\",\" a14\",\" a14\",\" a14\",\" a14\",\" a14\",\" a14\",\" a14\",\" a14\",\" a14\",\" a14\",\" a14\",\" a14\",\" a14\",\" a14\",\" a14\",\" a14\",\" a14\",\" a14\",\" a14\",\" a14\",\" a14\",\" a14\",\" a14\",\" a14\",\" a14\",\" a14\",\" a14\",\" a14\",\" a14\",\" a14\",\" a14\",\" a14\",\" a14\",\" a14\",\" a14\",\" a14\",\" a14\",\" a14\",\" a14\",\" a14\",\" a14\",\" a14\",\" a14\",\" a14\",\" a14\",\" a14\",\" a14\",\" a14\",\" a14\",\" a14\",\" a14\",\" a14\",\" a14\",\" a14\",\" a14\",\" a14\",\" a14\",\" a14\",\" a14\",\" a14\",\" a14\",\" a14\",\" a14\",\" a14\",\" a14\",\" a14\",\" a14\",\" a14\",\" a14\",\" a14\",\" a14\",\" a14\",\" a14\",\" a14\",\" a14\",\" a14\",\" a14\",\" a14\",\" a14\",\" a14\",\" a14\",\" a14\",\" a14\",\" a14\",\" a14\",\" a14\",\" a14\",\" a14\",\" a14\",\" a14\",\" a14\",\" a14\",\" a14\",\" a14\",\" a14\",\" a14\",\" a14\",\" a14\",\" a14\",\" a14\",\" a14\",\" a14\",\" a14\",\" a14\",\" a14\",\" a14\",\" a14\",\" a14\",\" a14\",\" a14\",\" a14\",\" a14\",\" a14\",\" a14\",\" a14\",\" a14\",\" a14\",\" a14\",\" a14\",\" a14\",\" a14\",\" a14\",\" a14\",\" a14\",\" a14\",\" a14\",\" a14\",\" a14\",\" a14\",\" a14\",\" a14\",\" a14\",\" a14\",\" a14\",\" a14\",\" a14\",\" a14\",\" a14\",\" a14\",\" a14\",\" a14\",\" a14\",\" a14\",\" a14\",\" a14\",\" a14\",\" a14\",\" a14\",\" a14\",\" a14\",\" a14\",\" a14\",\" a14\",\" a14\",\" a14\",\" a14\",\" a14\",\" a14\",\" a14\",\" a14\",\" a14\",\" a14\",\" a14\",\" a14\",\" a14\",\" a14\",\" a14\",\" a14\",\" a14\",\" a14\",\" a14\",\" a14\",\" a14\",\" a14\",\" a14\",\" a14\",\" a14\",\" a14\",\" a14\",\" a14\",\" a14\",\" a14\",\" a14\",\" a14\",\" a14\",\" a14\",\" a14\",\" a14\",\" a14\",\" a14\",\" a14\",\" a14\",\" a14\",\" a14\",\" a14\",\" a14\",\" a14\",\" a14\",\" a14\",\" a14\",\" a14\",\" a14\",\" a14\",\" a14\",\" a14\",\" a14\",\" a14\",\" a14\",\" a14\",\" a14\",\" a14\",\" a14\",\" a14\",\" a14\",\" a14\",\" a14\",\" a14\",\" a14\",\" a14\",\" a14\",\" a14\",\" a14\",\" a14\",\" a14\",\" a14\",\" a14\",\" a14\",\" a14\",\" a14\",\" a14\",\" a14\",\" a14\",\" a14\",\" a14\",\" a14\",\" a14\",\" a14\",\" a14\",\" a14\",\" a14\",\" a14\",\" a14\",\" a14\",\" a14\",\" a14\",\" a14\",\" a14\",\" a14\",\" a14\",\" a14\",\" a14\",\" a14\",\" a14\",\" a14\",\" a14\",\" a14\",\" a14\",\" a14\",\" a14\",\" a14\",\" a14\",\" a14\",\" a14\",\" a14\",\" a14\",\" a14\",\" a14\",\" a14\",\" a14\",\" a14\",\" a14\",\" a14\",\" a14\",\" a14\",\" a14\",\" a14\",\" a14\",\" a14\",\" a14\",\" a14\",\" a14\",\" a14\",\" a14\",\" a14\",\" a14\",\" a14\",\" a14\",\" a14\",\" a14\",\" a14\",\" a14\",\" a14\",\" a14\",\" a14\",\" a14\",\" a14\",\" a14\",\" a14\",\" a14\",\" a14\",\" a14\",\" a14\",\" a14\",\" a14\",\" a14\",\" a14\",\" a14\",\" a14\",\" a14\",\" a14\",\" a14\",\" a14\",\" a14\",\" a14\",\" a14\",\" a14\",\" a14\",\" a14\",\" a14\",\" a14\",\" a14\",\" a14\",\" a14\",\" a14\",\" a14\",\" a14\",\" a14\",\" a14\",\" a14\",\" a14\",\" a14\",\" a14\",\" a14\",\" a14\",\" a14\",\" a14\",\" a14\",\" a14\",\" a14\",\" a14\",\" a14\",\" a14\",\" a14\",\" a14\",\" a14\",\" a14\",\" a14\",\" a14\",\" a14\",\" a14\",\" a14\",\" a14\",\" a14\",\" a14\",\" a14\",\" a14\",\" a14\",\" a14\",\" a14\",\" a14\",\" a14\",\" a14\",\" a14\",\" a14\",\" a14\",\" a14\",\" a14\",\" a14\",\" a14\",\" a14\",\" a14\",\" a14\",\" a14\",\" a14\",\" a14\",\" a14\",\" a14\",\" a15\",\" a15\",\" a15\",\" a15\",\" a15\",\" a15\",\" a15\",\" a15\",\" a15\",\" a15\",\" a15\",\" a15\",\" a15\",\" a15\",\" a15\",\" a15\",\" a15\",\" a15\",\" a15\",\" a15\",\" a15\",\" a15\",\" a15\",\" a15\",\" a15\",\" a15\",\" a15\",\" a15\",\" a15\",\" a15\",\" a15\",\" a15\",\" a15\",\" a15\",\" a15\",\" a15\",\" a15\",\" a15\",\" a15\",\" a15\",\" a15\",\" a15\",\" a15\",\" a15\",\" a15\",\" a15\",\" a15\",\" a15\",\" a15\",\" a15\",\" a15\",\" a15\",\" a15\",\" a15\",\" a15\",\" a15\",\" a15\",\" a15\",\" a15\",\" a15\",\" a15\",\" a15\",\" a15\",\" a15\",\" a15\",\" a15\",\" a15\",\" a15\",\" a15\",\" a15\",\" a15\",\" a15\",\" a15\",\" a15\",\" a15\",\" a15\",\" a15\",\" a15\",\" a15\",\" a15\",\" a15\",\" a15\",\" a15\",\" a15\",\" a15\",\" a15\",\" a15\",\" a15\",\" a15\",\" a15\",\" a15\",\" a15\",\" a15\",\" a15\",\" a15\",\" a15\",\" a15\",\" a15\",\" a15\",\" a15\",\" a15\",\" a15\",\" a15\",\" a15\",\" a15\",\" a15\",\" a15\",\" a15\",\" a15\",\" a15\",\" a15\",\" a15\",\" a15\",\" a15\",\" a15\",\" a15\",\" a15\",\" a15\",\" a15\",\" a15\",\" a15\",\" a15\",\" a15\",\" a15\",\" a15\",\" a15\",\" a15\",\" a15\",\" a15\",\" a15\",\" a15\",\" a15\",\" a15\",\" a15\",\" a15\",\" a15\",\" a15\",\" a15\",\" a15\",\" a15\",\" a15\",\" a15\",\" a15\",\" a15\",\" a15\",\" a15\",\" a15\",\" a15\",\" a15\",\" a15\",\" a15\",\" a15\",\" a15\",\" a15\",\" a15\",\" a15\",\" a15\",\" a15\",\" a15\",\" a15\",\" a15\",\" a15\",\" a15\",\" a15\",\" a15\",\" a15\",\" a15\",\" a15\",\" a15\",\" a15\",\" a15\",\" a15\",\" a15\",\" a15\",\" a15\",\" a15\",\" a15\",\" a15\",\" a15\",\" a15\",\" a15\",\" a15\",\" a15\",\" a15\",\" a15\",\" a15\",\" a15\",\" a15\",\" a15\",\" a15\",\" a15\",\" a15\",\" a15\",\" a15\",\" a15\",\" a15\",\" a15\",\" a15\",\" a15\",\" a15\",\" a15\",\" a15\",\" a15\",\" a15\",\" a15\",\" a15\",\" a15\",\" a15\",\" a15\",\" a15\",\" a15\",\" a15\",\" a15\",\" a15\",\" a15\",\" a15\",\" a15\",\" a15\",\" a15\",\" a15\",\" a15\",\" a15\",\" a15\",\" a15\",\" a15\",\" a15\",\" a15\",\" a15\",\" a15\",\" a15\",\" a15\",\" a15\",\" a15\",\" a15\",\" a15\",\" a15\",\" a15\",\" a15\",\" a15\",\" a15\",\" a15\",\" a15\",\" a15\",\" a15\",\" a15\",\" a15\",\" a15\",\" a15\",\" a15\",\" a15\",\" a15\",\" a15\",\" a15\",\" a15\",\" a15\",\" a15\",\" a15\",\" a15\",\" a15\",\" a15\",\" a15\",\" a15\",\" a15\",\" a15\",\" a15\",\" a15\",\" a15\",\" a15\",\" a15\",\" a15\",\" a15\",\" a15\",\" a15\",\" a15\",\" a15\",\" a15\",\" a15\",\" a15\",\" a15\",\" a15\",\" a15\",\" a15\",\" a15\",\" a15\",\" a15\",\" a15\",\" a15\",\" a15\",\" a15\",\" a15\",\" a15\",\" a15\",\" a15\",\" a15\",\" a15\",\" a15\",\" a15\",\" a15\",\" a15\",\" a15\",\" a15\",\" a15\",\" a15\",\" a15\",\" a15\",\" a15\",\" a15\",\" a15\",\" a15\",\" a15\",\" a15\",\" a15\",\" a15\",\" a15\",\" a15\",\" a15\",\" a15\",\" a15\",\" a15\",\" a15\",\" a15\",\" a15\",\" a15\",\" a15\",\" a15\",\" a15\",\" a15\",\" a15\",\" a15\",\" a15\",\" a15\",\" a15\",\" a15\",\" a15\",\" a15\",\" a15\",\" a15\",\" a15\",\" a15\",\" a15\",\" a15\",\" a15\",\" a15\",\" a15\",\" a15\",\" a15\",\" a15\",\" a15\",\" a15\",\" a15\",\" a15\",\" a15\",\" a15\",\" a15\",\" a15\",\" a15\",\" a15\",\" a15\",\" a15\",\" a15\",\" a15\",\" a15\",\" a15\",\" a15\",\" a15\",\" a15\",\" a15\",\" a15\",\" a15\",\" a15\",\" a15\",\" a15\",\" a15\",\" a15\",\" a15\",\" a15\",\" a15\",\" a15\",\" a15\",\" a15\",\" a15\",\" a15\",\" a15\",\" a15\",\" a15\",\" a15\",\" a15\",\" a15\",\" a15\",\" a15\",\" a15\",\" a15\",\" a15\",\" a15\",\" a15\",\" a15\",\" a15\",\" a15\",\" a15\",\" a15\",\" a15\",\" a15\",\" a15\",\" a15\",\" a15\",\" a15\",\" a15\",\" a15\",\" a15\",\" a15\",\" a15\",\" a15\",\" a15\",\" a15\",\" a15\",\" a15\",\" a15\",\" a15\",\" a15\",\" a15\",\" a15\",\" a15\",\" a15\",\" a15\",\" a15\",\" a15\",\" a15\",\" a15\",\" a15\",\" a15\",\" a15\",\" a15\",\" a15\",\" a15\",\" a15\",\" a15\",\" a15\",\" a15\",\" a15\",\" a15\",\" a15\",\" a15\",\" a15\",\" a15\",\" a15\",\" a15\",\" a15\",\" a15\",\" a15\",\" a15\",\" a15\",\" a15\",\" a15\",\" a15\",\" a15\",\" a15\",\" a15\",\" a15\",\" a15\",\" a15\",\" a15\",\" a15\",\" a15\",\" a15\",\" a15\",\" a15\",\" a15\",\" a15\",\" a15\",\" a15\",\" a15\",\" a15\",\" a15\",\" a15\",\" a16\",\" a16\",\" a16\",\" a16\",\" a16\",\" a16\",\" a16\",\" a16\",\" a16\",\" a16\",\" a16\",\" a16\",\" a16\",\" a16\",\" a16\",\" a16\",\" a16\",\" a16\",\" a16\",\" a16\",\" a16\",\" a16\",\" a16\",\" a16\",\" a16\",\" a16\",\" a16\",\" a16\",\" a16\",\" a16\",\" a16\",\" a16\",\" a16\",\" a16\",\" a16\",\" a16\",\" a16\",\" a16\",\" a16\",\" a16\",\" a16\",\" a16\",\" a16\",\" a16\",\" a16\",\" a16\",\" a16\",\" a16\",\" a16\",\" a16\",\" a16\",\" a16\",\" a16\",\" a16\",\" a16\",\" a16\",\" a16\",\" a16\",\" a16\",\" a16\",\" a16\",\" a16\",\" a16\",\" a16\",\" a16\",\" a16\",\" a16\",\" a16\",\" a16\",\" a16\",\" a16\",\" a16\",\" a16\",\" a16\",\" a16\",\" a16\",\" a16\",\" a16\",\" a16\",\" a16\",\" a16\",\" a16\",\" a16\",\" a16\",\" a16\",\" a16\",\" a16\",\" a16\",\" a16\",\" a16\",\" a16\",\" a16\",\" a16\",\" a16\",\" a16\",\" a16\",\" a16\",\" a16\",\" a16\",\" a16\",\" a16\",\" a16\",\" a16\",\" a16\",\" a16\",\" a16\",\" a16\",\" a16\",\" a16\",\" a16\",\" a16\",\" a16\",\" a16\",\" a16\",\" a16\",\" a16\",\" a16\",\" a16\",\" a16\",\" a16\",\" a16\",\" a16\",\" a16\",\" a16\",\" a16\",\" a16\",\" a16\",\" a16\",\" a16\",\" a16\",\" a16\",\" a16\",\" a16\",\" a16\",\" a16\",\" a16\",\" a16\",\" a16\",\" a16\",\" a16\",\" a16\",\" a16\",\" a16\",\" a16\",\" a16\",\" a16\",\" a16\",\" a16\",\" a16\",\" a16\",\" a16\",\" a16\",\" a16\",\" a16\",\" a16\",\" a16\",\" a16\",\" a16\",\" a16\",\" a16\",\" a16\",\" a16\",\" a16\",\" a16\",\" a16\",\" a16\",\" a16\",\" a16\",\" a16\",\" a16\",\" a16\",\" a16\",\" a16\",\" a16\",\" a16\",\" a16\",\" a16\",\" a16\",\" a16\",\" a16\",\" a16\",\" a16\",\" a16\",\" a16\",\" a16\",\" a16\",\" a16\",\" a16\",\" a16\",\" a16\",\" a16\",\" a16\",\" a16\",\" a16\",\" a16\",\" a16\",\" a16\",\" a16\",\" a16\",\" a16\",\" a16\",\" a16\",\" a16\",\" a16\",\" a16\",\" a16\",\" a16\",\" a16\",\" a16\",\" a16\",\" a16\",\" a16\",\" a16\",\" a16\",\" a16\",\" a16\",\" a16\",\" a16\",\" a16\",\" a16\",\" a16\",\" a16\",\" a16\",\" a16\",\" a16\",\" a16\",\" a16\",\" a16\",\" a16\",\" a16\",\" a16\",\" a16\",\" a16\",\" a16\",\" a16\",\" a16\",\" a16\",\" a16\",\" a16\",\" a16\",\" a16\",\" a16\",\" a16\",\" a16\",\" a16\",\" a16\",\" a16\",\" a16\",\" a16\",\" a16\",\" a16\",\" a16\",\" a16\",\" a16\",\" a16\",\" a16\",\" a16\",\" a16\",\" a16\",\" a16\",\" a16\",\" a16\",\" a16\",\" a16\",\" a16\",\" a16\",\" a16\",\" a16\",\" a16\",\" a16\",\" a16\",\" a16\",\" a16\",\" a16\",\" a16\",\" a16\",\" a16\",\" a16\",\" a16\",\" a16\",\" a16\",\" a16\",\" a16\",\" a16\",\" a16\",\" a16\",\" a16\",\" a16\",\" a16\",\" a16\",\" a16\",\" a16\",\" a16\",\" a16\",\" a16\",\" a16\",\" a16\",\" a16\",\" a16\",\" a16\",\" a16\",\" a16\",\" a16\",\" a16\",\" a16\",\" a16\",\" a16\",\" a16\",\" a16\",\" a16\",\" a16\",\" a16\",\" a16\",\" a16\",\" a16\",\" a16\",\" a16\",\" a16\",\" a16\",\" a16\",\" a16\",\" a16\",\" a16\",\" a16\",\" a16\",\" a16\",\" a16\",\" a16\",\" a16\",\" a16\",\" a16\",\" a16\",\" a16\",\" a16\",\" a16\",\" a16\",\" a16\",\" a16\",\" a16\",\" a16\",\" a16\",\" a16\",\" a16\",\" a16\",\" a16\",\" a16\",\" a16\",\" a16\",\" a16\",\" a16\",\" a16\",\" a16\",\" a16\",\" a16\",\" a16\",\" a16\",\" a16\",\" a16\",\" a16\",\" a16\",\" a16\",\" a16\",\" a16\",\" a16\",\" a16\",\" a16\",\" a16\",\" a16\",\" a16\",\" a16\",\" a16\",\" a16\",\" a16\",\" a16\",\" a16\",\" a16\",\" a16\",\" a16\",\" a16\",\" a16\",\" a16\",\" a16\",\" a16\",\" a16\",\" a16\",\" a16\",\" a16\",\" a16\",\" a16\",\" a16\",\" a16\",\" a16\",\" a16\",\" a16\",\" a16\",\" a16\",\" a16\",\" a16\",\" a16\",\" a16\",\" a16\",\" a16\",\" a16\",\" a16\",\" a16\",\" a16\",\" a16\",\" a16\",\" a16\",\" a16\",\" a16\",\" a16\",\" a16\",\" a16\",\" a16\",\" a16\",\" a16\",\" a16\",\" a16\",\" a16\",\" a16\",\" a16\",\" a16\",\" a16\",\" a16\",\" a16\",\" a16\",\" a16\",\" a16\",\" a16\",\" a16\",\" a16\",\" a16\",\" a16\",\" a16\",\" a16\",\" a16\",\" a16\",\" a16\",\" a16\",\" a16\",\" a16\",\" a16\",\" a16\",\" a16\",\" a16\",\" a16\",\" a16\",\" a16\",\" a16\",\" a16\",\" a16\",\" a16\",\" a16\",\" a16\",\" a16\",\" a16\",\" a16\",\" a16\",\" a16\",\" a16\",\" a16\",\" a16\",\" a16\",\" a16\",\" a16\",\" a16\",\" a16\",\" a16\",\" a16\",\" a16\",\" a16\",\" a16\",\" a16\",\" a17\",\" a17\",\" a17\",\" a17\",\" a17\",\" a17\",\" a17\",\" a17\",\" a17\",\" a17\",\" a17\",\" a17\",\" a17\",\" a17\",\" a17\",\" a17\",\" a17\",\" a17\",\" a17\",\" a17\",\" a17\",\" a17\",\" a17\",\" a17\",\" a17\",\" a17\",\" a17\",\" a17\",\" a17\",\" a17\",\" a17\",\" a17\",\" a17\",\" a17\",\" a17\",\" a17\",\" a17\",\" a17\",\" a17\",\" a17\",\" a17\",\" a17\",\" a17\",\" a17\",\" a17\",\" a17\",\" a17\",\" a17\",\" a17\",\" a17\",\" a17\",\" a17\",\" a17\",\" a17\",\" a17\",\" a17\",\" a17\",\" a17\",\" a17\",\" a17\",\" a17\",\" a17\",\" a17\",\" a17\",\" a17\",\" a17\",\" a17\",\" a17\",\" a17\",\" a17\",\" a17\",\" a17\",\" a17\",\" a17\",\" a17\",\" a17\",\" a17\",\" a17\",\" a17\",\" a17\",\" a17\",\" a17\",\" a17\",\" a17\",\" a17\",\" a17\",\" a17\",\" a17\",\" a17\",\" a17\",\" a17\",\" a17\",\" a17\",\" a17\",\" a17\",\" a17\",\" a17\",\" a17\",\" a17\",\" a17\",\" a17\",\" a17\",\" a17\",\" a17\",\" a17\",\" a17\",\" a17\",\" a17\",\" a17\",\" a17\",\" a17\",\" a17\",\" a17\",\" a17\",\" a17\",\" a17\",\" a17\",\" a17\",\" a17\",\" a17\",\" a17\",\" a17\",\" a17\",\" a17\",\" a17\",\" a17\",\" a17\",\" a17\",\" a17\",\" a17\",\" a17\",\" a17\",\" a17\",\" a17\",\" a17\",\" a17\",\" a17\",\" a17\",\" a17\",\" a17\",\" a17\",\" a17\",\" a17\",\" a17\",\" a17\",\" a17\",\" a17\",\" a17\",\" a17\",\" a17\",\" a17\",\" a17\",\" a17\",\" a17\",\" a17\",\" a17\",\" a17\",\" a17\",\" a17\",\" a17\",\" a17\",\" a17\",\" a17\",\" a17\",\" a17\",\" a17\",\" a17\",\" a17\",\" a17\",\" a17\",\" a17\",\" a17\",\" a17\",\" a17\",\" a17\",\" a17\",\" a17\",\" a17\",\" a17\",\" a17\",\" a17\",\" a17\",\" a17\",\" a17\",\" a17\",\" a17\",\" a17\",\" a17\",\" a17\",\" a17\",\" a17\",\" a17\",\" a17\",\" a17\",\" a17\",\" a17\",\" a17\",\" a17\",\" a17\",\" a17\",\" a17\",\" a17\",\" a17\",\" a17\",\" a17\",\" a17\",\" a17\",\" a17\",\" a17\",\" a17\",\" a17\",\" a17\",\" a17\",\" a17\",\" a17\",\" a17\",\" a17\",\" a17\",\" a17\",\" a17\",\" a17\",\" a17\",\" a17\",\" a17\",\" a17\",\" a17\",\" a17\",\" a17\",\" a17\",\" a17\",\" a17\",\" a17\",\" a17\",\" a17\",\" a17\",\" a17\",\" a17\",\" a17\",\" a17\",\" a17\",\" a17\",\" a17\",\" a17\",\" a17\",\" a17\",\" a17\",\" a17\",\" a17\",\" a17\",\" a17\",\" a17\",\" a17\",\" a17\",\" a17\",\" a17\",\" a17\",\" a17\",\" a17\",\" a17\",\" a17\",\" a17\",\" a17\",\" a17\",\" a17\",\" a17\",\" a17\",\" a17\",\" a17\",\" a17\",\" a17\",\" a17\",\" a17\",\" a17\",\" a17\",\" a17\",\" a17\",\" a17\",\" a17\",\" a17\",\" a17\",\" a17\",\" a17\",\" a17\",\" a17\",\" a17\",\" a17\",\" a17\",\" a17\",\" a17\",\" a17\",\" a17\",\" a17\",\" a17\",\" a17\",\" a17\",\" a17\",\" a17\",\" a17\",\" a17\",\" a17\",\" a17\",\" a17\",\" a17\",\" a17\",\" a17\",\" a17\",\" a17\",\" a17\",\" a17\",\" a17\",\" a17\",\" a17\",\" a17\",\" a17\",\" a17\",\" a17\",\" a17\",\" a17\",\" a17\",\" a17\",\" a17\",\" a17\",\" a17\",\" a17\",\" a17\",\" a17\",\" a17\",\" a17\",\" a17\",\" a17\",\" a17\",\" a17\",\" a17\",\" a17\",\" a17\",\" a17\",\" a17\",\" a17\",\" a17\",\" a17\",\" a17\",\" a17\",\" a17\",\" a17\",\" a17\",\" a17\",\" a17\",\" a17\",\" a17\",\" a17\",\" a17\",\" a17\",\" a17\",\" a17\",\" a17\",\" a17\",\" a17\",\" a17\",\" a17\",\" a17\",\" a17\",\" a17\",\" a17\",\" a17\",\" a17\",\" a17\",\" a17\",\" a17\",\" a17\",\" a17\",\" a17\",\" a17\",\" a17\",\" a17\",\" a17\",\" a17\",\" a17\",\" a17\",\" a17\",\" a17\",\" a17\",\" a17\",\" a17\",\" a17\",\" a17\",\" a17\",\" a17\",\" a17\",\" a17\",\" a17\",\" a17\",\" a17\",\" a17\",\" a17\",\" a17\",\" a17\",\" a17\",\" a17\",\" a17\",\" a17\",\" a17\",\" a17\",\" a17\",\" a17\",\" a17\",\" a17\",\" a17\",\" a17\",\" a17\",\" a17\",\" a17\",\" a17\",\" a17\",\" a17\",\" a17\",\" a17\",\" a17\",\" a17\",\" a17\",\" a17\",\" a17\",\" a17\",\" a17\",\" a17\",\" a17\",\" a17\",\" a17\",\" a17\",\" a17\",\" a17\",\" a17\",\" a17\",\" a17\",\" a17\",\" a17\",\" a17\",\" a17\",\" a17\",\" a17\",\" a17\",\" a17\",\" a17\",\" a17\",\" a17\",\" a17\",\" a17\",\" a17\",\" a17\",\" a17\",\" a17\",\" a17\",\" a17\",\" a17\",\" a17\",\" a17\",\" a17\",\" a17\",\" a17\",\" a17\",\" a17\",\" a17\",\" a17\",\" a17\",\" a17\",\" a17\",\" a17\",\" a17\",\" a17\",\" a17\",\" a17\",\" a17\",\" a17\",\" a17\",\" a17\"],\"x0\":\" \",\"xaxis\":\"x\",\"y\":[0.10428367195326771,0.2201577162292644,0.17115459565462132,0.2142088181319075,0.22124009100874487,0.1932943504716783,0.16814902218344208,0.1327823050774365,0.3944981177909638,0.508134144139162,0.3256416486568653,0.2503916261557705,0.29245564719240746,0.2947473430461296,0.18295110896257283,0.23357514690837655,0.1259532549367537,0.2357195222542463,0.2383148707755589,0.3124836940521364,0.15966085334803803,0.2194895333961342,0.23772196458442907,0.16471495571851258,0.415302927437442,0.0,0.1333760929347887,0.2632950024974514,0.1910229798830253,0.41986721858340936,0.1974013015883772,0.32839616992806586,0.37703123407349337,0.6224210646382669,0.2772034689040562,0.3539829211110065,0.2385400635748428,0.3323274921302467,0.2618952615798553,0.15751686978695367,0.2674085162600651,0.3092542012326809,0.22034862555284251,0.19026267265908592,0.37449896691477547,0.4349437681578492,0.34040857049467454,0.16551459067234653,0.29884283370557807,0.10611430552134937,0.2719586040540706,0.14450755788850045,0.2744310222251286,0.32720624330404224,0.1744982519125573,0.34444793422222886,0.16281835104905729,0.1895222991160368,0.2733505086741371,0.43233343291561055,0.28109139808260053,0.16847202035322795,0.24645952038401864,0.22943019046081314,0.18304827780817756,0.5308814492321186,0.5705466143552758,0.2141759060032541,0.8374587565443121,0.3069179370009658,0.41233212712279865,0.24283028350967983,0.43189705467630835,0.3405202363803751,0.2799127361237377,0.45637380854723575,0.2087574205119137,0.011326978199884263,0.20476375156868654,0.19633543172094214,0.7132290730119271,0.1732475458872358,0.7192495252943056,0.3944516883850884,0.3538836952448231,0.34770789016436665,0.43963647484167456,0.2488961858362735,0.11678906717129656,0.3397044880986745,0.3500803969963213,0.29843202097822996,0.2172534256448473,0.2666756357765693,0.5562450646363539,0.06454763811800823,0.41558267982887176,0.33632600973618,0.13592305292569162,0.5002096916226064,0.45157296224138577,0.28750718669057107,0.3507259036550632,0.1635682261254291,0.14897551270645626,0.4404370404097533,0.15458691559393123,0.3648425191194471,0.3881951704230505,0.167933624605615,0.4660216366760703,0.3593514017841666,0.4847766931208748,0.10720711224779078,0.695608306140689,0.4159032781413159,0.17423064585251058,0.33321866369740827,0.3372808502428115,0.06836856788549628,0.6443525235534777,0.8441923028745768,0.2522825004962971,0.24652044682999008,0.23800935708008575,0.31276040966011376,0.22869378371364135,0.22207768254602767,0.11939362333719117,0.4943672189634585,0.3789569796672074,0.32584078606275846,0.1959147748241148,0.38868669603198003,0.23274137552351037,0.48499336394910286,0.06560224332028242,0.40079156362555457,0.3722908245327846,0.10586413498759295,0.5354164524091531,0.328800517704937,0.4761376775139423,0.5271147851680353,0.16785310771672968,0.08056311106451564,0.13429175255559256,0.08925394356948879,0.4977894821343749,0.36823794332740156,0.20254032857702853,0.31457017933427367,0.29478887504188345,0.25186424365741833,0.34190930020968546,0.19907335018405237,0.46479546765241353,0.15894433093252058,0.2670977129684715,0.32047573355662307,0.35301182043244117,0.567919529260273,0.2559068397599078,0.157177954281997,0.28017162442063925,0.4003305013399141,0.2678466576312053,0.33771056773954733,0.1803352883321241,0.2137846349714041,0.4753082159623232,0.18980131668531142,0.5642144773156876,0.27408701331735397,0.48821766526908905,0.25458869339011536,0.7183184871677901,0.3526067869820435,0.45101051917293833,0.5052137893755069,0.18905917980981757,0.3726167124413491,0.4330005872384515,0.29472520590180684,0.1312175144375637,0.38346612344354736,0.1908737981466837,0.27222062703046945,0.32353067512047895,0.22867370358989703,0.5413885163617287,0.6220657910653316,0.35445906801361793,0.18404469925858513,0.42469519754035523,0.3951729122180315,0.322066481693842,0.28686824267774447,0.4877678674480028,0.30259754763158087,0.4114531018870202,0.21717139036423572,0.407629429425427,0.43266568767800084,0.45819494078260115,0.1826976569052522,0.5694102677611308,0.20891865028238044,0.22840374662053098,0.39236970872828725,0.7120152461117426,0.3945544405149477,0.64806404044854,0.276781391712154,0.22986617691532985,0.42648116483439913,0.39444688867040445,0.30665983227363536,0.5454602044404546,0.28628699273595437,0.3328045206990804,0.21922251511356894,0.24562780601973122,0.563145717910081,0.1799337321973803,0.3632604887453732,0.10288055181666922,0.17182282723516717,0.29219284084704433,0.0296952204907589,0.18658274549364695,0.2689071889544974,0.35192425415349127,0.20820555643510086,0.1641497699559602,0.1660298695127631,0.2634454574841941,0.23410565741043743,0.25584512974436524,0.37830549773881905,0.2817294604292049,0.409211067814109,0.3160689501253572,0.26045986624071416,0.2969128761746618,0.2667842650794241,0.13815485084373158,0.2689849631492778,0.07476936977254056,0.18332176104121978,0.2959096471376206,0.39773936475580374,0.35137278166085706,0.4769208073551241,0.3077525898514477,0.10194476292349253,0.7026808658719552,0.21457364198558126,0.38962380712358047,0.19107739243049748,0.00564730245034506,0.4170749856694784,0.32150707500763387,0.209616365824555,0.3158067313568691,0.2575053260980048,0.29482991695559346,0.2858328850816211,0.17321502574397463,0.17598360312185657,0.4301883718962145,0.46488959991517254,0.3550201397350128,0.636668250757739,0.13446708738076307,0.4544029069986537,0.1570343068818877,0.35588427634651654,0.14167805406464695,0.27392930981056307,0.009823456842745992,0.42924499164622665,0.271517524196736,0.38095981358156905,0.29008509968559326,0.43588420972103625,0.14024016077151258,0.35908937900837434,0.47566956270094973,0.5959743887810245,0.5199321266902106,1.0,0.3312268982549048,0.4241563610599344,0.2618952615798553,0.14450755788850045,0.1910229798830253,0.18295110896257283,0.22034862555284251,0.1327823050774365,0.15966085334803803,0.2618952615798553,0.2383148707755589,0.23772196458442907,0.3256416486568653,0.3256416486568653,0.16471495571851258,0.2744310222251286,0.3539829211110065,0.15751686978695367,0.16471495571851258,0.17115459565462132,0.2194895333961342,0.2744310222251286,0.2201577162292644,0.16471495571851258,0.19026267265908592,0.41986721858340936,0.3323274921302467,0.2201577162292644,0.15966085334803803,0.37703123407349337,0.2503916261557705,0.2194895333961342,0.19026267265908592,0.415302927437442,0.29884283370557807,0.1333760929347887,0.3092542012326809,0.2632950024974514,0.23357514690837655,0.18295110896257283,0.34040857049467454,0.2719586040540706,0.19026267265908592,0.1744982519125573,0.14450755788850045,0.16281835104905729,0.17115459565462132,0.2385400635748428,0.2719586040540706,0.16814902218344208,0.15966085334803803,0.3944981177909638,0.2618952615798553,0.2357195222542463,0.2142088181319075,0.415302927437442,0.2947473430461296,0.10611430552134937,0.3944981177909638,0.0,0.2744310222251286,0.2201577162292644,0.3124836940521364,0.2632950024974514,0.34040857049467454,0.16814902218344208,0.19026267265908592,0.1327823050774365,0.34040857049467454,0.2772034689040562,0.2947473430461296,0.1259532549367537,0.3539829211110065,0.10611430552134937,0.15751686978695367,0.2142088181319075,0.2201577162292644,0.1932943504716783,0.32720624330404224,0.3092542012326809,0.2142088181319075,0.32720624330404224,0.1910229798830253,0.2357195222542463,0.0,0.19026267265908592,0.6224210646382669,0.508134144139162,0.3539829211110065,0.2947473430461296,0.1974013015883772,0.16551459067234653,0.18295110896257283,0.1327823050774365,0.2947473430461296,0.23772196458442907,0.16281835104905729,0.15751686978695367,0.15966085334803803,0.23357514690837655,0.37449896691477547,0.2357195222542463,0.34040857049467454,0.2744310222251286,0.16471495571851258,0.0,0.415302927437442,0.37449896691477547,0.2674085162600651,0.1910229798830253,0.18295110896257283,0.37449896691477547,0.10428367195326771,0.415302927437442,0.16814902218344208,0.3944981177909638,0.16471495571851258,0.10428367195326771,0.19026267265908592,0.1327823050774365,0.16471495571851258,0.3256416486568653,0.2719586040540706,0.1259532549367537,0.1327823050774365,0.2772034689040562,0.2772034689040562,0.37703123407349337,0.22124009100874487,0.3092542012326809,0.2618952615798553,0.2674085162600651,0.2632950024974514,0.16814902218344208,0.3944981177909638,0.1327823050774365,0.2503916261557705,0.6224210646382669,0.37703123407349337,0.16551459067234653,0.1744982519125573,0.23772196458442907,0.16471495571851258,0.2385400635748428,0.2772034689040562,0.19026267265908592,0.15751686978695367,0.2194895333961342,0.1333760929347887,0.2772034689040562,0.10428367195326771,0.2772034689040562,0.2385400635748428,0.34040857049467454,0.2947473430461296,0.17115459565462132,0.10428367195326771,0.22124009100874487,0.0,0.1744982519125573,0.2947473430461296,0.2618952615798553,0.1333760929347887,0.3944981177909638,0.18295110896257283,0.18295110896257283,0.0,0.3092542012326809,0.29245564719240746,0.2719586040540706,0.32839616992806586,0.2618952615798553,0.29884283370557807,0.14450755788850045,0.32839616992806586,0.2142088181319075,0.41986721858340936,0.2385400635748428,0.23772196458442907,0.2618952615798553,0.37449896691477547,0.18295110896257283,0.3506871677431249,0.3016229112372908,0.3978174752318484,0.48727331480622116,0.5114475112413528,0.4115193992395918,0.29574154840742484,0.2270562575007984,0.5690967729441518,0.8939699583521139,0.45464042258296233,0.4345311265320966,0.4554127960627714,0.4804164338964312,0.2530643383689557,0.32759525475399,0.2942051773681116,0.4370611075568551,0.4758747750579597,0.4529893569455743,0.23573797677649444,0.2962419829427416,0.4006804837719866,0.35051004450925305,0.5429427274669325,0.04413864448333382,0.36981245817886466,0.5796071280081301,0.4263851322261534,0.6328604722517281,0.33150525607696957,0.6931137584258469,0.5032891205916543,0.9325723287913092,0.49790919728860805,0.622568673563566,0.491164665691761,0.4255478732105191,0.5013591919979932,0.22873557794594568,0.58617520651792,0.4109554190046414,0.38948866213026667,0.14309112679027458,0.7366206335500742,0.520908751695869,0.6089325286969733,0.0,0.6198156688225198,0.346714402710941,0.5109197152748832,0.24457470718581065,0.4586565191251999,0.6421196849412478,0.4037048689256071,0.46161344977063345,0.37148652975054897,0.4829704260757077,0.42813168372097676,0.6644670325700295,0.4112251245076175,0.3626566119668362,0.4121153194036249,0.26906651913190127,0.39121633972913905,0.7600265885437414,0.6680689109087543,0.4159182205158438,0.8791012099336057,0.5249209394295531,0.6994466405628244,0.2514888794728305,0.32572909508975467,0.37103914271050176,0.39912847772717996,0.5685647330957222,0.4867435086280272,0.0988250565204225,0.39606344142204475,0.3661853404643267,0.8830180236534699,0.199429944529661,0.79187113720829,0.5005423701730123,0.7167075578588236,0.37633765186690415,0.515075075872913,0.36110717443695384,0.20574082572384467,0.31219737030410233,0.6218022188753152,0.44401838812413663,0.4752167608740989,0.4924649469816551,0.6494513143222378,0.19233418166829752,0.6784756276535027,0.4483649436668298,0.18617786446199247,0.6106038082952221,0.5484993270868284,0.41979695159911734,0.5085435164762924,0.30648140428244885,0.40947566942446256,0.602188108715022,0.1778106338791321,0.4456352799334873,0.6075603260158584,0.2899653871914911,0.5204384705651401,0.5783432542165095,0.5568011138306643,0.3434716848687347,0.7010623039221611,0.6754554863818425,0.40431999805899865,0.4213154539627011,0.6535480432494092,0.27321986951820665,0.6140840677953727,1.0,0.4139942107137413,0.4526389074427686,0.4221770592062608,0.5685722156394213,0.4737174674798734,0.4434034824492561,0.2551942845158892,0.4609764315380631,0.4679102594827451,0.642102598027229,0.3910804261787002,0.5308463039162876,0.3385591391080853,0.42730559237036436,0.07873273576867912,0.5171823509302382,0.5631958663002397,0.20834730709519156,0.7954318060923009,0.7234383530470054,0.6949439577375502,0.604770802390362,0.2778232870743793,0.39359399043625465,0.2247396953645695,0.25384307755734636,0.5738448152731956,0.4321658721687358,0.34518216393869205,0.15792748836267756,0.6578947104069983,0.42235831447847816,0.463274454851748,0.504618661680811,0.7624565049844161,0.4336775621354352,0.4081679055908696,0.36254493280070776,0.35293493553497557,0.6527201651455832,0.44437754862065515,0.39517011925047574,0.42536773454470067,0.7629832959593825,0.28869626452640706,0.3821434079555075,0.3064430981873474,0.31226616464848056,0.6062545726227089,0.4253749936298885,0.6585923705221519,0.4646625159968676,0.44892188781766573,0.4050765130748033,0.8470423487752019,0.5402238967826429,0.7073030504783377,0.6806443265838411,0.2560694029383219,0.6798506223080527,0.5740966518717234,0.33960646696433394,0.4552283019000969,0.421280163299546,0.39542865663099147,0.47638916946045295,0.5246764735311096,0.416374318320885,0.7404257681038098,0.653394372638137,0.5447216658078611,0.3624999259236179,0.6619594989476489,0.6864235030030021,0.8237469563412638,0.4551102570253873,0.8172217626532245,0.5011361685104245,0.5838243589387582,0.48187742142427403,0.6663493860003957,0.6189072701773757,0.563248913795509,0.37083130776884254,0.7782835729539332,0.4266038002168653,0.23050122633779369,0.46541076670726267,0.7258822295835752,0.46905754007946254,0.6892416165096655,0.4511105772503541,0.4105031181645382,0.7628711701049511,0.6453790432378885,0.4865672787707618,0.6190446356363395,0.33909743305020035,0.47243773522424815,0.2661225431334222,0.3986585314411397,0.6381396608238761,0.43124987913627755,0.4761334240533721,0.244015752594531,0.4283191930868788,0.5374267787698321,0.19324727111242468,0.36584416025843347,0.51505519675674,0.4001916638187142,0.35505282041156105,0.3057816221119556,0.3451371570616022,0.4567994052993658,0.4758834858229537,0.5595560169398202,0.5362608477356745,0.5050375704545871,0.6500540471118745,0.4534815271754815,0.4258581180213943,0.6044326376164151,0.5416765083901798,0.11988865147012917,0.4738807424614653,0.15569613733803078,0.3018815604614218,0.39048964304451506,0.68627329451198,0.45020686894675443,0.588604006352196,0.4854150843739884,0.21967146878092336,0.9397349874002221,0.3371372394370551,0.6020612410029846,0.21069893666478334,0.17896629039615553,0.7459433917105087,0.6746626757113798,0.5767976138802837,0.48590021874849953,0.41802828754660437,0.4889439244863747,0.5104497689888425,0.3644985374754801,0.3301643236355609,0.7895368182399471,0.632002329128418,0.4275928314756625,0.7074482335544079,0.20368402964686516,0.5574637067411738,0.31358531960560687,0.7846491770104227,0.1571036306823006,0.49498733384781834,0.23590337381342574,0.6643352510579359,0.488246822674421,0.5237419419048261,0.3387189521981462,0.486346488953429,0.2520830128836502,0.6069828328307543,0.5065853328461527,0.456712295362236,0.7510943725057087,0.6366045182345772,0.5859067296936771,0.5071225099531498,0.5013591919979932,0.24457470718581065,0.4263851322261534,0.2530643383689557,0.38948866213026667,0.2270562575007984,0.23573797677649444,0.5013591919979932,0.4758747750579597,0.4006804837719866,0.45464042258296233,0.45464042258296233,0.35051004450925305,0.4586565191251999,0.622568673563566,0.22873557794594568,0.35051004450925305,0.3978174752318484,0.2962419829427416,0.4586565191251999,0.3016229112372908,0.35051004450925305,0.14309112679027458,0.6328604722517281,0.4255478732105191,0.3016229112372908,0.23573797677649444,0.5032891205916543,0.4345311265320966,0.2962419829427416,0.14309112679027458,0.5429427274669325,0.6198156688225198,0.36981245817886466,0.4109554190046414,0.5796071280081301,0.32759525475399,0.2530643383689557,0.6089325286969733,0.5109197152748832,0.14309112679027458,0.4037048689256071,0.24457470718581065,0.37148652975054897,0.3978174752318484,0.491164665691761,0.5109197152748832,0.29574154840742484,0.23573797677649444,0.5690967729441518,0.5013591919979932,0.4370611075568551,0.48727331480622116,0.5429427274669325,0.4804164338964312,0.346714402710941,0.5690967729441518,0.04413864448333382,0.4586565191251999,0.3016229112372908,0.4529893569455743,0.5796071280081301,0.6089325286969733,0.29574154840742484,0.14309112679027458,0.2270562575007984,0.6089325286969733,0.49790919728860805,0.4804164338964312,0.2942051773681116,0.622568673563566,0.346714402710941,0.22873557794594568,0.48727331480622116,0.3016229112372908,0.4115193992395918,0.6421196849412478,0.4109554190046414,0.48727331480622116,0.6421196849412478,0.4263851322261534,0.4370611075568551,0.04413864448333382,0.14309112679027458,0.9325723287913092,0.8939699583521139,0.622568673563566,0.4804164338964312,0.33150525607696957,0.0,0.2530643383689557,0.2270562575007984,0.4804164338964312,0.4006804837719866,0.37148652975054897,0.22873557794594568,0.23573797677649444,0.32759525475399,0.7366206335500742,0.4370611075568551,0.6089325286969733,0.4586565191251999,0.35051004450925305,0.04413864448333382,0.5429427274669325,0.7366206335500742,0.58617520651792,0.4263851322261534,0.2530643383689557,0.7366206335500742,0.3506871677431249,0.5429427274669325,0.29574154840742484,0.5690967729441518,0.35051004450925305,0.3506871677431249,0.14309112679027458,0.2270562575007984,0.35051004450925305,0.45464042258296233,0.5109197152748832,0.2942051773681116,0.2270562575007984,0.49790919728860805,0.49790919728860805,0.5032891205916543,0.5114475112413528,0.4109554190046414,0.5013591919979932,0.58617520651792,0.5796071280081301,0.29574154840742484,0.5690967729441518,0.2270562575007984,0.4345311265320966,0.9325723287913092,0.5032891205916543,0.0,0.4037048689256071,0.4006804837719866,0.35051004450925305,0.491164665691761,0.49790919728860805,0.14309112679027458,0.22873557794594568,0.2962419829427416,0.36981245817886466,0.49790919728860805,0.3506871677431249,0.49790919728860805,0.491164665691761,0.6089325286969733,0.4804164338964312,0.3978174752318484,0.3506871677431249,0.5114475112413528,0.04413864448333382,0.4037048689256071,0.4804164338964312,0.5013591919979932,0.36981245817886466,0.5690967729441518,0.2530643383689557,0.2530643383689557,0.04413864448333382,0.4109554190046414,0.4554127960627714,0.5109197152748832,0.6931137584258469,0.5013591919979932,0.6198156688225198,0.24457470718581065,0.6931137584258469,0.48727331480622116,0.6328604722517281,0.491164665691761,0.4006804837719866,0.5013591919979932,0.7366206335500742,0.2530643383689557,0.17010234136754665,0.3220038714142952,0.33646898863688546,0.2288272357565082,0.4103612679441595,0.1602609589351076,0.2586568214067697,0.17298616755324336,0.19794936415895026,0.44471272053432975,0.3249577993642314,0.3632943359485652,0.3440587929882337,0.4739777482972114,0.23913787739255166,0.33153025233039535,0.40377201717356126,0.3578085880583617,0.24427078708766703,0.22357948550176676,0.3634184071471833,0.21760959315104977,0.2808321559851281,0.35047906728974243,0.3023146199818414,0.345754046247728,0.21482663724238682,0.31919280803959516,0.3035609878632404,0.5132538004361948,0.2504025038653248,0.5507145201129693,0.4810180464931746,0.3894422803854236,0.3460419382970059,0.3073534784919012,0.31971636877621323,0.35118357963162516,0.40180583614430887,0.3518752853134417,0.360318121199827,0.33167261833191164,0.26565786937594593,0.1595201069129395,0.3986711230641926,0.5242405974483402,0.549862486151141,0.28389751537446917,0.27835239293171377,0.3339883940595805,0.397167798121395,0.36263872044729006,0.366649084385648,0.29689739383275504,0.3981828209842253,0.2440073434586929,0.3923888906696613,0.3041911569452358,0.26307615502186343,0.30394966673912593,0.18237550456134177,0.62591071190556,0.2740543034191636,0.35746481402718056,0.28783686257427,0.3670836665309809,0.4996348960824306,0.2471748206237876,0.428655631450525,0.5349045758531921,0.5667072446493431,0.3038265935394837,0.5116185872038252,0.3310231564480417,0.3229779805767896,0.7299601346882216,0.2670459377842882,0.31408526131333336,0.2869279486315621,0.18262589245627336,0.3167448110721838,0.17448508537684315,0.3248257450253418,0.33420377279760527,0.3270274286926165,0.32714418179976823,0.2682261120211571,0.30516909162854877,0.13175441209695182,0.20413355337252237,0.27133188611134584,0.36409714054538345,0.3330324132248992,0.23170199777829859,0.37139106970718205,0.22576254141597296,0.3793444394653065,0.3167632723501672,0.26518836067259777,0.32865066721457836,0.32540951226416936,0.35805373688443765,0.27509028213164943,0.2889320493642227,0.4138237883491458,0.4532659898611435,0.12142763813104684,0.20066928646932802,0.2801818625773673,0.1987913359578959,0.24952818395622933,0.3837250214273338,0.28403655485465507,0.20330189323620274,0.33445274671873193,0.19535658964300895,0.24763252066604569,0.4456978064082566,0.42365951616366737,0.42424893802041264,0.47721724019983913,0.3677033579010325,0.16583726543971844,0.44393037278767955,0.26551583589883254,0.4049490313641848,0.20668832473462917,0.2940356045203487,0.36142062650701323,0.18232336464983012,0.42569056031407104,0.4166789254704262,0.29327787166908714,0.10373126164584501,0.3158415521731608,0.170751969300734,0.2040226209326057,0.37270479528140465,0.376696198942291,0.4287136754796981,0.4368009295253463,0.959738029611664,1.0,0.3929680008637799,0.1342065666838168,0.47514511629978173,0.3004909714291901,0.14599558626863351,0.4897088587274778,0.5378142644329975,0.7812042450439936,0.10906050635108722,0.6041826000832831,0.2929094827425167,0.34322122873425265,0.5573771157187115,0.5356193998577012,0.43005301394828543,0.256467944399561,0.5046745856906136,0.2485598954609698,0.5882254667279627,0.3884289205703748,0.2780343978442148,0.4893203459009101,0.42631756934982157,0.3666572335752376,0.2020482907137635,0.18214740303944477,0.219886867151164,0.13222624889688706,0.25123724102323064,0.265207486999387,0.36417530847455404,0.1801062141272669,0.12655597423187936,0.7226675360498018,0.41932500394617267,0.47327340243041416,0.30465617465319283,0.34218574859548734,0.2645661747308743,0.18589249382596162,0.21739255179101113,0.2405247817526004,0.5217656574889526,0.15358547364464048,0.08864503907939825,0.40278892644605135,0.25597681479775125,0.26106872776787227,0.5468091014722078,0.34951576836359455,0.4855414934562059,0.5421790461637985,0.34796520962797106,0.7162735396914635,0.7125720236520392,0.6535159119664506,0.43066106313233155,0.26681060162135095,0.28194463957900306,0.829848512292102,0.3143260860448702,0.3215237185239175,0.1980128963309553,0.44593098094969186,0.35300190609076143,0.16323235016405158,0.42708544781439195,0.3234699417024902,0.25538406684544346,0.34820071226599336,0.2728995756015742,0.3520051776050621,0.3704859808595249,0.4301858998110659,0.2004659658921375,0.3798922825729105,0.3562294228572136,0.4876327436830523,0.2581157973911443,0.5140945251621885,0.9380415178260724,0.36550932484962684,0.4679686057197081,0.21226945433326683,0.3656383856173566,0.46331692993860485,0.4043278429956696,0.3263628320520935,0.31158720388278827,0.37205649744582847,0.2541649744804233,0.2814422007413586,0.18720738344847776,0.302773484072393,0.2788115895466683,0.26329619037882956,0.15303638303831701,0.42503195124163584,0.2536065706362163,0.2779855010036074,0.18391583508476517,0.4953309854768775,0.2586243902719616,0.02393395353477268,0.3578548238522121,0.3656347265716231,0.375782794429959,0.5955957347218324,0.42822387682703433,0.27302431184899767,0.31318000641635835,0.4574030860448768,0.23250671492264208,0.3939372873580156,0.08384384525463018,0.46844376904097373,0.0,0.15670696451562915,0.4025620724228738,0.5094162384877448,0.377343332303806,0.29518201667326305,0.2020315759339879,0.3097332858168309,0.22159276459768784,0.17528606045079487,0.12293894663988358,0.48459765338125016,0.511837292037413,0.1443916401227785,0.40372960647476197,0.12310933665701063,0.2186854875648956,0.2529579402762372,0.5685117668752051,0.1650122579202924,0.19347082246639014,0.3622295847212369,0.32096772622672387,0.381177734206011,0.258339658268929,0.23790414969613383,0.21995813338946468,0.25317589703636045,0.23551843782777504,0.31548414038379,0.5978123866706753,0.40722223034373695,0.13209826957855952,0.5393884396392667,0.37060872196053163,0.40180583614430887,0.36263872044729006,0.3035609878632404,0.23913787739255166,0.26565786937594593,0.17298616755324336,0.3634184071471833,0.40180583614430887,0.24427078708766703,0.2808321559851281,0.3249577993642314,0.3249577993642314,0.35047906728974243,0.366649084385648,0.3073534784919012,0.3518752853134417,0.35047906728974243,0.33646898863688546,0.21760959315104977,0.366649084385648,0.3220038714142952,0.35047906728974243,0.1595201069129395,0.5132538004361948,0.35118357963162516,0.3220038714142952,0.3634184071471833,0.4810180464931746,0.3632943359485652,0.21760959315104977,0.1595201069129395,0.3023146199818414,0.27835239293171377,0.21482663724238682,0.33167261833191164,0.31919280803959516,0.33153025233039535,0.23913787739255166,0.549862486151141,0.397167798121395,0.1595201069129395,0.3981828209842253,0.36263872044729006,0.3923888906696613,0.33646898863688546,0.31971636877621323,0.397167798121395,0.2586568214067697,0.3634184071471833,0.19794936415895026,0.40180583614430887,0.3578085880583617,0.2288272357565082,0.3023146199818414,0.4739777482972114,0.3339883940595805,0.19794936415895026,0.345754046247728,0.366649084385648,0.3220038714142952,0.22357948550176676,0.31919280803959516,0.549862486151141,0.2586568214067697,0.1595201069129395,0.17298616755324336,0.549862486151141,0.3460419382970059,0.4739777482972114,0.40377201717356126,0.3073534784919012,0.3339883940595805,0.3518752853134417,0.2288272357565082,0.3220038714142952,0.1602609589351076,0.29689739383275504,0.33167261833191164,0.2288272357565082,0.29689739383275504,0.3035609878632404,0.3578085880583617,0.345754046247728,0.1595201069129395,0.3894422803854236,0.44471272053432975,0.3073534784919012,0.4739777482972114,0.2504025038653248,0.28389751537446917,0.23913787739255166,0.17298616755324336,0.4739777482972114,0.2808321559851281,0.3923888906696613,0.3518752853134417,0.3634184071471833,0.33153025233039535,0.3986711230641926,0.3578085880583617,0.549862486151141,0.366649084385648,0.35047906728974243,0.345754046247728,0.3023146199818414,0.3986711230641926,0.360318121199827,0.3035609878632404,0.23913787739255166,0.3986711230641926,0.17010234136754665,0.3023146199818414,0.2586568214067697,0.19794936415895026,0.35047906728974243,0.17010234136754665,0.1595201069129395,0.17298616755324336,0.35047906728974243,0.3249577993642314,0.397167798121395,0.40377201717356126,0.17298616755324336,0.3460419382970059,0.3460419382970059,0.4810180464931746,0.4103612679441595,0.33167261833191164,0.40180583614430887,0.360318121199827,0.31919280803959516,0.2586568214067697,0.19794936415895026,0.17298616755324336,0.3632943359485652,0.3894422803854236,0.4810180464931746,0.28389751537446917,0.3981828209842253,0.2808321559851281,0.35047906728974243,0.31971636877621323,0.3460419382970059,0.1595201069129395,0.3518752853134417,0.21760959315104977,0.21482663724238682,0.3460419382970059,0.17010234136754665,0.3460419382970059,0.31971636877621323,0.549862486151141,0.4739777482972114,0.33646898863688546,0.17010234136754665,0.4103612679441595,0.345754046247728,0.3981828209842253,0.4739777482972114,0.40180583614430887,0.21482663724238682,0.19794936415895026,0.23913787739255166,0.23913787739255166,0.345754046247728,0.33167261833191164,0.3440587929882337,0.397167798121395,0.5507145201129693,0.40180583614430887,0.27835239293171377,0.36263872044729006,0.5507145201129693,0.2288272357565082,0.5132538004361948,0.31971636877621323,0.2808321559851281,0.40180583614430887,0.3986711230641926,0.23913787739255166,0.0015612301472845498,0.00252284540463345,2.7727217644408264e-05,1.8558456431317086e-05,0.0005226193891461972,0.0017837106904552093,0.0027632216022200223,0.0010551808085234571,0.00020646282779840258,0.0025401887240365153,0.00013366507310650996,0.007991182965723084,0.0,0.0037330114177589182,1.3256040308083634e-06,0.001188514480622265,0.0008232001031319825,0.0016047541462960912,4.418680102694544e-07,0.008771632338861498,0.0,0.0,0.003151181715236614,0.00948215609937479,0.0,0.0003054412620987493,0.007403056644054428,0.0009303530956223364,0.004118872657726719,0.012451177727377822,0.0,0.0005182007090435026,0.0016658423987158432,0.0019382540270469618,0.0004899211563862576,0.007251937784542286,0.0009185331263476283,0.0003315114747046582,0.00036774465154675343,0.00030267958703457626,0.001430326749242224,0.0,0.003277776900178813,0.00033913369788180625,0.014329558639033273,0.00024159133461482422,0.002936544329248227,0.001405692607669702,0.00043822259918473145,2.6291146611021493e-05,0.00028876074471108847,0.18637539758455063,0.012602407053892532,0.008428300894882142,0.009122917407025725,0.0012306024086004307,0.0001606190217329467,0.000902625877977928,0.00031063321121942644,0.0012413177078494648,0.00020182321369057333,0.0,0.004324672683509718,0.005037958119087185,7.765830280485661e-05,0.0007368149071243152,0.011114195595305021,0.0012124858201793829,0.08836134021660592,0.00011344961163668241,0.0007667514648200598,0.0021211873832985163,0.014213899687345244,0.024718317428478416,0.006317276475819823,0.10323163483320644,1.4250243331189905e-05,0.004877560031359373,0.013367722447679238,0.0001651481688382086,0.008525953725151691,9.16876121309118e-06,0.000781112175153817,0.0016604295155900424,0.0004893688213734208,2.0988730487799085e-06,0.0001205194998009937,0.001227398865525977,0.0016654005307055627,0.00021253851293960758,0.0014236987290881821,0.0007670828658277729,0.0,7.787923680999134e-05,0.0,0.001258992428260243,0.0004133675236070746,0.0001323394690757016,0.0003800064888317308,0.01769349980121463,0.00029097008476243577,0.002614974884774631,0.008661054869291576,0.0,0.0005327823533823947,8.848406905645824e-05,0.14373425085752772,0.0006286677116108663,0.006522634633592552,0.0029073810405704425,3.236683175223754e-05,0.0003763610777470078,0.00038818104702171576,0.0,4.186699397303081e-05,0.0013470346293064318,0.0,4.750081110396635e-06,0.0001939800565082905,0.0,0.0031931591762122125,1.193043627727527e-05,0.04385517908523822,0.0005739865453400214,0.0018144205171689472,1.4250243331189905e-05,2.2756202528876902e-05,4.4849603042338576e-05,0.0005383057035107629,6.628020154041817e-07,0.0006123185952308965,2.728534963413881e-05,3.269823275993963e-05,0.00027948151649542996,0.0010679949808212713,0.01680357762853195,7.765830280485661e-05,0.000906271289062651,0.017807943615874417,8.826313505132352e-05,3.645411084722999e-05,0.003088325990775784,0.007549756823463899,0.0008150255449420087,0.11029820898744068,0.0013916632983436467,0.001541787954832683,0.0003933729961423818,0.08676873744059224,0.0035678632489207097,0.010312094689663393,0.553788648123602,0.0072224430948568,0.0003803378898394329,0.0010212674387352766,0.00015719454465335842,0.008463650335703687,0.0005391894395313018,0.0015414565538249918,0.01015965022612043,0.16993647153149355,0.06387898030561139,0.009844708801800878,0.0,0.03318130496216671,0.0028086235402752196,0.0,6.484413050704243e-05,0.0,0.0,0.0007013549993001915,0.0028666187166230856,0.02872020553048629,0.005479826129356639,0.03636408024013759,0.004774604784966589,0.021204030675802878,0.036045935272743586,0.0,0.0029771961861930164,0.0035386999602429257,0.0075569371786307765,0.008584390769509826,0.0006744010506737438,0.00016835171191266214,1.4360710333757268e-06,0.0013818317351151513,0.0017391924884205727,0.008474476101955288,9.62167592361737e-05,0.00014957232147621031,0.006435034300556633,0.0013469241623038646,0.0,0.0035877473093828354,0.00014305476832473585,0.02134631217510964,1.778518741334554e-05,3.49075728112869e-05,0.025270873375320368,0.002225136832714405,0.004182833052213212,0.0032013337344021973,0.0018731889625347848,0.012288459832596096,0.0007168203796596225,0.007708608373155767,0.0043768131087215025,0.0,1.4360710333757268e-05,1.8116588421047633e-05,0.0014286697442037137,0.0,0.00015553753961484795,0.0,0.0002888712117136448,0.0,0.0001538805345763375,5.523350128368181e-07,2.9826090693188174e-05,0.0,0.0,0.0012731322045888656,0.002576200966873487,0.00013244993607826897,0.00018414849327979516,0.00022590502025025857,0.0,0.002051593171681066,6.186152143772363e-06,3.314010077020908e-05,0.013228865425452062,0.07571794990476088,0.005937822322000929,0.020535705310270328,0.0034422622670016176,0.0006414818839086805,0.0,0.0,0.01952669970882003,1.0,0.0005297997443130759,0.0,0.0,0.005204210957951067,0.005640334684087018,0.0008354619404169599,2.3750405551983175e-05,0.00011333914463411506,0.0012579982252371258,0.00024943449179710704,0.0052257520234517026,0.009202011780863956,0.0009406265268611011,0.055784731626492945,0.0003265404595891268,0.08265074851888604,0.0005987311539151108,0.009368816954740674,0.0013616162736453238,0.256602253725693,0.008630897377590674,0.0007343846330678333,0.06444700163281278,2.2093400513472724e-06,0.05249436148802146,0.0002453472127021146,9.058294210523816e-06,0.0,0.00015432240258660696,0.0005060493387610927,0.0,0.001643969932207505,0.0010076799974194908,0.0021792930266489492,0.020381161973678584,5.523350128368181e-07,0.00024545767970468195,5.081482118098726e-06,0.0007789028351024808,0.026230058358612786,0.006168146022353882,0.0013818317351151513,0.0005334451553977989,0.0,0.002005749365615621,0.00010328664740048497,7.821063781769343e-05,0.0003165984293580641,0.01629774922377599,2.098873048778804e-05,0.28871788351409233,0.026574715406622963,0.008301926643945077,0.00036774465154675343,0.18637539758455063,0.004118872657726719,1.3256040308083634e-06,0.003277776900178813,0.0010551808085234571,0.0,0.00036774465154675343,4.418680102694544e-07,0.003151181715236614,0.00013366507310650996,0.00013366507310650996,0.00948215609937479,0.012602407053892532,0.007251937784542286,0.00030267958703457626,0.00948215609937479,2.7727217644408264e-05,0.0,0.012602407053892532,0.00252284540463345,0.00948215609937479,0.00033913369788180625,0.012451177727377822,0.0003315114747046582,0.00252284540463345,0.0,0.0016658423987158432,0.007991182965723084,0.0,0.00033913369788180625,0.0,0.00043822259918473145,0.007403056644054428,0.0,0.0009303530956223364,0.001188514480622265,1.3256040308083634e-06,0.002936544329248227,0.00028876074471108847,0.00033913369788180625,0.009122917407025725,0.18637539758455063,0.0001606190217329467,2.7727217644408264e-05,0.0009185331263476283,0.00028876074471108847,0.0027632216022200223,0.0,0.00020646282779840258,0.00036774465154675343,0.0016047541462960912,1.8558456431317086e-05,0.0,0.0037330114177589182,2.6291146611021493e-05,0.00020646282779840258,0.0003054412620987493,0.012602407053892532,0.00252284540463345,0.008771632338861498,0.0009303530956223364,0.002936544329248227,0.0027632216022200223,0.00033913369788180625,0.0010551808085234571,0.002936544329248227,0.0004899211563862576,0.0037330114177589182,0.0008232001031319825,0.007251937784542286,2.6291146611021493e-05,0.00030267958703457626,1.8558456431317086e-05,0.00252284540463345,0.0017837106904552093,0.008428300894882142,0.0,1.8558456431317086e-05,0.008428300894882142,0.004118872657726719,0.0016047541462960912,0.0003054412620987493,0.00033913369788180625,0.0019382540270469618,0.0025401887240365153,0.007251937784542286,0.0037330114177589182,0.0,0.001405692607669702,1.3256040308083634e-06,0.0010551808085234571,0.0037330114177589182,0.003151181715236614,0.0001606190217329467,0.00030267958703457626,0.0,0.001188514480622265,0.014329558639033273,0.0016047541462960912,0.002936544329248227,0.012602407053892532,0.00948215609937479,0.0003054412620987493,0.0,0.014329558639033273,0.001430326749242224,0.004118872657726719,1.3256040308083634e-06,0.014329558639033273,0.0015612301472845498,0.0,0.0027632216022200223,0.00020646282779840258,0.00948215609937479,0.0015612301472845498,0.00033913369788180625,0.0010551808085234571,0.00948215609937479,0.00013366507310650996,0.00028876074471108847,0.0008232001031319825,0.0010551808085234571,0.0004899211563862576,0.0004899211563862576,0.0016658423987158432,0.0005226193891461972,0.0,0.00036774465154675343,0.001430326749242224,0.0009303530956223364,0.0027632216022200223,0.00020646282779840258,0.0010551808085234571,0.007991182965723084,0.0019382540270469618,0.0016658423987158432,0.001405692607669702,0.009122917407025725,0.003151181715236614,0.00948215609937479,0.0009185331263476283,0.0004899211563862576,0.00033913369788180625,0.00030267958703457626,0.0,0.007403056644054428,0.0004899211563862576,0.0015612301472845498,0.0004899211563862576,0.0009185331263476283,0.002936544329248227,0.0037330114177589182,2.7727217644408264e-05,0.0015612301472845498,0.0005226193891461972,0.0003054412620987493,0.009122917407025725,0.0037330114177589182,0.00036774465154675343,0.007403056644054428,0.00020646282779840258,1.3256040308083634e-06,1.3256040308083634e-06,0.0003054412620987493,0.0,0.0,0.00028876074471108847,0.0005182007090435026,0.00036774465154675343,0.00043822259918473145,0.18637539758455063,0.0005182007090435026,1.8558456431317086e-05,0.012451177727377822,0.0009185331263476283,0.003151181715236614,0.00036774465154675343,0.014329558639033273,1.3256040308083634e-06,0.5644600595211218,0.5476768857893848,0.36004174774511744,0.34596835761398825,0.2824310960056369,0.4782009011128181,0.3035272670375009,0.44932979668517325,0.5697643754325203,0.6457319743307288,0.3996644979821833,0.6090677562070299,0.411624510247651,0.41102213192308445,0.5424341991269255,0.490581029270152,0.3340028321888713,0.33772670900073165,0.8574663145945409,0.3096451677943266,0.46913149095789275,0.3690209127272077,0.6053611408355009,0.3218385048521053,0.5550080754662292,0.5054303309891026,0.22100399625315137,0.32210819024496273,0.9053947711093631,0.3222933405231936,0.7349433640985141,0.32599017659963003,0.5007352848518323,0.504459030397987,0.2310657095121429,0.2490735266474633,0.6494792820710997,0.7136196439654001,0.6636341225727658,0.4106738840052211,0.14462350107690392,0.015624425712536416,0.9774942978177334,0.44833329307851666,0.30534916940311896,0.6224569894787908,0.38523367133377495,0.3870800547535511,0.5355218783177407,0.4039593149820373,0.45155081242970696,0.5455625234309283,0.4321396336321639,0.3147175372033262,0.20652184471371982,0.6688856696703758,0.7849876268945579,0.1532145789993773,0.3585480752772068,0.4521652015663673,0.6119045393781364,0.3695708504022506,0.14797267993115382,0.42462460633414767,0.37875485551846255,0.467498479943125,0.5735551977544111,0.5622091151956328,0.9571573019961839,0.4433130361547759,0.5510916974966054,0.3117934623377685,0.701609553833116,0.38346184683497353,0.39260246863537196,0.3146009732564501,0.0,0.33903365600194046,0.8352958650252502,0.05082010875101184,0.41175223177953213,0.41590921978814754,0.43834758266326546,0.4567518878633827,0.3932834751177976,0.2535021690345247,0.24963921620721896,0.48697831070487574,0.37088790486281686,0.6531719832777989,0.7112269983103474,0.5952966709966845,0.7029531895991354,0.04643596543826467,0.5662667350648503,0.23924914178481438,0.11096671154203586,0.2680371550205982,0.3007775786622868,0.31159275707338385,0.2725625402329388,0.615400604557335,0.4349018578822954,0.4858676059340499,0.42106369589621373,0.5172925503036436,0.2046616127619667,0.2308582440639022,0.4331503139350621,0.30099022910591233,0.1445419850735139,0.39417765710667263,0.384472067707901,0.22856286629695233,0.5726058185361877,0.36586384123360327,0.6429357522627581,0.37150380355509505,0.361283586956179,0.2874336320590758,0.4635769169781163,0.2712615001884975,0.3462770945543634,0.06864638541501455,0.77042448441456,0.3194374581918724,0.4323110666441239,0.17032768908299856,0.5187327976292362,0.6805476431505026,0.7322913374085207,0.1362014277508301,0.3916486920159996,0.336466952020809,0.35065894071725645,0.41047993892469203,0.43866544257020346,0.2910173170969905,0.18649693310804638,0.2428567171812106,0.7823168948414676,0.4473415806701271,0.43565250082172313,0.6517706562340182,0.38811856338610906,0.39357790409622484,0.2370764318200671,0.21297171644087198,0.186440948284462,0.5720884347562183,0.38128034206792827,0.5123553189389107,0.40841151956331556,0.40227143490218586,0.2792820973529482,0.4830166460667016,0.02021892231905542,0.42940924131572333,0.1845952211932156,0.581791727005136,0.49638894606239603,0.3925154394723327,0.4798598371045093,0.06219224755241948,0.11480465825235986,0.7300645459729256,0.6547660740107553,0.4644629604932229,0.4140684807937267,0.25664007573506153,0.374963639399454,0.2297877065990943,0.3222290859601349,0.5072238143293841,0.9033625154499731,0.5760936139759119,1.0000000000000002,0.4975733565271083,0.4224612818673752,0.4580447894340556,0.23302708169032393,0.397802887740518,0.6714582149754216,0.17227757551190992,0.17976825302147392,0.5048746176229983,0.3406138325700667,0.22365641674026282,0.15577498222662323,0.4069505978890371,0.14449131651102065,0.2752690421908981,0.4780233642455318,0.36431667799052136,0.5281798592201556,0.43813060045134367,0.588802365828071,0.6290477093084188,0.3218114641166814,0.26095615777927805,0.5343621458057453,0.3564218990052157,0.4681074871858417,0.46204708080821844,0.298221047773366,0.2651459622143788,0.3128646561311059,0.13280597773523573,0.2960011477873328,0.21651858144826996,0.7689696009627549,0.7255630511190663,0.6002226791435594,0.6582053667721341,0.4904862554304621,0.33554874840774684,0.010446649941665331,0.5824124168956815,0.5641173903957608,0.5775571609643091,0.33158301453268857,0.4126181260087769,0.33669318846499974,0.600013901038259,0.42525074375148986,0.4418788926845094,0.29133123903275004,0.2696823081131656,0.426819828367464,0.17965805546133584,0.4504422735430291,0.7618045280367793,0.2176825800957083,0.41742172888486095,0.22682444892031328,0.21093322566045014,0.3546399014142041,0.5410788150802242,0.612036395779755,0.2241212286050025,0.48807661086649,0.3504279787076523,0.5488828238298711,0.18178068755926624,0.3015003932720548,0.2812350028930959,0.08168087311646843,0.2789822864805773,0.24251155400743696,0.23314147975305222,0.17727190745872723,0.31961013822803896,0.37852153072615136,0.33261666633412657,0.5865835816005383,0.43649384836395644,0.40775978533331503,0.10875632831968329,0.3798246053890346,0.11518618202667952,0.579718057015522,0.4688870085805765,0.4515501561011772,0.38696303137670407,0.4043036905615758,0.3123164905430933,0.3639984899193187,0.5671098546941138,0.36946879131588073,0.3297296740304976,0.2726099927856367,0.2287199913469644,0.42737048800388955,0.5745674532457805,0.37348788470040417,0.219962337243651,0.5884680977078909,0.8328367332901381,0.6506086922050223,0.4658698006966533,0.4937558216340583,0.5238916711384516,0.17470054354503506,0.806729822098214,0.7685981846477927,0.42649094214122707,0.34157902930585626,0.38434638079446204,0.4105416994393378,0.8398910179602985,0.576206371217316,0.2686411741664889,0.22557735908101395,0.30975319947031643,0.6636341225727658,0.5455625234309283,0.9053947711093631,0.5424341991269255,0.9774942978177334,0.44932979668517325,0.46913149095789275,0.6636341225727658,0.8574663145945409,0.6053611408355009,0.3996644979821833,0.3996644979821833,0.3218385048521053,0.4321396336321639,0.2490735266474633,0.4106738840052211,0.3218385048521053,0.36004174774511744,0.3690209127272077,0.4321396336321639,0.5476768857893848,0.3218385048521053,0.44833329307851666,0.3222933405231936,0.7136196439654001,0.5476768857893848,0.46913149095789275,0.5007352848518323,0.6090677562070299,0.3690209127272077,0.44833329307851666,0.5550080754662292,0.5355218783177407,0.22100399625315137,0.015624425712536416,0.32210819024496273,0.490581029270152,0.5424341991269255,0.38523367133377495,0.45155081242970696,0.44833329307851666,0.20652184471371982,0.5455625234309283,0.7849876268945579,0.36004174774511744,0.6494792820710997,0.45155081242970696,0.3035272670375009,0.46913149095789275,0.5697643754325203,0.6636341225727658,0.33772670900073165,0.34596835761398825,0.5550080754662292,0.41102213192308445,0.4039593149820373,0.5697643754325203,0.5054303309891026,0.4321396336321639,0.5476768857893848,0.3096451677943266,0.32210819024496273,0.38523367133377495,0.3035272670375009,0.44833329307851666,0.44932979668517325,0.38523367133377495,0.2310657095121429,0.41102213192308445,0.3340028321888713,0.2490735266474633,0.4039593149820373,0.4106738840052211,0.34596835761398825,0.5476768857893848,0.4782009011128181,0.3147175372033262,0.015624425712536416,0.34596835761398825,0.3147175372033262,0.9053947711093631,0.33772670900073165,0.5054303309891026,0.44833329307851666,0.504459030397987,0.6457319743307288,0.2490735266474633,0.41102213192308445,0.7349433640985141,0.3870800547535511,0.5424341991269255,0.44932979668517325,0.41102213192308445,0.6053611408355009,0.7849876268945579,0.4106738840052211,0.46913149095789275,0.490581029270152,0.30534916940311896,0.33772670900073165,0.38523367133377495,0.4321396336321639,0.3218385048521053,0.5054303309891026,0.5550080754662292,0.30534916940311896,0.14462350107690392,0.9053947711093631,0.5424341991269255,0.30534916940311896,0.5644600595211218,0.5550080754662292,0.3035272670375009,0.5697643754325203,0.3218385048521053,0.5644600595211218,0.44833329307851666,0.44932979668517325,0.3218385048521053,0.3996644979821833,0.45155081242970696,0.3340028321888713,0.44932979668517325,0.2310657095121429,0.2310657095121429,0.5007352848518323,0.2824310960056369,0.015624425712536416,0.6636341225727658,0.14462350107690392,0.32210819024496273,0.3035272670375009,0.5697643754325203,0.44932979668517325,0.6090677562070299,0.504459030397987,0.5007352848518323,0.3870800547535511,0.20652184471371982,0.6053611408355009,0.3218385048521053,0.6494792820710997,0.2310657095121429,0.44833329307851666,0.4106738840052211,0.3690209127272077,0.22100399625315137,0.2310657095121429,0.5644600595211218,0.2310657095121429,0.6494792820710997,0.38523367133377495,0.41102213192308445,0.36004174774511744,0.5644600595211218,0.2824310960056369,0.5054303309891026,0.20652184471371982,0.41102213192308445,0.6636341225727658,0.22100399625315137,0.5697643754325203,0.5424341991269255,0.5424341991269255,0.5054303309891026,0.015624425712536416,0.411624510247651,0.45155081242970696,0.32599017659963003,0.6636341225727658,0.5355218783177407,0.5455625234309283,0.32599017659963003,0.34596835761398825,0.3222933405231936,0.6494792820710997,0.6053611408355009,0.6636341225727658,0.30534916940311896,0.5424341991269255,0.3514238790054187,0.15447068035021916,0.4540676384348674,0.41150607497812297,0.6297797570429053,0.557310469367962,0.17764194270439626,0.4717391253990679,0.2906577156032335,0.6870721845340833,0.47278276020941634,0.5005679191167984,0.5098740887150721,0.4575417325565323,0.35989377000263234,0.47603712791375363,0.6344264656923388,0.22063202163038342,0.5329221504837727,0.4754912626331049,0.30496806420644296,0.5359768515676051,0.44098456730576485,0.6642584164161165,0.3332079834839097,0.3889579320030676,0.3266088595859826,0.4765877215750822,0.5244988985141688,0.5073339214197099,0.5772185997970474,0.5125866030981263,0.5249955695311841,0.5052980669687241,0.43025981186155393,0.33251272047836133,0.30706550700981294,0.28829756110363425,0.5465897258831158,0.2803155769026824,0.3607143828576045,0.3443882157195213,0.37251080906629275,0.44299599178990734,0.5780993204003528,0.11272098940840358,0.37213838938601773,0.45333922900314194,0.3649901524308139,0.54618160454064,0.6429473897678943,0.2591692555147902,0.6184187955902165,0.33472385934443016,0.3416206801794712,0.5513191573137264,0.4784005540706926,0.3462910784937221,0.14496993072277542,0.1806394017251569,0.09052630482948487,0.2995269876028783,0.22785132758004112,0.4232817249686751,0.2598342616601328,0.7213238338732642,0.5795197211802869,0.31822350630394647,0.4396589013043912,0.3379275760617948,0.5288187518789642,0.5472565708431669,0.3468325497236395,0.21709414213096734,0.43957073372121824,0.3253528058557218,0.2065013037315686,0.2740593561268505,0.5217222405427075,0.23592804655955257,0.453813667078681,0.2459338493333978,0.33421990471071217,0.3699983195144019,0.5751550437218795,0.3442147701191467,0.3332079834839097,0.22068193231533195,0.0,0.3835850109472765,0.4356294612600071,0.5514401369931288,0.5562391568141423,0.2832277817869513,0.4399423892187566,0.39304931861049264,0.43146848626218004,0.34656362904267946,0.3483731898809501,0.04960451035934499,0.31466196102042376,0.41898190751999076,0.5667445440516841,0.5141465627502328,0.24758672883006616,0.3784543835802352,0.19325861393347354,0.3068865927267326,0.5519251303427093,0.33764845831744994,0.47671708338387164,0.7580536800640556,0.47245552283340997,0.2432566784018868,0.6470172598551573,0.3316994151208026,0.4062224200181874,0.23923416376354778,0.38258474350719895,0.29745578970035025,0.5706274998178498,0.4597229966537637,0.17616468195275692,0.09762355646776699,0.1971911221739302,0.15776478555683182,0.21831776585636797,0.24740344437696615,0.3930416767831324,0.42565754521436494,0.34131457723225944,0.461559877024849,0.5375816353133236,0.12256063019857732,0.17494325525272414,0.3968331455473657,0.2912174078152634,0.5094645106492561,0.20379717147790144,0.4557037536727635,0.5428233796263293,0.4504802064611604,0.262287718095664,0.39759145362863935,0.5081100683917277,0.26047815725739154,0.12044862016180069,0.5124368471625691,0.13085270542539362,0.30853070800264826,0.3560574771447871,0.47755954708895265,0.5540335105114891,0.49154304040752406,0.4213606650930717,0.4213606650930717,0.38456010811848396,0.3893157844499373,0.37050010100346453,0.39676465566964714,0.5164538931182032,0.3818271757279512,0.6042403401511094,0.4670264582272279,0.3754940590643048,0.48362775503100286,0.22996734957618026,0.21920142378706453,0.3909438757691057,0.18545957985567485,0.21753178003162388,0.5902178735129984,0.5672743614948765,0.5177048363764167,0.5394651547120186,0.2606931314133294,0.641541198010708,0.2771133169086579,0.44235613203272317,0.6147989336116493,0.17314133624181283,0.40833660319961895,0.36524302527431685,0.3730832535777302,0.49435685676452534,0.29475674403801877,0.4097974579031427,0.43759973927995466,0.48932244478009546,0.352781592920286,0.5310451743997544,0.594916307781379,0.24883475864159932,0.3608812851433014,0.44230111087572643,0.41372265864618685,0.42885252159168497,0.3116754154843622,0.48362775503100286,0.5038561735493379,0.34378697107121736,0.5183614603923732,0.553987229694537,0.24681058185804838,0.34647180771079933,0.19680597407495748,0.426802840209318,0.3499426301751263,0.47800009843628866,0.5309551680018729,0.4396126204874382,0.33101836113800287,0.5056832150676969,0.4329326126230426,0.4186284491238532,0.38456010811848396,0.35392688791524085,0.29274166580517,0.2698899989996373,0.4685306803010243,0.3116925379537929,0.432351785982219,0.4258011160459003,0.6228548763730246,0.38096429401539167,0.48464256582377585,0.23409699308182974,0.5473983028599947,0.4741852982178947,0.1624716258353085,0.24701172908260505,0.4937855107657705,0.7679775003587488,0.3452722318608745,0.2787494321465558,0.4508795874635916,0.4446587101393029,0.5520446532987706,0.5267705272199383,0.282893284674953,0.36525322233770163,0.3497724562320914,0.4126222116255547,0.27515106280743895,0.4863493918454682,0.1977890951648944,0.012566746287343555,0.4757459742913164,0.6198071245759471,0.29008379048774513,0.33768490028167575,0.44021095168906,0.5042577276964253,0.2761279987933558,0.7080275796415134,0.3215369071246452,0.39986561368972273,0.37609895746131405,0.42198595761684965,0.24187599124351644,0.3581414273467236,0.5557792859720094,0.28403382740851724,0.4684625247532517,0.4303235733585935,0.509556690191793,0.2803155769026824,0.2593798833814165,0.3367115941637553,0.42311737791900184,0.456548056192553,0.08650708572919541,0.23829842200324736,0.3070760622838544,0.44430998012384615,0.2502351235054232,0.404713469563712,0.43740441894876136,0.3805077187113084,0.24590507307724296,0.4851742220816768,0.39328471077390903,0.3041529200341757,0.3866601061578776,0.4653229516242958,0.4248373144507611,0.3427954678518952,0.2995269876028783,0.42533761533577286,0.5115794341327136,0.41045262519575987,1.0000000000000004,0.8796610639415339,0.6131344003282551,0.5465897258831158,0.2591692555147902,0.5244988985141688,0.35989377000263234,0.37251080906629275,0.4717391253990679,0.30496806420644296,0.5465897258831158,0.5329221504837727,0.44098456730576485,0.47278276020941634,0.47278276020941634,0.6642584164161165,0.6184187955902165,0.33251272047836133,0.2803155769026824,0.6642584164161165,0.4540676384348674,0.5359768515676051,0.6184187955902165,0.15447068035021916,0.6642584164161165,0.44299599178990734,0.5073339214197099,0.28829756110363425,0.15447068035021916,0.30496806420644296,0.5249955695311841,0.5005679191167984,0.5359768515676051,0.44299599178990734,0.3332079834839097,0.3649901524308139,0.3266088595859826,0.3443882157195213,0.4765877215750822,0.47603712791375363,0.35989377000263234,0.37213838938601773,0.6429473897678943,0.44299599178990734,0.3416206801794712,0.2591692555147902,0.4784005540706926,0.4540676384348674,0.30706550700981294,0.6429473897678943,0.17764194270439626,0.30496806420644296,0.2906577156032335,0.5465897258831158,0.22063202163038342,0.41150607497812297,0.3332079834839097,0.4575417325565323,0.54618160454064,0.2906577156032335,0.3889579320030676,0.6184187955902165,0.15447068035021916,0.4754912626331049,0.4765877215750822,0.37213838938601773,0.17764194270439626,0.44299599178990734,0.4717391253990679,0.37213838938601773,0.43025981186155393,0.4575417325565323,0.6344264656923388,0.33251272047836133,0.54618160454064,0.2803155769026824,0.41150607497812297,0.15447068035021916,0.557310469367962,0.33472385934443016,0.3443882157195213,0.41150607497812297,0.33472385934443016,0.5244988985141688,0.22063202163038342,0.3889579320030676,0.44299599178990734,0.5052980669687241,0.6870721845340833,0.33251272047836133,0.4575417325565323,0.5772185997970474,0.45333922900314194,0.35989377000263234,0.4717391253990679,0.4575417325565323,0.44098456730576485,0.4784005540706926,0.2803155769026824,0.30496806420644296,0.47603712791375363,0.5780993204003528,0.22063202163038342,0.37213838938601773,0.6184187955902165,0.6642584164161165,0.3889579320030676,0.3332079834839097,0.5780993204003528,0.3607143828576045,0.5244988985141688,0.35989377000263234,0.5780993204003528,0.3514238790054187,0.3332079834839097,0.17764194270439626,0.2906577156032335,0.6642584164161165,0.3514238790054187,0.44299599178990734,0.4717391253990679,0.6642584164161165,0.47278276020941634,0.6429473897678943,0.6344264656923388,0.4717391253990679,0.43025981186155393,0.43025981186155393,0.5249955695311841,0.6297797570429053,0.3443882157195213,0.5465897258831158,0.3607143828576045,0.4765877215750822,0.17764194270439626,0.2906577156032335,0.4717391253990679,0.5005679191167984,0.5052980669687241,0.5249955695311841,0.45333922900314194,0.3416206801794712,0.44098456730576485,0.6642584164161165,0.30706550700981294,0.43025981186155393,0.44299599178990734,0.2803155769026824,0.5359768515676051,0.3266088595859826,0.43025981186155393,0.3514238790054187,0.43025981186155393,0.30706550700981294,0.37213838938601773,0.4575417325565323,0.4540676384348674,0.3514238790054187,0.6297797570429053,0.3889579320030676,0.3416206801794712,0.4575417325565323,0.5465897258831158,0.3266088595859826,0.2906577156032335,0.35989377000263234,0.35989377000263234,0.3889579320030676,0.3443882157195213,0.5098740887150721,0.6429473897678943,0.5125866030981263,0.5465897258831158,0.3649901524308139,0.2591692555147902,0.5125866030981263,0.41150607497812297,0.5073339214197099,0.30706550700981294,0.44098456730576485,0.5465897258831158,0.5780993204003528,0.35989377000263234,0.00818613660471337,0.3265230825992713,0.03575381635382558,0.0823187135851435,0.0,0.0,0.1338375686021307,0.0,0.008485910621224,0.05660348352780212,0.06559670402312104,0.0,0.0,0.04835585481713785,0.13095512613568233,0.43153238328029636,0.07473596827007334,0.033697674061092406,0.07015864963335332,0.009062399114513673,0.0,0.08439407216098634,0.09127350151424311,0.04195298928500054,0.29071546065273873,0.06507786437916033,0.016983351012313797,0.10128134175775147,0.09488231948223609,0.10148119110209228,0.19785469415363766,0.20090239665482945,0.025019600608771467,0.13095512613568233,0.17237390275023445,0.06874048793986072,0.07558532798352012,0.0,0.0,0.0,0.0,0.10201924702916262,0.057256837153530415,0.03281372503804786,0.07553536564743463,0.0523067226244827,0.11560515918768928,0.0,0.0,0.0,0.15745438054389768,0.09057402880905126,0.1575543052160679,0.012217712801119156,0.049401220618302745,0.09687312641239681,0.1744915371489185,0.04328275607618872,0.00891635536288029,0.025573029562329937,0.1214161632000492,0.0,0.1807560454426663,0.30096542606342913,0.02515411459053944,0.1941267352303648,0.0740057495119064,0.0732140386477886,0.12560146966133223,0.07539316515242356,0.0,0.3008040092853076,0.20081784500914696,0.03324032652308222,0.6388645482636166,0.13005580408615006,0.12812264600531906,0.2490391858445172,0.07179203369767406,0.18006810250734062,0.008562775753662624,0.0470299312825716,0.06888268843487179,0.043401897031468586,0.06636535534750726,0.025011914095527988,0.18556395947670218,0.07222247843933036,0.016979507755691865,0.09092376516164737,0.012782671524543036,0.06844071392335009,0.08188058233024337,0.0,0.013747328936647757,0.18121723623729805,0.02622638318805785,0.008201509631201096,0.09428277144921483,0.08005503543482606,0.09488231948223609,0.20081784500914696,0.05636135836062045,0.012817260834140417,0.01299405063874925,0.008924041876124153,0.01752525019600609,0.036326461590493325,0.0,0.028647634859874864,0.04114974865101693,0.10520146351212165,0.03278682224169473,0.008631954372857385,0.15605159187689283,0.1325885102000031,0.0,0.08419037956002398,0.09055481252594198,0.03990837676213316,0.13662777290965272,0.03278682224169473,0.0,0.05262186966748143,0.008689603222186352,0.012655844056019308,0.0,0.04308674998847023,0.0,0.20422297037617795,0.07788743870005688,0.024735199618748944,0.08419037956002398,0.026925855893249705,0.0,0.1457516641301173,0.0,0.0,0.013220802779443189,0.0673184829897462,0.016291564820366186,0.0,0.024689080539285386,0.008247628710664269,0.008224569170932682,0.017183200356654216,0.20455349044566404,0.09086227305569648,0.09414825746744762,0.14264631277959694,0.0,0.0,0.04155713385294163,0.0,0.13273071069501452,0.0,0.05797168288520961,0.0,0.0,0.13583221878891297,0.1827161063198512,0.1453980845208996,0.008278374763639719,0.10134283386370276,0.14983704591923014,0.13181985887561687,0.11820704392073668,0.008704976248673692,0.025573029562329937,0.0,0.0,0.09826438530953589,0.09685391012928678,0.09854878629955881,0.08942873833571616,0.06663822656766438,0.08992451843994527,0.02482743777767529,0.0,0.1358591215852665,0.0,0.18703977001952377,0.3943027563836493,0.06749527279435504,0.0,0.10739980629986587,0.0631370197850851,0.02550000768651286,0.07539316515242356,0.24318206275269413,0.041115159341419544,0.23636412550538824,0.02515411459053944,0.0,0.12533628495441898,0.10969807375978109,0.0,0.3276453135328752,0.03282525480791403,0.08883687681593876,0.16912635090470263,0.03820197082199572,0.07552383587756921,0.058640409537425636,0.03324416977970453,0.43271226306322924,0.3554897077587665,0.01687189657027779,0.024362403726421622,0.07454380543897678,0.042541007548155624,0.025207920183246475,0.29190687020553696,0.0259881012774985,0.21873510738059002,0.04131500868575996,0.008924041876124153,0.051034604682623864,0.47546849298221344,0.0,0.13421036449445803,0.0916655136896801,0.06797952312871834,0.01684115051730234,0.02460068563698135,0.03285215760426755,0.062337622407723406,0.21967286199634123,0.13305738750787868,0.0,0.2571484573167919,0.0,0.07532398653322879,0.18119417669756646,0.0,0.02773678304047718,0.012698119878860551,0.0,0.0,0.37211947916186255,0.0,0.08324493843102891,0.19065243124413903,0.051211394487232706,0.0,0.25973112576672935,0.050169871942689355,0.0,0.23502282894433427,0.0,0.10696936155820996,0.035004381312549,0.0,0.0,0.024412366062506727,0.02624559947116789,0.0,0.07548156005472798,0.03256775661424426,0.0,0.16059816446063735,0.0,0.0436632384817599,0.10254961644298913,0.5238051315162416,0.12053221417700503,0.042341158203815586,1.0,0.0,0.0,0.0,0.03445479561561285,0.388288059770327,0.025173330873649098,0.11382957462835708,0.01752525019600609,0.16389183538563237,0.3080792940706237,0.2096035296468812,0.18174760565112455,0.0373718273916586,0.01633768389982936,0.041906870205537364,0.025273255545819308,0.0,0.17502574981936694,0.06737613183907516,0.3134175775184861,0.20422297037617795,0.1239834586234992,0.23041092099801688,0.12825715998708664,0.0,0.0,0.0,0.09057402880905126,0.09488231948223609,0.13095512613568233,0.057256837153530415,0.0,0.0,0.0,0.07015864963335332,0.09127350151424311,0.06559670402312104,0.06559670402312104,0.04195298928500054,0.1575543052160679,0.06874048793986072,0.0,0.04195298928500054,0.03575381635382558,0.08439407216098634,0.1575543052160679,0.3265230825992713,0.04195298928500054,0.03281372503804786,0.10148119110209228,0.0,0.3265230825992713,0.0,0.025019600608771467,0.0,0.08439407216098634,0.03281372503804786,0.29071546065273873,0.0,0.016983351012313797,0.10201924702916262,0.10128134175775147,0.43153238328029636,0.13095512613568233,0.11560515918768928,0.15745438054389768,0.03281372503804786,0.049401220618302745,0.09057402880905126,0.1744915371489185,0.03575381635382558,0.07558532798352012,0.15745438054389768,0.1338375686021307,0.0,0.008485910621224,0.0,0.033697674061092406,0.0823187135851435,0.29071546065273873,0.04835585481713785,0.0,0.008485910621224,0.06507786437916033,0.1575543052160679,0.3265230825992713,0.009062399114513673,0.10128134175775147,0.11560515918768928,0.1338375686021307,0.03281372503804786,0.0,0.11560515918768928,0.17237390275023445,0.04835585481713785,0.07473596827007334,0.06874048793986072,0.0,0.0,0.0823187135851435,0.3265230825992713,0.0,0.012217712801119156,0.10201924702916262,0.0823187135851435,0.012217712801119156,0.09488231948223609,0.033697674061092406,0.06507786437916033,0.03281372503804786,0.13095512613568233,0.05660348352780212,0.06874048793986072,0.04835585481713785,0.19785469415363766,0.0,0.13095512613568233,0.0,0.04835585481713785,0.09127350151424311,0.1744915371489185,0.0,0.0,0.43153238328029636,0.07553536564743463,0.033697674061092406,0.11560515918768928,0.1575543052160679,0.04195298928500054,0.06507786437916033,0.29071546065273873,0.07553536564743463,0.0,0.09488231948223609,0.13095512613568233,0.07553536564743463,0.00818613660471337,0.29071546065273873,0.1338375686021307,0.008485910621224,0.04195298928500054,0.00818613660471337,0.03281372503804786,0.0,0.04195298928500054,0.06559670402312104,0.15745438054389768,0.07473596827007334,0.0,0.17237390275023445,0.17237390275023445,0.025019600608771467,0.0,0.10201924702916262,0.0,0.0,0.10128134175775147,0.1338375686021307,0.008485910621224,0.0,0.0,0.13095512613568233,0.025019600608771467,0.0,0.049401220618302745,0.09127350151424311,0.04195298928500054,0.07558532798352012,0.17237390275023445,0.03281372503804786,0.0,0.08439407216098634,0.016983351012313797,0.17237390275023445,0.00818613660471337,0.17237390275023445,0.07558532798352012,0.11560515918768928,0.04835585481713785,0.03575381635382558,0.00818613660471337,0.0,0.06507786437916033,0.049401220618302745,0.04835585481713785,0.0,0.016983351012313797,0.008485910621224,0.13095512613568233,0.13095512613568233,0.06507786437916033,0.10201924702916262,0.0,0.15745438054389768,0.20090239665482945,0.0,0.0,0.09057402880905126,0.20090239665482945,0.0823187135851435,0.10148119110209228,0.07558532798352012,0.09127350151424311,0.0,0.07553536564743463,0.13095512613568233,0.5743164868322843,0.31012003064334714,0.4494308977024717,0.3188381405707661,0.3962031463795852,0.6077641331132657,0.3168024923098762,0.5472883092892789,0.5669792575466546,0.7070354777590151,0.468899906758365,0.4848959985109669,0.29140532881044856,0.4749781797903405,0.44867192343884743,0.4653705994938382,0.3490355695532512,0.2851187376873787,1.0,0.42959068841854275,0.4464040491353749,0.48092967099764583,0.5538839956807251,0.3465854770040251,0.49943605551976145,0.49508490666801674,0.22498534792309188,0.4626913280168363,0.9075310399109686,0.36602124324685925,0.6944280055223335,0.39694468927376847,0.6631868909491008,0.5869523452258005,0.41220019089202764,0.2497737509452893,0.47545558738053484,0.6512021810918496,0.5609812832077137,0.30213108163373437,0.28313071649418253,0.2535437623323926,0.574665588650249,0.6393056752592867,0.4917867782685901,0.4161929030642373,0.35137707479149394,0.3788374143664468,0.694667089719087,0.5443065151042115,0.473935638135651,0.5244742119322472,0.6662468871313041,0.32166086209763356,0.2580574117489558,0.7537351722526315,0.5814801655677493,0.2756087914750882,0.38811141947505456,0.5187339907328896,0.47391573005881016,0.2594188603036687,0.16314674121242778,0.4004699014656945,0.3021951865307171,0.39791036248297496,0.7373145389861879,0.49758986523091897,0.9797751597735531,0.40587264123984035,0.6431462689057312,0.4475533693399407,0.6021149742181198,0.3598341917276833,0.5218615220596274,0.43430541698021763,0.07362595170359232,0.37729279480613953,0.6414777258002764,0.11004148546539405,0.4617289890769176,0.2998643504860088,0.4834368206740889,0.5428685788958274,0.5709620636695754,0.34996799994939853,0.2099053023746793,0.48185248093836375,0.21179969013862232,0.48628554684834424,0.5903792553872216,0.5859135178518997,0.6894430443058117,0.21609206829999605,0.5510738465261411,0.21042671638910893,0.2258189051010162,0.3805941622769011,0.41709799526134406,0.24826285018780614,0.34401888947122883,0.6225324162899957,0.6091475856604076,0.5868742376463068,0.4182227403484391,0.5107193234500593,0.1951224461080312,0.39697574175359773,0.45359963713224594,0.41554051617427246,0.21102595160886262,0.6820999096258522,0.5044852168312188,0.2792779304869557,0.6082162032220542,0.2476205605233468,0.46532325880031467,0.3449566540739881,0.6365033377990252,0.20516056929096904,0.7081710824355507,0.41898542967316343,0.3634872321414515,0.09551476397312841,0.6258737895300341,0.3041837796919422,0.5478519201865262,0.22836872765004212,0.5035529776112886,0.7248040336677362,0.6806777848610863,0.36402474397366924,0.4537288004663633,0.30281337784778173,0.30240845803661087,0.6537943909195991,0.32594438138720183,0.5385142861707009,0.26496314616862016,0.5439247416609052,0.7965375031270676,0.4820454627952937,0.35070287508531695,0.8605073906848872,0.580739193861284,0.4078065587832951,0.19758463582008656,0.2830685163365707,0.2141948222565302,0.6345811358462765,0.18931269060712652,0.40694671214443523,0.42779193402117666,0.47718033005131866,0.4093028856705492,0.5761469608754617,0.2035617501026563,0.42815646649094763,0.23698625001577311,0.5751729055645254,0.4061013433975402,0.41312433360408773,0.45853992475855,0.193993605168024,0.3135285574557971,0.8670752628875282,0.4811149379188282,0.5737374452832305,0.5047418283756775,0.29683531080537073,0.4779506391138373,0.32719028849849674,0.3351445659454444,0.5811524005762316,0.7969509002379207,0.5109183066795828,0.8753988358231404,0.48260831132860615,0.49585093026202864,0.5603034636383901,0.29006683622769436,0.5648593107180822,0.6231643231350905,0.2398122106139755,0.28952818123972945,0.5009330487926864,0.28956780621719425,0.34036918254643767,0.1497010439768809,0.4316087141337741,0.29107280080003695,0.5833278798041508,0.4382758403464502,0.5462017604300424,0.5311913451614412,0.592150862761764,0.5906711104623743,0.6822695547190114,0.4881654567203222,0.48224520760844114,0.5919185415212282,0.40702910519243574,0.715079863970022,0.40851543083244835,0.4507258598507551,0.16778355337082562,0.3289742786297276,0.13244609116857797,0.4172952641474028,0.2967705387424062,0.7108230157135123,0.5552188684003325,0.6532721201235925,0.690951086783772,0.5713718416975933,0.35391718168713715,0.1879781986793312,0.5097798452841464,0.46326979837817195,0.5523311844145944,0.29854214611694885,0.45660448248722507,0.3087855387155518,0.5214416475864154,0.4754659694195882,0.48457271094448373,0.2949749282184222,0.26032204776140455,0.5052592417351485,0.09292903072742642,0.33590811205174553,0.7009043394309982,0.40391910121340335,0.4118878565523161,0.2989728793992903,0.24557538778529153,0.32764178663925625,0.6184642636415982,0.640527864814999,0.36968247536645094,0.6310259191323151,0.33470278267775644,0.5821919903140671,0.23531627816071232,0.4458195774014453,0.2958240112461057,0.0,0.49170219332673715,0.3660294349526827,0.18897178127529646,0.2145253495493069,0.5077368628793211,0.49135728333994844,0.37926719488894745,0.7883053732874783,0.5418581368984503,0.5886868035499668,0.24450445997376735,0.5279122664966567,0.2613342041022466,0.4297329960929721,0.6120981369697396,0.5114544849601479,0.5452132264468301,0.5828615221993032,0.348233445646968,0.39339347399507685,0.6327361839111338,0.4373242642373967,0.4090282715689313,0.4286993125297771,0.12982168570525188,0.2898778542454121,0.5118075866527605,0.30710613680096777,0.25210639731172657,0.4963194789804173,0.6432712411889838,0.6532767871642222,0.5062266292878199,0.6246898921804449,0.5951363720079315,0.2992935006427786,0.8153185009704895,0.7319826670652423,0.5199664671297024,0.3601636710626661,0.35571336417915034,0.497739507829595,0.6046166944899982,0.6550151517257057,0.4851675647174667,0.33076598369670607,0.5589303946909239,0.5609812832077137,0.5244742119322472,0.9075310399109686,0.44867192343884743,0.574665588650249,0.5472883092892789,0.4464040491353749,0.5609812832077137,1.0,0.5538839956807251,0.468899906758365,0.468899906758365,0.3465854770040251,0.6662468871313041,0.2497737509452893,0.30213108163373437,0.3465854770040251,0.4494308977024717,0.48092967099764583,0.6662468871313041,0.31012003064334714,0.3465854770040251,0.6393056752592867,0.36602124324685925,0.6512021810918496,0.31012003064334714,0.4464040491353749,0.6631868909491008,0.4848959985109669,0.48092967099764583,0.6393056752592867,0.49943605551976145,0.694667089719087,0.22498534792309188,0.2535437623323926,0.4626913280168363,0.4653705994938382,0.44867192343884743,0.35137707479149394,0.473935638135651,0.6393056752592867,0.2580574117489558,0.5244742119322472,0.5814801655677493,0.4494308977024717,0.47545558738053484,0.473935638135651,0.3168024923098762,0.4464040491353749,0.5669792575466546,0.5609812832077137,0.2851187376873787,0.3188381405707661,0.49943605551976145,0.4749781797903405,0.5443065151042115,0.5669792575466546,0.49508490666801674,0.6662468871313041,0.31012003064334714,0.42959068841854275,0.4626913280168363,0.35137707479149394,0.3168024923098762,0.6393056752592867,0.5472883092892789,0.35137707479149394,0.41220019089202764,0.4749781797903405,0.3490355695532512,0.2497737509452893,0.5443065151042115,0.30213108163373437,0.3188381405707661,0.31012003064334714,0.6077641331132657,0.32166086209763356,0.2535437623323926,0.3188381405707661,0.32166086209763356,0.9075310399109686,0.2851187376873787,0.49508490666801674,0.6393056752592867,0.5869523452258005,0.7070354777590151,0.2497737509452893,0.4749781797903405,0.6944280055223335,0.3788374143664468,0.44867192343884743,0.5472883092892789,0.4749781797903405,0.5538839956807251,0.5814801655677493,0.30213108163373437,0.4464040491353749,0.4653705994938382,0.4917867782685901,0.2851187376873787,0.35137707479149394,0.6662468871313041,0.3465854770040251,0.49508490666801674,0.49943605551976145,0.4917867782685901,0.28313071649418253,0.9075310399109686,0.44867192343884743,0.4917867782685901,0.5743164868322843,0.49943605551976145,0.3168024923098762,0.5669792575466546,0.3465854770040251,0.5743164868322843,0.6393056752592867,0.5472883092892789,0.3465854770040251,0.468899906758365,0.473935638135651,0.3490355695532512,0.5472883092892789,0.41220019089202764,0.41220019089202764,0.6631868909491008,0.3962031463795852,0.2535437623323926,0.5609812832077137,0.28313071649418253,0.4626913280168363,0.3168024923098762,0.5669792575466546,0.5472883092892789,0.4848959985109669,0.5869523452258005,0.6631868909491008,0.3788374143664468,0.2580574117489558,0.5538839956807251,0.3465854770040251,0.47545558738053484,0.41220019089202764,0.6393056752592867,0.30213108163373437,0.48092967099764583,0.22498534792309188,0.41220019089202764,0.5743164868322843,0.41220019089202764,0.47545558738053484,0.35137707479149394,0.4749781797903405,0.4494308977024717,0.5743164868322843,0.3962031463795852,0.49508490666801674,0.2580574117489558,0.4749781797903405,0.5609812832077137,0.22498534792309188,0.5669792575466546,0.44867192343884743,0.44867192343884743,0.49508490666801674,0.2535437623323926,0.29140532881044856,0.473935638135651,0.39694468927376847,0.5609812832077137,0.694667089719087,0.5244742119322472,0.39694468927376847,0.3188381405707661,0.36602124324685925,0.47545558738053484,0.5538839956807251,0.5609812832077137,0.4917867782685901,0.44867192343884743,0.46051347682212856,0.5438951268489971,0.482888819752807,0.45775942529060726,0.33504680826993244,0.5209010945498771,0.43124770201091717,0.4004475775659699,0.5186985603982237,0.4800322425545153,0.5232379726786773,0.4743650479395875,0.5783578923551207,0.5315602285261758,0.3801651723845349,0.3572064937636112,0.4550230505981839,0.4548109285290041,0.4915752184857313,0.6722961506915179,0.728257487909042,0.45187657323867975,0.5899220804932543,0.42059917413807696,0.5397941001781825,0.482888819752807,0.5488976723138277,0.6995396951098793,0.5458678620923718,0.11267924314845718,0.3510867720677659,0.4743650479395875,0.5483108012557627,0.31835633679327996,0.4012147523828378,0.6019281896088469,0.5480491840371071,0.43755479820120485,0.2998133325791215,0.5209718019062703,0.22049382017705116,0.3570544729473654,0.5028707186695704,0.10468224114036823,0.22148725853437784,0.3097583222558475,0.32520080889215713,0.5013045507254574,0.3186639137935911,0.4151865260061656,0.7174781514268747,0.38991925219899876,0.15642588454902845,0.44111844896342983,0.37713182679525975,0.6292742596939782,0.3227720112000449,0.4012147523828378,0.48027971830189214,0.35075444749271717,0.45757558616398447,0.5053666883502559,0.47184433068416437,0.33671903724863533,0.44918262296009276,0.36868583307407304,0.708455892751082,0.4860918629974262,0.6605056990129252,0.4522018270780888,0.2998133325791215,0.1399333936702774,0.2617268150578386,0.08669075430607803,0.30933054274966726,0.08001244449472517,0.4465735215091778,0.6351641824815453,0.20640891478349405,0.5276395056141641,0.17237392878355068,0.6582147806657805,0.3973824136663178,0.3215805922448171,0.4749094945838162,0.2647636960149334,0.5779477896880392,0.47807364878241926,0.51117883304579,0.5491840371072207,0.5820417456232148,0.2483914076420511,0.4577240716124105,0.08005133354074118,0.4968358458013972,0.3326604349916565,0.2976991826229601,0.44602553949712925,0.4458310942670472,0.7965431173459288,0.058234578725570585,0.387105099414543,0.2931420935034081,0.494506038408236,0.5624946969482705,0.3969687756314167,0.4184249229289811,0.23136861159034977,0.4065178041123398,0.15814760867720684,0.25606669117855024,0.2246337358938824,0.37536060751760575,0.607358514579857,0.47831051842633704,0.21455086687218944,0.6197146251095964,0.47184433068416437,0.4490341375116667,0.5989478745368668,0.521890997539384,0.16405167293605222,0.36230802952739166,0.4260789942585626,0.6973583731651438,0.6738552478999915,0.5377435868427751,0.6560051757784882,0.5460481658511751,0.4300350708487712,0.25418234013066715,0.2121149984444382,0.4915752184857313,0.4228405973357468,0.6837047826455864,0.5763285912266312,0.2814329552846678,0.4923883530842546,0.3342513505105071,0.22672313827530616,0.4771898068275024,0.42110826710410915,0.4038556721441298,0.6019281896088469,0.6535975902932942,0.37322170998670706,0.48440195717962503,0.4527816274005148,0.007813162881466162,0.4012147523828378,0.42110826710410915,0.2091983199932121,0.3486332268009163,0.3558489125208583,0.16977543343609464,0.4864241875724749,0.6688067426535058,0.29931131034872865,0.30279011228328184,0.3227720112000449,0.09728978702944252,0.2767450575557881,0.25528537489040365,0.6304833554883049,0.3221497864637836,0.3276472834233673,0.4023672822920497,0.5738255508103063,0.33920086545804223,0.568854823655853,0.42007593970076645,0.6395197556353762,0.4118880278304155,0.3535509234380742,0.3609681251237375,0.5201940209859433,0.12146463218033204,0.2121149984444382,0.3764777837486211,0.0,0.5045570891195517,0.3781676895664225,0.4344330684164381,0.46051347682212856,0.2517111180247193,0.39429603755974735,0.6679759312158837,0.29496987866617635,0.38900359193370476,0.506427298696156,0.30524365755013144,0.19917908759227304,0.3837818536640552,0.45495587860961056,0.344217552394151,0.7780107192352292,0.6164868342902396,0.552341120570184,0.3570544729473654,0.1618349973131204,0.5302910314789151,0.260934892666233,0.32793718358458007,0.5045570891195517,0.5386769239471674,0.3712666515824303,0.35075444749271717,0.39884959131147996,0.04068854823655854,0.15191829057895184,0.322892213705914,0.4419704726079701,0.4795903215770569,0.2534080945781599,0.6372818678055265,0.23358175184546165,0.430855276182934,0.37241211075600306,0.19097349888282372,0.45449981616087337,0.20466597844839746,0.14906524874847976,0.2790607234776706,0.4242688859348926,0.34076703340215514,0.2215579658907712,0.4522018270780888,0.43372953022032373,0.3572064937636112,0.5776508187911868,0.6990093899369287,0.4740291879967193,0.14760160647113724,0.26735512062675,0.49080097293322394,0.18110628729813055,0.2587358938823994,0.4687720960488729,0.5867756031337499,0.3422943123002517,0.6197146251095964,0.4463932177503747,0.6828987187827023,1.0,0.28599711513985876,0.6864800463840257,0.6950038181972453,0.1378404559210336,0.4139951070509375,0.5706401844047855,0.42007593970076645,0.43541943603812544,0.5045570891195517,0.243484317108352,0.3021714229148397,0.31741592895324827,0.11339338744803013,0.13606570127556067,0.3227720112000449,0.3806636592471077,0.31001286873886363,0.5224389795514324,0.44087097321605334,0.20566295217354408,0.5164536018327346,0.5408617812597223,0.469206946290692,0.8203856379217693,0.7965431173459288,0.12661919846140796,0.32453615974205957,0.3493014113188336,0.2860713578640722,0.3609257007099019,0.6125130808609327,0.388851571117459,0.4300350708487712,0.4012147523828378,0.611137822779082,0.44621291399157165,0.37568586135701526,0.297472919082501,0.28374508583873065,0.581826088186215,0.3907359221653421,0.5850397375342931,0.29283805187091666,0.36100701416975417,0.17197443221992775,0.37101210509941457,0.2789829453856379,0.4300350708487712,0.6372818678055265,0.1756688915914812,0.2998133325791215,0.38991925219899876,0.5458678620923718,0.3801651723845349,0.5028707186695704,0.4004475775659699,0.728257487909042,0.2998133325791215,0.4915752184857313,0.5899220804932543,0.5232379726786773,0.5232379726786773,0.42059917413807696,0.15642588454902845,0.6019281896088469,0.5209718019062703,0.42059917413807696,0.482888819752807,0.45187657323867975,0.15642588454902845,0.5438951268489971,0.42059917413807696,0.10468224114036823,0.11267924314845718,0.43755479820120485,0.5438951268489971,0.728257487909042,0.5483108012557627,0.4743650479395875,0.45187657323867975,0.10468224114036823,0.5397941001781825,0.3186639137935911,0.5488976723138277,0.3570544729473654,0.6995396951098793,0.3572064937636112,0.3801651723845349,0.32520080889215713,0.7174781514268747,0.10468224114036823,0.37713182679525975,0.38991925219899876,0.3227720112000449,0.482888819752807,0.5480491840371071,0.7174781514268747,0.43124770201091717,0.728257487909042,0.5186985603982237,0.2998133325791215,0.4548109285290041,0.45775942529060726,0.5397941001781825,0.5315602285261758,0.4151865260061656,0.5186985603982237,0.482888819752807,0.15642588454902845,0.5438951268489971,0.6722961506915179,0.6995396951098793,0.32520080889215713,0.43124770201091717,0.10468224114036823,0.4004475775659699,0.32520080889215713,0.4012147523828378,0.5315602285261758,0.4550230505981839,0.6019281896088469,0.4151865260061656,0.5209718019062703,0.45775942529060726,0.5438951268489971,0.5209010945498771,0.44111844896342983,0.3570544729473654,0.45775942529060726,0.44111844896342983,0.5458678620923718,0.4548109285290041,0.482888819752807,0.10468224114036823,0.31835633679327996,0.4800322425545153,0.6019281896088469,0.5315602285261758,0.3510867720677659,0.5013045507254574,0.3801651723845349,0.4004475775659699,0.5315602285261758,0.5899220804932543,0.3227720112000449,0.5209718019062703,0.728257487909042,0.3572064937636112,0.22148725853437784,0.4548109285290041,0.32520080889215713,0.15642588454902845,0.42059917413807696,0.482888819752807,0.5397941001781825,0.22148725853437784,0.22049382017705116,0.5458678620923718,0.3801651723845349,0.22148725853437784,0.46051347682212856,0.5397941001781825,0.43124770201091717,0.5186985603982237,0.42059917413807696,0.46051347682212856,0.10468224114036823,0.4004475775659699,0.42059917413807696,0.5232379726786773,0.7174781514268747,0.4550230505981839,0.4004475775659699,0.4012147523828378,0.4012147523828378,0.5483108012557627,0.33504680826993244,0.3570544729473654,0.2998133325791215,0.22049382017705116,0.6995396951098793,0.43124770201091717,0.5186985603982237,0.4004475775659699,0.4743650479395875,0.31835633679327996,0.5483108012557627,0.5013045507254574,0.37713182679525975,0.5899220804932543,0.42059917413807696,0.5480491840371071,0.4012147523828378,0.10468224114036823,0.5209718019062703,0.45187657323867975,0.5488976723138277,0.4012147523828378,0.46051347682212856,0.4012147523828378,0.5480491840371071,0.32520080889215713,0.5315602285261758,0.482888819752807,0.46051347682212856,0.33504680826993244,0.482888819752807,0.37713182679525975,0.5315602285261758,0.2998133325791215,0.5488976723138277,0.5186985603982237,0.3801651723845349,0.3801651723845349,0.482888819752807,0.3570544729473654,0.5783578923551207,0.7174781514268747,0.4743650479395875,0.2998133325791215,0.3186639137935911,0.38991925219899876,0.4743650479395875,0.45775942529060726,0.11267924314845718,0.5480491840371071,0.5899220804932543,0.2998133325791215,0.22148725853437784,0.3801651723845349,0.13686507567735917,0.09982049130502643,0.12592313808441769,0.08619302234911375,0.1485892457278854,0.1157538613019512,0.12579700586285703,0.18235492431077993,0.1466863508975308,0.10030953544013108,0.08233695000266558,0.22674797574115108,0.12787459274933527,0.24725834988549927,0.29304362014441115,0.2070772635885545,0.2713082108200583,0.24161009404005024,0.16353733817742327,0.22007164672510493,0.026208529858440632,0.16194039374953123,0.04615814735275195,0.2817096729666238,0.20193987515346712,0.20579581986517587,0.27150572579717325,0.12248211091029049,0.13570387232944892,0.3304235928917318,0.1872900332902564,0.25988939560129243,0.018468893426769606,0.25716051564740366,0.2709966450989185,0.2478681661929663,0.22247075370980557,0.21540477604666408,0.2074087381509822,0.17943746285318873,0.17757406674924525,0.16591349460639343,0.2919128544147604,0.15754248457756798,0.17481083545165976,0.22931677629193675,0.11118428053037083,0.1524020332572244,0.3790449448726032,0.146898861344762,0.2811096409727504,0.1615862450716652,0.22243153151080935,0.11281538489341192,0.17391733869501397,0.2203590494911732,0.16981012918591798,0.2651125880364067,0.1973955207565008,0.37800461998673596,0.11813299567155566,0.3827129887701789,0.2597979763697108,0.31929175501894363,0.2170765915354571,0.2943958085367694,0.24170997880908124,0.19535234907465038,0.27317637140249773,0.31562566798408664,0.2315715012911565,0.22603091514974105,0.2191954426025175,0.283193821565704,0.22678358208718363,0.2026658692182895,0.22770326243542804,0.16356069280818575,0.28682762049638616,0.1919494380769819,0.19606351781996817,0.22456965333258316,0.43982680355468495,0.1812269875419652,0.15259229509623062,0.2288164590036053,0.20391026027187464,0.20656167421556904,0.16913575792803748,0.1930822245302825,0.2870954546352673,0.18904148440556923,0.3191798738041214,0.24433267807281484,0.5189019596223909,0.2618372343261237,0.1832055616704072,0.19278676030179648,0.24613230611847225,0.2813986177844417,0.2953052366354574,0.3285473070730664,0.17480949541757945,0.23417922634270977,0.33132783109183306,0.1985940107857473,0.18701662634857025,0.209864296282052,0.15895759018803096,0.19317566439839118,0.23642148696017545,0.18711655363347351,0.20757807015790758,0.1914919589277329,0.2924496714051779,0.12160382237736772,0.13500240286598025,0.14081178036326147,0.24277008498861963,0.13927634925846283,0.28732738481701015,0.8366769486143149,0.12908025079782326,0.2038903088275918,0.0,0.17001472715052984,0.16763389118768557,0.1437327088682634,0.32407814286741105,0.21077787211772003,0.13691820866899307,0.19794369610613488,0.18943964101886357,0.2263360147991451,0.23341639236170064,0.1832490804990592,0.28568911243472767,0.210988766003456,0.21263969417604045,0.29584762642867984,0.21026468628548006,0.33331182913040447,0.6895820288966762,0.2827083508548133,0.25303890623889375,0.4976863936976843,0.18415391426986277,0.05508630863337338,0.4121757296660923,0.19058740159722165,0.1033196286157674,0.27542292864961915,0.0851361705505021,0.3318398045247323,0.19369218964330243,0.23902363920892383,0.3061770677331165,0.3487975468075461,0.2134349439830866,0.30275090839436614,0.22359615930313537,0.3333084684597971,0.032384892516346936,0.28894370637641886,0.240032611862542,0.27499497250463995,0.28760006864037724,0.3152395715903919,0.24546795309860542,0.20903356785083532,0.22307929375700075,0.3144645284099848,0.33465010681724766,0.19733928245086113,0.22155137114691248,0.31392588219158807,0.30197714156135363,0.1876076822660364,0.1823927427890102,0.23448300712884707,0.18385910947301015,0.23038892143313866,0.3412365055284682,0.24392433298377236,0.19011699013025574,0.1992208006839855,0.2052412422176143,0.21482839655602698,0.27668378284214035,0.11884556822476205,0.2828944649568393,0.34727268699559133,0.30289609870415624,0.20542788811653429,0.23468847719157626,0.20475002855330698,0.28643446228600783,0.2504106767753501,0.3122785912170259,0.22042107335322447,0.12565204956460974,0.22784207170522675,0.39397759508687524,0.18782336197532712,0.3117432631533643,0.32602087672540025,0.38314966572208653,0.24754919844104217,1.0,0.4773832338123001,0.19526977819761393,0.21116894583064016,0.41426527039536687,0.25465684435979774,0.2909417001522496,0.27531810916435767,0.20954101072965864,0.24187677964052173,0.21013113077519902,0.30088619360140134,0.3152514828301932,0.3163106106219336,0.233861109430967,0.41947263777811983,0.19110156590438238,0.23603760261155565,0.3160605582238871,0.5415866149022528,0.18611351542894256,0.2122008476949302,0.19227914727236145,0.23851128295892898,0.4198883848108239,0.24706360000828942,0.4155913814858072,0.44017516676326196,0.2259442604837782,0.2131580061330587,0.1270299110967314,0.16865685966568594,0.2631425857350949,0.24299605946333913,0.20032200080637153,0.19717575717116087,0.22904490079287865,0.22779816997235636,0.23661338661861314,0.25393825232575956,0.1491054519295093,0.30796074317879574,0.39775428716340544,0.14006877010467295,0.1742955013481532,0.2843478143785005,0.27863787497222353,0.15526768058644863,0.2439398177349104,0.11559618543959366,0.2745728018289497,0.2012824773992351,0.19660261071639168,0.3456476872322492,0.3293384730040635,0.235711445582454,0.2584409383799893,0.09271539781969201,0.28579537824375,0.20330627203669155,0.26823300963917845,0.1679995470303211,0.38192697022189626,0.24862759690037323,0.31536025855676436,0.30538739072887533,0.20094789734855628,0.26015429457677947,0.12175871188188409,0.2097169789589315,0.19870244621109495,0.20913368663140913,0.17158327585462568,0.3027034759273995,0.22147186315513218,0.30247456611504053,0.31359627937301177,0.23186277526679,0.3079552554077353,0.19709482411355583,0.351523406392051,0.17650687766933265,0.2970758096128079,0.24677798395432804,0.2628173220620467,0.2164818770749098,0.2074087381509822,0.1615862450716652,0.13570387232944892,0.29304362014441115,0.2919128544147604,0.18235492431077993,0.026208529858440632,0.2074087381509822,0.16353733817742327,0.04615814735275195,0.08233695000266558,0.08233695000266558,0.2817096729666238,0.22243153151080935,0.2478681661929663,0.17943746285318873,0.2817096729666238,0.12592313808441769,0.16194039374953123,0.22243153151080935,0.09982049130502643,0.2817096729666238,0.15754248457756798,0.3304235928917318,0.21540477604666408,0.09982049130502643,0.026208529858440632,0.018468893426769606,0.22674797574115108,0.16194039374953123,0.15754248457756798,0.20193987515346712,0.3790449448726032,0.27150572579717325,0.16591349460639343,0.12248211091029049,0.2070772635885545,0.29304362014441115,0.11118428053037083,0.2811096409727504,0.15754248457756798,0.17391733869501397,0.1615862450716652,0.16981012918591798,0.12592313808441769,0.22247075370980557,0.2811096409727504,0.12579700586285703,0.026208529858440632,0.1466863508975308,0.2074087381509822,0.24161009404005024,0.08619302234911375,0.20193987515346712,0.24725834988549927,0.146898861344762,0.1466863508975308,0.20579581986517587,0.22243153151080935,0.09982049130502643,0.22007164672510493,0.12248211091029049,0.11118428053037083,0.12579700586285703,0.15754248457756798,0.18235492431077993,0.11118428053037083,0.2709966450989185,0.24725834988549927,0.2713082108200583,0.2478681661929663,0.146898861344762,0.17943746285318873,0.08619302234911375,0.09982049130502643,0.1157538613019512,0.11281538489341192,0.16591349460639343,0.08619302234911375,0.11281538489341192,0.13570387232944892,0.24161009404005024,0.20579581986517587,0.15754248457756798,0.25716051564740366,0.10030953544013108,0.2478681661929663,0.24725834988549927,0.1872900332902564,0.1524020332572244,0.29304362014441115,0.18235492431077993,0.24725834988549927,0.04615814735275195,0.16981012918591798,0.17943746285318873,0.026208529858440632,0.2070772635885545,0.17481083545165976,0.24161009404005024,0.11118428053037083,0.22243153151080935,0.2817096729666238,0.20579581986517587,0.20193987515346712,0.17481083545165976,0.17757406674924525,0.13570387232944892,0.29304362014441115,0.17481083545165976,0.13686507567735917,0.20193987515346712,0.12579700586285703,0.1466863508975308,0.2817096729666238,0.13686507567735917,0.15754248457756798,0.18235492431077993,0.2817096729666238,0.08233695000266558,0.2811096409727504,0.2713082108200583,0.18235492431077993,0.2709966450989185,0.2709966450989185,0.018468893426769606,0.1485892457278854,0.16591349460639343,0.2074087381509822,0.17757406674924525,0.12248211091029049,0.12579700586285703,0.1466863508975308,0.18235492431077993,0.22674797574115108,0.25716051564740366,0.018468893426769606,0.1524020332572244,0.17391733869501397,0.04615814735275195,0.2817096729666238,0.22247075370980557,0.2709966450989185,0.15754248457756798,0.17943746285318873,0.16194039374953123,0.27150572579717325,0.2709966450989185,0.13686507567735917,0.2709966450989185,0.22247075370980557,0.11118428053037083,0.24725834988549927,0.12592313808441769,0.13686507567735917,0.1485892457278854,0.20579581986517587,0.17391733869501397,0.24725834988549927,0.2074087381509822,0.27150572579717325,0.1466863508975308,0.29304362014441115,0.29304362014441115,0.20579581986517587,0.16591349460639343,0.12787459274933527,0.2811096409727504,0.25988939560129243,0.2074087381509822,0.3790449448726032,0.1615862450716652,0.25988939560129243,0.08619302234911375,0.3304235928917318,0.22247075370980557,0.04615814735275195,0.2074087381509822,0.17481083545165976,0.29304362014441115,0.522923967765594,0.41426448660984916,0.45134721020180046,0.5087038485597595,0.38776004366274464,0.2763985224205002,0.5202553670464147,0.4226266149658654,0.3758535974273781,0.42760215003112045,0.383829647536826,0.5188314607022683,0.33099323485714105,0.8078014974869615,0.5247354782692846,0.4892319697981867,0.5749232520879315,0.6109434177669041,0.46739269889874857,0.5619393083141343,0.32856379560839977,0.5675094410192014,0.38014515137554006,0.47309201172476256,0.5360543200250559,0.7644527718827573,0.668844049568945,0.43666040209994994,0.3786798590686409,0.762878197646547,0.46196852966479407,0.571435959216965,0.33608758776622605,0.6614474031984273,0.534514710808747,0.5617082207721396,0.5746923551548612,0.5194955434975282,0.8469821276110817,0.3671198853054958,0.4232746138311393,0.28368486975998597,0.9999999999999999,0.5490186196222531,0.7257199494345407,0.4379964506193965,0.2895830387317143,0.496714884674318,0.6113994263136696,0.5487088288220303,0.5221502216929762,0.6356766554048442,0.7687906069537448,0.4001842277440145,0.36168306505515824,0.719425721156976,0.5308546903176288,0.4002394090276846,0.26893544232989375,0.696084667017762,0.3651734730279893,0.6526656298955112,0.6296259750767329,0.49083044748719895,0.45258859873584656,0.5095671688487803,0.4677321148046423,0.4418963318709348,0.38103593523377943,0.5242993045080437,0.443145667000413,0.5355819731426767,0.6424296259829926,0.6341128250541924,0.530608408874752,0.4450813353923613,0.6308126272114637,0.35746067845070584,0.5583951176375977,0.4077171744683128,0.40134990091888356,0.3987416309188775,0.6605297916548408,0.5730577681414134,0.34127494780531664,0.5087363978979756,0.32633893389784674,0.4820846564361022,0.4156918895341044,0.44798680884271247,0.6310205742571443,0.5344659504679282,0.5759399738926367,0.41352653204992873,0.8334915712249861,0.5572493429147591,0.4923199610586384,0.4308860732047408,0.5760485564017684,0.5490285370150154,0.6038194356402552,0.6528866729721271,0.3058640014496724,0.48511040984655585,0.6440641494601326,0.5410395817439515,0.5065549564838139,0.44630244425652776,0.34699276037319937,0.46791278902022604,0.5704286461239645,0.47807873569012815,0.4320129668376643,0.4655111945585526,0.5098176461617477,0.3808450256834973,0.4397372045904886,0.4617064821036697,0.5476872118572519,0.2591746458657943,0.4733622602869467,0.7406332679904458,0.34481392551004186,0.5865104350146675,0.28589428316402943,0.437516538619829,0.357148153896665,0.4028473612159523,0.7333410719254746,0.3839151530859518,0.3953339948715514,0.4355619254714602,0.4162157940474287,0.48025655332136763,0.4088216905614098,0.3710446234450512,0.6669380061524705,0.43878914144843517,0.43012307088748414,0.4749039037066971,0.5186610216911851,0.4573079985017705,0.8175866422882173,0.7354272810066728,0.35118285191486565,0.5854623081762804,0.28460934726097575,0.1331673210062081,0.23729627761267236,0.49624921301022007,0.23290694857724537,0.45236094410745475,0.0,0.5772905806894884,0.41715883482659544,0.5831287367537819,0.532260287789226,0.6936936893690303,0.44046606812024525,0.6625461976386554,0.44907587662930015,0.7225850412975893,0.26325558281116046,0.853918569564743,0.5980804533733888,0.6029968655603132,0.8753057733818786,0.49239421430154284,0.46244539022900255,0.3506275424980567,0.41721770329929864,0.5418754385939509,0.8714282063942532,0.47865311706617175,0.3858046040215799,0.8623286318989792,0.8627827969814258,0.6210318054831122,0.3964659108673617,0.4510952071060548,0.432583533821861,0.43604101097823167,0.5764227467186387,0.5311894653388795,0.5158105387853821,0.46297062978598336,0.3908609402150096,0.4688384108257503,0.8628253907850209,0.4637619854411682,0.4749014878948147,0.47713989065085505,0.500900589736969,0.528564412118905,0.5251997513534181,0.4228362785334463,0.5321970962436184,0.5901195336285147,0.8316980517821065,0.3755477480916186,0.23362862833786047,0.5758432159070921,0.8679211422740701,0.37756059408921394,0.5151458839029536,0.38927740228164653,0.6928804644644845,0.454614540764377,0.578498275580784,0.5625521512901875,0.40090647972199545,0.3519107620094075,0.5783912823907388,0.6038394611649022,0.49813027233586393,0.4253025266570001,0.3611714300799731,0.6195839955559664,0.3440421502347544,0.4311610895939869,0.4514881513100264,0.5046513922853325,0.5193861980319089,0.8191150624742188,0.34812238775994087,0.32400695179443484,0.47668960362676116,0.7296209113241076,0.3466443172338448,0.4842643813283638,0.39905873269105563,0.47875165510992457,0.7205245157274013,0.40116719236966103,0.9064323495585026,0.6095479284271909,0.5884849466150667,0.4013266967560639,0.3974943936593459,0.4664905355314741,0.7432471324405069,0.6890137047685284,0.42406641463107364,0.44212843664484747,0.45613120009329666,0.8123380615008494,0.4456164923421043,0.3531280563515298,0.3791139984962433,0.46252161413904,0.5191018363370686,0.33211078344486533,0.5458365404635693,0.5527787674762105,0.4461222149252986,0.3171213045152309,0.5393409766921001,0.35317484602521554,0.5597187060099803,0.34012281567593505,0.36785974699624124,0.5579443220626433,0.570863802913682,0.4976015361987748,0.4255664814791469,0.27642897375857234,0.8327030125995328,0.5617300262247974,0.5707394541561053,0.33354181002184535,0.6913563670909934,0.35127986430603764,0.46034386004410865,0.4924078824196466,0.6269514619655626,0.43419142035277536,0.4377370731455845,0.5250091597450717,0.7377178136110237,0.38165202051451097,0.2921771954688672,0.44959698398269543,0.5630259604190369,0.6385591790980033,0.44323676699959424,0.4502978118560652,0.6056195666349108,0.37173400827307757,0.7414105105129746,0.18423341827563577,0.508492532136784,0.281166237512691,0.37711590151517504,0.5415091948725127,0.8469821276110817,0.6356766554048442,0.3786798590686409,0.5247354782692846,0.9999999999999999,0.4226266149658654,0.32856379560839977,0.8469821276110817,0.46739269889874857,0.38014515137554006,0.383829647536826,0.383829647536826,0.47309201172476256,0.7687906069537448,0.5617082207721396,0.3671198853054958,0.47309201172476256,0.45134721020180046,0.5675094410192014,0.7687906069537448,0.41426448660984916,0.47309201172476256,0.5490186196222531,0.762878197646547,0.5194955434975282,0.41426448660984916,0.32856379560839977,0.33608758776622605,0.5188314607022683,0.5675094410192014,0.5490186196222531,0.5360543200250559,0.6113994263136696,0.668844049568945,0.28368486975998597,0.43666040209994994,0.4892319697981867,0.5247354782692846,0.2895830387317143,0.5221502216929762,0.5490186196222531,0.36168306505515824,0.6356766554048442,0.5308546903176288,0.45134721020180046,0.5746923551548612,0.5221502216929762,0.5202553670464147,0.32856379560839977,0.3758535974273781,0.8469821276110817,0.6109434177669041,0.5087038485597595,0.5360543200250559,0.8078014974869615,0.5487088288220303,0.3758535974273781,0.7644527718827573,0.7687906069537448,0.41426448660984916,0.5619393083141343,0.43666040209994994,0.2895830387317143,0.5202553670464147,0.5490186196222531,0.4226266149658654,0.2895830387317143,0.534514710808747,0.8078014974869615,0.5749232520879315,0.5617082207721396,0.5487088288220303,0.3671198853054958,0.5087038485597595,0.41426448660984916,0.2763985224205002,0.4001842277440145,0.28368486975998597,0.5087038485597595,0.4001842277440145,0.3786798590686409,0.6109434177669041,0.7644527718827573,0.5490186196222531,0.6614474031984273,0.42760215003112045,0.5617082207721396,0.8078014974869615,0.46196852966479407,0.496714884674318,0.5247354782692846,0.4226266149658654,0.8078014974869615,0.38014515137554006,0.5308546903176288,0.3671198853054958,0.32856379560839977,0.4892319697981867,0.7257199494345407,0.6109434177669041,0.2895830387317143,0.7687906069537448,0.47309201172476256,0.7644527718827573,0.5360543200250559,0.7257199494345407,0.4232746138311393,0.3786798590686409,0.5247354782692846,0.7257199494345407,0.522923967765594,0.5360543200250559,0.5202553670464147,0.3758535974273781,0.47309201172476256,0.522923967765594,0.5490186196222531,0.4226266149658654,0.47309201172476256,0.383829647536826,0.5221502216929762,0.5749232520879315,0.4226266149658654,0.534514710808747,0.534514710808747,0.33608758776622605,0.38776004366274464,0.28368486975998597,0.8469821276110817,0.4232746138311393,0.43666040209994994,0.5202553670464147,0.3758535974273781,0.4226266149658654,0.5188314607022683,0.6614474031984273,0.33608758776622605,0.496714884674318,0.36168306505515824,0.38014515137554006,0.47309201172476256,0.5746923551548612,0.534514710808747,0.5490186196222531,0.3671198853054958,0.5675094410192014,0.668844049568945,0.534514710808747,0.522923967765594,0.534514710808747,0.5746923551548612,0.2895830387317143,0.8078014974869615,0.45134721020180046,0.522923967765594,0.38776004366274464,0.7644527718827573,0.36168306505515824,0.8078014974869615,0.8469821276110817,0.668844049568945,0.3758535974273781,0.5247354782692846,0.5247354782692846,0.7644527718827573,0.28368486975998597,0.33099323485714105,0.5221502216929762,0.571435959216965,0.8469821276110817,0.6113994263136696,0.6356766554048442,0.571435959216965,0.5087038485597595,0.762878197646547,0.5746923551548612,0.38014515137554006,0.8469821276110817,0.7257199494345407,0.5247354782692846,0.3982591699182743,0.36270493476549986,0.3094113823930957,0.5066261005300381,0.23736105814540648,0.10953987583638125,0.23828863308308001,0.17107091351447357,0.203595338080529,0.38270103729237276,0.36088647828473547,0.42809027872138544,0.1276128101748411,0.38512048044050134,0.41294850343006234,0.18060517730907327,0.1614571472232627,0.3991995847954192,0.12750192722036707,0.38330462524292247,0.33917098594520617,0.25706250641176104,0.39000076426011693,0.21113393212725318,0.16899601811679205,0.3725517846727476,0.6798948851047921,0.2985955597414515,0.24461341016406662,0.879730279305178,0.17032387258875342,0.4085375967919675,0.3850023750997707,0.416906470134391,0.20812899893211506,0.35281967569355094,0.1671651644530897,0.34412498879849,0.4742378512968814,0.14209927816858292,0.315213429917752,0.19967619552774535,0.4339497740833655,0.8151392958263992,0.34324495486131085,0.17294405035628374,0.1642231855697311,0.6897061485796321,0.35556958112539555,0.3873124019864283,0.39509910574332036,0.28002906252185683,0.3674712088485815,0.2780796609025726,0.21739605922959104,0.32364866148418453,0.3998943250524895,0.1989859658617153,0.24694159006859745,0.7267751644872082,0.24495732133687992,0.27317336510119344,0.36285929074427953,0.3313674574400413,0.28293542720311776,0.2024878379388459,0.2876595840178198,0.31384226833121315,0.30686226697835045,0.4176088479062435,0.3219339760836683,0.38984159335716634,0.9646493220572387,0.22906230638668557,0.6611487949256907,0.3732213986028035,1.0,0.15901855489048106,0.258502461312402,0.37594595625852584,0.3139168728779483,0.12834297095459096,0.8603781660854337,0.8428597289783208,0.16301659113193218,0.27666848517660886,0.20239159371966697,0.2769748173000904,0.11893494802805293,0.266416070142997,0.7779303688542385,0.3535989824485188,0.20636815619840254,0.17067976581597882,0.8210508704079216,0.6201296711359938,0.5796515405742133,0.30518837057661335,0.4575201394514366,0.6711671576628115,0.25255945101700167,0.5991854608194962,0.21483980431261246,0.1561234805716653,0.34578582395332996,0.2781866419322682,0.5756898659078884,0.31906535650314943,0.22822627139773272,0.1553494591254096,0.47044680394736266,0.3720316011435875,0.19284734020421496,0.2823840292675052,0.31326153781067717,0.5587079943216748,0.618205285331693,0.1997657153732167,0.2967074244335179,0.21814453907862463,0.3560190344045912,0.8095502694503698,0.24132577685145046,0.29025585293254136,0.4751534165521351,0.32791185334982004,0.23342855001259483,0.3107516616760026,0.9558287263969367,0.20317516213024156,0.21136615799991265,0.38464246943573616,0.16188603988081746,0.30470250060795817,0.36088586947679163,0.11685698096264463,0.8358259880334948,0.4122046724537895,0.36445194125127917,0.4468738372961059,0.5343300962925228,0.23416236364000748,0.4551357294671518,0.9930380962673131,0.30712758879562724,0.408306256432375,0.13781176217993074,0.4060853896603604,0.26191744245525456,0.23035100474596343,0.34030743131297686,0.5304840363374559,0.0,0.3246889732864892,0.26038152004055787,0.8247347154203188,0.5212175848479237,0.8356629429754554,0.15100125800534292,0.725994031308409,0.19025192903287064,0.6283613453507311,0.4396720147782797,0.8139986443424014,0.37526433264605025,0.26685307084155735,0.5689324048982816,0.8491022639977901,0.2602382882311311,0.09000828016916074,0.24356778528335993,0.8378431868001013,0.777772747528314,0.4851934189616998,0.15119762045710727,0.42642368773161005,0.8539538794381234,0.3453429013684239,0.2701434160910718,0.44438626503951656,0.24900677259223186,0.2055301287342079,0.3429006563296613,0.1719803908319713,0.5314938533366467,0.23576403532908735,0.20085971151146925,0.2716863119565917,0.8675075424414949,0.8342838670273292,0.26289687516336263,0.28013255689698197,0.23631587602123327,0.3288643887047796,0.30815666563318417,0.3253649517177422,0.30524410250213635,0.5343686161109371,0.8130564584391224,0.2647818005218488,0.20296928034216605,0.9631162776308508,0.8102591226604965,0.21017375925751114,0.45694892826721173,0.15128885607269715,0.44234964024145157,0.22282187449617102,0.27285391619143523,0.25434093725637813,0.404255034150889,0.3318636214626797,0.3970199496370352,0.20482443021751318,0.1914812426189626,0.2320468729229649,0.15540900995000584,0.4525511935297268,0.2540106408823903,0.30743098767478466,0.32318946756125205,0.19335695297426853,0.784525448869765,0.4438340369885346,0.31147700753158153,0.3015341348542628,0.13829555678932104,0.43148029944695193,0.14977897326777156,0.38070309850581435,0.33257347083958627,0.3341812858641196,0.21750569679848775,0.31498679397029966,0.45377807188404345,0.26467769733877994,0.5271279418135582,0.2739329138635644,0.4610865433287447,0.26079865195112634,0.3604565062930137,0.8881549399708222,0.5598946926268384,0.27756025209108465,0.40461682163645246,0.8593441081306132,0.2567066960685587,0.2327945780543264,0.37461104531003625,0.7033615349319946,0.5457585833328122,0.24013426376379793,0.7881417734399634,0.34430358573289915,0.08694066922568428,0.32248244077495675,0.3790517272895881,0.3074451558838565,0.33876359467837475,0.29689044893326205,0.19705089836123113,0.4592611135388392,0.2539816404002874,0.31759667768384664,0.200838791159,0.24208781624329406,0.9621048002592387,0.2774605212173353,0.1569103419573924,0.1474878741166593,0.5458796773155643,0.32617237372511027,0.2218668486534207,0.18643849463787954,0.33377965043222363,0.44482442795626703,0.3532634836498419,0.24870088322528378,0.8284423586318121,0.3037097296644659,0.22879720601851655,0.143469720293465,0.40190150647023587,0.4929580402896145,0.3325000286527235,0.29767113935552786,0.5231004070774552,0.30776084129223896,0.5141747674650019,0.1250680669277333,0.46246168986576713,0.20220378192375965,0.25905535356902537,0.19160355407592022,0.4742378512968814,0.28002906252185683,0.24461341016406662,0.41294850343006234,0.4339497740833655,0.17107091351447357,0.33917098594520617,0.4742378512968814,0.12750192722036707,0.39000076426011693,0.36088647828473547,0.36088647828473547,0.21113393212725318,0.3674712088485815,0.35281967569355094,0.14209927816858292,0.21113393212725318,0.3094113823930957,0.25706250641176104,0.3674712088485815,0.36270493476549986,0.21113393212725318,0.8151392958263992,0.879730279305178,0.34412498879849,0.36270493476549986,0.33917098594520617,0.3850023750997707,0.42809027872138544,0.25706250641176104,0.8151392958263992,0.16899601811679205,0.35556958112539555,0.6798948851047921,0.19967619552774535,0.2985955597414515,0.18060517730907327,0.41294850343006234,0.1642231855697311,0.39509910574332036,0.8151392958263992,0.21739605922959104,0.28002906252185683,0.3998943250524895,0.3094113823930957,0.1671651644530897,0.39509910574332036,0.23828863308308001,0.33917098594520617,0.203595338080529,0.4742378512968814,0.3991995847954192,0.5066261005300381,0.16899601811679205,0.38512048044050134,0.3873124019864283,0.203595338080529,0.3725517846727476,0.3674712088485815,0.36270493476549986,0.38330462524292247,0.2985955597414515,0.1642231855697311,0.23828863308308001,0.8151392958263992,0.17107091351447357,0.1642231855697311,0.20812899893211506,0.38512048044050134,0.1614571472232627,0.35281967569355094,0.3873124019864283,0.14209927816858292,0.5066261005300381,0.36270493476549986,0.10953987583638125,0.2780796609025726,0.19967619552774535,0.5066261005300381,0.2780796609025726,0.24461341016406662,0.3991995847954192,0.3725517846727476,0.8151392958263992,0.416906470134391,0.38270103729237276,0.35281967569355094,0.38512048044050134,0.17032387258875342,0.6897061485796321,0.41294850343006234,0.17107091351447357,0.38512048044050134,0.39000076426011693,0.3998943250524895,0.14209927816858292,0.33917098594520617,0.18060517730907327,0.34324495486131085,0.3991995847954192,0.1642231855697311,0.3674712088485815,0.21113393212725318,0.3725517846727476,0.16899601811679205,0.34324495486131085,0.315213429917752,0.24461341016406662,0.41294850343006234,0.34324495486131085,0.3982591699182743,0.16899601811679205,0.23828863308308001,0.203595338080529,0.21113393212725318,0.3982591699182743,0.8151392958263992,0.17107091351447357,0.21113393212725318,0.36088647828473547,0.39509910574332036,0.1614571472232627,0.17107091351447357,0.20812899893211506,0.20812899893211506,0.3850023750997707,0.23736105814540648,0.19967619552774535,0.4742378512968814,0.315213429917752,0.2985955597414515,0.23828863308308001,0.203595338080529,0.17107091351447357,0.42809027872138544,0.416906470134391,0.3850023750997707,0.6897061485796321,0.21739605922959104,0.39000076426011693,0.21113393212725318,0.1671651644530897,0.20812899893211506,0.8151392958263992,0.14209927816858292,0.25706250641176104,0.6798948851047921,0.20812899893211506,0.3982591699182743,0.20812899893211506,0.1671651644530897,0.1642231855697311,0.38512048044050134,0.3094113823930957,0.3982591699182743,0.23736105814540648,0.3725517846727476,0.21739605922959104,0.38512048044050134,0.4742378512968814,0.6798948851047921,0.203595338080529,0.41294850343006234,0.41294850343006234,0.3725517846727476,0.19967619552774535,0.1276128101748411,0.39509910574332036,0.4085375967919675,0.4742378512968814,0.35556958112539555,0.28002906252185683,0.4085375967919675,0.5066261005300381,0.879730279305178,0.1671651644530897,0.39000076426011693,0.4742378512968814,0.34324495486131085,0.41294850343006234,4.894143713515005e-06,0.0,1.8935675082052104e-07,0.0,4.857728953741828e-06,1.2089700244694804e-06,9.395008021479697e-07,0.0,3.6072461031309256e-05,3.277328379585941e-07,0.0,8.220996166392467e-05,3.9473599594124005e-05,0.0,0.000610981405378275,0.0,7.698080216049643e-06,0.0,0.0,3.0333494891055815e-05,1.3546290635621889e-06,0.0,0.0,0.00017807545824279078,0.0,1.9634838469697104e-05,3.719403563232312e-05,0.0,0.0,3.037719260278436e-05,8.355730777553223e-05,6.431574871138543e-05,0.000303808340787616,2.6655604153965656e-06,0.0,4.226297019274937e-05,0.002101794387540192,1.913231478482726e-05,0.0,7.348498522227143e-06,4.5358224773469424e-05,2.4558113991030652e-05,2.742759706115701e-05,0.000415718180522544,0.0,1.672894063979757e-05,0.0,9.902629772717787e-05,8.08990303120903e-05,1.1230311914047824e-05,3.969208815276307e-06,7.67623136018501e-06,1.696927805430054e-06,0.00018698979143526453,6.190509161440111e-06,0.00015632856370624942,0.0,0.00019256124968055992,8.277803191638623e-05,0.0070825833804594954,1.9736799797062002e-05,0.00018999036764057433,0.00042819387722083514,0.00029010910816094676,3.2044988600395866e-07,0.0003792014594220019,0.0008940988796627726,1.2475696698290481e-05,5.06165160847162e-06,0.0016077626246494526,0.00037354988870520484,0.0006091388185337523,0.0003621229370883826,1.0778768892860428e-05,0.00026914148948355214,0.00011792555804945607,1.327682141330038e-05,1.2526677361972932e-06,0.0012470088825285413,1.0778768892860428e-05,0.0005681503649330641,0.0013739725839537007,0.0004621469992333455,3.64511745329503e-05,3.329037338463853e-05,0.00038572698437335526,3.6414759773177125e-08,0.0010521680688861798,9.27848079020553e-06,0.0,3.976491767230942e-06,0.0,2.607296799759482e-06,0.0,7.989398294235061e-06,3.823549776183598e-06,1.456590390927085e-07,9.904814658304178e-07,0.001017129787032429,1.2868976103840796e-05,6.6362258210638e-05,0.00028089617393833367,1.1652723127416679e-07,0.0,2.0159211010430857e-05,7.530572321093029e-06,0.00043269474152879986,3.823549776183598e-06,2.869483070126357e-06,0.00024196151278885273,5.729498302711689e-05,1.3254972557436474e-06,7.381271806023003e-05,0.0007792248784823081,0.0002070324752144205,9.540667060572408e-07,6.906423338580774e-05,0.00010264592484863168,1.0851598412406782e-06,2.7507709532658e-05,0.000303983131634528,0.06536760361333757,3.255479523722035e-05,2.106229705280565e-05,8.761391201425688e-06,9.293046694114803e-06,8.109567001486472e-05,0.0037966538346151293,1.456590390927085e-07,0.0,0.0010047414857575938,3.348701308741368e-05,1.684546787107174e-05,8.323685788952827e-05,5.31655492688386e-07,0.0,0.00011152384328133226,6.540090855262611e-06,0.0017272613003211103,2.0960335725440753e-05,0.00012499002144545317,1.0560280334221366e-05,0.001305906114985678,0.00019271419167160797,3.2700454276313057e-06,0.0,3.020968470782774e-05,0.0003073478554375696,0.0006839493010117674,0.0,0.000246090946547131,0.05007239217828148,0.004994779543624158,1.122302896209319e-05,2.163036730526721e-06,0.011061507653643284,0.00034213123397290834,2.3618613188882682e-05,4.624674491193494e-05,2.7165410790790136e-06,0.00025960082242297897,0.0005265938410799144,7.166424723361258e-06,0.0006445339650332804,0.0,0.0003490281894739481,0.0017172181095756682,0.0002350864061436769,2.767521742760733e-06,0.0,0.0,9.140104703067458e-06,0.0001541145463120402,1.1725552646963035e-05,0.0005462432454535208,0.0003933813668776778,0.0005522298319602311,0.0,2.7092581271243782e-05,6.621659917154528e-05,0.00015070612479727084,0.001507250604723529,8.743183821539828e-05,4.733918770513027e-07,3.0078591572644306e-06,2.4135702777661798e-05,0.0002912816634256431,7.784019049114342e-05,2.9597916743638367e-05,3.508926251743348e-05,0.0004289731530799812,0.0,0.0,0.00046506018001519963,1.1361405049231261e-06,4.0806379801822285e-05,0.0033741260940150005,4.810389766036698e-05,0.0064555867637329754,1.7821383432992884e-05,5.6391896984742094e-05,0.0006685385746757588,1.1070086971045847e-06,0.0016068158408953498,8.965313856156208e-06,0.0,6.38569227382434e-05,0.000509741090256888,1.0,1.679448720738929e-05,2.6509945114872946e-05,0.0,0.00013066344101811414,2.2642697626961534e-05,0.0003668568558588956,0.0,4.6610892509666716e-07,1.841858549327299e-05,5.265574263201412e-06,1.5068427594140695e-05,0.000133263454865919,1.3080181710525223e-05,0.00037337509785829363,0.0016270842961851003,0.0004677475892864602,0.00011131992062660247,0.00013631501173491051,0.0035239145668659873,0.0,0.0,1.835303892568127e-06,0.00019310747107715757,0.0011201107276709737,0.0003392835997586459,0.0018512899721085517,0.0008875150910957814,9.527557747054062e-05,1.4522206197543038e-05,0.0,0.00027693424807501203,0.007071243824266127,1.0502016718584281e-05,0.00023797045511771253,5.3049022037564434e-05,0.00015117223372236677,1.4696997044454287e-05,3.6414759773177125e-08,0.0,2.8476342142624513e-06,0.0011685132263614807,0.0020593347776446673,5.30198902297459e-06,0.0,0.0,2.415026868157034e-05,3.3501578991322954e-07,0.00012083873883131096,1.2381018322880223e-07,1.738440631571476e-05,0.0008600510792748519,2.2795639618001596e-06,8.767217562990124e-05,0.00019502288744122667,4.54966008606075e-05,5.505911677704308e-05,5.607873005069277e-07,3.4594021784518268e-06,0.0017793489727006631,0.0,0.0020460288244235486,0.0008750758091572647,8.128502676568599e-05,0.0025197120195530366,0.0006182570743809558,0.00013563041425117552,0.0,3.2372721438354465e-05,8.695844633834696e-06,6.408997720079174e-06,3.202313974453196e-05,0.0005062671221745262,1.4849939035501631e-05,1.2075134340784806e-05,0.0034315958678890284,0.00010848685231624928,1.7770402769310437e-06,9.706718365138094e-05,0.000179109637420349,0.0,0.00021730143747045717,8.979879760065479e-06,0.0059145726777828835,0.00021735241813413962,0.00028268778011917325,0.0,7.67623136018501e-06,0.0,0.000610981405378275,2.742759706115701e-05,0.0,1.3546290635621889e-06,0.0,0.0,0.0,0.0,0.0,0.00017807545824279078,1.696927805430054e-06,4.226297019274937e-05,7.348498522227143e-06,0.00017807545824279078,1.8935675082052104e-07,0.0,1.696927805430054e-06,0.0,0.00017807545824279078,0.000415718180522544,3.037719260278436e-05,1.913231478482726e-05,0.0,1.3546290635621889e-06,0.000303808340787616,8.220996166392467e-05,0.0,0.000415718180522544,0.0,8.08990303120903e-05,3.719403563232312e-05,2.4558113991030652e-05,0.0,0.0,0.000610981405378275,0.0,3.969208815276307e-06,0.000415718180522544,6.190509161440111e-06,7.67623136018501e-06,0.0,1.8935675082052104e-07,0.002101794387540192,3.969208815276307e-06,9.395008021479697e-07,1.3546290635621889e-06,3.6072461031309256e-05,0.0,0.0,0.0,0.0,0.0,1.1230311914047824e-05,3.6072461031309256e-05,1.9634838469697104e-05,1.696927805430054e-06,0.0,3.0333494891055815e-05,0.0,0.0,9.395008021479697e-07,0.000415718180522544,0.0,0.0,0.0,0.0,7.698080216049643e-06,4.226297019274937e-05,1.1230311914047824e-05,7.348498522227143e-06,0.0,0.0,1.2089700244694804e-06,0.00018698979143526453,2.4558113991030652e-05,0.0,0.00018698979143526453,0.0,0.0,1.9634838469697104e-05,0.000415718180522544,2.6655604153965656e-06,3.277328379585941e-07,4.226297019274937e-05,0.0,8.355730777553223e-05,9.902629772717787e-05,0.000610981405378275,0.0,0.0,0.0,0.0,7.348498522227143e-06,1.3546290635621889e-06,0.0,0.0,0.0,0.0,1.696927805430054e-06,0.00017807545824279078,1.9634838469697104e-05,0.0,0.0,4.5358224773469424e-05,0.0,0.000610981405378275,0.0,4.894143713515005e-06,0.0,9.395008021479697e-07,3.6072461031309256e-05,0.00017807545824279078,4.894143713515005e-06,0.000415718180522544,0.0,0.00017807545824279078,0.0,3.969208815276307e-06,7.698080216049643e-06,0.0,0.0,0.0,0.000303808340787616,4.857728953741828e-06,2.4558113991030652e-05,0.0,4.5358224773469424e-05,0.0,9.395008021479697e-07,3.6072461031309256e-05,0.0,8.220996166392467e-05,2.6655604153965656e-06,0.000303808340787616,9.902629772717787e-05,6.190509161440111e-06,0.0,0.00017807545824279078,0.002101794387540192,0.0,0.000415718180522544,7.348498522227143e-06,0.0,3.719403563232312e-05,0.0,4.894143713515005e-06,0.0,0.002101794387540192,0.0,0.0,1.8935675082052104e-07,4.894143713515005e-06,4.857728953741828e-06,1.9634838469697104e-05,6.190509161440111e-06,0.0,0.0,3.719403563232312e-05,3.6072461031309256e-05,0.000610981405378275,0.000610981405378275,1.9634838469697104e-05,2.4558113991030652e-05,3.9473599594124005e-05,3.969208815276307e-06,6.431574871138543e-05,0.0,8.08990303120903e-05,7.67623136018501e-06,6.431574871138543e-05,0.0,3.037719260278436e-05,0.002101794387540192,0.0,0.0,0.0,0.000610981405378275,0.19914822301772162,0.23230070086236188,0.24916281470589285,0.5954823518315729,0.06491660952727885,0.19194968533041545,0.24983409216376795,0.17626614077356795,0.12586522816086454,0.19294722541783227,0.23438078530962136,0.1905384008295734,0.08318928170450057,0.24545812347814577,0.131677512756194,0.16604550898080817,0.1399761936778351,0.1322657508645233,0.12119059119745301,0.35256320772464134,0.23803767765252193,0.18897833749412862,0.1493238871232111,0.19124077532781314,0.2934197124822323,0.23363099636796814,0.24026248294147923,0.1992859811979092,0.2129142591377884,0.14017682939018883,0.8160612625364215,0.10609139761888942,0.26960155806424,0.18617088985547903,0.17728798610269847,0.1581826137814224,0.12184183498509316,0.2691917007808603,0.7869320924361235,0.10979839549523485,0.16014663963160602,0.18174549908784854,0.9064221710279124,0.08969855861800646,0.14509938836222314,0.05374273384333628,0.09853349262308153,0.21324838145885106,0.15952931212150667,1.0,0.1725145049752701,0.23577733288886205,0.29818956277390385,0.20981997547434517,0.1520526096995085,0.15176248456467645,0.9546578667737863,0.11054058103965603,0.06451730302545167,0.21065092427409338,0.08178645491518621,0.17542344515225328,0.09770741341481892,0.15381117296156754,0.11731947954489652,0.13772537451857247,0.20602263386122555,0.25706893820864296,0.21430918351986705,0.1141948677239546,0.07840687299268179,0.20366985229076684,0.15467565359742352,0.1410067530127821,0.13564558908131652,0.19004007930087008,0.12980336076992172,0.11603941771987958,0.8024494301467354,0.09603671637807643,0.053526421463655716,0.1501510342243434,0.17794170740179605,0.16993896095219807,0.17649044099191358,0.18262792032391495,0.07899980982963772,0.12205105655611892,0.0942131825138266,0.1791692288976252,0.123368580063004,0.05132506710211637,0.22222525978416263,0.1780841215948954,0.23146543777542028,0.1993566329901667,0.09300150854818345,0.23204145918932062,0.09099690276895223,0.11933040724991606,0.13105685342034123,0.20999617779784074,0.14979777526305615,0.18895984158962598,0.18706134164592525,0.16652554818358256,0.15662776176318172,0.06186794624722802,0.1414597958838112,0.12356964293250561,0.11765992379174761,0.16370801963624315,0.1286635346365499,0.14322745759311983,0.1373259825853156,0.1794549543138344,0.06178776885057313,0.190343104581568,0.241419737086484,0.0628349445985722,0.19668339812737712,0.33961620271989756,0.10221763759201596,0.11948098014453967,0.13949700878935645,0.1894294581579924,0.10009535001854719,0.1725569643957683,0.11564079466948896,0.1176248114741929,0.12112557787954747,0.09429887023768901,0.13221620063537065,0.15981367063484264,0.1378721029988652,0.17594479045122657,0.08941471269324808,0.2322988213709113,0.10814593806870643,0.08040045811749796,0.185847873620261,0.13826513029061893,0.2965409497617061,0.07502024297723753,0.09356326291334505,0.18191315826838694,0.01638519288793594,0.06699660854310874,0.0,0.17674895649780353,0.06032146650908554,0.0900475032921001,0.04342611983945044,0.10464239514189055,0.07984993798532536,0.20581341229019956,0.038648324424828684,0.23474211754100316,0.08931390360635105,0.1595270054729082,0.16846821617637286,0.09763834210400868,0.11143402293013738,0.19665272824416025,0.019001402271484946,0.4086192111022585,0.8692476241946591,0.24037392824135806,0.1290273870951042,0.13078829972147643,0.2098479969832453,0.21980498738434073,0.05834526668018758,0.1707697388890873,0.14238843552327696,0.7814479499617865,0.12013102789216568,0.675276033220524,0.20327477464470345,0.2591161315555166,0.08751766508385017,0.15803810651829842,0.17147416374163682,0.24936080204392985,0.12186319284248648,0.09088904558911548,0.14144595599222032,0.16859922527362392,0.211092647480704,0.211923852574741,0.1980393657775703,0.2419177596051838,0.1449880284937738,0.2169247948834091,0.13494744343884058,0.13968431719869656,0.22835727150467133,0.043344447392777985,0.04490621935681405,0.1527283723074363,0.18285525335801056,0.14452614346978387,0.17323857905662177,0.149074427348856,0.183288177127375,0.17677078422805959,0.16089954682043872,0.14278603339651275,0.2703214032898277,0.19398637061145152,0.17000568289869533,0.19058188542722632,0.2798424371058087,0.3212059859410622,0.2900645212328711,0.2478603271306128,0.1286608435465184,0.27840496787180224,0.3860049136741034,0.45466457314100783,0.20583596618760702,0.16210720550889202,0.178678553481869,0.08021054404955563,0.14052594492714154,0.17367235714028206,0.16429886340317468,0.18523926011597835,0.22558335570212928,0.1440047127393811,0.11142710298434189,0.3930740654613202,0.1237728415877466,0.07479799311320157,0.1337549061134219,0.12660942134388076,0.2766247904580612,0.2507006231539336,0.23692433526231804,0.11466179320228942,0.12555310443291734,0.24341199802414204,0.14596130605519175,0.10427943971334686,0.178500813392641,0.12688587744998125,0.11129609388709072,0.1367134819509872,0.15792516616840202,0.08629996820242192,0.11676379081123467,0.12678694785453493,0.13953588008981233,0.21472942072194,0.0881344372896572,0.1914933533493477,0.15162408564876706,0.021218476016065857,0.17106575879256003,0.22735084654857873,0.10944419678822248,0.11917496476380685,0.2100098041108578,0.06343403249845747,0.05279931456655429,0.1004176400866138,0.07426938614271461,0.13248962392572117,0.157933410301356,0.06745059115986318,0.3022405503014277,0.18011367335156214,0.19285295183529783,0.1308824878725814,0.138304984052515,0.1684985870495862,0.21419560243424896,0.09635144576462573,0.3301534331388857,0.1787594570456752,0.06674057054867655,0.06670870462544565,0.2993134132299454,0.15292742753834299,0.20637388518391764,0.1981450871716679,0.2583151691875487,0.15896332890058118,0.2156085101322529,0.03853393174062958,0.14237720129028797,0.21957782521310443,0.00914586169300835,0.23755874905833196,0.7869320924361235,0.23577733288886205,0.2129142591377884,0.131677512756194,0.9064221710279124,0.17626614077356795,0.23803767765252193,0.7869320924361235,0.12119059119745301,0.1493238871232111,0.23438078530962136,0.23438078530962136,0.19124077532781314,0.29818956277390385,0.1581826137814224,0.10979839549523485,0.19124077532781314,0.24916281470589285,0.18897833749412862,0.29818956277390385,0.23230070086236188,0.19124077532781314,0.08969855861800646,0.14017682939018883,0.2691917007808603,0.23230070086236188,0.23803767765252193,0.26960155806424,0.1905384008295734,0.18897833749412862,0.08969855861800646,0.2934197124822323,0.15952931212150667,0.24026248294147923,0.18174549908784854,0.1992859811979092,0.16604550898080817,0.131677512756194,0.09853349262308153,0.1725145049752701,0.08969855861800646,0.1520526096995085,0.23577733288886205,0.9546578667737863,0.24916281470589285,0.12184183498509316,0.1725145049752701,0.24983409216376795,0.23803767765252193,0.12586522816086454,0.7869320924361235,0.1322657508645233,0.5954823518315729,0.2934197124822323,0.24545812347814577,1.0,0.12586522816086454,0.23363099636796814,0.29818956277390385,0.23230070086236188,0.35256320772464134,0.1992859811979092,0.09853349262308153,0.24983409216376795,0.08969855861800646,0.17626614077356795,0.09853349262308153,0.17728798610269847,0.24545812347814577,0.1399761936778351,0.1581826137814224,1.0,0.10979839549523485,0.5954823518315729,0.23230070086236188,0.19194968533041545,0.20981997547434517,0.18174549908784854,0.5954823518315729,0.20981997547434517,0.2129142591377884,0.1322657508645233,0.23363099636796814,0.08969855861800646,0.18617088985547903,0.19294722541783227,0.1581826137814224,0.24545812347814577,0.8160612625364215,0.21324838145885106,0.131677512756194,0.17626614077356795,0.24545812347814577,0.1493238871232111,0.9546578667737863,0.10979839549523485,0.23803767765252193,0.16604550898080817,0.14509938836222314,0.1322657508645233,0.09853349262308153,0.29818956277390385,0.19124077532781314,0.23363099636796814,0.2934197124822323,0.14509938836222314,0.16014663963160602,0.2129142591377884,0.131677512756194,0.14509938836222314,0.19914822301772162,0.2934197124822323,0.24983409216376795,0.12586522816086454,0.19124077532781314,0.19914822301772162,0.08969855861800646,0.17626614077356795,0.19124077532781314,0.23438078530962136,0.1725145049752701,0.1399761936778351,0.17626614077356795,0.17728798610269847,0.17728798610269847,0.26960155806424,0.06491660952727885,0.18174549908784854,0.7869320924361235,0.16014663963160602,0.1992859811979092,0.24983409216376795,0.12586522816086454,0.17626614077356795,0.1905384008295734,0.18617088985547903,0.26960155806424,0.21324838145885106,0.1520526096995085,0.1493238871232111,0.19124077532781314,0.12184183498509316,0.17728798610269847,0.08969855861800646,0.10979839549523485,0.18897833749412862,0.24026248294147923,0.17728798610269847,0.19914822301772162,0.17728798610269847,0.12184183498509316,0.09853349262308153,0.24545812347814577,0.24916281470589285,0.19914822301772162,0.06491660952727885,0.23363099636796814,0.1520526096995085,0.24545812347814577,0.7869320924361235,0.24026248294147923,0.12586522816086454,0.131677512756194,0.131677512756194,0.23363099636796814,0.18174549908784854,0.08318928170450057,0.1725145049752701,0.10609139761888942,0.7869320924361235,0.15952931212150667,0.23577733288886205,0.10609139761888942,0.5954823518315729,0.14017682939018883,0.12184183498509316,0.1493238871232111,0.7869320924361235,0.14509938836222314,0.131677512756194,0.921034436380604,0.8299142962714436,0.9145929400637132,0.9940666275963965,0.6994115748669079,0.21765629038630196,0.8134879020543615,0.8076442990180155,0.45946207812726847,0.7988875331364931,0.8003805386032556,0.7690268087762768,0.8156059671016676,0.8352569371983445,0.8175349767124036,0.8299547989022127,0.8563617696598798,0.8387201994105149,0.7909998298970431,0.5729886620148121,0.8731469985729801,0.8083498621292067,0.1380155345594667,0.8409644578692523,0.8411657328807398,0.8620359575962948,0.7010243564451621,0.7589467033933679,0.7659791739599726,0.26474393678449726,0.9275564443205766,0.9042258688886546,0.8205919906593893,0.845825404771396,0.791055149773954,0.7376989990145035,0.07269403268792929,0.754932961469819,0.8132350135006072,0.6900608729049296,0.6553120353425714,0.7442718840852742,0.8546120479182133,0.6884335168535454,0.7964731150739219,0.7120829179891726,0.5824587678363309,0.6946837484994604,0.6519810196822553,0.8448662086025482,0.8471314588343564,0.7608941151983837,0.9169666127225036,0.8299072558541072,0.7378223600741332,0.7914978301757467,0.849432647564315,0.6598568675063052,0.5668926640631688,0.6670851830613709,0.8193192774233562,0.8741893040361339,0.7957842142837606,0.7985659883750571,0.5584384338162736,0.5755410075177092,0.861593398581008,0.8044709644287364,0.7814501997293566,0.7266879805185986,0.48198051309590473,0.831528437378563,0.8330376196203322,0.7938729837499074,0.6744471046971559,0.7600117243179738,0.36332663603518656,0.7085966894501046,0.335479017856926,0.7203347726535949,0.7611184779232745,0.8002711369917932,0.5133098037730486,0.7240384529791566,0.7119284496143226,0.8243459330907872,0.7373392984280773,0.4329406318021962,0.8056904618206262,0.8471812192093013,0.8140957975829843,0.0,0.7735140956438267,0.794865148493731,0.809509596898073,0.7001366569282319,0.34126791604132367,0.793887800996049,0.7874048147714754,0.779812355883871,0.8323736597108964,0.7769540192771482,0.7831676973999497,0.7356853991940906,0.7426136553992475,0.7488491911855271,0.7158997143532746,0.6939715091304501,0.6255276145399022,0.43158543238925384,0.9005156417842135,0.7347849783713523,0.7509865162250868,0.7548718393179308,0.8874590340774002,0.6249133017113395,0.5070535270791445,0.5628212554569305,0.6863906547928005,0.5483603029871926,0.8287729636968568,0.8060485520127421,0.559179441787159,0.6958348324566799,0.8482148819532416,0.7948682398034121,0.23936728659564444,0.8138111705041797,0.8249075237136632,0.7509203282096899,0.11399741786624862,0.793132590803985,0.760309315475598,0.713209805569569,0.6807253604410441,0.8040758270750499,0.7519160779016514,0.5575448025454266,0.8661488561102164,0.03967924182312177,0.472219977920604,0.8405178283598047,0.033692831608916674,0.8461836244424517,0.544997678280766,0.7050756391687387,0.5025119076115976,0.5451279502787927,0.4879258703938474,0.8623828154904072,0.3416804683123762,0.41346648947473796,0.4334301107481926,0.39610953821174366,0.7176758578910374,0.49363462920711476,0.6769053594731891,0.773839589512918,0.700180493641694,0.8120931791951298,0.8573157785787131,0.7420232961744964,0.5519365517589634,0.8120933086740694,0.286371961270907,0.4111956797409644,0.8165317010570823,0.5690781471757973,0.560540322088573,0.5727877592552761,0.5796907023277562,0.7247599500923427,0.8372778202091051,0.20002867149267045,0.8362872577671583,0.8868505235238147,0.6427507088567317,1.0,0.8350935671464024,0.9239246248064492,0.6777931884690589,0.8298341569003129,0.8114507127896544,0.8337155227930679,0.7757325473314312,0.22510007508160013,0.29781294695523,0.7359300172805832,0.7974087298909092,0.5305319108129642,0.7404573131404455,0.7604139020889971,0.7100009128265237,0.7445101981658986,0.7609152364503933,0.7861444505892992,0.7057032883280725,0.5748053081833442,0.7398757180214128,0.7991209108325481,0.6161351798972294,0.8406402021425203,0.859000922699293,0.6794346172626824,0.8790538277939817,0.2911598011268228,0.9031557821005403,0.8021794056949045,0.8669661676386489,0.8339931094545361,0.7870778399870133,0.6520920235955945,0.8322335068512972,0.7790445538649382,0.8145176075982126,0.7776810758923001,0.7942709615478301,0.5758050069829612,0.8070640634278481,0.7975587555196468,0.7334823797775909,0.5729585338840719,0.6588275342144052,0.17351945283494952,0.7492766820892267,0.6220745973488218,0.7730657343535627,0.5971689025251794,0.6660999292559444,0.775807871704498,0.7730463529748031,0.7440803604564197,0.7311527946977079,0.7344381204772401,0.7069829205949365,0.7574444320899956,0.6083586100500582,0.37616270873825863,0.685919578041084,0.7982046854867542,0.6505985244903751,0.8149854716537424,0.8637419640110051,0.6761621260830308,0.654900842600384,0.7922094464273604,0.6315931121088543,0.7052597501283056,0.7159334193397191,0.6742785554876329,0.681524650119582,0.7301077782692582,0.7867449334486345,0.7696051911991224,0.7574238125688768,0.7387201832256474,0.6242177327557925,0.6880567816941381,0.7402146777002145,0.7757583621949982,0.12400571908475877,0.7242654052828379,0.9175809255510665,0.4332769938097738,0.7563205144327747,0.3432999180560161,0.8235373775756396,0.6265110151780069,0.6993371163842488,0.8154401288574404,0.7729471963844301,0.6654627714869896,0.7819333827619184,0.777605751519233,0.757246992892092,0.7499337229678322,0.8345869322409194,0.46164336126679606,0.7990031173673178,0.7902052338300631,0.5616620224189548,0.6898118120723249,0.5289814814365235,0.8507269756908147,0.8359899174749794,0.8749068439492307,0.7683344525169169,0.7485187528394326,0.8125917944987959,0.5274730436986566,0.8442363340239416,0.8128085098738211,0.4969323040405036,0.8241563840157602,0.8132350135006072,0.7608941151983837,0.7659791739599726,0.8175349767124036,0.8546120479182133,0.8076442990180155,0.8731469985729801,0.8132350135006072,0.7909998298970431,0.1380155345594667,0.8003805386032556,0.8003805386032556,0.8409644578692523,0.9169666127225036,0.7376989990145035,0.6900608729049296,0.8409644578692523,0.9145929400637132,0.8083498621292067,0.9169666127225036,0.8299142962714436,0.8409644578692523,0.6884335168535454,0.26474393678449726,0.754932961469819,0.8299142962714436,0.8731469985729801,0.8205919906593893,0.7690268087762768,0.8083498621292067,0.6884335168535454,0.8411657328807398,0.6519810196822553,0.7010243564451621,0.7442718840852742,0.7589467033933679,0.8299547989022127,0.8175349767124036,0.5824587678363309,0.8471314588343564,0.6884335168535454,0.7378223600741332,0.7608941151983837,0.849432647564315,0.9145929400637132,0.07269403268792929,0.8471314588343564,0.8134879020543615,0.8731469985729801,0.45946207812726847,0.8132350135006072,0.8387201994105149,0.9940666275963965,0.8411657328807398,0.8352569371983445,0.8448662086025482,0.45946207812726847,0.8620359575962948,0.9169666127225036,0.8299142962714436,0.5729886620148121,0.7589467033933679,0.5824587678363309,0.8134879020543615,0.6884335168535454,0.8076442990180155,0.5824587678363309,0.791055149773954,0.8352569371983445,0.8563617696598798,0.7376989990145035,0.8448662086025482,0.6900608729049296,0.9940666275963965,0.8299142962714436,0.21765629038630196,0.8299072558541072,0.7442718840852742,0.9940666275963965,0.8299072558541072,0.7659791739599726,0.8387201994105149,0.8620359575962948,0.6884335168535454,0.845825404771396,0.7988875331364931,0.7376989990145035,0.8352569371983445,0.9275564443205766,0.6946837484994604,0.8175349767124036,0.8076442990180155,0.8352569371983445,0.1380155345594667,0.849432647564315,0.6900608729049296,0.8731469985729801,0.8299547989022127,0.7964731150739219,0.8387201994105149,0.5824587678363309,0.9169666127225036,0.8409644578692523,0.8620359575962948,0.8411657328807398,0.7964731150739219,0.6553120353425714,0.7659791739599726,0.8175349767124036,0.7964731150739219,0.921034436380604,0.8411657328807398,0.8134879020543615,0.45946207812726847,0.8409644578692523,0.921034436380604,0.6884335168535454,0.8076442990180155,0.8409644578692523,0.8003805386032556,0.8471314588343564,0.8563617696598798,0.8076442990180155,0.791055149773954,0.791055149773954,0.8205919906593893,0.6994115748669079,0.7442718840852742,0.8132350135006072,0.6553120353425714,0.7589467033933679,0.8134879020543615,0.45946207812726847,0.8076442990180155,0.7690268087762768,0.845825404771396,0.8205919906593893,0.6946837484994604,0.7378223600741332,0.1380155345594667,0.8409644578692523,0.07269403268792929,0.791055149773954,0.6884335168535454,0.6900608729049296,0.8083498621292067,0.7010243564451621,0.791055149773954,0.921034436380604,0.791055149773954,0.07269403268792929,0.5824587678363309,0.8352569371983445,0.9145929400637132,0.921034436380604,0.6994115748669079,0.8620359575962948,0.7378223600741332,0.8352569371983445,0.8132350135006072,0.7010243564451621,0.45946207812726847,0.8175349767124036,0.8175349767124036,0.8620359575962948,0.7442718840852742,0.8156059671016676,0.8471314588343564,0.9042258688886546,0.8132350135006072,0.6519810196822553,0.7608941151983837,0.9042258688886546,0.9940666275963965,0.26474393678449726,0.07269403268792929,0.1380155345594667,0.8132350135006072,0.7964731150739219,0.8175349767124036,0.21237532033395998,0.012458485260574406,0.0,0.4980373619110054,0.09898387088035614,0.0680882360908692,0.2254270667974189,0.25025870522774185,0.11905045700075309,0.11347000915626879,0.005954283670959457,0.11248259496242678,0.20954039864985669,0.0,0.22290773840160802,0.11055652776950041,0.11347000915626879,0.23467408559215053,0.018179798778802967,0.1311513601664382,0.0,0.10515216201719643,0.0,0.11055652776950041,0.11055652776950041,0.17823300266019407,0.10869412102528539,0.0,0.1182364159438271,0.12024781522757932,0.5987170387868214,0.006257686660562487,0.0,0.023196783928310205,0.0,0.10890948296879825,0.09449377752975772,0.040157552838172426,0.24306372004572716,0.18309693183726763,0.0,0.096166557405471,0.119586830143087,0.10346583736516174,0.0,0.0,0.0,0.10778662101174061,0.10601631874651221,0.1321943079431986,0.0,0.11055652776950041,0.12235944585611112,0.24415407453961305,0.11703905771700085,0.21506802186668675,1.0,0.0,0.0949150200733585,0.16267682705487801,0.0,0.017707086085180387,0.0,0.21697648085039523,0.08038960194611346,0.12344302796183623,0.0,0.2473790857817774,0.10992534119291554,0.09898387088035614,0.0,0.20775926056357102,0.10430290454183425,0.20954039864985669,0.0,0.059515747156951446,0.11886218460988335,0.09650111338061364,0.0,0.0,0.12215356525602336,0.16238425988633223,0.0,0.08920996028671582,0.0,0.3438341469228977,0.10341707617040412,0.0,0.12198019211910734,0.11760387488961006,0.06883455326618736,0.0,0.20428773439235426,0.1584914911715148,0.5415932991282582,0.12596641979054357,0.1182364159438271,0.0,0.26167695166682015,0.09835268430377139,0.0,0.11550037112687121,0.0,0.0,0.006268522481619738,0.0,0.10530386351199796,0.09045066179777092,0.06580729575831785,0.0,0.08756968787417445,0.023196783928310205,0.005374567244396526,0.03564307889019507,0.13536784903534102,0.09650111338061364,0.0,0.18131173031808537,0.0,0.09414025886776504,0.13322100198837317,0.12884062132597943,0.12336853169206763,0.2249570630590605,0.16170702107025403,0.0,0.0,0.21319342482378245,0.0,0.12198019211910734,0.11471612857785267,0.16170702107025403,0.0,0.3047683030562432,0.0,0.10725972921283176,0.19787428280409375,0.08488104977434402,0.0,0.0,0.12076928911595954,0.23133800718414935,0.08353469900798058,0.10725972921283176,0.09027051627269427,0.11148569942515968,0.0,0.04151338494796097,0.008061850866594788,0.018978940581775232,0.025997843671609604,0.08905419535901783,0.025850205609704427,0.1115100800225385,0.1787233235630347,0.0,0.21506802186668675,0.04318887377893841,0.0,0.08775389683214771,0.0,0.0,0.01455521663515235,0.0,0.0,0.1045683821577369,0.3816091736061069,0.06254977705298174,0.0,0.17883439072887136,0.20600927546282502,0.12198019211910734,0.0,0.0,0.4207468047872657,0.006315929198745211,0.11447638603696098,0.08368775498041425,0.00665861203968064,0.11592703158100046,0.18817215952495758,0.23984819014698777,0.04231794466146186,0.0,0.0,0.07545117649927129,0.11945815476803215,0.0,0.0,0.07411024364343646,0.21697648085039523,0.23878763416100945,0.0,0.0998399007438791,0.10341707617040412,0.023971545133903656,0.0,0.0,0.0,0.06549441142528972,0.0,0.0,0.13174868480221916,0.012065686747249055,0.05857032176970629,0.08499347141781301,0.11550037112687121,0.09840009102089688,0.08317982586835561,0.0,0.0,0.0,0.10530386351199796,0.11746707264876227,0.12560748321802212,0.0,0.21319342482378245,0.0812564676306934,0.10961787477041604,0.0,0.0,0.11868474804007086,0.0,0.11868474804007086,0.0,0.10627231501898977,0.2356899438162678,0.10435166573659202,0.13362328184512345,0.12315587870381908,0.21697648085039523,0.11248259496242678,0.11192184122271404,0.005993563522291993,0.010180253883287235,0.11248259496242678,0.07215437794260265,0.0,0.24745222757391383,0.005954283670959457,0.14500089395523721,0.36201800913459714,0.11945815476803215,0.1115100800225385,0.11055652776950041,0.0,0.28123154524226174,0.3148022733552577,0.11550037112687121,0.13143850942445537,0.10579418441483857,0.1115100800225385,0.11248259496242678,0.2208949846402235,0.0,0.0,0.0,0.0,0.03057191463540171,0.012829612131785255,0.0228026309373527,0.0,0.0,0.062274818093654,0.06839434803573653,0.2528416940722641,0.06513412037513612,0.03109203404614976,0.14005027820970564,0.1643631517069127,0.0,0.01749985100746046,0.10606507994126985,0.0,0.16283800989310462,0.03057191463540171,0.016027533821306474,0.11654196442599946,0.0,0.12566843471146916,0.17883439072887136,0.10961787477041604,0.23808872370281675,0.006268522481619738,0.12024781522757932,0.12024781522757932,0.03564307889019507,0.0,0.11550037112687121,0.0,0.25939465685663654,0.13232433779588565,0.01368157856241162,0.1791039317776706,0.24306372004572716,0.11055652776950041,0.1182364159438271,0.22290773840160802,0.119586830143087,0.25025870522774185,0.0,0.24306372004572716,0.018179798778802967,0.0,0.005954283670959457,0.005954283670959457,0.11055652776950041,0.12235944585611112,0.10890948296879825,0.18309693183726763,0.11055652776950041,0.0,0.10515216201719643,0.12235944585611112,0.012458485260574406,0.11055652776950041,0.10346583736516174,0.12024781522757932,0.040157552838172426,0.012458485260574406,0.0,0.0,0.11248259496242678,0.10515216201719643,0.10346583736516174,0.11055652776950041,0.10601631874651221,0.10869412102528539,0.096166557405471,0.0,0.11055652776950041,0.22290773840160802,0.0,0.0,0.10346583736516174,0.11703905771700085,0.11055652776950041,1.0,0.0,0.09449377752975772,0.0,0.2254270667974189,0.0,0.11905045700075309,0.24306372004572716,0.23467408559215053,0.4980373619110054,0.11055652776950041,0.0,0.1321943079431986,0.11905045700075309,0.17823300266019407,0.12235944585611112,0.012458485260574406,0.1311513601664382,0.0,0.0,0.2254270667974189,0.10346583736516174,0.25025870522774185,0.0,0.0,0.0,0.11347000915626879,0.10890948296879825,0.1321943079431986,0.18309693183726763,0.4980373619110054,0.012458485260574406,0.0680882360908692,0.24415407453961305,0.096166557405471,0.4980373619110054,0.24415407453961305,0.1182364159438271,0.23467408559215053,0.17823300266019407,0.10346583736516174,0.023196783928310205,0.11347000915626879,0.10890948296879825,0.0,0.5987170387868214,0.10778662101174061,0.22290773840160802,0.25025870522774185,0.0,0.0,1.0,0.18309693183726763,0.0,0.11055652776950041,0.0,0.23467408559215053,0.0,0.12235944585611112,0.11055652776950041,0.17823300266019407,0.11055652776950041,0.0,0.0,0.1182364159438271,0.22290773840160802,0.0,0.21237532033395998,0.11055652776950041,0.2254270667974189,0.11905045700075309,0.11055652776950041,0.21237532033395998,0.10346583736516174,0.25025870522774185,0.11055652776950041,0.005954283670959457,0.0,0.11347000915626879,0.25025870522774185,0.0,0.0,0.0,0.09898387088035614,0.096166557405471,0.24306372004572716,0.0,0.0,0.2254270667974189,0.11905045700075309,0.25025870522774185,0.11248259496242678,0.023196783928310205,0.0,0.10778662101174061,0.11703905771700085,0.0,0.11055652776950041,0.09449377752975772,0.0,0.10346583736516174,0.18309693183726763,0.10515216201719643,0.10869412102528539,0.0,0.21237532033395998,0.0,0.09449377752975772,0.0,0.0,0.0,0.21237532033395998,0.09898387088035614,0.17823300266019407,0.11703905771700085,0.0,0.24306372004572716,0.10869412102528539,0.11905045700075309,0.22290773840160802,0.22290773840160802,0.17823300266019407,0.096166557405471,0.20954039864985669,0.0,0.006257686660562487,0.24306372004572716,0.10601631874651221,0.11055652776950041,0.006257686660562487,0.4980373619110054,0.12024781522757932,0.09449377752975772,0.0,0.24306372004572716,0.0,0.22290773840160802,0.21157582812196088,0.2805100458608212,0.30946220862052476,0.8438687852991258,0.09098407829103763,0.17292700121106594,0.24100875180257766,0.21078894708506693,0.14209017098301455,0.1753689980784148,0.2914198090419027,0.18014660543540598,0.060911872855153176,0.22531181020474397,0.16108890805848394,0.18082458507159035,0.10518465458212181,0.06193646578443132,0.07989424418741312,0.34694790825954,0.20755862771680092,0.15277538291866036,0.07229373108452278,0.13550811503785573,0.3911188285392767,0.20999743406336194,0.30352960308478927,0.22178537100280907,0.2401724820265946,0.12638230833505512,0.9999999999999998,0.07917334832737374,0.28055296208467617,0.1874575642013274,0.18778301038935194,0.18529821993316256,0.034082579996239815,0.3365119731002306,0.666748393857005,0.13203802863550704,0.18239264109898504,0.2344718823368502,0.9507240931659613,0.1208896639555834,0.08513205954052586,0.05629527069676585,0.13802781475717688,0.278138574178877,0.19394946230150142,0.9723104783030436,0.20172967791928867,0.24390798075653566,0.36556573645645907,0.18784445505505368,0.1537968461420555,0.11003502672134033,0.7896432986199343,0.14896626045878772,0.09759006163429759,0.282868633327202,0.06876002173715681,0.23128567538643333,0.09642899000671887,0.1909603514313413,0.12155733672191968,0.14503038365414375,0.25497790526659236,0.33385692855389093,0.2679747389762719,0.11085727740527304,0.08363851634691824,0.22369638992120514,0.16493732699887295,0.14522870658714834,0.1984777009058953,0.23643962145727357,0.07587977442173657,0.14019467494340423,0.4784806806351868,0.14468699154059142,0.061209511051030646,0.16428891948967564,0.18143418714293194,0.2569690199275515,0.19502908819615214,0.25160451104457215,0.11051302634401652,0.11243732804177312,0.07122444271847386,0.1936168374417043,0.139186677949289,0.0,0.29505214307628114,0.1831503179139354,0.20638411951349098,0.2854359124165454,0.08805730169303719,0.23385412051361973,0.131136785924142,0.143967598964685,0.1510690679748445,0.24984669090246167,0.08336141650035925,0.2501511850992948,0.21357709635900005,0.13925597628194583,0.22125448503011716,0.08089426487955889,0.19914994383693282,0.09562088104985103,0.12487732289250983,0.22877401278398654,0.1565306982607033,0.141543332908986,0.15955566982056277,0.26213072718648334,0.04963241285250533,0.20828722344742476,0.27513581262431275,0.11496426775037419,0.2366074826568331,0.3089461393700801,0.1820462429197692,0.08099706167007789,0.0656843114478434,0.17326453398445688,0.09006507360666657,0.1736488173363169,0.12786336637949922,0.1395195174203616,0.11508402838109968,0.12787121954385175,0.13424986018728788,0.21764598692018153,0.13129081248677557,0.21755150317531954,0.11421567095252419,0.29819696724312716,0.1277483297098456,0.030701102417913628,0.12766433728995605,0.11313656625668525,0.058692126821512564,0.07240244803010795,0.12386549204638295,0.11424947650052522,0.006223295251793881,0.07677567899175194,0.09941181181156425,0.21067406421178406,0.07552957204405772,0.11460602825582097,0.10396235239751425,0.06499430654379987,0.07536029953662612,0.17087207965256776,0.044230156509971974,0.2932604862248134,0.11647661531461137,0.18204213213376988,0.20130349008244355,0.10641760138547005,0.15790356055837382,0.2180052074948509,0.0458086425448318,0.35039501818775265,0.875385005968631,0.3281236893539885,0.14572995911534578,0.1639405576424198,0.26870698510898805,0.3238303400262348,0.06976372349014845,0.18165766482938808,0.15617160032104835,0.6494691620258485,0.09090257073799982,0.9736969299676113,0.2827582598037157,0.30616538287659245,0.12706105494268286,0.19118358384776832,0.20427827527301703,0.2995332013770525,0.1203595142955812,0.06536793019884365,0.14439084155077145,0.23249463347417307,0.22649266828827344,0.16029457292363727,0.23822038791736908,0.2702374625512748,0.18028020120566,0.225313650735167,0.1818641168555278,0.18070850550171083,0.3269285970645308,0.07733632154655537,0.057433565383408325,0.18943880071238675,0.2669310657475815,0.15869952161236814,0.21942567931869486,0.2268416739693556,0.2286946835102642,0.20554723605983286,0.22261213153914086,0.15728589071140434,0.18220766226284826,0.20521593053164697,0.1852621446321878,0.25440075925548944,0.3123324178076635,0.2702950422036089,0.3998705054662973,0.31468787607076376,0.14321915546060324,0.3055253803893132,0.4969032226235185,0.4515376397794775,0.2482701067155321,0.20309959496620053,0.2348749705619422,0.04829327970725292,0.18100925732019077,0.18728234037747346,0.20274135547164737,0.21273469131407294,0.28769866665030197,0.1449649508374571,0.11189156352672422,0.49630196475919,0.1889805257255515,0.11333436799087801,0.15383936380211324,0.1377962692950929,0.3362510394636813,0.28681644342344426,0.35845046246292234,0.10567418893259903,0.09666440048217065,0.34243939429098713,0.18411352699241654,0.13982753938427264,0.252704353120327,0.13706730565942546,0.14318593293152374,0.16798257555474136,0.19356208040511444,0.13361246520187484,0.11578056711788456,0.15356585304013934,0.17306375684335415,0.2985464021467601,0.10899537179978588,0.24818243323479652,0.20174878938005705,0.05219800470519387,0.1988904828257628,0.23410158691568425,0.05841475104617086,0.1523049288675953,0.25768246168963815,0.07663410742213092,0.04267415640919006,0.07172293495363938,0.07028442522800674,0.07549401794189461,0.18761876843052863,0.05067942989575172,0.32663993183141715,0.21613084739895375,0.24449886993090617,0.1851909751103543,0.08955918909365804,0.13170494389440549,0.22158299910391496,0.06686774637448548,0.4353941107137753,0.2277266579918477,0.11112900895433128,0.0615890397830651,0.30029913042275513,0.18893285437926846,0.2723155756977871,0.22489666605303923,0.38079394240123865,0.18415478663837034,0.2831172044496024,0.02201034895778306,0.16118802378815708,0.14667850476534786,0.0762779542306323,0.26954193605596233,0.666748393857005,0.24390798075653566,0.2401724820265946,0.16108890805848394,0.9507240931659613,0.21078894708506693,0.20755862771680092,0.666748393857005,0.07989424418741312,0.07229373108452278,0.2914198090419027,0.2914198090419027,0.13550811503785573,0.36556573645645907,0.18529821993316256,0.13203802863550704,0.13550811503785573,0.30946220862052476,0.15277538291866036,0.36556573645645907,0.2805100458608212,0.13550811503785573,0.1208896639555834,0.12638230833505512,0.3365119731002306,0.2805100458608212,0.20755862771680092,0.28055296208467617,0.18014660543540598,0.15277538291866036,0.1208896639555834,0.3911188285392767,0.19394946230150142,0.30352960308478927,0.2344718823368502,0.22178537100280907,0.18082458507159035,0.16108890805848394,0.13802781475717688,0.20172967791928867,0.1208896639555834,0.1537968461420555,0.24390798075653566,0.7896432986199343,0.30946220862052476,0.034082579996239815,0.20172967791928867,0.24100875180257766,0.20755862771680092,0.14209017098301455,0.666748393857005,0.06193646578443132,0.8438687852991258,0.3911188285392767,0.22531181020474397,0.9723104783030436,0.14209017098301455,0.20999743406336194,0.36556573645645907,0.2805100458608212,0.34694790825954,0.22178537100280907,0.13802781475717688,0.24100875180257766,0.1208896639555834,0.21078894708506693,0.13802781475717688,0.18778301038935194,0.22531181020474397,0.10518465458212181,0.18529821993316256,0.9723104783030436,0.13203802863550704,0.8438687852991258,0.2805100458608212,0.17292700121106594,0.18784445505505368,0.2344718823368502,0.8438687852991258,0.18784445505505368,0.2401724820265946,0.06193646578443132,0.20999743406336194,0.1208896639555834,0.1874575642013274,0.1753689980784148,0.18529821993316256,0.22531181020474397,0.9999999999999998,0.278138574178877,0.16108890805848394,0.21078894708506693,0.22531181020474397,0.07229373108452278,0.7896432986199343,0.13203802863550704,0.20755862771680092,0.18082458507159035,0.08513205954052586,0.06193646578443132,0.13802781475717688,0.36556573645645907,0.13550811503785573,0.20999743406336194,0.3911188285392767,0.08513205954052586,0.18239264109898504,0.2401724820265946,0.16108890805848394,0.08513205954052586,0.21157582812196088,0.3911188285392767,0.24100875180257766,0.14209017098301455,0.13550811503785573,0.21157582812196088,0.1208896639555834,0.21078894708506693,0.13550811503785573,0.2914198090419027,0.20172967791928867,0.10518465458212181,0.21078894708506693,0.18778301038935194,0.18778301038935194,0.28055296208467617,0.09098407829103763,0.2344718823368502,0.666748393857005,0.18239264109898504,0.22178537100280907,0.24100875180257766,0.14209017098301455,0.21078894708506693,0.18014660543540598,0.1874575642013274,0.28055296208467617,0.278138574178877,0.1537968461420555,0.07229373108452278,0.13550811503785573,0.034082579996239815,0.18778301038935194,0.1208896639555834,0.13203802863550704,0.15277538291866036,0.30352960308478927,0.18778301038935194,0.21157582812196088,0.18778301038935194,0.034082579996239815,0.13802781475717688,0.22531181020474397,0.30946220862052476,0.21157582812196088,0.09098407829103763,0.20999743406336194,0.1537968461420555,0.22531181020474397,0.666748393857005,0.30352960308478927,0.14209017098301455,0.16108890805848394,0.16108890805848394,0.20999743406336194,0.2344718823368502,0.060911872855153176,0.20172967791928867,0.07917334832737374,0.666748393857005,0.19394946230150142,0.24390798075653566,0.07917334832737374,0.8438687852991258,0.12638230833505512,0.034082579996239815,0.07229373108452278,0.666748393857005,0.08513205954052586,0.16108890805848394,0.12654613327390243,0.26665459475521885,0.11419331773270934,0.3208621201990938,0.3606390684198798,0.38296049699130835,0.1625157863457396,0.1443080937523216,0.14596101701210912,0.13700458732635024,0.20880924522695202,0.2818210942723424,0.19230322784339932,0.3286902904687615,0.16990286754327322,0.25556468687318934,0.44380757373152085,0.31345182378723735,0.2846997808483769,0.52788843696605,0.10538546541861656,0.08979412747938492,0.07434208082609021,0.627964582869029,0.27841774385261137,0.30236655894807235,0.3484209011217593,0.15059477379095168,0.3521469430205781,0.1222327464527153,0.3767597132456728,0.1860978010548994,0.1179123950672313,0.2575403016120643,0.23903545427531375,0.3371522360894437,0.2961518460738431,0.19984120793403173,0.2947008951786644,0.34185563851125483,0.33831531832701894,0.28592322264319153,0.35944812792511716,0.28889244855508517,0.2639082349008247,0.4440907993462597,0.2582924745561252,0.253231557833742,0.33723116781814144,0.15286986479459186,0.10450793031721271,0.26302605675655605,0.4325435517420699,0.23801398484510822,0.45527124656414847,0.27806487259490387,0.15639625585023406,0.4546049699130824,0.42248904241883956,0.3745565894064333,0.22245282668449604,0.4637285491419659,0.10704767476413345,0.3871392355694229,0.2383877497957062,0.2870027301092045,0.22739534581383264,0.28120356957135445,0.3662060768145013,0.33218882326721655,0.2619070834261943,0.27209624099249696,0.08351905504791622,0.11554676472773177,0.5697849342545133,0.24276846073842961,0.46811622464898617,0.4336416313795411,0.3878264059133796,0.39996564148280234,0.2136078300274869,0.4005785231409258,0.21942556273679528,0.2551143117153256,0.49532677735680875,0.26196047841913683,0.2985731929277172,0.2180883663917986,0.313628259416091,0.3742362194487781,0.330292140257039,0.18476524775276734,0.4921161132159574,0.559591133645346,0.22049346259564678,0.41628129410890735,0.2544248198499369,0.5000255367357553,0.5369725503305849,0.21970646683010164,0.19211982765024893,0.5243341876532206,0.6581791843102298,0.37845674541267377,0.34721138845553834,0.12512071911447892,0.4409892467127256,0.2870027301092045,0.22999080677512823,0.3001820072802913,0.12477481242106832,0.23698322932917326,0.24099946140702783,0.18744428348562522,0.2705686798900529,0.5129099806849419,0.37906266250650045,0.30641993536884343,0.47429611470173116,0.3554458249758563,0.24219272342322273,0.03898066636951193,0.2785639997028454,0.3796291137359782,0.0936757113141669,0.3846714582869031,0.17855749944283492,0.18542920288240108,0.22489971027412536,0.15461564891167084,0.19288360820147077,0.19258181041527384,0.21387480499219977,0.3188098952529531,0.2978558428051409,0.2827520243666891,0.4305331141817103,0.3882744595498107,0.3076364125993612,0.16306134388232676,0.3308748421365428,0.3437105341356512,0.13597383181041534,0.2264017346408143,0.4856065671198275,0.11702093083723351,0.34999024960998454,0.3012057982319294,0.6259170009657532,0.18895791545947535,0.295160556422257,1.0,0.4319120979124881,0.35935294554639347,0.31736358740063897,0.10309180224351834,0.566274793848897,0.4186097801054901,0.44733860783002766,0.35077956689696177,0.2066455872520616,0.09720210236980888,0.39581243964044294,0.3749698202213804,0.31558530198350804,0.28188377535101417,0.38113810266696396,0.4220108090037889,0.18058650917465277,0.44551157046281864,0.3843278731149247,0.3566483730777804,0.26777821112844524,0.12794601069757083,0.2560661355025631,0.3389932025852464,0.08568967758710351,0.22164725874749286,0.4817946289280144,0.3930892950003716,0.28120356957135445,0.0713867840427903,0.17270494391204227,0.21926305623653528,0.23752646534432792,0.20357189287571512,0.39098599658272065,0.28375724314686884,0.28567249832850466,0.2762192630562367,0.33023642374266415,0.0,0.38155365500334315,0.41350939751875804,0.18967294406061963,0.15820936408884934,0.3632879243741177,0.31083779065448347,0.2246930948666519,0.4684690959066936,0.3778043978902015,0.2785639997028454,0.13836499888566978,0.2785639997028454,0.2928274273828097,0.30672405467647285,0.35807610875863616,0.3132614590297899,0.1297869771933735,0.34681905133348206,0.22999080677512823,0.3747771339425007,0.24484390089889319,0.22005237352351245,0.2705686798900529,0.2639082349008247,0.2335264839164996,0.4265215251467203,0.17295334670529686,0.34940058316618394,0.27543226729069176,0.3670650397444471,0.35389737018052164,0.19864098135353994,0.32194627070797127,0.4327269519352204,0.406159460664141,0.19888241958249742,0.28120356957135445,0.22751838644974381,0.2849365760344698,0.20260149691701962,0.4213306032241289,0.3076364125993612,0.32850224723274657,0.5978637359780107,0.25665348042493136,0.21685099546839004,0.3882744595498107,0.1615430688656116,0.30829108164326585,0.20131769556496554,0.1219007688878984,0.22052364237426628,0.34185563851125483,0.15167428125696464,0.4021873374934999,0.23830417502414392,0.2412826870217667,0.3194761719040189,0.49052354951340926,0.5335715214322858,0.3838542827427384,0.308625380729515,0.29888195527821126,0.42906359111507336,0.4962460998439939,0.25921179704331043,0.2821716440086176,0.2268428237129484,0.5326034469950226,0.4257623876383628,0.08940875492162523,0.6007517086397745,0.33831531832701894,0.3545357885744002,0.2090065745486963,0.276871610578709,0.4336416313795411,0.3256908847782484,0.3156479830621798,0.515405616224649,0.2558479124879282,0.3564789020132235,0.3690244038332961,0.34729728474853294,0.14892792140257044,0.08751903647574477,0.11155839090706489,0.37102555530792675,0.3592995505534508,0.4217299049104823,0.34064612584503395,0.2972754624470694,0.27551584206225405,0.30536364311715314,0.3567296263279104,0.31244428348562503,0.2761705111061584,0.6217498699948,0.32905244781219833,0.2523006277393954,0.6306111173018352,0.2896074771562292,0.2947008951786644,0.26302605675655605,0.3521469430205781,0.16990286754327322,0.35944812792511716,0.1443080937523216,0.10538546541861656,0.2947008951786644,0.2846997808483769,0.07434208082609021,0.20880924522695202,0.20880924522695202,0.627964582869029,0.4325435517420699,0.3371522360894437,0.34185563851125483,0.627964582869029,0.11419331773270934,0.08979412747938492,0.4325435517420699,0.26665459475521885,0.627964582869029,0.28889244855508517,0.1222327464527153,0.19984120793403173,0.26665459475521885,0.10538546541861656,0.1179123950672313,0.2818210942723424,0.08979412747938492,0.28889244855508517,0.27841774385261137,0.33723116781814144,0.3484209011217593,0.28592322264319153,0.15059477379095168,0.25556468687318934,0.16990286754327322,0.2582924745561252,0.10450793031721271,0.28889244855508517,0.45527124656414847,0.26302605675655605,0.15639625585023406,0.11419331773270934,0.2961518460738431,0.10450793031721271,0.1625157863457396,0.10538546541861656,0.14596101701210912,0.2947008951786644,0.31345182378723735,0.3208621201990938,0.27841774385261137,0.3286902904687615,0.15286986479459186,0.14596101701210912,0.30236655894807235,0.4325435517420699,0.26665459475521885,0.52788843696605,0.15059477379095168,0.2582924745561252,0.1625157863457396,0.28889244855508517,0.1443080937523216,0.2582924745561252,0.23903545427531375,0.3286902904687615,0.44380757373152085,0.3371522360894437,0.15286986479459186,0.34185563851125483,0.3208621201990938,0.26665459475521885,0.38296049699130835,0.23801398484510822,0.28592322264319153,0.3208621201990938,0.23801398484510822,0.3521469430205781,0.31345182378723735,0.30236655894807235,0.28889244855508517,0.2575403016120643,0.13700458732635024,0.3371522360894437,0.3286902904687615,0.3767597132456728,0.253231557833742,0.16990286754327322,0.1443080937523216,0.3286902904687615,0.07434208082609021,0.15639625585023406,0.34185563851125483,0.10538546541861656,0.25556468687318934,0.2639082349008247,0.31345182378723735,0.2582924745561252,0.4325435517420699,0.627964582869029,0.30236655894807235,0.27841774385261137,0.2639082349008247,0.33831531832701894,0.3521469430205781,0.16990286754327322,0.2639082349008247,0.12654613327390243,0.27841774385261137,0.1625157863457396,0.14596101701210912,0.627964582869029,0.12654613327390243,0.28889244855508517,0.1443080937523216,0.627964582869029,0.20880924522695202,0.10450793031721271,0.44380757373152085,0.1443080937523216,0.23903545427531375,0.23903545427531375,0.1179123950672313,0.3606390684198798,0.28592322264319153,0.2947008951786644,0.33831531832701894,0.15059477379095168,0.1625157863457396,0.14596101701210912,0.1443080937523216,0.2818210942723424,0.2575403016120643,0.1179123950672313,0.253231557833742,0.45527124656414847,0.07434208082609021,0.627964582869029,0.2961518460738431,0.23903545427531375,0.28889244855508517,0.34185563851125483,0.08979412747938492,0.3484209011217593,0.23903545427531375,0.12654613327390243,0.23903545427531375,0.2961518460738431,0.2582924745561252,0.3286902904687615,0.11419331773270934,0.12654613327390243,0.3606390684198798,0.30236655894807235,0.45527124656414847,0.3286902904687615,0.2947008951786644,0.3484209011217593,0.14596101701210912,0.16990286754327322,0.16990286754327322,0.30236655894807235,0.28592322264319153,0.19230322784339932,0.10450793031721271,0.1860978010548994,0.2947008951786644,0.33723116781814144,0.26302605675655605,0.1860978010548994,0.3208621201990938,0.1222327464527153,0.2961518460738431,0.07434208082609021,0.2947008951786644,0.2639082349008247,0.16990286754327322],\"y0\":\" \",\"yaxis\":\"y\",\"type\":\"box\"}],                        {\"template\":{\"data\":{\"bar\":[{\"error_x\":{\"color\":\"#2a3f5f\"},\"error_y\":{\"color\":\"#2a3f5f\"},\"marker\":{\"line\":{\"color\":\"#E5ECF6\",\"width\":0.5},\"pattern\":{\"fillmode\":\"overlay\",\"size\":10,\"solidity\":0.2}},\"type\":\"bar\"}],\"barpolar\":[{\"marker\":{\"line\":{\"color\":\"#E5ECF6\",\"width\":0.5},\"pattern\":{\"fillmode\":\"overlay\",\"size\":10,\"solidity\":0.2}},\"type\":\"barpolar\"}],\"carpet\":[{\"aaxis\":{\"endlinecolor\":\"#2a3f5f\",\"gridcolor\":\"white\",\"linecolor\":\"white\",\"minorgridcolor\":\"white\",\"startlinecolor\":\"#2a3f5f\"},\"baxis\":{\"endlinecolor\":\"#2a3f5f\",\"gridcolor\":\"white\",\"linecolor\":\"white\",\"minorgridcolor\":\"white\",\"startlinecolor\":\"#2a3f5f\"},\"type\":\"carpet\"}],\"choropleth\":[{\"colorbar\":{\"outlinewidth\":0,\"ticks\":\"\"},\"type\":\"choropleth\"}],\"contour\":[{\"colorbar\":{\"outlinewidth\":0,\"ticks\":\"\"},\"colorscale\":[[0.0,\"#0d0887\"],[0.1111111111111111,\"#46039f\"],[0.2222222222222222,\"#7201a8\"],[0.3333333333333333,\"#9c179e\"],[0.4444444444444444,\"#bd3786\"],[0.5555555555555556,\"#d8576b\"],[0.6666666666666666,\"#ed7953\"],[0.7777777777777778,\"#fb9f3a\"],[0.8888888888888888,\"#fdca26\"],[1.0,\"#f0f921\"]],\"type\":\"contour\"}],\"contourcarpet\":[{\"colorbar\":{\"outlinewidth\":0,\"ticks\":\"\"},\"type\":\"contourcarpet\"}],\"heatmap\":[{\"colorbar\":{\"outlinewidth\":0,\"ticks\":\"\"},\"colorscale\":[[0.0,\"#0d0887\"],[0.1111111111111111,\"#46039f\"],[0.2222222222222222,\"#7201a8\"],[0.3333333333333333,\"#9c179e\"],[0.4444444444444444,\"#bd3786\"],[0.5555555555555556,\"#d8576b\"],[0.6666666666666666,\"#ed7953\"],[0.7777777777777778,\"#fb9f3a\"],[0.8888888888888888,\"#fdca26\"],[1.0,\"#f0f921\"]],\"type\":\"heatmap\"}],\"heatmapgl\":[{\"colorbar\":{\"outlinewidth\":0,\"ticks\":\"\"},\"colorscale\":[[0.0,\"#0d0887\"],[0.1111111111111111,\"#46039f\"],[0.2222222222222222,\"#7201a8\"],[0.3333333333333333,\"#9c179e\"],[0.4444444444444444,\"#bd3786\"],[0.5555555555555556,\"#d8576b\"],[0.6666666666666666,\"#ed7953\"],[0.7777777777777778,\"#fb9f3a\"],[0.8888888888888888,\"#fdca26\"],[1.0,\"#f0f921\"]],\"type\":\"heatmapgl\"}],\"histogram\":[{\"marker\":{\"pattern\":{\"fillmode\":\"overlay\",\"size\":10,\"solidity\":0.2}},\"type\":\"histogram\"}],\"histogram2d\":[{\"colorbar\":{\"outlinewidth\":0,\"ticks\":\"\"},\"colorscale\":[[0.0,\"#0d0887\"],[0.1111111111111111,\"#46039f\"],[0.2222222222222222,\"#7201a8\"],[0.3333333333333333,\"#9c179e\"],[0.4444444444444444,\"#bd3786\"],[0.5555555555555556,\"#d8576b\"],[0.6666666666666666,\"#ed7953\"],[0.7777777777777778,\"#fb9f3a\"],[0.8888888888888888,\"#fdca26\"],[1.0,\"#f0f921\"]],\"type\":\"histogram2d\"}],\"histogram2dcontour\":[{\"colorbar\":{\"outlinewidth\":0,\"ticks\":\"\"},\"colorscale\":[[0.0,\"#0d0887\"],[0.1111111111111111,\"#46039f\"],[0.2222222222222222,\"#7201a8\"],[0.3333333333333333,\"#9c179e\"],[0.4444444444444444,\"#bd3786\"],[0.5555555555555556,\"#d8576b\"],[0.6666666666666666,\"#ed7953\"],[0.7777777777777778,\"#fb9f3a\"],[0.8888888888888888,\"#fdca26\"],[1.0,\"#f0f921\"]],\"type\":\"histogram2dcontour\"}],\"mesh3d\":[{\"colorbar\":{\"outlinewidth\":0,\"ticks\":\"\"},\"type\":\"mesh3d\"}],\"parcoords\":[{\"line\":{\"colorbar\":{\"outlinewidth\":0,\"ticks\":\"\"}},\"type\":\"parcoords\"}],\"pie\":[{\"automargin\":true,\"type\":\"pie\"}],\"scatter\":[{\"marker\":{\"colorbar\":{\"outlinewidth\":0,\"ticks\":\"\"}},\"type\":\"scatter\"}],\"scatter3d\":[{\"line\":{\"colorbar\":{\"outlinewidth\":0,\"ticks\":\"\"}},\"marker\":{\"colorbar\":{\"outlinewidth\":0,\"ticks\":\"\"}},\"type\":\"scatter3d\"}],\"scattercarpet\":[{\"marker\":{\"colorbar\":{\"outlinewidth\":0,\"ticks\":\"\"}},\"type\":\"scattercarpet\"}],\"scattergeo\":[{\"marker\":{\"colorbar\":{\"outlinewidth\":0,\"ticks\":\"\"}},\"type\":\"scattergeo\"}],\"scattergl\":[{\"marker\":{\"colorbar\":{\"outlinewidth\":0,\"ticks\":\"\"}},\"type\":\"scattergl\"}],\"scattermapbox\":[{\"marker\":{\"colorbar\":{\"outlinewidth\":0,\"ticks\":\"\"}},\"type\":\"scattermapbox\"}],\"scatterpolar\":[{\"marker\":{\"colorbar\":{\"outlinewidth\":0,\"ticks\":\"\"}},\"type\":\"scatterpolar\"}],\"scatterpolargl\":[{\"marker\":{\"colorbar\":{\"outlinewidth\":0,\"ticks\":\"\"}},\"type\":\"scatterpolargl\"}],\"scatterternary\":[{\"marker\":{\"colorbar\":{\"outlinewidth\":0,\"ticks\":\"\"}},\"type\":\"scatterternary\"}],\"surface\":[{\"colorbar\":{\"outlinewidth\":0,\"ticks\":\"\"},\"colorscale\":[[0.0,\"#0d0887\"],[0.1111111111111111,\"#46039f\"],[0.2222222222222222,\"#7201a8\"],[0.3333333333333333,\"#9c179e\"],[0.4444444444444444,\"#bd3786\"],[0.5555555555555556,\"#d8576b\"],[0.6666666666666666,\"#ed7953\"],[0.7777777777777778,\"#fb9f3a\"],[0.8888888888888888,\"#fdca26\"],[1.0,\"#f0f921\"]],\"type\":\"surface\"}],\"table\":[{\"cells\":{\"fill\":{\"color\":\"#EBF0F8\"},\"line\":{\"color\":\"white\"}},\"header\":{\"fill\":{\"color\":\"#C8D4E3\"},\"line\":{\"color\":\"white\"}},\"type\":\"table\"}]},\"layout\":{\"annotationdefaults\":{\"arrowcolor\":\"#2a3f5f\",\"arrowhead\":0,\"arrowwidth\":1},\"autotypenumbers\":\"strict\",\"coloraxis\":{\"colorbar\":{\"outlinewidth\":0,\"ticks\":\"\"}},\"colorscale\":{\"diverging\":[[0,\"#8e0152\"],[0.1,\"#c51b7d\"],[0.2,\"#de77ae\"],[0.3,\"#f1b6da\"],[0.4,\"#fde0ef\"],[0.5,\"#f7f7f7\"],[0.6,\"#e6f5d0\"],[0.7,\"#b8e186\"],[0.8,\"#7fbc41\"],[0.9,\"#4d9221\"],[1,\"#276419\"]],\"sequential\":[[0.0,\"#0d0887\"],[0.1111111111111111,\"#46039f\"],[0.2222222222222222,\"#7201a8\"],[0.3333333333333333,\"#9c179e\"],[0.4444444444444444,\"#bd3786\"],[0.5555555555555556,\"#d8576b\"],[0.6666666666666666,\"#ed7953\"],[0.7777777777777778,\"#fb9f3a\"],[0.8888888888888888,\"#fdca26\"],[1.0,\"#f0f921\"]],\"sequentialminus\":[[0.0,\"#0d0887\"],[0.1111111111111111,\"#46039f\"],[0.2222222222222222,\"#7201a8\"],[0.3333333333333333,\"#9c179e\"],[0.4444444444444444,\"#bd3786\"],[0.5555555555555556,\"#d8576b\"],[0.6666666666666666,\"#ed7953\"],[0.7777777777777778,\"#fb9f3a\"],[0.8888888888888888,\"#fdca26\"],[1.0,\"#f0f921\"]]},\"colorway\":[\"#636efa\",\"#EF553B\",\"#00cc96\",\"#ab63fa\",\"#FFA15A\",\"#19d3f3\",\"#FF6692\",\"#B6E880\",\"#FF97FF\",\"#FECB52\"],\"font\":{\"color\":\"#2a3f5f\"},\"geo\":{\"bgcolor\":\"white\",\"lakecolor\":\"white\",\"landcolor\":\"#E5ECF6\",\"showlakes\":true,\"showland\":true,\"subunitcolor\":\"white\"},\"hoverlabel\":{\"align\":\"left\"},\"hovermode\":\"closest\",\"mapbox\":{\"style\":\"light\"},\"paper_bgcolor\":\"white\",\"plot_bgcolor\":\"#E5ECF6\",\"polar\":{\"angularaxis\":{\"gridcolor\":\"white\",\"linecolor\":\"white\",\"ticks\":\"\"},\"bgcolor\":\"#E5ECF6\",\"radialaxis\":{\"gridcolor\":\"white\",\"linecolor\":\"white\",\"ticks\":\"\"}},\"scene\":{\"xaxis\":{\"backgroundcolor\":\"#E5ECF6\",\"gridcolor\":\"white\",\"gridwidth\":2,\"linecolor\":\"white\",\"showbackground\":true,\"ticks\":\"\",\"zerolinecolor\":\"white\"},\"yaxis\":{\"backgroundcolor\":\"#E5ECF6\",\"gridcolor\":\"white\",\"gridwidth\":2,\"linecolor\":\"white\",\"showbackground\":true,\"ticks\":\"\",\"zerolinecolor\":\"white\"},\"zaxis\":{\"backgroundcolor\":\"#E5ECF6\",\"gridcolor\":\"white\",\"gridwidth\":2,\"linecolor\":\"white\",\"showbackground\":true,\"ticks\":\"\",\"zerolinecolor\":\"white\"}},\"shapedefaults\":{\"line\":{\"color\":\"#2a3f5f\"}},\"ternary\":{\"aaxis\":{\"gridcolor\":\"white\",\"linecolor\":\"white\",\"ticks\":\"\"},\"baxis\":{\"gridcolor\":\"white\",\"linecolor\":\"white\",\"ticks\":\"\"},\"bgcolor\":\"#E5ECF6\",\"caxis\":{\"gridcolor\":\"white\",\"linecolor\":\"white\",\"ticks\":\"\"}},\"title\":{\"x\":0.05},\"xaxis\":{\"automargin\":true,\"gridcolor\":\"white\",\"linecolor\":\"white\",\"ticks\":\"\",\"title\":{\"standoff\":15},\"zerolinecolor\":\"white\",\"zerolinewidth\":2},\"yaxis\":{\"automargin\":true,\"gridcolor\":\"white\",\"linecolor\":\"white\",\"ticks\":\"\",\"title\":{\"standoff\":15},\"zerolinecolor\":\"white\",\"zerolinewidth\":2}}},\"xaxis\":{\"anchor\":\"y\",\"domain\":[0.0,1.0],\"title\":{\"text\":\"variable\"}},\"yaxis\":{\"anchor\":\"x\",\"domain\":[0.0,1.0],\"title\":{\"text\":\"value\"}},\"legend\":{\"tracegroupgap\":0},\"margin\":{\"t\":60},\"boxmode\":\"group\"},                        {\"responsive\": true}                    ).then(function(){\n",
              "                            \n",
              "var gd = document.getElementById('67efba4b-a654-4863-89be-e505af76080b');\n",
              "var x = new MutationObserver(function (mutations, observer) {{\n",
              "        var display = window.getComputedStyle(gd).display;\n",
              "        if (!display || display === 'none') {{\n",
              "            console.log([gd, 'removed!']);\n",
              "            Plotly.purge(gd);\n",
              "            observer.disconnect();\n",
              "        }}\n",
              "}});\n",
              "\n",
              "// Listen for the removal of the full notebook cells\n",
              "var notebookContainer = gd.closest('#notebook-container');\n",
              "if (notebookContainer) {{\n",
              "    x.observe(notebookContainer, {childList: true});\n",
              "}}\n",
              "\n",
              "// Listen for the clearing of the current output cell\n",
              "var outputEl = gd.closest('.output');\n",
              "if (outputEl) {{\n",
              "    x.observe(outputEl, {childList: true});\n",
              "}}\n",
              "\n",
              "                        })                };                            </script>        </div>\n",
              "</body>\n",
              "</html>"
            ]
          },
          "metadata": {}
        }
      ]
    },
    {
      "cell_type": "markdown",
      "source": [
        "Импортируйте нужные для отбора признаков методы"
      ],
      "metadata": {
        "id": "V2BTRoufQvU5"
      }
    },
    {
      "cell_type": "code",
      "source": [
        "from sklearn.feature_selection import SelectKBest\n",
        "from sklearn.feature_selection import chi2"
      ],
      "metadata": {
        "id": "MnDn52NiCtQG"
      },
      "execution_count": null,
      "outputs": []
    },
    {
      "cell_type": "markdown",
      "source": [
        "Обучите фильтр и получите сокращенное подмножество признаков из 10 переменных. В ячейке ниже вместо ??? вставьте нужный код"
      ],
      "metadata": {
        "id": "mIyPlYu0Q2-J"
      }
    },
    {
      "cell_type": "code",
      "source": [
        "filter = SelectKBest(chi2, k=10).fit(X, y) # обучаем фильтр\n",
        "X_new = filter.fit_transform(X, y) # сокращаем данные\n",
        "print(X_new.shape)\n",
        "feature_names_short = filter.get_feature_names_out(X.columns) # сохраняем названия отобранных признаков\n",
        "print(feature_names_short)"
      ],
      "metadata": {
        "id": "QYaKSVHfC5V8",
        "colab": {
          "base_uri": "https://localhost:8080/"
        },
        "outputId": "dba574cd-b3b6-494f-a1a0-bb44afd61460"
      },
      "execution_count": null,
      "outputs": [
        {
          "output_type": "stream",
          "name": "stdout",
          "text": [
            "(474, 10)\n",
            "['a0' ' a1' ' a3' ' a9' ' a11' ' a12' ' a13' ' a15' ' a16' ' a17']\n"
          ]
        }
      ]
    },
    {
      "cell_type": "markdown",
      "source": [
        "Соберите DataFrame из сокращенного набора. Достаточно только матрицы с признаками, целевая переменная уже готова."
      ],
      "metadata": {
        "id": "cX7eSx9oRKOD"
      }
    },
    {
      "cell_type": "code",
      "source": [
        "X_new = pd.DataFrame(X_new, columns=feature_names_short)\n",
        "X_new.head()"
      ],
      "metadata": {
        "id": "Y-zJRXiZDKVL",
        "colab": {
          "base_uri": "https://localhost:8080/",
          "height": 206
        },
        "outputId": "c4eed257-ee90-4b61-8fbb-b35c5fcb1246"
      },
      "execution_count": null,
      "outputs": [
        {
          "output_type": "execute_result",
          "data": {
            "text/plain": [
              "         a0        a1        a3        a9       a11           a12       a13  \\\n",
              "0  0.104284  0.350687  0.001561  0.136865  0.398259  4.894144e-06  0.199148   \n",
              "1  0.220158  0.301623  0.002523  0.099820  0.362705  0.000000e+00  0.232301   \n",
              "2  0.171155  0.397817  0.000028  0.125923  0.309411  1.893568e-07  0.249163   \n",
              "3  0.214209  0.487273  0.000019  0.086193  0.506626  0.000000e+00  0.595482   \n",
              "4  0.221240  0.511448  0.000523  0.148589  0.237361  4.857729e-06  0.064917   \n",
              "\n",
              "        a15       a16       a17  \n",
              "0  0.212375  0.211576  0.126546  \n",
              "1  0.012458  0.280510  0.266655  \n",
              "2  0.000000  0.309462  0.114193  \n",
              "3  0.498037  0.843869  0.320862  \n",
              "4  0.098984  0.090984  0.360639  "
            ],
            "text/html": [
              "\n",
              "  <div id=\"df-bf275b43-feaf-4568-a8a1-84c4556ceaad\">\n",
              "    <div class=\"colab-df-container\">\n",
              "      <div>\n",
              "<style scoped>\n",
              "    .dataframe tbody tr th:only-of-type {\n",
              "        vertical-align: middle;\n",
              "    }\n",
              "\n",
              "    .dataframe tbody tr th {\n",
              "        vertical-align: top;\n",
              "    }\n",
              "\n",
              "    .dataframe thead th {\n",
              "        text-align: right;\n",
              "    }\n",
              "</style>\n",
              "<table border=\"1\" class=\"dataframe\">\n",
              "  <thead>\n",
              "    <tr style=\"text-align: right;\">\n",
              "      <th></th>\n",
              "      <th>a0</th>\n",
              "      <th>a1</th>\n",
              "      <th>a3</th>\n",
              "      <th>a9</th>\n",
              "      <th>a11</th>\n",
              "      <th>a12</th>\n",
              "      <th>a13</th>\n",
              "      <th>a15</th>\n",
              "      <th>a16</th>\n",
              "      <th>a17</th>\n",
              "    </tr>\n",
              "  </thead>\n",
              "  <tbody>\n",
              "    <tr>\n",
              "      <th>0</th>\n",
              "      <td>0.104284</td>\n",
              "      <td>0.350687</td>\n",
              "      <td>0.001561</td>\n",
              "      <td>0.136865</td>\n",
              "      <td>0.398259</td>\n",
              "      <td>4.894144e-06</td>\n",
              "      <td>0.199148</td>\n",
              "      <td>0.212375</td>\n",
              "      <td>0.211576</td>\n",
              "      <td>0.126546</td>\n",
              "    </tr>\n",
              "    <tr>\n",
              "      <th>1</th>\n",
              "      <td>0.220158</td>\n",
              "      <td>0.301623</td>\n",
              "      <td>0.002523</td>\n",
              "      <td>0.099820</td>\n",
              "      <td>0.362705</td>\n",
              "      <td>0.000000e+00</td>\n",
              "      <td>0.232301</td>\n",
              "      <td>0.012458</td>\n",
              "      <td>0.280510</td>\n",
              "      <td>0.266655</td>\n",
              "    </tr>\n",
              "    <tr>\n",
              "      <th>2</th>\n",
              "      <td>0.171155</td>\n",
              "      <td>0.397817</td>\n",
              "      <td>0.000028</td>\n",
              "      <td>0.125923</td>\n",
              "      <td>0.309411</td>\n",
              "      <td>1.893568e-07</td>\n",
              "      <td>0.249163</td>\n",
              "      <td>0.000000</td>\n",
              "      <td>0.309462</td>\n",
              "      <td>0.114193</td>\n",
              "    </tr>\n",
              "    <tr>\n",
              "      <th>3</th>\n",
              "      <td>0.214209</td>\n",
              "      <td>0.487273</td>\n",
              "      <td>0.000019</td>\n",
              "      <td>0.086193</td>\n",
              "      <td>0.506626</td>\n",
              "      <td>0.000000e+00</td>\n",
              "      <td>0.595482</td>\n",
              "      <td>0.498037</td>\n",
              "      <td>0.843869</td>\n",
              "      <td>0.320862</td>\n",
              "    </tr>\n",
              "    <tr>\n",
              "      <th>4</th>\n",
              "      <td>0.221240</td>\n",
              "      <td>0.511448</td>\n",
              "      <td>0.000523</td>\n",
              "      <td>0.148589</td>\n",
              "      <td>0.237361</td>\n",
              "      <td>4.857729e-06</td>\n",
              "      <td>0.064917</td>\n",
              "      <td>0.098984</td>\n",
              "      <td>0.090984</td>\n",
              "      <td>0.360639</td>\n",
              "    </tr>\n",
              "  </tbody>\n",
              "</table>\n",
              "</div>\n",
              "      <button class=\"colab-df-convert\" onclick=\"convertToInteractive('df-bf275b43-feaf-4568-a8a1-84c4556ceaad')\"\n",
              "              title=\"Convert this dataframe to an interactive table.\"\n",
              "              style=\"display:none;\">\n",
              "        \n",
              "  <svg xmlns=\"http://www.w3.org/2000/svg\" height=\"24px\"viewBox=\"0 0 24 24\"\n",
              "       width=\"24px\">\n",
              "    <path d=\"M0 0h24v24H0V0z\" fill=\"none\"/>\n",
              "    <path d=\"M18.56 5.44l.94 2.06.94-2.06 2.06-.94-2.06-.94-.94-2.06-.94 2.06-2.06.94zm-11 1L8.5 8.5l.94-2.06 2.06-.94-2.06-.94L8.5 2.5l-.94 2.06-2.06.94zm10 10l.94 2.06.94-2.06 2.06-.94-2.06-.94-.94-2.06-.94 2.06-2.06.94z\"/><path d=\"M17.41 7.96l-1.37-1.37c-.4-.4-.92-.59-1.43-.59-.52 0-1.04.2-1.43.59L10.3 9.45l-7.72 7.72c-.78.78-.78 2.05 0 2.83L4 21.41c.39.39.9.59 1.41.59.51 0 1.02-.2 1.41-.59l7.78-7.78 2.81-2.81c.8-.78.8-2.07 0-2.86zM5.41 20L4 18.59l7.72-7.72 1.47 1.35L5.41 20z\"/>\n",
              "  </svg>\n",
              "      </button>\n",
              "      \n",
              "  <style>\n",
              "    .colab-df-container {\n",
              "      display:flex;\n",
              "      flex-wrap:wrap;\n",
              "      gap: 12px;\n",
              "    }\n",
              "\n",
              "    .colab-df-convert {\n",
              "      background-color: #E8F0FE;\n",
              "      border: none;\n",
              "      border-radius: 50%;\n",
              "      cursor: pointer;\n",
              "      display: none;\n",
              "      fill: #1967D2;\n",
              "      height: 32px;\n",
              "      padding: 0 0 0 0;\n",
              "      width: 32px;\n",
              "    }\n",
              "\n",
              "    .colab-df-convert:hover {\n",
              "      background-color: #E2EBFA;\n",
              "      box-shadow: 0px 1px 2px rgba(60, 64, 67, 0.3), 0px 1px 3px 1px rgba(60, 64, 67, 0.15);\n",
              "      fill: #174EA6;\n",
              "    }\n",
              "\n",
              "    [theme=dark] .colab-df-convert {\n",
              "      background-color: #3B4455;\n",
              "      fill: #D2E3FC;\n",
              "    }\n",
              "\n",
              "    [theme=dark] .colab-df-convert:hover {\n",
              "      background-color: #434B5C;\n",
              "      box-shadow: 0px 1px 3px 1px rgba(0, 0, 0, 0.15);\n",
              "      filter: drop-shadow(0px 1px 2px rgba(0, 0, 0, 0.3));\n",
              "      fill: #FFFFFF;\n",
              "    }\n",
              "  </style>\n",
              "\n",
              "      <script>\n",
              "        const buttonEl =\n",
              "          document.querySelector('#df-bf275b43-feaf-4568-a8a1-84c4556ceaad button.colab-df-convert');\n",
              "        buttonEl.style.display =\n",
              "          google.colab.kernel.accessAllowed ? 'block' : 'none';\n",
              "\n",
              "        async function convertToInteractive(key) {\n",
              "          const element = document.querySelector('#df-bf275b43-feaf-4568-a8a1-84c4556ceaad');\n",
              "          const dataTable =\n",
              "            await google.colab.kernel.invokeFunction('convertToInteractive',\n",
              "                                                     [key], {});\n",
              "          if (!dataTable) return;\n",
              "\n",
              "          const docLinkHtml = 'Like what you see? Visit the ' +\n",
              "            '<a target=\"_blank\" href=https://colab.research.google.com/notebooks/data_table.ipynb>data table notebook</a>'\n",
              "            + ' to learn more about interactive tables.';\n",
              "          element.innerHTML = '';\n",
              "          dataTable['output_type'] = 'display_data';\n",
              "          await google.colab.output.renderOutput(dataTable, element);\n",
              "          const docLink = document.createElement('div');\n",
              "          docLink.innerHTML = docLinkHtml;\n",
              "          element.appendChild(docLink);\n",
              "        }\n",
              "      </script>\n",
              "    </div>\n",
              "  </div>\n",
              "  "
            ]
          },
          "metadata": {},
          "execution_count": 33
        }
      ]
    },
    {
      "cell_type": "markdown",
      "source": [
        "Обучите классификаторы на сокращенном наборе данных."
      ],
      "metadata": {
        "id": "K6Q-jrslRSRj"
      }
    },
    {
      "cell_type": "code",
      "source": [
        "scoring = {'accuracy': make_scorer(accuracy_score)}  \n",
        "mlp = MLPClassifier(random_state=42)    \n",
        "result = cross_validate(estimator=mlp.fit(X, y),\n",
        "                            X=X_new, y=y,\n",
        "                            scoring=scoring, cv=StratifiedKFold(5), n_jobs=-1,\n",
        "                            return_train_score=False)\n",
        "print('Точность классификатора = {}%'.format(round(100 * np.mean(result['test_accuracy']), 2)))"
      ],
      "metadata": {
        "id": "W2eHR7HvDP3j",
        "colab": {
          "base_uri": "https://localhost:8080/"
        },
        "outputId": "4bd13ade-9312-4f29-dc95-48c441cf8160"
      },
      "execution_count": null,
      "outputs": [
        {
          "output_type": "stream",
          "name": "stderr",
          "text": [
            "/usr/local/lib/python3.9/dist-packages/sklearn/neural_network/_multilayer_perceptron.py:686: ConvergenceWarning:\n",
            "\n",
            "Stochastic Optimizer: Maximum iterations (200) reached and the optimization hasn't converged yet.\n",
            "\n"
          ]
        },
        {
          "output_type": "stream",
          "name": "stdout",
          "text": [
            "Точность классификатора = 68.57%\n"
          ]
        }
      ]
    },
    {
      "cell_type": "code",
      "source": [
        "scoring = {'accuracy': make_scorer(accuracy_score)}  \n",
        "trees = AdaBoostClassifier(n_estimators=50)    \n",
        "result = cross_validate(estimator=trees.fit(X, y),\n",
        "                            X=X_new, y=y,\n",
        "                            scoring=scoring, cv=StratifiedKFold(5), n_jobs=-1,\n",
        "                            return_train_score=False)\n",
        "print('Точность классификатора = {}%'.format(round(100 * np.mean(result['test_accuracy']), 2)))"
      ],
      "metadata": {
        "id": "E0HViX8vDavp",
        "colab": {
          "base_uri": "https://localhost:8080/"
        },
        "outputId": "684cdebd-1275-4c14-8d50-2f48a7778ed5"
      },
      "execution_count": null,
      "outputs": [
        {
          "output_type": "stream",
          "name": "stdout",
          "text": [
            "Точность классификатора = 91.35%\n"
          ]
        }
      ]
    },
    {
      "cell_type": "markdown",
      "source": [
        "Задание выполнено. Вы великолепны!"
      ],
      "metadata": {
        "id": "FvzAsBILRXJc"
      }
    }
  ]
}